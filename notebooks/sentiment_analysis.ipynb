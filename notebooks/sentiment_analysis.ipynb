{
  "cells": [
    {
      "attachments": {},
      "cell_type": "markdown",
      "metadata": {},
      "source": [
        "## SENTIMENT ANALISYS IN PORTUGUESE\n",
        "\n",
        "### SENTIMENT ANALYSIS OF TEXTS IN PORTUGUESE USING NATURAL LANGUAGE PROCESSING TECHNIQUES\n",
        "Running locally\n",
        "Using some Linux distro and make sure you have Python 3 installed.\n",
        "\n",
        "Clone the project:\n",
        "\n",
        "```bash \n",
        "git clone https://github.com/lucasma7/sentiment_analisys_in_portuguese.git \n",
        "```\n",
        "Access the project directory:\n",
        "\n",
        "  cd sentiment_analisys_in_portuguese\n",
        "Add a model for inference in the models file, you can run the bertimbau.ipynb notebook in a colab environment and it will automatically load the dataset, train the model and save the best model locally in the downloads folder (BERTimbau was the best model but its size exceeds github's maximum capacity).\n",
        "\n",
        "Creating a virtual environment (for the example we use the location directory parameter as .venv):\n",
        "\n",
        "  python3 -m venv .venv\n",
        "Activating the virtual environment:\n",
        "\n",
        "  source .venv/bin/activate\n",
        "Install all required packages specified in requirements.txt:\n",
        "\n",
        "  pip install -r requirements.txt\n",
        "Use the following command to run the app:\n",
        "\n",
        "  streamlit run app.py\n",
        "References\n",
        "Devlin, J., Chang, M. W., Lee, K., & Toutanova, K. (2018). BERT: Pre-training of Deep Bidirectional Transformers for Language Understanding.\n",
        "\n",
        "Dataset: Kaggle"
      ]
    },
    {
      "attachments": {},
      "cell_type": "markdown",
      "metadata": {
        "id": "GWqle1Ab8glY"
      },
      "source": [
        "# PORTUGUESE TEXT SENTIMENT ANALYSIS"
      ]
    },
    {
      "attachments": {},
      "cell_type": "markdown",
      "metadata": {
        "id": "WJ0ruETq8i7l"
      },
      "source": [
        "***About Dataset***\n",
        "\n",
        "This dataset has portuguese tweets divided in positive, negative and neutral classes for sentiment polarity classification.\n",
        "\n",
        "In order to collect and label the positive and negative cases, the distant supervision method of using positive and negative emoticons used by Go et al. (2009) was employed.\n",
        "\n",
        "For the neutral ones, objective text from popular newsletter accounts and specific hashtags adapted from Kouloumpis et al. (2011) were used.\n",
        "\n",
        "***Content***\n",
        "\n",
        "The tweets in the datasets were collected from Twitter mainly from 01/08/2018 to 20/10/2018.\n",
        "\n",
        "Were created the following datasets that can be used to train and validate classification algorithms:\n",
        "\n",
        "Training datasets:\n",
        "\n",
        "    50k, 100k, 200k, 300k, 400k, 500k positive and negative tweets without any theme\n",
        "    50k positive and negative tweets with political tweets\n",
        "    100k positive, negative and neutral tweets without any theme \n",
        "\n",
        "Test datasets:\n",
        "\n",
        "    5k positive and negative tweets without any theme\n",
        "    5k positive and negative tweets with political tweets\n",
        "    5k positive, negative and neutral tweets without theme\n",
        "\n",
        "All of them have an equal number of instances between classes. Their sentiment labels were transformed as follow:\n",
        "\n",
        "    Negative label: 0\n",
        "    Positive label: 1\n",
        "    Neutral label: 2\n",
        "\n",
        "Dataset:\n",
        "\n",
        "    Training dataset: Train3Classes.csv\n",
        "    Test dataset: Test3Classes.csv\n",
        "    Custom Stopwords: stopwords-pt-br.txt\n",
        "\n",
        "Columns description:\n",
        "\n",
        "    tweet_text: full text from the tweet\n",
        "    sentiment: sentiment label\n",
        "    query_used: query used to collect the tweet"
      ]
    },
    {
      "attachments": {},
      "cell_type": "markdown",
      "metadata": {
        "id": "ciC2kcrM8mt4"
      },
      "source": [
        "## SETUP"
      ]
    },
    {
      "attachments": {},
      "cell_type": "markdown",
      "metadata": {
        "id": "gF9VQp408q58"
      },
      "source": [
        "Installing and importing the relevant libraries:"
      ]
    },
    {
      "cell_type": "code",
      "execution_count": 1,
      "metadata": {
        "id": "ODr6ZmzYpFi6"
      },
      "outputs": [],
      "source": [
        "import locale\n",
        "def getpreferredencoding(do_setlocale = True):\n",
        "    return \"UTF-8\"\n",
        "locale.getpreferredencoding = getpreferredencoding"
      ]
    },
    {
      "cell_type": "code",
      "execution_count": 2,
      "metadata": {
        "colab": {
          "base_uri": "https://localhost:8080/"
        },
        "id": "Gog7fOsQfPlS",
        "outputId": "9ec49d01-df0e-4e57-9ed0-7e226ca69f02"
      },
      "outputs": [],
      "source": [
        "!pip install -qq transformers"
      ]
    },
    {
      "cell_type": "code",
      "execution_count": 3,
      "metadata": {
        "colab": {
          "base_uri": "https://localhost:8080/"
        },
        "id": "wvq8gpKh80fS",
        "outputId": "200d39b3-d86c-478f-8de6-f810fdc088a6"
      },
      "outputs": [
        {
          "name": "stderr",
          "output_type": "stream",
          "text": [
            "2023-06-11 18:20:17.062244: I tensorflow/core/platform/cpu_feature_guard.cc:182] This TensorFlow binary is optimized to use available CPU instructions in performance-critical operations.\n",
            "To enable the following instructions: AVX2 FMA, in other operations, rebuild TensorFlow with the appropriate compiler flags.\n",
            "2023-06-11 18:20:17.558836: W tensorflow/compiler/tf2tensorrt/utils/py_utils.cc:38] TF-TRT Warning: Could not find TensorRT\n",
            "2023-06-11 18:20:18.130520: I tensorflow/compiler/xla/stream_executor/cuda/cuda_gpu_executor.cc:996] successful NUMA node read from SysFS had negative value (-1), but there must be at least one NUMA node, so returning NUMA node zero. See more at https://github.com/torvalds/linux/blob/v6.0/Documentation/ABI/testing/sysfs-bus-pci#L344-L355\n",
            "2023-06-11 18:20:18.131540: I tensorflow/compiler/xla/stream_executor/cuda/cuda_gpu_executor.cc:996] successful NUMA node read from SysFS had negative value (-1), but there must be at least one NUMA node, so returning NUMA node zero. See more at https://github.com/torvalds/linux/blob/v6.0/Documentation/ABI/testing/sysfs-bus-pci#L344-L355\n",
            "2023-06-11 18:20:18.131699: I tensorflow/compiler/xla/stream_executor/cuda/cuda_gpu_executor.cc:996] successful NUMA node read from SysFS had negative value (-1), but there must be at least one NUMA node, so returning NUMA node zero. See more at https://github.com/torvalds/linux/blob/v6.0/Documentation/ABI/testing/sysfs-bus-pci#L344-L355\n"
          ]
        },
        {
          "name": "stdout",
          "output_type": "stream",
          "text": [
            "2023-06-11 18:20:19.980896: W tensorflow/compiler/tf2tensorrt/utils/py_utils.cc:38] TF-TRT Warning: Could not find TensorRT\n",
            "Collecting pt-core-news-md==3.5.0\n",
            "  Downloading https://github.com/explosion/spacy-models/releases/download/pt_core_news_md-3.5.0/pt_core_news_md-3.5.0-py3-none-any.whl (42.4 MB)\n",
            "\u001b[2K     \u001b[38;2;114;156;31m━━━━━━━━━━━━━━━━━━━━━━━━━━━━━━━━━━━━━━━━\u001b[0m \u001b[32m42.4/42.4 MB\u001b[0m \u001b[31m22.8 MB/s\u001b[0m eta \u001b[36m0:00:00\u001b[0mm eta \u001b[36m0:00:01\u001b[0m0:01\u001b[0m:01\u001b[0m\n",
            "\u001b[?25hRequirement already satisfied: spacy<3.6.0,>=3.5.0 in /home/lucasma/anaconda3/envs/pln/lib/python3.10/site-packages (from pt-core-news-md==3.5.0) (3.5.3)\n",
            "Requirement already satisfied: spacy-legacy<3.1.0,>=3.0.11 in /home/lucasma/anaconda3/envs/pln/lib/python3.10/site-packages (from spacy<3.6.0,>=3.5.0->pt-core-news-md==3.5.0) (3.0.12)\n",
            "Requirement already satisfied: spacy-loggers<2.0.0,>=1.0.0 in /home/lucasma/anaconda3/envs/pln/lib/python3.10/site-packages (from spacy<3.6.0,>=3.5.0->pt-core-news-md==3.5.0) (1.0.4)\n",
            "Requirement already satisfied: murmurhash<1.1.0,>=0.28.0 in /home/lucasma/anaconda3/envs/pln/lib/python3.10/site-packages (from spacy<3.6.0,>=3.5.0->pt-core-news-md==3.5.0) (1.0.9)\n",
            "Requirement already satisfied: cymem<2.1.0,>=2.0.2 in /home/lucasma/anaconda3/envs/pln/lib/python3.10/site-packages (from spacy<3.6.0,>=3.5.0->pt-core-news-md==3.5.0) (2.0.7)\n",
            "Requirement already satisfied: preshed<3.1.0,>=3.0.2 in /home/lucasma/anaconda3/envs/pln/lib/python3.10/site-packages (from spacy<3.6.0,>=3.5.0->pt-core-news-md==3.5.0) (3.0.8)\n",
            "Requirement already satisfied: thinc<8.2.0,>=8.1.8 in /home/lucasma/anaconda3/envs/pln/lib/python3.10/site-packages (from spacy<3.6.0,>=3.5.0->pt-core-news-md==3.5.0) (8.1.10)\n",
            "Requirement already satisfied: wasabi<1.2.0,>=0.9.1 in /home/lucasma/anaconda3/envs/pln/lib/python3.10/site-packages (from spacy<3.6.0,>=3.5.0->pt-core-news-md==3.5.0) (1.1.2)\n",
            "Requirement already satisfied: srsly<3.0.0,>=2.4.3 in /home/lucasma/anaconda3/envs/pln/lib/python3.10/site-packages (from spacy<3.6.0,>=3.5.0->pt-core-news-md==3.5.0) (2.4.6)\n",
            "Requirement already satisfied: catalogue<2.1.0,>=2.0.6 in /home/lucasma/anaconda3/envs/pln/lib/python3.10/site-packages (from spacy<3.6.0,>=3.5.0->pt-core-news-md==3.5.0) (2.0.8)\n",
            "Requirement already satisfied: typer<0.8.0,>=0.3.0 in /home/lucasma/anaconda3/envs/pln/lib/python3.10/site-packages (from spacy<3.6.0,>=3.5.0->pt-core-news-md==3.5.0) (0.7.0)\n",
            "Requirement already satisfied: pathy>=0.10.0 in /home/lucasma/anaconda3/envs/pln/lib/python3.10/site-packages (from spacy<3.6.0,>=3.5.0->pt-core-news-md==3.5.0) (0.10.1)\n",
            "Requirement already satisfied: smart-open<7.0.0,>=5.2.1 in /home/lucasma/anaconda3/envs/pln/lib/python3.10/site-packages (from spacy<3.6.0,>=3.5.0->pt-core-news-md==3.5.0) (6.3.0)\n",
            "Requirement already satisfied: tqdm<5.0.0,>=4.38.0 in /home/lucasma/anaconda3/envs/pln/lib/python3.10/site-packages (from spacy<3.6.0,>=3.5.0->pt-core-news-md==3.5.0) (4.65.0)\n",
            "Requirement already satisfied: numpy>=1.15.0 in /home/lucasma/.local/lib/python3.10/site-packages (from spacy<3.6.0,>=3.5.0->pt-core-news-md==3.5.0) (1.23.5)\n",
            "Requirement already satisfied: requests<3.0.0,>=2.13.0 in /home/lucasma/anaconda3/envs/pln/lib/python3.10/site-packages (from spacy<3.6.0,>=3.5.0->pt-core-news-md==3.5.0) (2.28.1)\n",
            "Requirement already satisfied: pydantic!=1.8,!=1.8.1,<1.11.0,>=1.7.4 in /home/lucasma/anaconda3/envs/pln/lib/python3.10/site-packages (from spacy<3.6.0,>=3.5.0->pt-core-news-md==3.5.0) (1.10.9)\n",
            "Requirement already satisfied: jinja2 in /home/lucasma/.local/lib/python3.10/site-packages (from spacy<3.6.0,>=3.5.0->pt-core-news-md==3.5.0) (3.1.2)\n",
            "Requirement already satisfied: setuptools in /home/lucasma/anaconda3/envs/pln/lib/python3.10/site-packages (from spacy<3.6.0,>=3.5.0->pt-core-news-md==3.5.0) (65.6.3)\n",
            "Requirement already satisfied: packaging>=20.0 in /home/lucasma/.local/lib/python3.10/site-packages (from spacy<3.6.0,>=3.5.0->pt-core-news-md==3.5.0) (23.0)\n",
            "Requirement already satisfied: langcodes<4.0.0,>=3.2.0 in /home/lucasma/anaconda3/envs/pln/lib/python3.10/site-packages (from spacy<3.6.0,>=3.5.0->pt-core-news-md==3.5.0) (3.3.0)\n",
            "Requirement already satisfied: typing-extensions>=4.2.0 in /home/lucasma/.local/lib/python3.10/site-packages (from pydantic!=1.8,!=1.8.1,<1.11.0,>=1.7.4->spacy<3.6.0,>=3.5.0->pt-core-news-md==3.5.0) (4.5.0)\n",
            "Requirement already satisfied: charset-normalizer<3,>=2 in /home/lucasma/anaconda3/envs/pln/lib/python3.10/site-packages (from requests<3.0.0,>=2.13.0->spacy<3.6.0,>=3.5.0->pt-core-news-md==3.5.0) (2.0.4)\n",
            "Requirement already satisfied: idna<4,>=2.5 in /home/lucasma/anaconda3/envs/pln/lib/python3.10/site-packages (from requests<3.0.0,>=2.13.0->spacy<3.6.0,>=3.5.0->pt-core-news-md==3.5.0) (3.4)\n",
            "Requirement already satisfied: urllib3<1.27,>=1.21.1 in /home/lucasma/anaconda3/envs/pln/lib/python3.10/site-packages (from requests<3.0.0,>=2.13.0->spacy<3.6.0,>=3.5.0->pt-core-news-md==3.5.0) (1.26.15)\n",
            "Requirement already satisfied: certifi>=2017.4.17 in /home/lucasma/anaconda3/envs/pln/lib/python3.10/site-packages (from requests<3.0.0,>=2.13.0->spacy<3.6.0,>=3.5.0->pt-core-news-md==3.5.0) (2022.12.7)\n",
            "Requirement already satisfied: blis<0.8.0,>=0.7.8 in /home/lucasma/anaconda3/envs/pln/lib/python3.10/site-packages (from thinc<8.2.0,>=8.1.8->spacy<3.6.0,>=3.5.0->pt-core-news-md==3.5.0) (0.7.9)\n",
            "Requirement already satisfied: confection<1.0.0,>=0.0.1 in /home/lucasma/anaconda3/envs/pln/lib/python3.10/site-packages (from thinc<8.2.0,>=8.1.8->spacy<3.6.0,>=3.5.0->pt-core-news-md==3.5.0) (0.0.4)\n",
            "Requirement already satisfied: click<9.0.0,>=7.1.1 in /home/lucasma/anaconda3/envs/pln/lib/python3.10/site-packages (from typer<0.8.0,>=0.3.0->spacy<3.6.0,>=3.5.0->pt-core-news-md==3.5.0) (8.1.3)\n",
            "Requirement already satisfied: MarkupSafe>=2.0 in /home/lucasma/.local/lib/python3.10/site-packages (from jinja2->spacy<3.6.0,>=3.5.0->pt-core-news-md==3.5.0) (2.1.2)\n",
            "\u001b[38;5;2m✔ Download and installation successful\u001b[0m\n",
            "You can now load the package via spacy.load('pt_core_news_md')\n"
          ]
        }
      ],
      "source": [
        "import os\n",
        "import re\n",
        "import random\n",
        "import string\n",
        "import time\n",
        "\n",
        "import numpy as np\n",
        "import pandas as pd\n",
        "import matplotlib.pyplot as plt\n",
        "import seaborn as sns\n",
        "\n",
        "from sklearn.model_selection import train_test_split\n",
        "\n",
        "import transformers\n",
        "from transformers import BertModel, BertTokenizer, AutoTokenizer\n",
        "\n",
        "import spacy\n",
        "!python -m spacy download pt_core_news_md\n",
        "\n",
        "from collections import Counter\n",
        "from torchtext.vocab import vocab\n",
        "\n",
        "import torch\n",
        "import torch.nn.functional as F\n",
        "from torch import nn, optim\n",
        "from torch.utils.data import Dataset, DataLoader\n",
        "from torch.nn.utils.rnn import pad_sequence"
      ]
    },
    {
      "attachments": {},
      "cell_type": "markdown",
      "metadata": {
        "id": "lx6McIWU87rP"
      },
      "source": [
        "Checking available device:"
      ]
    },
    {
      "cell_type": "code",
      "execution_count": 4,
      "metadata": {
        "colab": {
          "base_uri": "https://localhost:8080/"
        },
        "id": "_AfIklPZ89Kv",
        "outputId": "58a3f40e-bfae-4b3c-e367-8db2621bf4b9"
      },
      "outputs": [
        {
          "data": {
            "text/plain": [
              "device(type='cuda')"
            ]
          },
          "execution_count": 4,
          "metadata": {},
          "output_type": "execute_result"
        }
      ],
      "source": [
        "device = torch.device('cuda' if torch.cuda.is_available() else 'cpu')\n",
        "device"
      ]
    },
    {
      "attachments": {},
      "cell_type": "markdown",
      "metadata": {
        "id": "vewMyPOR8-41"
      },
      "source": [
        "Getting and loading datasets"
      ]
    },
    {
      "cell_type": "code",
      "execution_count": null,
      "metadata": {
        "colab": {
          "base_uri": "https://localhost:8080/"
        },
        "id": "DJyAubjt9GyZ",
        "outputId": "9ff7f0b1-f9c7-472c-80d8-8a0d63fdc0dd"
      },
      "outputs": [
        {
          "name": "stdout",
          "output_type": "stream",
          "text": [
            "/bin/bash: line 1: gdown: command not found\n",
            "/bin/bash: line 1: gdown: command not found\n"
          ]
        }
      ],
      "source": [
        "# Datasets\n",
        "!gdown 1-iCG8rRAYsaygtDvQtrNxxKQBozgzuN-\n",
        "!gdown 12FzFvDpQjW7YYidwlu_3OYNYj_kAGulp"
      ]
    },
    {
      "cell_type": "code",
      "execution_count": 5,
      "metadata": {
        "id": "jigpm94gVLPc"
      },
      "outputs": [],
      "source": [
        "path = '/home/lucasma/Documents/P6/PLN/Tweets_dataset/trainingdatasets/Train3Classes.csv'\n",
        "usecols = ['tweet_text', 'sentiment', 'query_used']\n",
        "\n",
        "data_train = pd.read_csv(path, usecols=usecols, delimiter=';')"
      ]
    },
    {
      "cell_type": "code",
      "execution_count": 6,
      "metadata": {
        "colab": {
          "base_uri": "https://localhost:8080/"
        },
        "id": "UDG891CVVpfs",
        "outputId": "9d656259-1196-4848-ad6e-37e60357a3de"
      },
      "outputs": [
        {
          "name": "stdout",
          "output_type": "stream",
          "text": [
            "Training dataset size: 95000\n",
            "Validation dataset size: 5000\n"
          ]
        }
      ],
      "source": [
        "# Splitting the training dataset into training and validation\n",
        "\n",
        "data_train, data_val = train_test_split(data_train, test_size=0.05)\n",
        "\n",
        "print('Training dataset size:', len(data_train))\n",
        "print('Validation dataset size:', len(data_val))"
      ]
    },
    {
      "cell_type": "code",
      "execution_count": 7,
      "metadata": {
        "colab": {
          "base_uri": "https://localhost:8080/",
          "height": 224
        },
        "id": "SbGc44kaRUn1",
        "outputId": "dc3c8b58-d7c6-41aa-edd5-268bce4f2c3b"
      },
      "outputs": [
        {
          "name": "stdout",
          "output_type": "stream",
          "text": [
            "Test dataset size: 4999\n"
          ]
        },
        {
          "data": {
            "text/html": [
              "<div>\n",
              "<style scoped>\n",
              "    .dataframe tbody tr th:only-of-type {\n",
              "        vertical-align: middle;\n",
              "    }\n",
              "\n",
              "    .dataframe tbody tr th {\n",
              "        vertical-align: top;\n",
              "    }\n",
              "\n",
              "    .dataframe thead th {\n",
              "        text-align: right;\n",
              "    }\n",
              "</style>\n",
              "<table border=\"1\" class=\"dataframe\">\n",
              "  <thead>\n",
              "    <tr style=\"text-align: right;\">\n",
              "      <th></th>\n",
              "      <th>tweet_text</th>\n",
              "      <th>sentiment</th>\n",
              "      <th>query_used</th>\n",
              "    </tr>\n",
              "  </thead>\n",
              "  <tbody>\n",
              "    <tr>\n",
              "      <th>0</th>\n",
              "      <td>@Gazo1a Nossa! Muito obrigada :)</td>\n",
              "      <td>1</td>\n",
              "      <td>:)</td>\n",
              "    </tr>\n",
              "    <tr>\n",
              "      <th>1</th>\n",
              "      <td>@BerzGamer vai pa puta que te pariu :)</td>\n",
              "      <td>1</td>\n",
              "      <td>:)</td>\n",
              "    </tr>\n",
              "    <tr>\n",
              "      <th>2</th>\n",
              "      <td>QUER MAIS DESCONTOS? (14/08) ⭐⭐⭐⭐⭐ 🌐 Confira n...</td>\n",
              "      <td>1</td>\n",
              "      <td>:)</td>\n",
              "    </tr>\n",
              "    <tr>\n",
              "      <th>3</th>\n",
              "      <td>EU VOU PEGAR VCS, ME AJUDEM GALERA, PELO AMOR ...</td>\n",
              "      <td>1</td>\n",
              "      <td>:)</td>\n",
              "    </tr>\n",
              "    <tr>\n",
              "      <th>4</th>\n",
              "      <td>Estávamos em casa do Zé e eu estava a morrer d...</td>\n",
              "      <td>1</td>\n",
              "      <td>:)</td>\n",
              "    </tr>\n",
              "  </tbody>\n",
              "</table>\n",
              "</div>"
            ],
            "text/plain": [
              "                                          tweet_text  sentiment query_used\n",
              "0                   @Gazo1a Nossa! Muito obrigada :)          1         :)\n",
              "1             @BerzGamer vai pa puta que te pariu :)          1         :)\n",
              "2  QUER MAIS DESCONTOS? (14/08) ⭐⭐⭐⭐⭐ 🌐 Confira n...          1         :)\n",
              "3  EU VOU PEGAR VCS, ME AJUDEM GALERA, PELO AMOR ...          1         :)\n",
              "4  Estávamos em casa do Zé e eu estava a morrer d...          1         :)"
            ]
          },
          "execution_count": 7,
          "metadata": {},
          "output_type": "execute_result"
        }
      ],
      "source": [
        "path = '/home/lucasma/Documents/P6/PLN/Tweets_dataset/testdatasets/Test3classes.csv'\n",
        "usecols = ['tweet_text', 'sentiment', 'query_used']\n",
        "\n",
        "data_test = pd.read_csv(path, usecols=usecols, delimiter=';')\n",
        "print('Test dataset size:', len(data_test))\n",
        "data_test.head()"
      ]
    },
    {
      "attachments": {},
      "cell_type": "markdown",
      "metadata": {
        "id": "sFpOQinMDi-y"
      },
      "source": [
        "## EXPLORATORY ANALYSIS"
      ]
    },
    {
      "attachments": {},
      "cell_type": "markdown",
      "metadata": {
        "id": "OC6BxIyKDnbC"
      },
      "source": [
        "Checking the data distribution in the possible classes, it is verified that the data are balanced in the three datasets:"
      ]
    },
    {
      "cell_type": "code",
      "execution_count": 46,
      "metadata": {
        "id": "KPbz9UtUDzaM"
      },
      "outputs": [],
      "source": [
        "class_index2names = {0 : 'Negative',\n",
        "                     1 : 'Positive',\n",
        "                     2 : 'Neutral'}"
      ]
    },
    {
      "cell_type": "code",
      "execution_count": null,
      "metadata": {
        "colab": {
          "base_uri": "https://localhost:8080/",
          "height": 472
        },
        "id": "wJMJNW07D7Eg",
        "outputId": "8d064060-cc77-4af2-85f2-427f48bf4b21"
      },
      "outputs": [
        {
          "data": {
            "image/png": "[encoded data removed]",
            "text/plain": [
              "<Figure size 640x480 with 1 Axes>"
            ]
          },
          "metadata": {},
          "output_type": "display_data"
        }
      ],
      "source": [
        "ax = sns.countplot(data_train, x='sentiment')\n",
        "\n",
        "ax.set_title('Training data')\n",
        "ax.set_xlabel('Class')\n",
        "ax.set_ylabel('')\n",
        "ax.set_xticklabels(class_index2names.values())\n",
        "\n",
        "plt.show()"
      ]
    },
    {
      "cell_type": "code",
      "execution_count": null,
      "metadata": {
        "colab": {
          "base_uri": "https://localhost:8080/",
          "height": 472
        },
        "id": "TPHem4w_D-Ob",
        "outputId": "cb55f0b7-c6a0-4c7f-8e33-34bafb0e16a0"
      },
      "outputs": [
        {
          "data": {
            "image/png": "[encoded data removed]",
            "text/plain": [
              "<Figure size 640x480 with 1 Axes>"
            ]
          },
          "metadata": {},
          "output_type": "display_data"
        }
      ],
      "source": [
        "ax = sns.countplot(data_val, x='sentiment')\n",
        "\n",
        "ax.set_title('Validation data')\n",
        "ax.set_xlabel('Class')\n",
        "ax.set_ylabel('')\n",
        "ax.set_xticklabels(class_index2names.values())\n",
        "\n",
        "plt.show()"
      ]
    },
    {
      "cell_type": "code",
      "execution_count": null,
      "metadata": {
        "colab": {
          "base_uri": "https://localhost:8080/",
          "height": 472
        },
        "id": "sBab2cqyNYKL",
        "outputId": "3277a299-628e-493f-ad7a-60c407b79e8e"
      },
      "outputs": [
        {
          "data": {
            "image/png": "[encoded data removed]",
            "text/plain": [
              "<Figure size 640x480 with 1 Axes>"
            ]
          },
          "metadata": {},
          "output_type": "display_data"
        }
      ],
      "source": [
        "ax = sns.countplot(data_test, x='sentiment')\n",
        "\n",
        "ax.set_title('Test data')\n",
        "ax.set_xlabel('Class')\n",
        "ax.set_ylabel('')\n",
        "ax.set_xticklabels(class_index2names.values())\n",
        "\n",
        "plt.show()"
      ]
    },
    {
      "cell_type": "code",
      "execution_count": null,
      "metadata": {
        "colab": {
          "base_uri": "https://localhost:8080/",
          "height": 177,
          "referenced_widgets": [
            "329a35b23a414eaca99d9e23d07d97c4",
            "63de6bdc69334768a6afe5b8def3e1bb",
            "4664615182b54a959a8e26b6a4671518",
            "681365fbe5a847339f168d218ed55ead",
            "ed345bf5ceef4f4492e08dc23c9c0584",
            "a47b9ca1d60d488bbb4621d9d99b7871",
            "993fc0dc843b4facb77938908519e6fa",
            "eb4a0f32d8ef4afabdd5cb79c27d44ac",
            "221eba9fea174d4f823dfd8672d558da",
            "e2e40a5cf5c94069bb30d4d54bc69486",
            "68518de25c0f4e2f860bb49ae4018feb",
            "4c6143f5e08f4bab9f39bae9e8f7ebf3",
            "06a5e1b0b7f44ee4803f889eb44cfd1e",
            "6f4707b017cd427aabfa4ec6f89569e0",
            "0a35b4fdb8654d819be9997a4882c5b0",
            "df9828576eb24e56a6822965c39c2258",
            "342d6190c2f9449e812dd330f704330c",
            "39048cae1f264fa9a00a4703f72d597e",
            "f87fa5e6bc624ea58e50276505cd5a2f",
            "b433332f8d864f31a3ae694438f0ef34",
            "2c6eecb65a1b4c91a56dc60b47ca07e7",
            "9fbd116596e94f668f73dda27115db28",
            "8b3fbb6c4fa64d70982957abd79a9a63",
            "868059009dc24e66b9dccf529db84333",
            "e93cecda366f41968b75d70631778c46",
            "1076fa95547b4a74b7f589f6908ddb2e",
            "0f5f0d8233eb473795c6fbaf09a9388a",
            "e6da95cbdbad4e909db0be81071b6d09",
            "aa273f0ae9b54d75b902100adf7f4652",
            "ff261daeb1174924a514334d7a3e763a",
            "b5eaf20d4d794cb5ad39b42bd9a08c41",
            "1c044988d4e84147adf0481204c76045",
            "69f1e3785bda4355a869bc25a55537e6",
            "c523b940b13d44cd9282155041283aaf",
            "6c0bd36ee8884472a934809ca7e2642b",
            "f504580f7c3449479efcbca34c554609",
            "de19e9f164494c0eb58fa913e412ba37",
            "c66ab661b80b4d00a11d4528d3f349c3",
            "e69a0bbe8d2045cf981a411a98f8bff9",
            "2d004c7da6614f4dbd9aa8bce74f8ed9",
            "3d28426717bb487c8bcf8f70af7b91c5",
            "1b3f19581e094e07999174ca2c9c6219",
            "443f62307d5a49a99c712f9d74ee3282",
            "eaf54922a8a84a159cd5ef354fc61ddf",
            "796cd710127249fab52f38d39d381be1",
            "21775d9dc7b74c34b31fe0bf6780289a",
            "171ae1fd26494a2c87cbe8c5b3a3075a",
            "95243ee56a7c46e8b28a592d191c3311",
            "8a27d8b064a341f0bc2131f3cddd7ec1",
            "be80d35ece1f48ee98bf3c322321810e",
            "c9f99414f078425bbc43f7a97659a05d",
            "b355810ff72d45bd94330f631dbd70fb",
            "8196195cf48c4b56b939920e7598a830",
            "2a7d44a21bff4bd0bc9c94ffa92f6c63",
            "d31c407138f145deb40fa6bec82087c6"
          ]
        },
        "id": "G8BX6PPGEDA_",
        "outputId": "cfbff8d0-bee6-4ed8-d678-c52a2393c947"
      },
      "outputs": [
        {
          "data": {
            "application/vnd.jupyter.widget-view+json": {
              "model_id": "329a35b23a414eaca99d9e23d07d97c4",
              "version_major": 2,
              "version_minor": 0
            },
            "text/plain": [
              "Downloading (…)solve/main/vocab.txt:   0%|          | 0.00/210k [00:00<?, ?B/s]"
            ]
          },
          "metadata": {},
          "output_type": "display_data"
        },
        {
          "data": {
            "application/vnd.jupyter.widget-view+json": {
              "model_id": "4c6143f5e08f4bab9f39bae9e8f7ebf3",
              "version_major": 2,
              "version_minor": 0
            },
            "text/plain": [
              "Downloading (…)in/added_tokens.json:   0%|          | 0.00/2.00 [00:00<?, ?B/s]"
            ]
          },
          "metadata": {},
          "output_type": "display_data"
        },
        {
          "data": {
            "application/vnd.jupyter.widget-view+json": {
              "model_id": "8b3fbb6c4fa64d70982957abd79a9a63",
              "version_major": 2,
              "version_minor": 0
            },
            "text/plain": [
              "Downloading (…)cial_tokens_map.json:   0%|          | 0.00/112 [00:00<?, ?B/s]"
            ]
          },
          "metadata": {},
          "output_type": "display_data"
        },
        {
          "data": {
            "application/vnd.jupyter.widget-view+json": {
              "model_id": "c523b940b13d44cd9282155041283aaf",
              "version_major": 2,
              "version_minor": 0
            },
            "text/plain": [
              "Downloading (…)okenizer_config.json:   0%|          | 0.00/155 [00:00<?, ?B/s]"
            ]
          },
          "metadata": {},
          "output_type": "display_data"
        },
        {
          "data": {
            "application/vnd.jupyter.widget-view+json": {
              "model_id": "796cd710127249fab52f38d39d381be1",
              "version_major": 2,
              "version_minor": 0
            },
            "text/plain": [
              "Downloading (…)lve/main/config.json:   0%|          | 0.00/648 [00:00<?, ?B/s]"
            ]
          },
          "metadata": {},
          "output_type": "display_data"
        }
      ],
      "source": [
        "# Loading the tokenizer BERT\n",
        "PRE_TRAINED_MODEL_NAME = 'neuralmind/bert-large-portuguese-cased'\n",
        "\n",
        "tokenizer = BertTokenizer.from_pretrained(PRE_TRAINED_MODEL_NAME)"
      ]
    },
    {
      "cell_type": "code",
      "execution_count": null,
      "metadata": {
        "id": "VDPH_WUIEG_u"
      },
      "outputs": [],
      "source": [
        "# Auxiliary function to get the sizes of the sentences\n",
        "\n",
        "tokens_lens = lambda data: [len(tokenizer.encode(tweet, max_length=256, truncation=True))\n",
        "                            for tweet in data['tweet_text']]"
      ]
    },
    {
      "cell_type": "code",
      "execution_count": null,
      "metadata": {
        "id": "4TXTghdPEHl6"
      },
      "outputs": [],
      "source": [
        "# train_tokens_lens = tokens_lens(data_train)\n",
        "\n",
        "# sns.histplot(train_tokens_lens)\n",
        "\n",
        "# plt.xlim([0, 256])\n",
        "# plt.xlabel('Token count')\n",
        "\n",
        "# plt.show()"
      ]
    },
    {
      "cell_type": "code",
      "execution_count": null,
      "metadata": {
        "colab": {
          "base_uri": "https://localhost:8080/",
          "height": 449
        },
        "id": "6cbQLZyXEJOX",
        "outputId": "76ac88e3-2941-429b-c520-0255ec0a20a3"
      },
      "outputs": [
        {
          "data": {
            "image/png": "[encoded data removed]",
            "text/plain": [
              "<Figure size 640x480 with 1 Axes>"
            ]
          },
          "metadata": {},
          "output_type": "display_data"
        }
      ],
      "source": [
        "val_tokens_lens = tokens_lens(data_val)\n",
        "\n",
        "sns.histplot(val_tokens_lens)\n",
        "\n",
        "plt.xlim([0, 256])\n",
        "plt.xlabel('Token count')\n",
        "\n",
        "plt.show()"
      ]
    },
    {
      "cell_type": "code",
      "execution_count": null,
      "metadata": {
        "colab": {
          "base_uri": "https://localhost:8080/",
          "height": 449
        },
        "id": "EkDfMqD8EKY-",
        "outputId": "f06d7613-d1e6-41dd-bd3a-7c79b91a303f"
      },
      "outputs": [
        {
          "data": {
            "image/png": "[encoded data removed]",
            "text/plain": [
              "<Figure size 640x480 with 1 Axes>"
            ]
          },
          "metadata": {},
          "output_type": "display_data"
        }
      ],
      "source": [
        "test_tokens_lens = tokens_lens(data_test)\n",
        "\n",
        "sns.histplot(test_tokens_lens)\n",
        "\n",
        "plt.xlim([0, 256])\n",
        "plt.xlabel('Token count')\n",
        "\n",
        "plt.show()"
      ]
    },
    {
      "attachments": {},
      "cell_type": "markdown",
      "metadata": {
        "id": "fsKpQFtOEAqx"
      },
      "source": [
        "Checking the size of sentences to choose a maximum input size:\n",
        "\n",
        "    Considering the prevalence of sentence sizes, it was obtained -> 125"
      ]
    },
    {
      "attachments": {},
      "cell_type": "markdown",
      "metadata": {
        "id": "F_O-9Zal_V3F"
      },
      "source": [
        "## PRE-PROCESSING"
      ]
    },
    {
      "cell_type": "code",
      "execution_count": 8,
      "metadata": {
        "id": "202DrFvdxIlD"
      },
      "outputs": [],
      "source": [
        "class clean_data:\n",
        "\n",
        "  def __init__(self, data, column):\n",
        "    self.data = data\n",
        "    self.column = column\n",
        "\n",
        "    self.pattern_url_1 = r'http[s]?://(?:[a-zA-Z]|[0-9]|[$-_@.&+]|[!*\\(\\),]|(?:%[0-9a-fA-F][0-9a-fA-F]))+'\n",
        "    self.pattern_url_2 =r'www?.(?:[a-zA-Z]|[0-9]|[$-_@.&+]|[!*\\(\\),]|(?:%[0-9a-fA-F][0-9a-fA-F]))+'\n",
        "\n",
        "    self.pattern_notations = r'@[\\w]*'\n",
        "\n",
        "    self.pattern_hashtag = r'#[\\w]*'\n",
        "\n",
        "    self.subs_emoticon = {r\":\\)\\)|:\\)|:D|[Kk]{2,}\": \"\",\n",
        "                          r\":\\(|:\\(\\(\": \"\",\n",
        "                          r\"8\\)|:[Pp]\": \"\"}\n",
        "\n",
        "    self.subs_vic = {r\"\\s[Qq]\\s\": \" que \",\n",
        "                          r\"\\s[Vv]c\\s|\\svoce\\s\": \" você \",\n",
        "                          r\"\\spra\\s\": \" para \",\n",
        "                          r\"\\sngm\\s\": \" ninguém \",\n",
        "                          r\"\\sto\\s|\\stô\\s\": \" estou \",\n",
        "                          r\"\\s[Nn]\\s|\\s[Nn]ao\\s\": \" não \",\n",
        "                          r\"\\s[Ss]\\s\": \" sim \",\n",
        "                          r\"\\s[Ss]o\\s\": \" só \",\n",
        "                          r\"\\s{2,}\": \" \"}\n",
        "\n",
        "    self.pattern_remove_emojis = r'[\\U0001F600-\\U0001F64F\\U0001F300-\\U0001F5FF\\u2000-\\u206F\\u2600-\\u26FF\\u2700-\\u27BF\\u2B00-\\u2BFF\\uFE00-\\uFE0F]+'\n",
        "\n",
        "    self.pattern_character_special = r'^[^A-ZÁÉÍÓÚÀÂÊÔÃÕÜÇa-záéíóúàâêôãõüç\\d+\\-]'\n",
        "    self.pattern_excessive_character = r'([^\\w\\s\\.])\\1{2,}'\n",
        "\n",
        "  def remove_with_replace(self):\n",
        "\n",
        "    self.data[self.column] = self.data[self.column].str.replace(self.pattern_url_1, '', regex=True)\n",
        "    self.data[self.column] = self.data[self.column].str.replace(self.pattern_url_2, '', regex=True)\n",
        "    self.data[self.column] = self.data[self.column].str.replace(self.pattern_notations, '', regex=True)\n",
        "    self.data[self.column] = self.data[self.column].str.replace(self.pattern_hashtag, '', regex=True)\n",
        "    self.data[self.column] = self.data[self.column].replace(self.subs_emoticon, regex=True)\n",
        "    self.data[self.column] = self.data[self.column].replace(self.subs_vic, regex=True)\n",
        "    self.data[self.column] = self.data[self.column].str.replace(self.pattern_character_special, '', regex=True)\n",
        "    self.data[self.column] = self.data[self.column].str.replace(self.pattern_excessive_character, '', regex=True)\n",
        "    self.data[self.column] = self.data[self.column].str.replace(self.pattern_remove_emojis, '', regex=True)\n",
        "\n",
        "    self.data[self.column] = self.data[self.column].str.strip()\n",
        "\n",
        "    return self.data\n",
        "\n",
        "  def clean(self):\n",
        "    return self.remove_with_replace()"
      ]
    },
    {
      "cell_type": "code",
      "execution_count": 9,
      "metadata": {
        "id": "ckEzEKNk4hU1"
      },
      "outputs": [],
      "source": [
        "COLUMN = 'tweet_text'\n",
        "\n",
        "data_train = clean_data(data_train, COLUMN).clean()\n",
        "data_test = clean_data(data_test, COLUMN).clean()\n",
        "data_val = clean_data(data_val, COLUMN).clean()"
      ]
    },
    {
      "cell_type": "code",
      "execution_count": 10,
      "metadata": {
        "colab": {
          "base_uri": "https://localhost:8080/"
        },
        "id": "vhfO9XRhWcNO",
        "outputId": "a0fe545f-569b-415a-dce2-1cb19315e0f8"
      },
      "outputs": [
        {
          "data": {
            "text/plain": [
              "49783                                    Aaaa não neném ((\n",
              "65737    tu vai na casa da pessoa, toma um banho lá e l...\n",
              "44073                                     só seguiu o bozo\n",
              "16882    Eu não fui pq caiu no meu bday e eu escolhi ir...\n",
              "7472                                        segui de volta\n",
              "                               ...                        \n",
              "1682     minha mãe me fala quando ela não gosta das pes...\n",
              "70665    Com modo online inédito, 'Super Mario Party' t...\n",
              "97308    Boi Imperador 80 anos de tradição da nossa cul...\n",
              "95050    Algumas oportunidades não voltam só porque voc...\n",
              "36034    só queria chegar em casa e encontrar um cel no...\n",
              "Name: tweet_text, Length: 95000, dtype: object"
            ]
          },
          "execution_count": 10,
          "metadata": {},
          "output_type": "execute_result"
        }
      ],
      "source": [
        "data_train['tweet_text']"
      ]
    },
    {
      "cell_type": "code",
      "execution_count": 11,
      "metadata": {
        "colab": {
          "base_uri": "https://localhost:8080/"
        },
        "id": "HGxDhBkIDXEg",
        "outputId": "bd2c7676-9c00-411c-89dd-a9daa9aa6999"
      },
      "outputs": [
        {
          "data": {
            "text/plain": [
              "55931                                  Olhaa meu desespero\n",
              "83509            Governador de MS é alvo de operação da PF\n",
              "29920    Boa tarde! Poderia, por gentiliza, pedir pro m...\n",
              "84135    Bolsonaro segue com a maior rejeição, de 43%, ...\n",
              "34710                     não tinha adesivos na sede do pt\n",
              "                               ...                        \n",
              "91657    Eli Corrêa Filho para Deputado Federal e Ramos...\n",
              "96525    Quero saber pq a insitiu tanto nisso e a globo...\n",
              "87451    Estadão às 5h: Ciro diz que vitória de Bolsona...\n",
              "61574           bar : 82ef4eee-be2a-41c8-a503-b8a791e64455\n",
              "17755    Nah, estou bem sim. Muito obrigada pela preocu...\n",
              "Name: tweet_text, Length: 5000, dtype: object"
            ]
          },
          "execution_count": 11,
          "metadata": {},
          "output_type": "execute_result"
        }
      ],
      "source": [
        "data_val['tweet_text']"
      ]
    },
    {
      "attachments": {},
      "cell_type": "markdown",
      "metadata": {
        "id": "QBN1PgD9XDHm"
      },
      "source": [
        "## Tokenize and Vocab"
      ]
    },
    {
      "cell_type": "code",
      "execution_count": 12,
      "metadata": {
        "id": "FbyTwN6_B9WT"
      },
      "outputs": [],
      "source": [
        "nlp = spacy.load(\"pt_core_news_md\")\n",
        "stop_words = list(spacy.lang.pt.stop_words.STOP_WORDS)\n",
        "punct = list(string.punctuation)\n",
        "\n",
        "remove_char = stop_words + punct + [' ','  ', '...', '🤣']\n",
        "\n",
        "def tokenize(sentence):\n",
        "\n",
        "  doc = nlp.tokenizer(sentence)\n",
        "  tokens_list = [s.text for s in doc if s.text not in remove_char]\n",
        "\n",
        "  return tokens_list"
      ]
    },
    {
      "cell_type": "code",
      "execution_count": 13,
      "metadata": {
        "id": "r173famkCEqm"
      },
      "outputs": [],
      "source": [
        "data_train['token'] = data_train['tweet_text'].apply(tokenize)\n",
        "data_test['token'] = data_test['tweet_text'].apply(tokenize)\n",
        "data_val['token'] = data_val['tweet_text'].apply(tokenize)"
      ]
    },
    {
      "cell_type": "code",
      "execution_count": 14,
      "metadata": {
        "colab": {
          "base_uri": "https://localhost:8080/",
          "height": 423
        },
        "id": "iJCuAH2TSq3d",
        "outputId": "b14a145e-2f64-49b8-a5a7-da92e72d43c5"
      },
      "outputs": [
        {
          "data": {
            "text/html": [
              "<div>\n",
              "<style scoped>\n",
              "    .dataframe tbody tr th:only-of-type {\n",
              "        vertical-align: middle;\n",
              "    }\n",
              "\n",
              "    .dataframe tbody tr th {\n",
              "        vertical-align: top;\n",
              "    }\n",
              "\n",
              "    .dataframe thead th {\n",
              "        text-align: right;\n",
              "    }\n",
              "</style>\n",
              "<table border=\"1\" class=\"dataframe\">\n",
              "  <thead>\n",
              "    <tr style=\"text-align: right;\">\n",
              "      <th></th>\n",
              "      <th>tweet_text</th>\n",
              "      <th>token</th>\n",
              "    </tr>\n",
              "  </thead>\n",
              "  <tbody>\n",
              "    <tr>\n",
              "      <th>49783</th>\n",
              "      <td>Aaaa não neném ((</td>\n",
              "      <td>[Aaaa, neném]</td>\n",
              "    </tr>\n",
              "    <tr>\n",
              "      <th>65737</th>\n",
              "      <td>tu vai na casa da pessoa, toma um banho lá e l...</td>\n",
              "      <td>[casa, pessoa, toma, banho, lava, cabelo, sham...</td>\n",
              "    </tr>\n",
              "    <tr>\n",
              "      <th>44073</th>\n",
              "      <td>só seguiu o bozo</td>\n",
              "      <td>[seguiu, bozo]</td>\n",
              "    </tr>\n",
              "    <tr>\n",
              "      <th>16882</th>\n",
              "      <td>Eu não fui pq caiu no meu bday e eu escolhi ir...</td>\n",
              "      <td>[Eu, pq, caiu, bday, escolhi, outro]</td>\n",
              "    </tr>\n",
              "    <tr>\n",
              "      <th>7472</th>\n",
              "      <td>segui de volta</td>\n",
              "      <td>[segui, volta]</td>\n",
              "    </tr>\n",
              "    <tr>\n",
              "      <th>...</th>\n",
              "      <td>...</td>\n",
              "      <td>...</td>\n",
              "    </tr>\n",
              "    <tr>\n",
              "      <th>1682</th>\n",
              "      <td>minha mãe me fala quando ela não gosta das pes...</td>\n",
              "      <td>[mãe, fala, gosta, pessoas, disse, gostava, ti...</td>\n",
              "    </tr>\n",
              "    <tr>\n",
              "      <th>70665</th>\n",
              "      <td>Com modo online inédito, 'Super Mario Party' t...</td>\n",
              "      <td>[Com, modo, online, inédito, Super, Mario, Par...</td>\n",
              "    </tr>\n",
              "    <tr>\n",
              "      <th>97308</th>\n",
              "      <td>Boi Imperador 80 anos de tradição da nossa cul...</td>\n",
              "      <td>[Boi, Imperador, 80, anos, tradição, cultura, ...</td>\n",
              "    </tr>\n",
              "    <tr>\n",
              "      <th>95050</th>\n",
              "      <td>Algumas oportunidades não voltam só porque voc...</td>\n",
              "      <td>[Algumas, oportunidades, voltam, arrependeu]</td>\n",
              "    </tr>\n",
              "    <tr>\n",
              "      <th>36034</th>\n",
              "      <td>só queria chegar em casa e encontrar um cel no...</td>\n",
              "      <td>[queria, chegar, casa, encontrar, cel, novinho...</td>\n",
              "    </tr>\n",
              "  </tbody>\n",
              "</table>\n",
              "<p>95000 rows × 2 columns</p>\n",
              "</div>"
            ],
            "text/plain": [
              "                                              tweet_text  \\\n",
              "49783                                  Aaaa não neném ((   \n",
              "65737  tu vai na casa da pessoa, toma um banho lá e l...   \n",
              "44073                                   só seguiu o bozo   \n",
              "16882  Eu não fui pq caiu no meu bday e eu escolhi ir...   \n",
              "7472                                      segui de volta   \n",
              "...                                                  ...   \n",
              "1682   minha mãe me fala quando ela não gosta das pes...   \n",
              "70665  Com modo online inédito, 'Super Mario Party' t...   \n",
              "97308  Boi Imperador 80 anos de tradição da nossa cul...   \n",
              "95050  Algumas oportunidades não voltam só porque voc...   \n",
              "36034  só queria chegar em casa e encontrar um cel no...   \n",
              "\n",
              "                                                   token  \n",
              "49783                                      [Aaaa, neném]  \n",
              "65737  [casa, pessoa, toma, banho, lava, cabelo, sham...  \n",
              "44073                                     [seguiu, bozo]  \n",
              "16882               [Eu, pq, caiu, bday, escolhi, outro]  \n",
              "7472                                      [segui, volta]  \n",
              "...                                                  ...  \n",
              "1682   [mãe, fala, gosta, pessoas, disse, gostava, ti...  \n",
              "70665  [Com, modo, online, inédito, Super, Mario, Par...  \n",
              "97308  [Boi, Imperador, 80, anos, tradição, cultura, ...  \n",
              "95050       [Algumas, oportunidades, voltam, arrependeu]  \n",
              "36034  [queria, chegar, casa, encontrar, cel, novinho...  \n",
              "\n",
              "[95000 rows x 2 columns]"
            ]
          },
          "execution_count": 14,
          "metadata": {},
          "output_type": "execute_result"
        }
      ],
      "source": [
        "data_train[['tweet_text','token']]"
      ]
    },
    {
      "cell_type": "code",
      "execution_count": 15,
      "metadata": {
        "colab": {
          "base_uri": "https://localhost:8080/"
        },
        "id": "0YRQNbdOGmwi",
        "outputId": "73956356-e89b-40f7-cee1-dadc7c67009a"
      },
      "outputs": [
        {
          "data": {
            "text/plain": [
              "657362"
            ]
          },
          "execution_count": 15,
          "metadata": {},
          "output_type": "execute_result"
        }
      ],
      "source": [
        "# Procedure get vocab\n",
        "\n",
        "all_tokens = []\n",
        "\n",
        "for tokens in data_train['token']:\n",
        "  all_tokens.extend(tokens)\n",
        "  \n",
        "len(all_tokens)"
      ]
    },
    {
      "cell_type": "code",
      "execution_count": 16,
      "metadata": {
        "colab": {
          "base_uri": "https://localhost:8080/"
        },
        "id": "AzT-PaUaKy-0",
        "outputId": "cf2043ef-887c-42f8-d802-714b31189ed5"
      },
      "outputs": [
        {
          "data": {
            "text/plain": [
              "[('dia', 3566),\n",
              " ('Eu', 3066),\n",
              " ('Bolsonaro', 3005),\n",
              " ('vou', 2888),\n",
              " ('O', 2790),\n",
              " ('gt', 2474),\n",
              " ('queria', 2425),\n",
              " ('A', 2243),\n",
              " ('tá', 2181),\n",
              " ('gente', 2098)]"
            ]
          },
          "execution_count": 16,
          "metadata": {},
          "output_type": "execute_result"
        }
      ],
      "source": [
        "count_tokens = Counter(all_tokens)\n",
        "count_tokens.most_common(10)"
      ]
    },
    {
      "cell_type": "code",
      "execution_count": 17,
      "metadata": {
        "colab": {
          "base_uri": "https://localhost:8080/"
        },
        "id": "7h1jee34M51p",
        "outputId": "fb8f3076-2965-4f9e-840d-3ca4a5bd677f"
      },
      "outputs": [
        {
          "name": "stdout",
          "output_type": "stream",
          "text": [
            "{'XAU': 16014, 'ESTRELA': 16012, 'BPT': 16011, 'torneira': 16010, 'censurado': 16009, 'incerto': 16006, 'reconhecida': 16004, 'duda': 16002, 'Razer': 15997, 'CNC': 15995, 'SpaceX': 15993, 'Wendell': 15992, '0,5': 15989, '97': 15988, 'chifre': 15987, 'Sono': 15984, 'hq': 15983, 'partidário': 15980, 'wi-fi': 15979, 'aventureiro': 15978, 'japão': 15976, 'funcionalismo': 15973, 'lexa': 15968, '═': 15966, 'floresta': 15961, 'killer': 15956, 'streamer': 15955, 'can': 15954, 'Acc': 15951, 'Libanês': 15950, 'conquistou': 15947, 'dossiê': 15945, 'ingrata': 15936, '1,3': 15931, 'Penha': 15930, 'influentes': 15927, 'converter': 15926, 'chuvinha': 15922, 'Marun': 15920, 'identifiquei': 15919, 'pulso': 15914, 'sucessão': 15906, 'entendemos': 15905, 'Revolução': 15904, 'Aaaaaa': 15902, 'tensa': 15900, 'Stream': 15894, 'DISSE': 15892, 'pesquiso': 15891, 'acender': 15890, 'clã': 15889, 'horrorosa': 15888, 'choveu': 15887, 'defenda': 15886, 'Armazém': 15882, 'fiscalizar': 15881, 'reelegeu': 15880, 'Pardo': 15878, 'only': 15876, 'Redes': 15874, 'Uhum': 15873, 'relatou': 15869, 'branqueamento': 15865, 'interessei': 15863, 'size': 15860, 'bancários': 15857, 'roteiros': 15856, 'cangote': 15855, 'diabos': 15853, 'associa': 15852, 'compartilho': 15851, 'Tietê': 15849, 'conheceu': 15848, 'Devemos': 15845, 'solitária': 15843, 'roupinha': 15841, 'cursar': 15840, 'queen': 15839, 'drag': 15838, 'Bjs': 15836, 'retroceder': 15835, 'significam': 15834, 'aceitado': 15829, 'Alo': 15828, 'caído': 15827, 'Camisa': 15826, 'HAHA': 15824, 'saquinho': 15820, 'CONSEGUE': 15819, 'emotiva': 15811, 'Ipiranga': 15810, 'Hitchcock': 15809, 'main': 15808, 'Comandante': 15807, 'Gelson': 15806, 'covinhas': 15802, 'cabresto': 15801, 'guris': 15798, 'vencerem': 15797, 'muuito': 15795, 'una': 15794, 'centrão': 15793, 'amu': 15792, 'consecutivos': 15789, 'e5a1c677-f1e7-462d-8829-d8172ba4f176': 15788, 'diretores': 15786, 'cdb8824f-fbd9-4e81-aee6-9a1779740570': 15782, 'Dependendo': 15778, 'nivel': 15776, 'embaixadora': 15775, 'Tia': 15770, 'fizerem': 15769, 'racional': 15766, 'prestigiar': 15764, 'Parkinson': 15758, 'cremoso': 15757, 'Torço': 15755, 'enterrado': 15753, 'lele': 15751, 'selva': 15750, 'heim': 15746, 'DAY6': 15745, 'cronológica': 15742, 'Curicica': 15740, 'camarão': 15738, 'comidinha': 15734, 'brigadeiro': 15733, 'más': 15732, 'ALGO': 15731, ':-))': 15730, 'mansão': 15729, 'sintoma': 15728, 'avaliar': 15724, 'Criação': 15723, 'dignifica': 15722, 'Boom': 15717, 'monitorar': 15715, 'Dieta': 15712, 'vzs': 15711, 'polos': 15701, 'Discussão': 15700, 'ex-BBB': 15699, 'mantendo': 15698, 'motos': 15694, 'dobram': 15689, 'PG': 15687, 'modinha': 15686, 'gospel': 15685, 'AMA': 15684, 'prever': 15682, 'dormida': 15678, 'impediu': 15677, 'alimentando': 15674, 'verei': 15673, 'redemocratização': 15668, 'renjun': 15667, 'Sarney': 15660, 'bordo': 15659, 'twd': 15655, 'notificar': 15654, 'revoltante': 15653, 'Urso': 15652, 'trabalhadora': 15651, 'xeque': 15650, 'enganada': 15648, 'fanpage': 15647, 'organizando': 15646, 'estourar': 15644, 'operadora': 15641, 'Tal': 15638, 'reinventar': 15635, '1d': 15632, 'nascimento': 15629, 'imediato': 15628, 'adorando': 15626, 'coberta': 15622, 'confundida': 15619, 'ridiculo': 15618, 'prestando': 15616, 'pr': 15611, 'admissão': 15603, 'Victoria': 15601, 'abono': 15598, 'lmao': 15597, 'Judiciário': 15596, 'CRISTÃO': 15595, 'prejuízos': 15592, 'checa': 15590, 'Parcela': 15588, 'Circuito': 15587, 'Raios': 15584, 'custará': 15580, '🤝': 15574, 'vereadores': 15572, 'piano': 15568, 'sulista': 15567, 'ganhador': 15566, 'Aéreas': 15562, 'pregão': 15561, 'entretanto': 15558, 'SEGUIR': 15557, 'Galaxy': 15555, 'Repórter': 15552, 'fulano': 15551, 'SERVIR': 15549, 'caga': 15547, 'discordo': 15546, 'Letícia': 15545, 'fitnes': 15544, 'Airport': 15541, 'duo': 15538, 'Dra': 15536, 'recomendação': 15534, 'demissões': 15533, 'rebaixa': 15532, 'péssimos': 15529, 'Office': 15527, 'Home': 15526, 'apaixonou': 15525, 'Grata': 15523, 'mexicano': 15520, 'corredor': 15875, 'soneca': 15519, 'ALGUEM': 15518, 'constitucional': 15516, 'renovada': 15515, 'caixas': 15514, 'criatura': 15511, 'cebola': 15897, 'auto-estima': 15510, 'assine': 15509, 'Finanças': 15508, 'utilizam': 15507, 'assediadores': 15506, 'fores': 15503, 'manja': 15502, 'bolhas': 15501, 'pegue': 15500, 'boyz': 15496, 'lisboa': 15495, 'vagão': 15493, 'Freira': 15492, 'TEMOS': 15485, 'complicações': 15484, 'Smexy': 15479, 'Sócios': 15478, 'OLP': 15477, 'Contato': 15883, 'puxando': 15476, 'preocupadas': 15474, 'estrangeira': 15472, 'tomate': 15471, 'corinthians': 15470, 'governam': 15468, 'adaptação': 15466, 'reféns': 15464, 'libertar': 15463, 'quebraram': 15462, 'ocasiões': 15460, 'Continental': 15459, 'Trabalhadores': 15456, 'pink': 15453, 'VOTA': 15451, 'ficarão': 15449, 'Okay': 15448, 'virgem': 15447, 'tuíte': 15446, 'CEP': 15440, 'Carteira': 15439, 'juntinhas': 15436, 'cuscuz': 15432, 'estuprada': 15430, 'inscreve': 15429, 'fechamos': 15428, 'MUITOS': 15426, 'permitem': 15425, 'cinzas': 15424, 'AJUDEM': 15422, 'foca': 15421, 'Exxon': 15420, 'MDS': 15414, 'líquida': 15413, 'Serio': 15411, 'psicológica': 15410, 'sustentar': 15408, 'Querido': 15407, 'questionado': 15405, 'insultos': 15402, 'dominam': 15401, 'sudeste': 15400, 'Desenho': 15399, 'papéis': 15394, 'gramado': 15390, 'improvável': 15389, 'antecipado': 15388, 'pala': 15386, 'quebrando': 15382, 'Dandara': 15381, 'a.': 15379, 'AAAAAAAAAA': 15377, 'Chapecó': 15370, 'Inspetor(a': 15368, 'heteros': 15367, 'unidas': 15364, 'comentado': 15362, 'Famosos': 15361, 'assistia': 15483, 'serasi': 15358, 'Fds': 15355, 'Viver': 15354, 'gano': 15353, 'lulista': 15352, 'Índices': 15351, 'considerar': 15348, 'prontas': 15347, 'enxaqueca': 15342, 'puberdade': 15341, 'esclarecimento': 15338, 'Essas': 15335, 'assinou': 15334, 'contento': 15331, 'alimento': 15330, 'Ferdinand': 15329, 'Franz': 15328, 'Freixo': 15326, 'detida': 15319, 'proximo': 15318, 'Watch': 15316, 'Beth': 15315, 'florzinha': 15313, 'imaginou': 15311, 'cof': 15310, 'troxa': 15309, 'planejam': 15302, 'Loss': 15301, 'indiquem': 15300, 'Sabes': 15297, 'vermelhos': 15296, 'dani': 15291, 'exigir': 15290, 'exigência': 15287, 'Otávio': 15282, 'vitoria': 15278, 'apoiaram': 15276, 'Rádio': 15274, 'circular': 15270, 'AMORES': 15269, 'joao': 15267, 'Jairo': 15261, 'arrombado': 15257, 'verme': 15253, 'fundação': 15252, 'Nível': 15250, 'Poliana': 15248, 'secar': 15245, 'deficientes': 15244, 'malvadas': 15243, 'grr': 15241, 'minto': 15240, 'decoração': 15237, 'Inacreditável': 15236, 'Aaaaaaaa': 15233, 'rumores': 15232, 'Avon': 15231, 'clicando': 15228, 'fobia': 15222, 'sacrifícios': 15219, 'capacete': 15213, 'agrediu': 15210, 'cruzará': 15208, 'rinde': 15207, 'X-Men': 15204, '16:30': 15199, 'progressiva': 15198, 'dure': 15196, 'repúdio': 15195, 'conservador': 15194, 'RIR': 15683, 'plenamente': 15187, 'Indio': 15186, 'ídolos': 15185, 'empregada': 15183, 'mudado': 15182, 'Galáxia': 15180, 'Guardiões': 15179, 'corretagem': 15177, '3,76': 15963, 'Pelos': 15175, 'assassinatos': 15171, 'Combate': 15170, 'aquecimento': 15164, 'consideradas': 15161, 'abalada': 15159, 'Guerrero': 15157, '19:00': 15155, 'apostas': 15149, 'ENEM': 15617, '2011': 15147, 'fatia': 15146, 'Predador': 15144, 'multado': 15143, 'Passeio': 15141, 'Open': 15140, 'migrantes': 15137, 'AM': 15136, 'correu': 15134, 'vias': 15133, 'QUANTO': 15132, 'assustadora': 15131, 'Recreio': 15130, 'indiretas': 15129, 'bacon': 15127, 'marcação': 15126, 'Demorou': 15254, 'Congonhas': 15125, 'Nicolás': 15123, 'corno': 15513, 'muitão': 15122, 'aço': 15120, 'Hydro': 15118, 'Norsk': 15117, 'divulgo': 15112, 'plantar': 15111, 'religiosa': 15110, 'TIME': 15104, 'Disponível': 15101, 'Libras': 15098, 'Full': 15097, 'misteriosa': 15095, 'bem-vinda': 15094, 'Hackers': 15089, 'Dm': 15087, 'definem': 15086, 'chamaram': 15080, 'Dívida': 15079, 'Estudos': 15075, 'Queridos': 15073, 'poeira': 15072, 'Servidores': 15071, 'partidária': 15070, 'bolinho': 15069, 'entupir': 15068, 'revelada': 15065, 'UnB': 15064, 'elegante': 15062, 'trilhos': 15057, 'costurar': 15369, 'reconhecem': 15055, 'Patricia': 15054, 'hahahahahah': 15053, 'mos': 15051, 'royale': 15047, 'battle': 15046, 'Call': 15044, 'atualizada': 15037, 'CNI': 15036, 'Participação': 15035, 'exceto': 15032, 'punho': 15031, 'secundário': 15030, 'deitadinha': 15028, 'economicamente': 15025, 'comunidades': 15024, 'incentivar': 15023, 'tivermos': 15018, 'conheco': 15017, 'elevador': 15015, 'why': 15633, 'Flores': 15011, 'Eis': 15010, 'NENHUM': 15006, 'estressa': 15001, 'ofende': 14999, 'lideram': 14998, 'logística': 14996, 'Rogério': 14995, 'chamamos': 14991, 'vibes': 14990, 'mudará': 14989, 'quantia': 14988, 'cunhado': 14987, 'note': 14985, 'Reynolds': 14983, 'Burt': 14982, 'verbo': 14981, 'tributo': 14980, 'espécie': 14978, 'thali': 14977, 'Sam': 14975, 'mamíferos': 14971, 'Mata': 14970, 'satisfação': 14969, 'escadas': 14967, 'Estúdio': 14963, 'Árbitro': 14962, 'inscreva-se': 14961, 'caçula': 14958, 'Encontrei': 14955, 'LP': 14954, 'retoque': 14953, 'nomear': 14949, 'Virou': 14948, 'demos': 14947, 'costuma': 14946, 'girassol': 14944, 'nmrl': 14943, 'disputas': 15039, 'residência': 14941, 'Eliane': 15374, 'Políticos': 14940, 'exemplos': 14939, 'debatendo': 14937, 'Horizon': 14936, 'White': 14935, 'ensinam': 14933, 'Donos': 14932, 'casarão': 14931, 'conscientização': 14929, 'Motta': 14927, 'Frias': 14925, 'Chorei': 14923, 'aceitei': 14922, 'Gratidão': 14920, 'ZAP': 14918, 'carinhoso': 14917, 'sortudo': 14910, 'DF1': 14908, 'psicopata': 14907, 'regulamentação': 14903, 'Origem': 14902, 'Facada': 14901, 'individuais': 14900, 'jaemin': 14894, 'Rodovia': 15695, 'oo': 14892, 'grito': 14887, 'punk': 15737, 'Adour': 14886, 'Bia': 14883, 'boletos': 14880, 'Marine': 14879, 'tóxicas': 14876, 'limitar': 14875, 'Ibirapuera': 14873, 'traduz': 15649, 'irregulares': 14871, 'Fnac': 14870, 'tinder': 14869, 'Cândido': 14868, 'stand': 14867, 'criadores': 14866, 'rolês': 14864, 'amigão': 14859, 'Salah': 14858, 'magoa': 15022, 'retaliar': 14856, 'repouso': 14854, 'bjo': 14850, 'West': 14849, 'anexo': 14847, 'resultou': 14846, 'direcionado': 14845, 'Vilela': 14843, 'esqueças': 14838, '1-': 14835, 'rampa': 14833, 'jurídica': 14827, 'imensas': 14826, '37': 14824, 'ghost': 14823, 'documentos': 14822, 'engraçados': 14819, 'NESSE': 14818, 'SORRISO': 14816, 'geladeira': 14815, 'Booom': 14812, 'Forza': 14806, '2006': 14805, 'petralhada': 14804, 'caminhar': 14803, 'Salários': 14799, 'kim': 14797, '12:40': 16005, 'descriminaliza': 14796, 'Quinto': 14793, 'afirmar': 14792, 'comprometido': 14790, 'Pitty': 14788, 'mamae': 14786, 'mis': 14780, 'apoiador': 14779, 'tradição': 14778, 'zoa': 14777, 'Sonhei': 14776, 'injúria': 14775, 'Jane': 14772, 'Tênis': 14771, 'voltada': 14769, 'influenciar': 14768, 'vomitando': 14767, 'blusinha': 14766, 'e439def0-4d0c-4159-bffa-3b5363f0fff6': 14763, 'arco': 14762, '240': 14760, 'Donald': 14758, 'Kong': 14756, 'Hong': 14755, 'Assange': 14754, 'Caldas': 14750, 'doguinhos': 14747, 'also': 14744, 'roubou': 14742, 'hospitais': 14741, '350': 14740, 'Chandler': 14736, 'Quinta-feira': 15437, 'Mansão': 14732, 'reagiu': 14731, 'Lavigne': 15830, 'Abaixo': 14728, 'Girls': 14727, 'importo': 14725, 'Lamento': 14724, 'entraram': 14723, 'geografia': 14984, 'MEDO': 14721, 'bel': 14719, 'Reconstrução': 14716, 'distúrbio': 14715, 'lil': 14714, 'obtém': 14712, 'MATA': 14710, 'magnífica': 14709, 'expediente': 14708, 'esfaquear': 15190, 'Aurélio': 14706, 'SOFT': 14703, 'linguagem': 14702, 'sumiram': 14700, 'gatinhos': 14699, 'ameniza': 15067, 'Autoridades': 14696, 'trends': 14695, 'enjoo': 14694, 'contrario': 14689, 'snif': 14685, 'saibam': 14683, 'truque': 14720, 'Sonho': 14682, 'cláusula': 14680, 'saga': 14678, 'desonesto': 14676, 'recebia': 14674, 'Queres': 14670, 'reprise': 14669, 'mute': 14668, 'contribuiu': 14666, 'SIMPLESMENTE': 14665, 'deep': 14664, 'Melania': 14660, 'anão': 14656, 'Estude': 14654, 'U.u': 14653, 'Ciclista': 14652, 'gomas': 14650, ';-)': 14648, 'falho': 14647, 'tona': 14646, 'Post': 14643, 'curitiba': 14641, 'tirada': 14637, 'Automotivo': 14635, 'Vistoriador': 14634, 'acerto': 15387, 'JURO': 14633, 'Dorothy': 14630, 'Berlim': 14624, 'recall': 14622, 'eae': 14620, 'ricas': 14619, 'indie': 14617, 'Match': 14615, 'Pedido': 14613, 'provisória': 14608, 'coxa': 14606, 'Caymmi': 14605, 'here': 14604, 'renner': 14601, 'criticado': 14596, 'inesperado': 14595, 'mágico': 14593, 'aconteceram': 14589, 'infinita': 14588, 'Izalci': 14587, 'Leila': 14586, 'HADDAD': 14584, 'resenha': 14581, 'Segui': 14580, 'cercam': 14567, 'xd': 14562, 'bocas': 14561, 'Coronel': 14560, 'apostar': 14558, 'vestidos': 14557, 'permuta': 14555, 'diferenciar': 14553, 'Presente': 14552, 'fodem': 14551, 'Ralph': 14549, 'orienta': 14548, 'Título': 14545, 'ajudava': 14544, 'noiva': 14543, 'amostra': 14540, 'antipetistas': 14538, 'biscoitos': 15385, 'DEU': 14537, 'otima': 14533, 'chuveiro': 14532, 'Vo': 14531, '🇸': 14530, 'Experiência': 14529, 'tbh': 14528, 'otimo': 14526, 'terremotos': 14525, 'bombas': 14524, 'abençoada': 14523, 'zoado': 14522, 'conferida': 14519, 'safado': 14518, 'ágil': 14513, 'favorzinho': 15910, 'Correr': 14511, 'curtinho': 14510, '1.600': 14509, 'Dep': 14505, 'acertei': 14503, 'meto': 14501, 'Modas': 14500, 'publicamente': 14496, 'Prévia': 14494, 'necesito': 14492, 'andava': 14488, 'ex-diretor': 14487, 'execução': 14485, 'humanizado': 14483, 'cirão': 14610, 'Ciclo': 14480, 'botando': 14479, 'kill': 14478, 'obsessão': 14477, 'NCT': 14475, 'arquivo': 14473, 'sueco': 14472, 'aproveitem': 14471, 'Enjoy': 14466, 'Thread': 14465, 'arco-íris': 14464, 'excesso': 14462, 'CLIC': 14461, 'EMPREGOS': 14460, 'aguardem': 14458, 'aparelhos': 14456, 'abstenção': 14455, 'ACABOU': 14454, 'muitoo': 14453, 'Airbus': 14452, 'exceções': 14447, 'Pokémon': 14444, 'desejando': 14441, 'recuam': 14440, 'Aumento': 14439, '//j': 14437, 'reboque': 14435, 'destas': 14433, 'Eai': 14432, 'resolvemos': 14429, 'atentos': 14428, 'Floresta': 14427, 'mutirão': 14422, 'viajo': 14421, 'vires': 14417, 'raros': 15275, 'fotinha': 14412, 'dar-me': 14409, 'adoramos': 14408, 'Villas': 14404, 'vaias': 14402, 'felicidades': 14401, 'gaúcho': 14398, 'Crimes': 14396, 'XS': 14394, 'jr': 15773, 'aliada': 14393, 'ESSES': 15866, 'evoluiu': 14392, 'Hmmm': 14391, 'atrasam': 14388, 'Aviso': 15585, 'Passou': 14386, 'Cesp': 14385, 'Scott': 14382, 'Diegues': 14378, 'travesti': 14376, 'interessados': 15438, \"D'Ávila\": 14375, 'NENHUMA': 14374, 'terreno': 14365, 'Agostinho': 14359, 'Comentário': 14358, 'barrado': 15113, 'Votar': 14356, 'girando': 14355, 'DNA': 14352, 'maus-tratos': 14349, 'estética': 14345, 'wtf': 14344, 'grades': 14343, 'esclarecido': 14342, 'lavo': 14340, 'meudeus': 14339, 'Devia': 14336, 'BRF': 14335, 'estradas': 14333, 'Pressão': 14331, 'meet': 14329, 'muçulmanos': 14326, '1998': 14324, 'Corretor': 14323, 'Hezbollah': 14320, 'SAIBA': 14313, 'aprovam': 14310, 'way': 14309, 'adotado': 14306, 'lindíssima': 14304, 'Desta': 14303, 'tcc': 14302, 'segredos': 14299, 'Shawn': 14292, 'Inadimplência': 14290, 'acelerar': 14289, 'seguia': 14287, 'comanda': 14285, 'progresso': 14281, 'noivo': 14279, 'decidida': 14278, 'universitária': 14276, 'pizzas': 14274, 'Geração': 14273, 'ganharia': 14271, 'agindo': 14270, 'laboratório': 14269, 'desacelere': 14266, 'parques': 14264, 'químico': 14263, 'clandestino': 14261, 'Tinder': 14258, 'elogiam': 14257, 'educador': 14256, 'italiano': 14255, 'estatais': 14253, 'agronegócio': 14251, 'tumblr': 14250, 'boate': 14249, 'Vota': 14247, 'duração': 14246, 'cobrança': 14243, 'esquenta': 14242, 'Bjo': 14241, 'bilíngue': 14239, 'gravadora': 14238, 'agradecido': 14237, 'Safadão': 14231, 'Wesley': 14230, 'DUAS': 14228, 'aguentei': 14227, 'xuxi': 15885, 'interagindo': 14226, 'selfie': 14225, 'tínhamos': 14224, 'canela': 14305, 'pastores': 14222, 'Hoffmann': 14221, 'reconhecido': 14220, 'AJUDA': 14213, 'autores': 14210, 'mostrei': 14209, 'asfixia': 14207, 'Single': 14205, 'Fila': 14204, '🚀': 14202, 'bonitão': 14201, 'uvas': 14200, 'cheias': 14198, 'Hello': 14196, 'SIGA': 14193, 'B3': 14190, 'Nikon': 14188, 'operadoras': 14187, 'pegasse': 14185, 'identificam': 14182, '0,2': 15200, 'Perdão': 14181, 'Calheiros': 14180, 'auditoria': 14177, 'asco': 14176, 'Android': 14175, 'Kiki': 14174, 'Brigado': 14172, 'relacionados': 14171, 'treina': 14170, 'bicha': 14169, 'valiosa': 14168, 'equipamento': 14163, 'gabinete': 14162, 'Aracaju': 15697, 'medico': 14563, 'aproveitamento': 14160, 'NOVA': 14158, 'futuros': 14157, 'cansa': 14152, 'apos': 14150, 'bilionário': 14149, 'planeja': 14147, 'Malásia': 14146, 'PARIU': 14145, 'prejudicando': 14141, 'veículo': 14140, 'Leva': 14138, 'empréstimos': 14136, 'químicos': 14135, 'POLÍTICA': 14130, 'idols': 14128, 'arquiva': 14125, 'adeptos': 14124, 'benzinho': 14122, 'Saiu': 14121, 'egípcio': 14114, 'território': 14113, 'Cuiabá': 14110, 'feias': 14102, 'taxistas': 15763, 'ameaçado': 14101, 'alterado': 15861, 'corruptos': 14100, 'dividendos': 14099, 'miminhos': 14096, 'juíza': 14095, 'Madi': 14094, 'Laureta': 14092, 'homologa': 14091, 'Apresentadora': 14090, 'leão': 14088, 'Discurso': 14087, 'planejar': 14084, 'ursinho': 14080, 'Biblioteca': 14347, 'paranoia': 14079, 'fiança': 14078, 'concentra': 14077, 'zoológico': 14075, 'info': 14074, 'Dispenso': 14072, 'BBC': 14069, 'domínio': 14065, 'Modric': 14064, 'Jessica': 14063, 'loca': 14062, 'idosa': 14057, 'Ari': 14056, 'legitimidade': 14053, 'existentes': 14051, 'educados': 14050, 'vintage': 14047, 'monitora': 15350, 'cintura': 14045, 'precisará': 14044, 'baleada': 15260, 'Gonçalo': 14041, 'Now': 14040, 'Nd': 14039, 'derrotada': 14038, 'emendas': 14036, 'indignada': 14034, 'entrevistado': 14033, 'decido': 14032, 'Aproveitem': 14031, 'inevitável': 14030, 'Taxa': 14029, 'conversam': 14026, 'GOSTO': 14022, 'anjinhos': 14021, '2/10': 15804, 'aumentando': 14020, 'vinhos': 14015, 'Fã': 14014, 'promotores': 14012, 'excessivo': 14011, 'Místico': 14010, 'conscientizar': 14489, 'adversário': 14008, 'Danilo': 14007, 'materia': 14005, 'abordagem': 14003, 'Frigorífico': 14002, 'Desossador': 14000, 'preparo': 13998, 'barbárie': 13997, 'Opinião': 13996, 'SUL': 13993, 'praias': 13992, 'DVD': 13991, 'compreensível': 13990, 'Stone': 13986, 'Maniac': 13985, 'restauração': 13983, 'Dor': 13980, 'foro': 13973, 'consideram': 13972, 'Diaa': 13969, 'Flávia': 13968, 'coracao': 13966, 'fresco': 13963, 'circunstâncias': 13962, 'pelada': 13961, 'literária': 13960, 'mlr': 13959, 'enem': 13958, 'Colin': 13950, 'River': 13948, 'tropical': 15152, 'CHORANDO': 13947, 'chamadas': 13946, 'manhãs': 14968, 'concorrendo': 13944, 'seguros': 13941, 'cr': 13938, 'matina': 15579, 'Front-end': 13936, 'preenchimento': 13932, 'Tadinha': 13931, 'Acontece': 13930, 'Mia': 13928, 'extinta': 15531, 'What': 13927, 'Umas': 13925, 'ava': 13924, 'sentimental': 13922, 'RINDO': 13921, 'Suporte': 13920, 'Pensava': 15599, 'BABY': 13919, 'fundadores': 13917, 'NÚMEROS': 14577, 'match': 13913, 'palanque': 15083, 'brigado': 13912, 'Capa': 13909, 'expressiva': 13907, 'inelegibilidade': 13905, 'coxinha': 13904, 'empresária': 13897, 'Taubaté': 13896, 'moradora': 13895, 'favoritas': 13894, 'Ponto': 13893, 'julgando': 13890, 'preferia': 13889, 'Tiago': 14783, 'lembranças': 13887, 'Jong-un': 13886, 'fantasma': 13882, 'amava': 13881, 'EXTREMAMENTE': 13878, 'story': 13876, 'toy': 13875, 'voluntários': 13874, 'Caguei': 13873, 'Parti': 13871, 'bombons': 13867, 'remix': 13864, 'minion': 13863, 'copos': 13862, 'sinaliza': 13861, 'Continuem': 13859, 'THE': 13857, 'ON': 13856, 'sonhou': 13855, 'pagode': 15418, 'acentua': 13854, 'flagra': 13851, 'Inovação': 13849, 'Arquiteto': 13848, 'MUSICA': 14817, 'Imóvel': 13847, 'declaram': 13845, 'imigração': 14667, 'tendências': 13844, 'consultoria': 13843, 'proteja': 13842, 'borboletas': 13841, 'Tanzânia': 13840, 'naufrágio': 13839, 'permita': 13837, 'compreender': 13835, 'angelical': 13833, 'descansa': 13832, 'noix': 13828, 'amo-te': 13827, 'identificação': 13822, 'inteirinho': 13819, 'ordena': 13817, 'bichinha': 13814, 'Depósito': 15990, 'ofensivo': 13813, 'COISAS': 13812, 'TAO': 13811, 'feijão': 13809, 'bandas': 13807, 'confirmou': 13806, 'vivos': 13804, 'Collor': 13803, 'Segura': 13800, 'deletar': 13799, 'incrivel': 13794, 'extraordinária': 13793, 'deitei': 13792, 'paulistano': 13790, 'ganhava': 13788, 'cronograma': 13782, 'erradas': 13780, 'pedia': 13779, 'textão': 13777, 'populismo': 13776, 'reflete': 13775, 'romance': 13774, 'imploro': 13773, 'affff': 13769, 'avançam': 13768, 'assassinada': 14623, 'corretora': 13765, 'ot9': 13764, 'soberano': 13761, 'dignidade': 13760, 'Lana': 13758, 'HAHAHAHAHA': 13757, 'binário': 13756, 'amante': 13754, 'horinha': 13753, 'apoiado': 13752, 'respeitam': 13750, 'marte': 13749, 'móveis': 13748, 'legalizar': 13747, 'riu': 15744, 'governantes': 13746, 'custaram': 13744, 'desastres': 13743, 'cartões': 13742, 'VCS': 13741, 'pague': 13737, 'Tipo': 13735, 'paramos': 13734, 'infinito': 13733, 'rezando': 13730, 'tatuagens': 13729, 'contestar': 15265, 'sexy': 13728, 'Filha': 13727, 'Unimed': 13726, 'diplomatas': 13724, 'herança': 13723, 'diversidade': 13720, 'DEMOCRACIA': 13719, 'reitor': 13718, 'chamava': 15777, 'implantar': 13716, 'Juniors': 15197, 'alienado': 13715, 'acumulada': 14565, 'balneário': 13714, 'Denúncia': 13713, 'hobi': 13705, 'reprodução': 13704, 'pastas': 13702, 'divulgada': 13700, 'escolhida': 13699, 'Psicologia': 13698, 'Sociais': 13697, '...........': 13696, 'Cynthia': 13695, 'San': 13694, 'mágica': 13693, 'c/': 13690, 'humana': 13689, 'Outros': 13683, 'voltasse': 14761, 'CorelDRAW': 13682, 'dominar': 13681, 'discutindo': 13678, 'Riscos': 13675, 'Seminário': 13674, 'Jornalistas': 13670, 'Haley': 15307, 'primário': 13667, 'Irlanda': 13664, 'J': 15049, 'staff': 13663, 'wow': 13661, '.NET': 13660, 'packs': 13659, 'retira': 13653, 'ciumenta': 13648, 'brigas': 13645, 'definição': 13643, 'deputadas': 13640, 'violar': 13639, 'vagabundo': 13635, 'CÉU': 13634, 'recusa': 15481, 'abreu': 13633, 'Fizemos': 13631, 'visite': 13630, 'Frio': 13629, 'empreender': 13624, 'Bündchen': 13619, 'biografia': 13617, 'Momentos': 13615, 'Alerta': 13614, 'record': 13612, 'Canoas': 13610, 'repleta': 13609, '08': 13608, 'October': 13607, 'machistas': 13604, 'miss': 13601, 'drinques': 13600, 'representantes': 13597, 'contraponto': 13594, 'Fácil': 13593, 'Comissão': 13591, 'assassinos': 13590, 'mores': 13588, 'Alguem': 13583, 'pagina': 13582, 'Açúcar': 13579, 'Pão': 13578, 'múmia': 13577, 'queixar': 13576, 'adverte': 13575, 'baratos': 13573, 'reconheceu': 13569, 'responsabilidades': 13568, 'AAAA': 13567, 'bgs': 13566, 'trabalhou': 13564, 'atendendo': 13561, 'reformado': 13560, 'Kassab': 13559, 'Responsável': 13558, 'Lançamentos': 15613, 'custou': 13554, 'canetas': 13553, 'àGloboNews': 13549, 'FODA-SE': 13546, 'agricultor': 13545, 'recheio': 13544, 'wue': 14926, 'malha': 13542, 'caíram': 13541, 'notifica': 13539, 'enganam': 13537, 'elx': 13536, 'tedio': 13533, 'cartao': 13530, 'Londrina': 13527, 'africano': 13526, 'daq': 13523, 'retardada': 13522, 'justin': 13521, 'bipolar': 13519, 'Peço': 13518, 'Ltda': 13517, '©': 13516, 'bebada': 13514, 'gamer': 13513, 'espetáculo': 13512, 'dobradinha': 13511, 'FICA': 13509, 'Caracas': 13496, 'HORA': 13495, 'Bons': 13491, 'Cia': 13490, 'Ademir': 13488, 'TPM': 13487, 'fronteiras': 13486, 'Giants': 13485, 'Amar': 13482, 'rondar': 13481, 'Esses': 13480, 'desfile': 13479, 'sonda': 13478, 'agilizar': 14757, 'medula': 13477, 'mobilizou': 13476, 'transmitir': 13473, 'assediou': 13472, 'eleicoes': 13470, 'Obrigadaa': 15790, 'eleicao': 13469, 'exercer': 13465, 'Casos': 13463, 'prometer': 13462, 'FAAP': 13459, 'compensa': 13458, 'Nicole': 13456, 'touro': 13453, 'graves': 13452, 'desci': 13449, 'antigas': 13448, 'devolva': 13446, 'eba': 13444, 'sal': 13443, 'recepção': 13442, 'pazes': 13440, 'Ter': 13438, 'absoluta': 13437, 'Robótica': 13436, 'Inteligência': 13435, 'ANALISTA': 15288, 'jaja': 13434, 'encerrado': 13432, 'vivemos': 13430, 'sorri': 13428, 'destinos': 13426, 'venezuelano': 13425, 'migração': 13424, 'Hall': 13423, 'falência': 13421, 'bruta': 13418, 'velado': 13417, 'Lais': 13416, 'ANS': 14186, 'ex-ginasta': 13415, 'críticos': 14277, 'americanas': 13414, 'magoada': 13413, 'enquadra': 13412, 'Tomar': 13411, 'compactuar': 13409, 'manu': 13408, 'corda': 13407, 'brindes': 13406, 'clipes': 14684, 'quiz': 13405, 'substituirá': 13403, 'namorava': 15607, 'Augusta': 13402, 'racistas': 13401, 'decidirá': 13397, 'Obama': 13394, 'sofremos': 13391, 'descanse': 13390, 'SOCORRO': 13389, 'observando': 13387, 'Olimpíada': 13382, 'sediar': 13381, 'conjunta': 13380, 'aah': 13378, 'alvos': 13377, 'mobilidade': 13376, 'kd': 13374, 'paus': 13372, 'grade': 13933, 'maratona': 13808, 'ignorou': 13371, 'Coutinho': 13370, 'Porta': 13369, 'Tito': 13365, 'Vol': 13364, 'comoção': 13362, 'mlk': 13361, 'EXAME': 13360, 'Pan': 13357, 'matado': 13354, 'insistir': 13353, 'Implementos': 13351, 'decolar': 13348, 'elevado': 13347, '6,7': 13346, 'Maryland': 13345, 'Tiroteio': 13344, 'essência': 13343, 'atrasados': 14800, 'roles': 13342, 'desistindo': 13341, 'pergunto': 13340, 'barreiras': 13338, 'motivou': 14316, 'Reforma': 13337, 'convicção': 13335, 'notei': 13331, 'trechos': 13329, 'solicitação': 13327, 'beijou': 13326, 'avaliações': 13319, 'e54d1311-a8da-4e15-8d5c-778b65beb567': 13318, 'Pero': 13316, 'LGBTI': 13313, 'Parada': 13312, 'lindaa': 13311, 'Lava-Jato': 13309, 'tinta': 13308, 'garçom': 13303, 'assumirem': 13302, 'Restaurantes': 13301, 'lek': 13299, 'passamos': 13298, 'abala': 13291, 'Simplesmente': 13292, 'descubro': 13290, 'autora': 13289, 'latada': 13288, '7858e7db-75be-4d6e-8e23-bfaa1897a3a3': 13287, 'impor': 13282, 'equilíbrio': 13280, 'mix': 13278, 'incluem': 13277, 'Independência': 13276, 'Alencar': 13275, 'ABC': 13273, 'loko': 14574, 'padrinho': 13272, 'art': 13270, 'Biotecnologia': 13268, 'abstinência': 13263, 'bobagem': 13261, 'Tua': 13259, 'naturais': 13257, 'impossivel': 13254, 'hero': 13252, 'ditador': 13772, 'lésbica': 13250, 'símbolo': 13248, 'Coiso': 13246, 'Laurence': 15706, 'Ganha': 13244, 'Inscrição': 13241, 'sindicato': 13238, 'Orlando': 15002, 'Versace': 13237, 'Kors': 13236, 'impactos': 13234, 'previu': 13231, 'FEDERAL': 13230, 'Burberry': 13225, 'ajudinha': 13224, 'administrativo': 15679, 'comentei': 13222, 'verídico': 13221, 'arrepende': 13220, 'garanto': 13219, 'Freguesa': 13218, 'líquido': 13215, 'amplos': 13213, 'Mudar': 13211, 'empatado': 13210, 'ACABAR': 13209, 'clínicas': 13205, 'Chávez': 13204, 'descobriram': 13203, 'fc': 13201, 'GEGE': 15803, 'Valentim': 13199, '00:44': 13197, 'propriamente': 13196, 'galinha': 13195, 'Turista': 15573, 'suástica': 13194, 'Dupla': 13191, 'contemporâneo': 13186, 'JK': 13183, 'SABIA': 13182, 'acompanham': 14609, 'abusar': 13180, 'Wagner': 13179, 'abraçam': 13178, 'surgindo': 13176, 'Atlético': 13173, 'destinados': 13171, 'elaborado': 13170, 'fortalecer': 13168, 'bases': 13167, 'seguintes': 13166, 'técnicos': 13164, 'simpáticos': 15530, 'Ranking': 14751, 'etapas': 13163, 'recentemente': 13162, 'Desenvolvedor(a': 13314, 'apetece': 13161, 'OFICIAL': 13155, 'beatriz': 16015, 'Americanos': 13151, 'Especiais': 13150, 'Grandes': 13146, 'comprometida': 13143, 'asc': 13649, 'questionada': 13142, 'hype': 13141, 'passiva': 13613, 'Área': 13139, 'emagreci': 13136, 'larry': 13135, 'tentará': 13134, '1.500': 13133, 'gastou': 13131, 'declarou': 13130, 'abençoado': 13123, 'INSS': 13120, 'dia-a-dia': 13119, 'Girl': 13118, 'Itaquaquecetuba': 13115, 'Ansiedade': 13114, 'afirmam': 13112, 'investigada': 13111, 'guinada': 13145, '69': 13109, 'mark': 13107, 'coloração': 13103, 'Ladrão': 13098, 'GRANDE': 13097, 'Michel': 13096, 'Mega': 13094, 'alias': 13092, 'vacilo': 13089, 'ampliação': 13088, 'ciências': 13087, 'lutas': 13084, 'coordenador': 13083, 'células-tronco': 14423, 'consenso': 14105, 'Harvey': 13081, 'explico': 13080, 'ilegal': 13079, 'religioso': 13077, 'brusinha': 13075, 'incidente': 15202, 'habitantes': 13074, 'U': 13073, 'promessas': 13072, 'mandatos': 13071, 'continuou': 13069, 'ata': 13068, 'moedas': 13067, 'recessão': 15822, 'FORA': 13066, 'FC': 13065, 'Demais': 14212, 'Torres': 13064, 'educada': 13063, 'Prédio': 13061, 'sofria': 13060, 'SHOW': 13055, 'contrários': 13053, 'IBOPE': 13051, 'dom': 13050, 'palhaço': 13046, 'correta': 13045, 'inadimplência': 13044, 'caverna': 13038, 'verbalmente': 13037, 'divulgando': 13036, 'domina': 13034, 'escreveu': 13032, 'open': 13030, 'envolvimento': 13029, 'ji': 13027, 'Claudio': 13026, 'ansiosamente': 15725, 'fita': 14265, 'seguiram': 13025, 'gel': 15201, 'Divirto': 13023, 'Si': 13022, 'Rindo': 13021, 'elegem': 13019, 'preferiu': 13012, '............': 13767, 'videozinho': 13010, '127': 13008, 'Unesp': 13006, 'crie': 13005, 'recorrer': 13003, 'Juntos': 13002, 'crer': 13000, 'grita': 14165, 'passarelas': 12999, 'biscoito': 12998, 'solzinho': 12995, 'caps': 15539, 'debatem': 12994, 'Energia': 12993, 'bot': 12988, 'Tailândia': 12985, 'gordinho': 12980, '2008': 12979, 'contribuintes': 13540, 'doleiro': 13375, 'Karola': 12977, 'Cinelândia': 12976, 'genética': 12975, 'PEDIR': 12974, 'faz-me': 12973, 'desaparecer': 12971, 'ligadas': 12968, 'borra': 12967, 'Diga': 15239, 'vegan': 12966, 'LGBTs': 12965, 'destroem': 12964, 'Primeiro-ministro': 12963, 'belas': 12962, 'joonie': 12960, 'Adivinhem': 12959, 'ignorado': 12958, 'invasão': 12957, 'distribuidoras': 12956, 'irresponsável': 12954, 'estender': 12953, 'Noronha': 12951, 'Gui': 15944, 'baleias': 12950, 'Comente': 13731, 'tentem': 12946, 'sistemas': 12945, 'transplantes': 12944, 'nº': 12943, 'atravessar': 12941, 'Seguindo': 12940, 'sobrado': 13846, 'Things': 13125, 'mantido': 12939, 'Véi': 12938, 'pareceu': 12937, 'FICOU': 12936, 'adiante': 12935, 'esquecemos': 15661, 'Murphy': 14628, 'diminui': 12932, 'psiquiátrico': 15796, 'Gostou': 12928, '1.º': 12926, 'prevenir': 12925, 'Remédio': 12924, 'organizadas': 12922, 'Sorry': 13611, 'homofóbicos': 12920, 'otário': 12915, 'chupa': 12914, 'Dr.': 12913, 'sombrio': 14208, 'remove': 12912, 'alcance': 12911, 'selo': 12910, 'Aguarde': 12909, 'Marte': 12908, 'facilmente': 12907, 'realizadas': 12902, 'decorar': 12901, 'disponha': 12900, 'desmatamento': 12898, 'ministra': 12897, 'Ahah': 12896, 'dentinhos': 12888, 'assinante': 12883, 'coreografia': 12881, 'aprendendo': 12880, 'Alias': 12873, 'criados': 12872, 'Especialista': 12871, 'farta': 13508, 'Atirador': 12870, 'pessimo': 12868, 'Rejane': 12866, 'responsáveis': 12865, 'Jr': 12864, 'UX': 12863, 'cadastrar': 12862, 'Jaques': 12861, 'sacar': 12860, 'demitido': 12859, 'Futuro': 13001, 'twice': 12858, 'trama': 12854, 'du': 14093, 'catarina': 12852, 'astros': 12849, 'prometem': 12848, 'Pedrinho': 12846, 'Casino': 15554, 'ideologias': 14930, 'SACO': 12845, 'ih': 12844, 'Funcionários': 12842, 'faze': 12838, 'Dou': 13400, 'piorou': 12834, 'Fundação': 12833, 'acumular': 12830, 'Superior': 12829, 'aval': 12827, 'Garotos': 12824, 'Podiam': 12821, 'perdoem': 12819, 'Falem': 12816, 'Álbum': 14353, 'específicos': 12813, 'Fé': 12812, 'terceirizados': 12807, 'pulseira': 12806, 'Enade': 12804, 'Cursos': 12803, 'calmo': 12802, 'just': 12801, 'organizações': 12800, 'eficaz': 12799, 'adulta': 12795, 'faças': 15898, 'Ramos': 12794, 'Lázaro': 12793, 'silicone': 12791, 'Fone': 13216, 'painho': 12906, 'adiantou': 12790, 'Digo': 12788, 'Total': 12782, '150,00': 12781, '50,00': 12780, 'promessa': 12779, 'NOVAS': 14161, 'Clínicas': 12775, 'tumulto': 12774, 'acústico': 12772, 'olhinho': 12770, 'Cachorra': 12768, 'mesário': 12767, 'testemunhas': 12766, 'NOTÍCIA': 12765, 'definitivo': 12764, 'Ae': 12763, 'Quantos': 12762, 'Barbara': 13332, 'mc': 12761, 'DELE': 12755, 'vendedor': 12753, 'Atlântica': 12752, 'Orquestra': 12751, 'repete': 12749, 'finalizado': 12748, 'PHP': 12747, 'placas': 12746, 'seguimos': 12745, 'spam': 14807, 'Cumbica': 12744, 'Brás': 12743, 'grude': 12741, 'respondendo': 12740, 'queridos': 12739, 'nisto': 12738, 'Turismo': 12736, 'dirigir': 12735, 'netos': 13906, 'tpm': 12734, 'planejava': 12732, 'agorinha': 12730, 'exportações': 15019, 'cantina': 12728, 'turistas': 12727, 'Natural': 12725, 'Ciência': 12724, 'homossexualidade': 12722, 'PV': 12720, 'eixo': 12717, 'Marau': 15877, 'perspectiva': 12716, 'ambiental': 12714, 'ativismo': 12713, 'miram': 12712, 'formatura': 12708, 'nasceram': 12707, 'migas': 12706, 'trilhões': 12704, 'eps': 12702, '76': 12701, 'Amém': 14052, 'colocados': 12699, '23h': 12698, 'faltado': 12696, 'Mao': 12694, 'nasce': 12692, 'Antonio': 12689, 'SAUDADES': 13524, 'nf': 12688, 'defendeu': 12687, 'judiciário': 14865, 'milho': 12686, 'vela': 12685, 'Divirta-se': 12683, 'cortei': 12678, '99Vidas': 12677, 'estando': 12676, 'proporciona': 12675, 'TINHA': 12673, 'Snapchat': 12668, 'casaram': 12667, '6ª': 12666, 'ANTT': 12664, 'negras': 12663, 'Cabello': 12662, 'abrirá': 12659, '🤓': 12657, 'privadas': 14811, 'Park': 12655, 'acompanharam': 12654, 'nazistas': 12652, 'úteis': 12647, 'corporal': 12646, 'preservação': 12642, 'simpáticas': 12641, 'Candidaturas': 12637, 'considerados': 12636, 'fraudar': 12634, 'intensa': 12633, 'romântica': 14024, 'interna': 12632, 'Ahaha': 12631, 'Dono': 14395, 'duma': 12629, 'Del': 12624, 'Djokovic': 12623, 'teresopolis': 12622, '09:50': 12617, 'Baixando': 12613, 'necessária': 12612, 'bo': 12611, 'funcionamento': 12610, 'adotem': 12609, 'coerência': 12606, 'bruno': 12605, 'Acabo': 12600, 'parceiros': 12599, 'heart': 12598, 'camisolas': 15929, 'u': 12597, '78': 13043, 'pifou': 12596, 'comparando': 12594, 'opressor': 12592, 'Gonçalves': 12591, 'power': 12589, 'terapia': 12588, 'julgo': 12587, 'golden': 12586, 'sejas': 12585, 'lacrar': 12582, 'ameaçadas': 12581, 'brilhante': 12602, 'drive': 12579, 'madrugar': 12578, 'Ooo': 14109, 'Drama': 13706, 'Código': 12577, 'sócios': 12576, 'orelhas': 12571, 'evoluímos': 12570, 'recente': 12569, 'Paraguai': 12567, 'Erro': 12565, 'VAR': 12564, 'carteiras': 15114, 'OPINIÃO': 12562, 'fuzilar': 14403, 'respeite': 12558, 'gg': 12556, 'inauguração': 12555, 'Comércio': 12554, 'w': 12553, '88': 12552, 'Instrutor(a': 12549, 'naturalmente': 12548, 'souber': 12557, '--': 12547, 'injeção': 12546, 'afff': 12545, 'virem': 12544, 'poderiam': 12543, 'areia': 12540, 'Leve': 12538, 'King': 15273, 'Mangaratiba': 12536, 'Aii': 12535, 'dream': 12530, 'jejum': 12528, 'intolerância': 12524, 'frutas': 12523, 'acidentes': 12521, 'tecla': 12519, 'representatividade': 12516, 'calado': 12514, 'vistos': 13860, 'Basicamente': 13159, 'Bloomberg': 12511, 'Gabeira': 12504, 'Ouvindo': 12501, 'assistência': 14986, 'Hahahahah': 12493, 'posições': 12488, 'Túnel': 12486, 'democrata': 12485, 'potência': 12481, 'espada': 12478, 'assistido': 12477, 'Engenharia': 12473, 'Doctor': 12469, 'acirra': 12726, 'prontos': 12468, 'chegarem': 12467, 'sensações': 12465, 'divirto': 12464, 'Juventude': 12462, 'coming': 12460, 'cell': 14315, 'GP': 12457, 'America': 15985, 'Ressaca': 12456, 'estreias': 12455, 'canso': 12454, 'El': 12453, 'fascistas': 12452, 'turnos': 14855, 'Moraes': 12448, 'nadie': 12447, 'sonora': 12445, 'pedofilia': 12442, 'ENTÃO': 12441, 'pesada': 12440, 'Controle': 12438, 'tratam': 12434, 'Boralá': 12433, 'stay': 12432, 'mundiais': 13047, 'dilma': 12431, 'perguntaram': 12653, 'Stranger': 12430, 'vms': 14599, 'trabalham': 12429, 'atuar': 12428, 'soma': 12424, 'Ásia': 12422, 'ajudei': 12420, 'tradução': 12418, 'Gladson': 12417, 'inscritos': 12416, 'amanda': 12415, 'temor': 12414, 'cachaça': 12413, '10:20': 12410, 'Americano': 13323, 'destruindo': 12408, 'salários': 12406, 'carreiras': 12405, 'Jetta': 12404, 'titular': 12401, 'acontecesse': 12399, 'fatinha': 12398, 'assassinar': 12388, 'bancárias': 12385, 'débito': 12384, 'Rs': 12382, 'boneca': 12381, 'sorteadas': 12380, 'ilustração': 15754, 'auditório': 12379, 'tele': 12378, 'vinil': 12376, 'VONTADE': 12375, 'importação': 12374, 'custos': 12373, 'desolador': 15719, 'escuridão': 12368, 'embuste': 14018, 'rótulos': 12367, 'medicamentos': 12366, 'MY': 14491, 'concordam': 13379, 'PODCAST': 12364, 'chatear': 12363, 'superado': 12361, 'sacode': 12358, 'This': 12353, 'injustiçado': 12350, 'aprenda': 12348, 'campos': 12345, 'Torcida': 12344, 'arrancou': 12343, 'enche': 12340, 'Army': 12336, 'prorrogar': 12335, '72': 12333, 'Beleza': 12332, 'criam': 12331, 'chaves': 14860, 'configurações': 12330, 'Dentro': 12328, 'NUNCA': 12327, 'vs.': 12325, 'presidentes': 12324, 'Lituânia': 12323, 'finanças': 15217, 'reter': 12322, 'torturador': 12321, 'Bandeira': 12320, 'orientação': 12312, 'antipetista': 12311, 'encaminhar': 13551, 'True': 12310, 'horror': 12308, 'taxas': 12307, 'Ordem': 12306, 'Agenda': 12305, 'nobre': 12304, 'tempão': 12301, 'desigual': 15193, 'demorou': 12300, 'presencial': 12299, 'Disponha': 12298, 'seg': 12296, 'chamados': 12295, 'demandas': 14469, 'FAV': 12291, 'daddy': 12290, 'terrorista': 14085, 'smartphone': 12288, 'buquê': 15415, 'Ideal': 12287, 'Dersa': 12286, 'privilegiado': 12284, 'lojinha': 12283, 'emagrecer': 13915, 'escapar': 12280, 'civilização': 12278, 'Acorda': 12275, 'telefonia': 12273, 'Seguro': 12272, 'hot': 12270, 'Deveria': 12269, 'lucro': 12268, 'Clássico': 12262, 'gt;&lt': 14112, 'jair': 12261, 'hihi': 12260, 'Estás': 12259, 'machucam': 12258, 'machuquei': 12257, 'Parente': 12255, 'alavanca': 12254, 'thanks': 12252, 'MARINA': 15393, 'desolada': 12251, 'Luan': 12249, 'cana': 12245, 'usinas': 12244, 'pintinhas': 12242, 'nutrição': 12240, 'disto': 12239, 'Moscou': 15305, 'algodão': 12234, 'urgência': 12233, 'formato': 12229, 'listinha': 12227, 'premia': 12226, 'Hot': 12225, 'It': 12224, 'apresentadas': 12222, 'compare': 12221, 'votada': 13334, 'cobrando': 12220, 'Inauguração': 15569, 'Horrível': 12219, 'd35a805e-1a31-4b08-8341-728a704e2841': 12218, 'Nando': 12215, 'suspense': 12214, 'excelentes': 12211, 'radiante': 12210, 'vantagens': 13858, 'Kaepernick': 12209, 'paredes': 12645, 'Rafaela': 12207, 'replies': 12206, 'acirrada': 12205, 'arrecadação': 12204, 'Sine': 12202, 'how': 12199, 'Vinícius': 12196, 'Insensati': 12192, 'Tarot': 12191, 'aposentar': 12190, 'Pink': 12189, 'heheh': 12187, 'seres': 12181, 'who': 12180, 'facão': 14192, 'Batman': 12179, 'transmite': 12178, 'Google+': 12177, 'residencial': 15837, 'gratuitos': 13121, 'Araújo': 12175, 'indaiatuba': 12174, 'falasse': 12170, 'Lauren': 12169, 'lt;/3': 13192, 'Especial': 12168, 'entidade': 12167, 'Movimento': 12165, 'compreensão': 12164, 'envolver': 12162, '2-': 14837, 'Franca': 12159, 'favela': 12156, 'colaboradores': 12153, 'rinite': 12152, 'roubado': 12651, 'Millennials': 12150, 'explicações': 13778, 'preciosidade': 12149, 'astro': 13677, 'mentiu': 12904, 'invadem': 12843, 'jeongguk': 12148, ':-': 12146, 'Filipe': 12144, '1,4': 12365, 'whts': 12140, 'extrema-direita': 13547, '50.00': 12139, 'Monte': 12138, 'ROSA': 12136, 'NÓS': 12135, 'OUTUBRO': 12134, 'reagem': 12132, 'ilude': 12131, 'retomar': 12130, 'temo': 12253, 'Vaticano': 12129, 'Witcher': 12541, 'greys': 12127, 'desanimo': 14298, 'tonta': 12507, 'comandante': 12126, 'aparecendo': 12123, 'Sobra': 12117, 'Procure': 12115, 'politizado': 12114, 'destes': 14844, 'lamenta': 12107, 'Tae': 13937, 'Parabens': 12106, 'Departamento': 12105, 'aprendizado': 12103, '2009': 12100, 'carregador': 12387, 'andamento': 12099, 'espaços': 12098, 'OUTRO': 12096, 'demore': 13596, 'QUER': 12095, 'árabe': 15972, 'DIZER': 12094, 'Thais': 12092, 'lindão': 12086, 'pautas': 12082, 'conselheiros': 12080, 'satisfeita': 12078, 'katia': 13632, 'Cardi': 12074, 'exo': 12073, 'egoísta': 12070, 'Lorena': 12068, 'eliminação': 12067, 'Corregedor': 15586, '5ª': 13783, 'Cr': 12063, 'skate': 12062, 'jardim': 12060, 'hack': 12056, 'macro': 12055, 'repetindo': 12054, 'legit': 12053, 'Forbes': 15911, 'retardados': 12051, 'rebooting': 12050, 'hax': 12048, 'Same': 12045, 'fixado': 12043, 'movimenta': 12042, 'sporting': 12041, 'sonhava': 12040, 'quedas': 12037, 'burguês': 15128, 'curada': 12036, 'diretamente': 12035, 'patrimônio': 12033, 'Dops': 15423, 'brincadeiras': 12031, 'escrevendo': 12030, 'Valle': 14240, 'par': 12029, 'eficiente': 12027, 'Relatório': 12024, 'TÃO': 12022, 'vegetariana': 12021, 'porco': 12020, 'Industrial': 12018, 'rlx': 12014, 'ampliar': 12013, '6/10': 12012, 'queimar': 12009, 'princesinha': 13865, 'Serena': 12008, 'By': 12007, 'captar': 12004, 'ESPECIAL': 12003, 'escala': 12884, 'HISTÓRIA': 12002, 'ilustrações': 12001, 'respiração': 12000, 'ambição': 11996, 'chapéu': 11995, 'recria': 11992, 'aventura': 11990, 'questionar': 11988, 'Lourenço': 11985, 'Games': 11983, 'econômicos': 11978, 'apego': 11977, 'catástrofe': 11976, 'critérios': 11975, 'cat': 11974, 'compreendo': 11972, 'Terminei': 11971, '3.000': 11969, 'porq': 11966, 'especializada': 11965, 'Planejamento': 11963, 'acordava': 11960, 'hambúrguer': 11959, 'morava': 11958, 'endereços': 11957, 'Pós': 11956, 'gt;&gt': 11955, 'Favorite': 11954, 'gravada': 11953, 'ONG': 11952, 'Cão': 11950, 'inéditos': 11946, 'Velvet': 14476, 'Comi': 13899, 'DIVIRTA-SE': 11945, 'calar': 11944, 'Releia': 11943, 'alternativa': 11941, 'fodido': 11939, 'sensatas': 12970, 'lenda': 11938, 'Chelsea': 11937, 'confunde': 11934, 'Tira': 11928, 'Chamado': 11927, 'ligando': 11925, 'Air': 11923, 'Valparaíso': 11921, 'matam': 11920, 'Ganda': 11918, 'Reality': 11917, 'habilidades': 11916, 'levaria': 11912, 'insuportável': 11908, 'apresentadora': 12176, 'NYT': 11907, 'reduziu': 11906, 'Escobar': 11901, 'passos': 11898, 'velhinho': 11897, 'tavam': 11896, 'Alto': 11893, 'maravilhosos': 11892, 'comboios': 11889, 'gastam': 11888, 'Vos': 13676, 'dezenas': 11885, 'Basra': 11884, 'Lancellotti': 11883, 'contribui': 11880, 'Alta': 11879, 'estrangeiras': 11877, 'Contábil': 13256, 'promovendo': 11875, 'lago': 14749, 'comento': 11873, 'acontecimentos': 11869, 'vaquinha': 11867, 'doméstica': 11865, 'ciência': 11864, '🤞': 11863, 'Varejo': 11862, 'bonitas': 11860, 'elementos': 11859, 'Mac': 14638, 'precisei': 13284, 'fábrica': 11858, 'equipes': 15696, 'município': 11857, 'expectativa': 11856, 'fodidos': 11855, 'semifinais': 15962, 'acordando': 11852, 'levantando': 15620, 'Esquizofrênico': 11850, 'Bambizinho': 11848, 'panda': 11847, 'trabalhador': 11846, 'Siiim': 11843, 'Miguel': 11842, 'Whats': 13217, 'Minerva': 11841, 'Xavier': 11840, 'Jam': 11837, 'Space': 11836, 'dobra': 11834, 'SAIR': 11832, 'voice': 11831, 'Tesouro': 11828, 'nuvem': 11827, 'oficialmente': 11826, 'boaaa': 11825, 'bts': 11824, 'Aiai': 11823, 'Doi': 11820, 'Seul': 11816, 'Elefante': 11815, 'trist': 11813, 'Fujimori': 12525, 'liso': 11812, 'VOCE': 11811, 'Rita': 11810, 'convidar': 11808, 'gripada': 11819, 'encontrada': 11804, 'PRESO': 11803, 'agride': 11802, 'ajudaram': 11800, 'Thanks': 11799, 'reações': 11797, 'Lindos': 11796, 'discórdia': 11793, 'brigar': 11791, 'onibus': 11790, 'governado': 11787, 'Nego': 11786, 'Pensem': 11785, 'reconstruir': 13646, 'podíamos': 11783, 'misericórdia': 11782, 'Canziani': 11781, 'Oriovisto': 11778, 'Requião': 11777, 'sus': 11775, 'Artigo': 11774, 'Instituto': 11773, 'expõem': 11771, 'Rodas': 11770, 'imitar': 15800, '9,3': 11768, 'Vivo': 11767, 'mantida': 11766, 'roda': 11764, 'Foz': 14321, 'Moa': 11763, 'apaguei': 11761, 'sensata': 11760, 'Das': 11757, 'gêneros': 14229, 'garotas': 11755, 'liguei': 11753, 'box': 11751, 'verem': 11750, 'chuvoso': 11749, 'Inês': 11748, 'mostrava': 11744, 'cntg': 11742, 'pátria': 12750, 'Castanho': 11741, 'considerada': 11795, 'Apartamento': 11736, 'Sonhar': 11735, '⃣|': 11733, 'adquire': 11732, 'sabedoria': 11731, 'milionários': 12697, 'Allen': 11729, 'Magic': 11728, 'pocket': 11727, 'sofrem': 12695, 'costume': 11725, 'Igual': 11721, '94': 11719, 'famoso': 11718, 'REALMENTE': 11717, 'instala': 11716, 'NINGUÉM': 11714, 'Ex-prefeito': 13471, 'POIS': 11712, 'sorrisos': 13099, 'dentre': 11711, 'urgentes': 11710, 'Constituinte': 11708, 'Holanda': 11704, 'Negro': 11703, 'marvel': 11702, 'repleto': 11696, 'publicações': 11695, 'aceite': 11691, 'mobile': 11689, 'jurava': 11686, 'Fantásticos': 15823, '0,09': 12797, 'cogita': 11685, 'diferencial': 11683, 'faxina': 11679, 'fodeu': 11678, 'Russo': 11676, 'Prazo': 11675, 'series': 11670, 'Novembro': 15665, 'FALAR': 12390, 'Porém': 11669, 'pe': 11668, 'afogado': 11667, 'morrido': 11666, 'parlamentares': 11665, 'teremos': 13324, 'equipa': 11664, 'Delta': 11663, 'portugal': 11662, 'PENA': 11660, 'acostumando': 11658, 'Gabi': 11655, 'jogado': 11654, 'Duda': 11647, 'assassinados': 11645, 'civis': 11644, 'Guimarães': 11642, 'austeridade': 11641, 'macio': 11639, 'respira': 11638, 'convida': 11637, 'Chapéu': 11635, 'levantei': 11634, 'loco': 11633, 'perdoe': 11632, 'sumida': 11631, 'corações': 11630, 'bebé': 15081, 'mean': 11629, 'oooo': 11627, 'Minecraft': 11626, 'Quanta': 11622, 'mama': 11621, 'nomeia': 11620, 'estimular': 11619, 'travando': 11617, 'exploda': 15085, 'Ler': 11615, 'bloqueia': 11612, 'conferência': 15703, 'doutorado': 13451, 'abalo': 11609, 'Vittar': 11608, 'Pabllo': 11607, '2003': 11606, 'Oito': 11605, 'TESTEMUNHO': 11604, 'Bancos': 11603, 'macaco': 11602, 'IG': 11601, 'Global': 14681, 'Interno': 11599, 'devendo': 11597, 'Pato': 11596, 'Alexandre': 11595, 'Poderia': 11594, 'MPB': 11592, 'Christopher': 12394, 'enfrentou': 11591, 'intoxicação': 11589, '3,98': 14825, 'Dolores': 11588, 'coreia': 11587, 'Efeito': 11584, 'turco': 11583, 'Espera': 12674, 'vs': 11582, 'encontrados': 11581, 'presunto': 15760, 'yh': 11579, 'tristona': 11578, 'fts': 11577, 'afastar': 11574, 'desrespeito': 13565, 'Leo': 11573, 'alturas': 11571, 'acrescentar': 11569, 'abraçadinha': 11568, 'escudo': 11567, 'Juan': 11565, 'assumindo': 11564, 'importava': 11563, 'levantamento': 11561, 'agulhas': 11560, 'ouvintes': 11548, 'Nico': 11546, 'Cimer': 13952, 'elétrica': 11545, 'conquistando': 11544, 'maia': 11540, 'Edição': 12614, 'defendo': 11539, 'lia': 11538, 'sophia': 11537, 'tpcs': 13988, '🤪': 11535, 'Acordo': 13943, 'tiago': 11534, 'Números': 11533, 'ícone': 11531, 'Prisão': 11530, 'acerta': 12680, 'abaixar': 12389, 'viajam': 11529, 'foge': 11527, 'estraguei': 11522, 'Máquinas': 13281, 'errei': 11521, 'dividem': 11518, 'Rumo': 11517, 'viemos': 11514, 'analista': 11513, 'faria': 11512, 'aba': 11507, 'macumba': 11506, 'Chaves': 11505, 'AGO': 11502, 'Venezuelanos': 11501, 'UFC': 11498, 'rende': 11497, 'Hahah': 11494, 'crescente': 11493, 'arrancar': 11492, 'Web': 11491, 'Prometo': 15378, 'visibilidade': 11489, 'Basta': 11487, 'figura': 11486, 'fevereiro': 11485, 'Maringá': 13285, 'tome': 11484, 'inovador': 14312, 'descrição': 11481, 'obrigadaaa': 11480, 'sustenta': 11479, 'medicação': 11477, 'alex': 11474, 'britânicos': 11980, 'Adidas': 11472, 'fornecedor': 11471, 'prestes': 11470, 'franceses': 11469, 'cartel': 11468, 'réus': 11467, 'Jon': 11465, 'feminismo': 11462, 'Claire': 11461, 'aka': 11460, 'ACREDITO': 11457, 'cervejinha': 11456, 'Resumindo': 11452, 'Boca': 11449, 'Relembre': 11448, 'revelam': 11447, 'nadar': 11446, 'mania': 11445, 'Aérea': 11443, 'Canadá': 11439, 'Avril': 11438, 'primeiras': 11436, 'michael': 11434, 'Venom': 11432, 'Cristovam': 11429, 'Otima': 11427, 'replica': 13214, 'encanta': 11426, 'plus': 11425, 'Lindo': 11424, 'unanimidade': 11421, 'Gastos': 11420, 'vencedora': 11419, 'impressionante': 11417, 'injusto': 11414, 'Itaquera': 11413, 'Maravilha': 11997, 'fifa': 11407, 'negativo': 11406, 'have': 11405, 'black': 12049, 'lagrima': 11404, 'intenso': 11402, 'ficasse': 11401, 'maravilha': 11399, 'CRIANÇAS': 11392, 'cafezinho': 14704, 'Malu': 12370, 'renan': 11391, 'Rt': 11389, 'rsrsrs': 12237, 'Pacífico': 11384, 'Oceano': 11383, 'cabana': 11382, 'Dessa': 11381, 'Política': 11379, 'Bergamo': 11374, 'Starbucks': 13738, 'ponha': 11373, 'Candido': 11371, 'MÃE': 11369, 'surgiu': 14603, 'citei': 13686, 'Apoiadores': 11366, 'lances': 12133, 'comeu': 11365, 'Safra': 11363, '79': 11362, 'acreditando': 12217, 'relativamente': 11359, 'semanal': 11358, 'favelas': 12921, 'determinado': 11356, 'Eva': 15923, 'Estaremos': 11355, 'Duty': 15045, 'gostaríamos': 11353, 'aguentam': 11352, 'bizarro': 11351, 'quilos': 11349, 'Quênia': 11348, 'minas': 11347, 'vestibular': 11346, 'poesia': 11344, 'v': 11340, 'UCL': 11339, 'pausa': 11337, 'Sousa': 11336, 'Frota': 11334, 'Feriado': 11333, 'valorize': 11332, 'Mudança': 13627, 'LINK': 11331, 'INSTAGRAM': 11330, 'friozinho': 14734, 'naoooo': 11328, 'Creio': 11327, 'conhecimentos': 11324, 'bondade': 11323, 'vagabunda': 11320, 'Vereador': 11317, 'Congresso': 11314, 'militante': 11310, 'Cabeça': 11309, 'fofinhas': 11306, 'prometo': 11304, 'decepcionei': 11300, 'Vendedora': 12044, 'Mogi': 11298, 'prometido': 11296, 'botão': 11295, 'tapas': 11294, 'desejos': 11292, 'normais': 11291, 'freela': 11290, 'fiel': 11288, 'cansativo': 11287, 'emprestar': 11285, 'gastando': 11284, 'largo': 11282, 'TAEHYUNG': 15805, 'maravilhosas': 11281, 'continha': 11278, 'Gonzalez': 11277, 'Ícone': 11276, '4,5': 11275, '3,99': 11919, 'trágica': 11274, 'Universal': 12213, 'incompetência': 11273, 'finalizar': 11268, 'Le': 11266, 'Imigrantes': 11263, '7/10': 11262, 'térmico': 11258, 'alisamento': 11257, 'sweetie': 11253, 'Itaú': 11252, 'irônica': 11251, 'apartir': 11250, 'refinarias': 11249, 'redução': 11248, 'objeto': 11247, 'f1': 11246, 'Quatro': 11244, 'creche': 11243, 'déficit': 11242, 'vixe': 11241, 'sintonia': 11239, 'encontros': 11238, 'Dolabella': 13117, 'laje': 11236, 'desabamento': 11235, 'Entrevista': 15325, 'transar': 13787, 'doq': 11233, 'work': 11231, 'Pesquisadores': 11230, 'atrizes': 15612, 's2': 11228, 'Esplanada': 13964, 'mentindo': 11227, 'raba': 11226, 'garotos': 11225, 'Recado': 11224, 'aiii': 11223, 'entregou': 11222, 'Mágico': 14631, 'Financeiro(a': 11221, 'palhaçada': 11219, 'aliviada': 11217, 'Dança': 11216, 'Financeiro': 11991, 'armado': 11215, 'volver': 12076, 'masculina': 11214, 'Queda': 11213, 'despede': 11211, 'Evans': 11210, 'cuide': 11209, 'presta': 13901, 'Ganhando': 11206, 'cagam': 14839, 'química': 11205, 'Impressionante': 11204, 'presidenciais': 11203, 'calhar': 11202, 'bote': 11201, 'escrito': 11200, 'integra': 11199, 'demo': 11198, 'Sra': 14590, 'multada': 13638, 'arrasar': 11784, 'Dubai': 11196, 'Agradeço': 11195, 'zera': 11192, 'Maré': 11190, 'toquei': 11188, 'grávidas': 14730, '=)': 11187, '4,03': 11185, 'arroba': 11184, 'cabra': 13461, 'desacelera': 11183, 'Pobreza': 11182, 'remoção': 15151, 'preferência': 11176, 'Obs': 12784, 'reler': 11173, 'desvios': 11171, 'Adorei': 11169, 'lindinho': 11168, 'conversamos': 11167, 'profissões': 11166, 'kpopper': 14037, 'formando': 11165, 'Tomei': 11164, 'PUTA': 11163, 'DAR': 13305, 'gráficos': 11162, 'Homem-Aranha': 11161, 'Hunter': 11158, 'Hero': 11156, 'preparam': 11153, 'fechei': 11151, 'Borges': 11147, 'apto': 11145, 'MEC': 11142, 'castração': 11141, 'aperta': 11140, 'referendo': 11137, 'celebram': 11136, 'Max': 11131, 'graus': 11129, 'ascensão': 12064, 'físicos': 11127, 'recomendar': 11126, 'Respondam': 11125, 'tho': 11122, 'podias': 11120, 'Jungmann': 11119, 'Moisés': 13040, 'checar': 11118, 'lábios': 11115, 'método': 11114, 'Insta': 11110, 'médica': 11109, 'ng': 12058, 'afastando': 11107, 'Seguros': 11105, 'plebiscito': 11100, 'poderíamos': 11099, 'Sigam': 11097, 'comentam': 11094, 'zoada': 11093, 'Chegamos': 11090, 'ofender': 11089, 'concentrar': 11088, 'DESGRAÇA': 11087, 'satélite': 11085, 'Imagens': 11084, 'confusos': 11083, 'Economistas': 13101, 'Flórida': 13095, 'entradas': 12773, 'transferido': 11080, 'Agressor': 11079, '91': 11078, 'abri': 11077, 'anel': 11073, 'boné': 11072, 'licitação': 11071, 'Gleisi': 11069, 'normalidade': 11068, 'Zuckerberg': 11067, 'Compras': 11064, 'Compre': 11063, 'Verão': 11062, 'Dark': 11061, 'NOVIDADE': 11060, 'Sr.': 11059, 'andares': 11057, 'mimimi': 11056, 'misturar': 11570, 'candidatar': 11052, 'sites': 11049, 'desembargador': 11048, 'uber': 11045, '1.ª': 11042, 'Marca': 11038, 'Alberto': 14514, 'rezar': 11037, 'maninho': 11035, 'sam': 11034, 'Sandy': 11033, 'alemã': 11313, 'chacota': 11031, 'alienados': 11030, 'Começar': 12377, 'acadêmico': 11028, 'Parte': 11024, 'buscamos': 11023, 'Confederação': 11021, 'assustada': 11019, 'Espelho': 11017, 'experiencia': 11016, 'cancelados': 11015, 'rebaixamento': 11013, 'Vasco': 11012, 'honesto': 12815, 'reportagem': 11011, 'desativar': 11010, 'sensibilidade': 11009, 'prometi': 11008, 'agradar': 11005, 'deixará': 11002, 'Rodrigues': 13274, 'Mantega': 11001, 'BRESCIA': 11000, 'manipulação': 10999, 'Reis': 10998, '57': 10997, 'bolsonarista': 10996, 'PCdoB': 14973, 'Interessados': 10995, 'JR': 10994, 'assistente': 10993, 'verificação': 10992, 'Viracopos': 10991, 'tímido': 12201, 'Recomendo': 10988, 'fornecimento': 10984, 'Problema': 15056, 'Jebi': 10982, 'Procon': 10980, 'santuário': 11483, 'tiroteio': 10972, 'software': 10971, 'ahahahaha': 10969, 'sigla': 10967, 'assessor': 10966, 'mangá': 10962, 'Anistia': 10961, 'quentinha': 10960, 'inaceitável': 10958, 'compartilham': 14559, 'globo': 10957, 'cumprimento': 10955, 'Cards': 10954, 'malucos': 14211, 'revelado': 10952, 'Frank': 10951, 'devias': 10949, 'longos': 13870, 'prenda': 10948, 'paulistas': 10947, 'valorizam': 10946, 'dose': 10945, 'mexendo': 10944, 'dengo': 10943, 'alterar': 11891, 'microfone': 10941, 'g': 10940, 'pesadelos': 10939, 'cc': 10937, '🤩': 13104, 'pouquinhos': 10935, 'Bonito': 11709, 'traçar': 10933, 'comparações': 15258, 'valorizado': 15116, 'Praia': 10928, 'homenagear': 11690, 'concorre': 10927, 'governadora': 10926, 'piercing': 10925, 'abro': 10923, 'Sobrados': 12837, 'atolada': 10922, 'Carai': 14028, 'xícara': 10921, 'paizão': 10919, 'Augusto': 10918, 'César': 10917, 'Reunião': 10916, 'internacionais': 10915, 'add': 10914, 'indefere': 10911, 'prático': 15708, 'navio': 10909, 'Latina': 10908, '13o': 13687, 'escândalos': 10907, 'Matheus': 10905, 'Edson': 10904, 'entendendo': 10902, 'envenenado': 10901, 'Riot': 10900, 'Lindalva': 10898, 'remake': 10896, 'judicial': 10894, 'financeiras': 10891, 'Decepcionada': 13606, 'transações': 10890, 'andei': 10888, 'Sport': 10887, 'atendida': 10885, 'tam': 15575, 'mané': 10884, 'Nesses': 10883, 'privado': 10881, 'arranja': 10880, 'síndrome': 10877, 'Humanas': 10876, 'Ciências': 10875, 'junho': 10874, 'Economia': 10873, 'cenoura': 13877, 'reinado': 10871, 'Cosby': 10870, 'minissérie': 10866, 'banner': 15230, 'aprovada': 10862, 'portugueses': 10860, 'fire': 15480, 'altos': 10859, 'gestor': 13017, 'fabricar': 12759, 'palmeirense': 10857, 'declarando': 10856, 'Xangai': 10855, 'Respira': 10854, 'derrotados': 10853, '3D': 10852, 'poderes': 10849, 'fria': 13501, 'Chrome': 10847, 'levava': 12997, 'Story': 10845, 'Horror': 10844, 'introdução': 10843, 'trimestre': 10842, 'Respeito': 10841, 'penteado': 10837, 'shippo': 13062, 'D.': 10835, 'TRE': 10833, 'Anthony': 10831, 'Empresa': 10830, 'Trindade': 10828, 'Agronegócio': 10827, 'particularmente': 10826, 'chata': 10825, 'Churrasco': 10821, 'DC': 10819, 'Gunn': 10816, 'rurais': 14474, 'Indaiatuba': 10814, 'exclusividade': 10813, 'co': 10812, '201': 10810, '2,4': 10808, 'imóveis': 10805, '34': 10803, 'básicos': 13770, 'jabuticaba': 10802, '808': 10801, 'rick': 10800, 'likes': 10798, 'tres': 10797, 'opositores': 10796, 'diplomas': 12172, 'hd': 10794, 'consolo': 10793, 'companheiro': 11543, 'Socorro': 10791, 'carência': 15743, 'escondido': 10790, 'INFELIZMENTE': 10787, 'visões': 10786, '//': 10784, 'plot': 10782, 'compor': 10778, 'fabricado': 10777, 'fizesse': 10775, 'Eliana': 10772, 'Distrito': 10771, 'cumprida': 10768, 'aaaaaaaaaaa': 10767, 'Fatinha': 10766, 'con': 10764, 'faremos': 10763, 'II': 10762, 'Olho': 10760, 'Iti': 10759, 'confundir': 10758, 'retrô': 10754, 'TRISTE': 10753, 'votasse': 10752, 'CV': 15218, 'dente': 10751, 'Adelio': 10750, 'Educador': 10749, 'inspirado': 10748, 'Manuela': 10746, 'Switch': 10745, 'únicos': 13315, 'Precisando': 10744, 'acreditam': 10743, \"d'água\": 10740, 'copinho': 10739, 'grife': 10738, 'renova': 10737, 'piedade': 10733, 'mataram': 10732, 'Adam': 10731, 'V': 10728, 'externo': 10726, 'Recrutamento': 10725, 'convivo': 10722, 'tucano': 10721, 'Cafeteria': 14798, 'Apuração': 10719, '1,52': 10716, 'sub': 12338, 'destinado': 10714, 'Miss': 10713, 'pular': 10708, 'governar': 10706, 'reality': 15058, 'leveza': 10705, 'Crítica': 10704, 'Bárbara': 10702, 'exploração': 11905, 'trajeto': 10701, 'aversão': 10700, 'favelado': 10699, 'sons': 10698, 'produz': 10697, 'utilização': 10695, 'Saudade': 10694, 'entendido': 10693, 'votava': 10692, 'Afeganistão': 10691, 'suicida': 10689, 'escuro': 10687, 'mariana': 12173, 'Sorriso': 10686, 'salto': 10684, 'Get': 10682, 'CORAÇÃO': 10680, 'Benito': 13940, 'compromete': 13048, '£': 10679, 'farra': 10677, 'Chile': 10676, 'voos': 10675, 'geo': 11935, 'êxodo': 11692, 'enfiar': 10674, 'Vários': 12116, 'Rezende': 10672, 'Turno': 15124, 'estátua': 10671, 'quiseram': 10670, 'manual': 12329, 'nego': 10669, 'men': 10668, 'aprovados': 10667, 'Lagoon': 10666, 'Cine': 10665, 'SPFC': 15816, 'Crônica': 10664, 'estréia': 10663, 'defendendo': 10659, 'guarde': 12104, 'mate': 10656, 'infarto': 10655, 'armys': 10652, 'delícia': 10648, 'suco': 10646, 'ondas': 12952, 'ESTAVA': 11713, 'gol': 10643, 'garantiu': 13868, 'dedicar': 10642, 'ombros': 10640, 'Falso': 12141, 'partes': 10639, 'espalha': 10633, '9/9': 10630, 'VOLTEI': 12090, 'banida': 10627, 'apanhei': 10624, 'cool': 14436, 'sentirem': 11256, 'macarrão': 10622, 'Carreata': 10621, 'México': 11440, 'Produtor': 10618, 'caracteres': 10617, 'doações': 10616, 'Chama': 10615, 'burro': 10610, 'insiste': 10609, 'Diego': 10608, 'Luiza': 10607, 'poste': 10606, 'Kogut': 14627, 'faixas': 10605, 'Rondônia': 11613, 'bob': 10604, 'frustração': 10603, 'aprovação': 13466, 'agradecida': 10602, 'Media': 11625, 'famosas': 10600, 'conselheiro': 13853, 'poupe': 12046, 'Milton': 10599, 'cagou': 10598, 'estabelecer': 11838, 'Charles': 10596, 'Use': 10594, 'representada': 10593, 'NOS': 10591, 'Hehehe': 10587, 'elevam': 10585, 'Salto': 10584, 'Grávida': 10581, 'originais': 12392, 'colaborar': 10580, '3/4': 10579, 'inovadora': 10578, 'torne': 10577, 'herói': 10573, 'aéreo': 10572, 'Operador(a': 10571, 'contras': 15704, 'afasta': 11454, 'virtuais': 10570, '95': 10568, 'Paulinho': 10566, '🤑': 13903, 'tudinho': 10564, 'now': 10562, 'nice': 10560, 'Guia': 10558, 'cópias': 10557, '01:43': 15991, '1,1': 10556, 'vende': 10555, 'conquistas': 10936, 'recupera': 10554, 'Livro': 10553, 'clicar': 12878, 'Viola': 10567, 'Ops': 10550, 'Laura': 10549, 'sobreviveu': 15156, 'competição': 11075, 'incomodando': 10548, 'opositor': 10546, 'fluxo': 10544, 'Sebrae': 10543, 'stan': 10540, 'enrolando': 10538, 'Juca': 12566, '3333-8000': 11682, 'perdoo': 10535, 'comprova': 12326, 'violencia': 10532, 'odio': 10531, 'surreal': 10530, 'cotação': 10528, 'FÁCIL': 10527, 'Tas': 10526, 'tributária': 10525, 'retorna': 12853, 'adesivo': 10524, 'engravidar': 10522, 'departamento': 10520, 'Antes': 10519, 'Queimados': 10515, 'Núcleo': 10513, 'bocadinho': 10509, 'trilogia': 12823, 'ótimas': 10508, 'freio': 10506, 'esportivos': 15727, 'FBI': 10504, 'Atitude': 10503, 'Leandro': 10502, 'Anitta': 10501, 'realizou': 14764, 'esfaqueado': 10497, 'saudáveis': 10496, 'INCRÍVEL': 13228, 'Lobão': 10495, 'feat': 10494, 'Jin': 10493, 'utt': 10492, 'Jurídico': 15404, 'Kd': 10489, 'gostamos': 12005, 'jungwoo': 10488, 'gigantes': 10487, 'Pequenos': 10486, 'Dani': 10485, 'Bye': 10483, 'Polônia': 10482, 'Estagiário(a': 10481, 'sentidos': 10478, 'gratuita': 10476, 'aonde': 10475, 'sentado': 10472, '20h': 10471, 'ás': 10470, 'Consulta': 10468, 'spotify': 10466, 'escutadas': 10465, 'jus': 10463, 'seguranças': 10462, 'beeem': 10461, 'mostrou': 10460, 'Vegas': 10458, '1992': 10457, 'queixa': 10456, 'voltado': 10455, 'pinguins': 11580, 'cachorrinho': 10454, 'Emma': 10450, 'Odete': 10448, 'vilã': 10447, 'good': 10444, 'recebido': 10442, 'manifestações': 10441, 'inaugura': 10440, 'Trem': 14368, 'fixo': 10439, 'prol': 10437, 'enganar': 10436, 'castelo': 10433, 'Soluções': 10432, 'Mecânico': 10430, 'jogada': 10429, 'acreditei': 14956, 'coma': 10428, 'imbecil': 10427, 'protesto': 10426, 'deixado': 10425, 'palestino': 10424, 'dialogo': 10423, 'pregando': 10422, 'odiando': 14268, 'cristão': 10421, 'levado': 11746, 'Mostrar': 10419, 'contatos': 10418, 'Compartilhe': 10417, 'incentivos': 11776, 'plantas': 10415, 'medidas': 10413, 'chico': 13474, '\\\\o/': 12595, '1h': 10913, 'Qualicorp': 10411, 'instituto': 10408, 'Namjoon': 10405, 'CPTM': 15671, 'dedicada': 10404, 'trabalhava': 14418, 'pleito': 10403, 'prédios': 10400, 'conseguiria': 15594, 'vitorioso': 10399, 'digamos': 10398, 'Fazendo': 10397, 'oii': 10395, 'lotado': 10394, 'pisa': 10390, 'trio': 10389, 'perdemos': 10384, 'camarada': 10383, 'fisioterapia': 10382, 'confortável': 10380, 'guri': 10378, 'intolerante': 10374, 'tratado': 10373, 'tatuar': 11871, 'nelas': 10372, 'idk': 10371, 'VÍDEOS': 14104, 'machucada': 10370, 'skins': 10368, 'atualização': 10367, 'tour': 10365, 'ganhasse': 10364, 'PORQUE': 10362, 'amoo': 10361, 'Livros': 15263, 'Podemos': 10358, 'Legislativa': 12025, 'atualizar': 10357, 'comentando': 10473, 'abraçado': 10355, 'blues': 10354, 'voce': 10352, 'Passando': 10351, '09': 14607, 'quitar': 12961, 'Ivete': 10350, 'tucanos': 10349, 'antigamente': 12996, 'aéreas': 10346, 'puxada': 10345, '0,48': 10344, 'joelho': 10343, 'ATÉ': 10342, 'Auto': 10340, 'TIM': 11051, 'Começo': 10338, 'bando': 10435, 'Estádio': 10337, 'Motorista': 10336, 'Filosofia': 10335, 'imaginava': 10333, 'gringo': 10331, 'Aaaaaaa': 10330, 'subs': 10327, 'Ha': 10326, 'divertir': 10325, 'PS': 10324, 'sobreviventes': 13100, 'Tiririca': 11335, 'quentinho': 10322, 'TER': 10320, 'Lee': 10317, 'comédia': 10313, 'acessos': 15160, 'escrevo': 10312, 'calminha': 10311, 'bye': 10484, 'Câncer': 10310, 'Beatles': 10309, 'Cidadão': 10308, 'Pequeno': 10307, 'ze': 10306, 'Luis': 12143, 'hmmmm': 10305, 'diretoria': 10304, 'bolas': 10302, 'Grato': 10300, 'vitórias': 10299, 'entramos': 13622, 'lembrava': 10298, 'AGU': 12874, 'Pouco': 10297, 'Falando': 10296, 'VOCÊS': 10292, 'confere': 10291, 'Merda': 10290, 'seila': 10286, 'CASA': 10284, 'Iza': 10283, 'Irmão': 10281, 'Lamentável': 10279, '68': 10278, 'diria': 10276, 'P.S.': 10275, 'Valença': 15109, 'jazz': 10274, 'editor': 10273, 'perguntem': 12650, 'prometeu': 5084, 'Hotel': 3362, 'cerimônia': 5079, 'Lua': 3871, 'mtt': 7876, 'acorda': 8952, 'larga': 5074, 'Preta': 5478, 'Shop': 5069, 'recebi': 5493, 'louca': 5058, '196': 10795, 'vítimas': 3705, 'folga': 5050, 'TEMPO': 5040, 'deixem': 7579, 'Espanha': 5039, 'imitando': 12264, 'tutorial': 4545, 'morreram': 12346, 'humildade': 8998, 'avisem': 5029, 'vença': 13786, 'Battle': 12490, 'planejamento': 5025, 'feriados': 15033, 'ki': 10314, 'pt': 3072, 'GENTE': 4594, 'beira': 10649, 'garrafas': 5014, 'Houve': 14341, 'Advogada': 10892, 'consequência': 8429, 'Pessoa': 5009, 'depoimento': 4005, 'aventuras': 7671, 'anatomia': 15774, 'diferentes': 5034, 'crimes': 4759, 'excelente': 2273, 'direitinho': 4994, 'Mudanças': 8226, 'ideias': 4992, 'Amoedo': 4990, '´': 6128, 'goleada': 3882, 'inclui': 3957, 'Kavanaugh': 4972, 'n': 4290, 'IBGE': 5431, 'Manifestantes': 4971, '1990': 4970, 'promove': 9473, 'gostinho': 4955, 'adicionado': 4949, 'acreditem': 5602, 'Igualdade': 4947, 'disciplina': 4945, '=D': 2866, 'essenciais': 15933, 'irmos': 4998, 'pessoalmente': 6105, 'censurar': 9850, 'inclusão': 4944, 'caminhoneiros': 5064, 'Peixe': 15249, 'SEJA': 3922, 'condenados': 4928, 'defensores': 4926, 'temperatura': 8706, 'ovos': 4925, 'agente': 4922, 'unidade': 911, 'entrou': 128, 'susto': 4915, 'tadinho': 4913, 'bem-estar': 13951, 'Pain': 3748, 'feira': 4903, 'Comunista': 4318, 'marcando': 4902, 'recomeçar': 4898, 'sergipano': 13158, 'escombros': 4999, 'trocando': 4892, 'frete': 761, 'levando': 4891, 'harry': 4887, 'Siiiiim': 15560, 'AMIGOS': 9556, 'competições': 16000, 'fortaleza': 4884, 'aproximar': 4878, 'reza': 4706, 'farão': 2191, 'Trabalhando': 14566, 'aniversário': 2153, 'ignoro': 9095, 'foco': 4868, 'Campeonato': 14913, 'reduzir': 981, 'formar': 4866, 'quintal': 4863, 'SUV': 4861, 'caro': 4329, 'câmbio': 15583, 'flor': 6148, 'mente': 4858, 'firma': 12627, 'fiscais': 5615, 'entrará': 14089, 'reparar': 13255, '33': 7453, 'oloco': 12776, 'gritos': 4857, 'neh': 4845, 'Suspeito': 5810, 'SEUS': 11661, 'estuprador': 7522, 'intercâmbio': 4840, 'amo': 862, '🚫': 8495, 'Pesquisa': 4834, 'proximidade': 9514, 'morangos': 11559, 'perdida': 4828, 'atingida': 4826, 'teste': 4841, 'proximos': 4825, 'desacreditada': 13386, 'álcool': 11408, 'estabelecimentos': 4824, 'bebezinhos': 15398, 'ficção': 4823, 'ficará': 4975, 'historias': 4822, 'The': 3577, 'World': 3696, 'escreve': 4821, 'Par': 14434, 'postava': 13129, 'consigo': 880, 'cade': 2172, 'imprimir': 10614, 'testar': 4820, 'coincidência': 15663, 'decente': 6133, 'Perdidos': 15752, 'soja': 4818, 'Ogum': 13929, 'Jato': 7326, 'Meio': 7871, 'Tom': 4811, 'Entrei': 2958, 'Fred': 4804, 'Brincadeiras': 15735, 'daquilo': 3088, 'imprima': 4797, 'atacam': 4793, 'confusão': 9393, 'barrou': 4792, '🤙': 13507, 'arrogante': 8462, 'Claramente': 4907, 'bancada': 4423, 'admiro': 4790, 'décadas': 12341, 'Procuradoria': 5054, 'fb': 4789, 'dono': 4173, 'segue': 897, 'Três': 4778, 'Abril': 5018, 'gostarem': 13587, 'hahah': 3710, 'lindoo': 15762, 'sorrir': 4770, 'Rir': 1168, 'VOLTA': 4764, 'iluminar': 15454, 'Animais': 4757, 'compradores': 14733, 'computadores': 12978, 'algemada': 10893, 'dormiu': 3004, 'celebração': 15295, 'falava': 1460, 'crônica': 12119, 'inteligência': 4899, 'estávamos': 9325, 'indicados': 11416, 'futuras': 4746, 'tomei': 4819, 'pintinha': 15376, 'falem': 7772, 'Overwatch': 13739, 'AU': 13494, 'ELEIÇÃO': 12620, 'Oscar': 4413, 'desistiu': 11726, 'madrinha': 4094, 'evento': 1785, 'Mozão': 15357, 'positivas': 4738, 'Café': 5773, 'flop': 4536, 'sexta-feira': 4729, 'eleitor': 1399, 'Agr': 8712, 'esclarece': 13710, 'Massa': 4727, 'Estoque': 4726, 'reino': 10115, 'voltarem': 11913, 'presa': 3453, 'animar': 8954, 'surto': 13160, 'brancos': 4718, 'incríveis': 4716, 'espionagem': 11312, 'mentiras': 2637, 'Dan': 4713, 'print': 3628, 'órgão': 1307, 'Estrela': 11178, 'épico': 7943, 'movimento': 1444, 'andam': 8672, 'Ataques': 5071, 'assinar': 3408, 'big': 5307, 'embaixo': 8892, 'relatório': 5073, 'devagar': 4708, 'riscos': 6494, 'Morte': 7114, 'apavorada': 4707, 'precioso': 4705, 'Gerente': 5896, 'águas': 4701, 'bêbado': 4699, 'define': 4694, 'Cinco': 1659, 'entregas': 14148, 'Migo': 9503, 'Ent': 4817, 'implementar': 13953, 'treinamento': 4692, 'aposta': 4690, 'Leste': 6100, ':)': 14921, 'participantes': 4689, 'ignorante': 9606, 'confirmado': 4904, 'gado': 4681, 'Teresina': 4439, 'socos': 6163, 'Medicina': 10334, 'luxo': 4675, 'continuarei': 15925, 'bicho': 4671, 'aberto': 4662, 'iOS': 14602, 'abrem': 2404, 'Fed': 5004, 'Serviços': 4660, 'atleta': 12208, 'expor': 1120, 'distrair': 9046, 'android': 4656, 'vive': 2074, 'colegio': 15099, 'Lopes': 4647, 'quadrinhos': 5227, 'obrigadinha': 12826, 'Revista': 7761, 'rival': 4638, 'colar': 4637, 'pesadas': 8955, 'piores': 4632, 'Paixão': 13668, 'suicídio': 1163, 'esquecido': 4629, 'maturidade': 10315, 'avisa': 9202, 'Idoso': 4628, 'Janeiro': 4626, 'amamos': 1779, 'sangue': 4625, 'interferência': 14739, 'milhares': 301, 'cris': 7291, '1.200': 10886, 'legítima': 4617, 'Victor': 4614, 'reservas': 4610, 'festival': 4609, 'camera': 12111, 'decreta': 8698, 'planta': 12691, 'vendas': 4608, 'retirada': 4606, 'krl': 10490, 'agendar': 892, 'role': 2945, 'carne': 6283, 'namoram': 10707, 'multidão': 4603, 'parcelas': 13688, 'manifestação': 4600, 'escuta': 4597, 'inscrever': 6094, 'felizmente': 6957, 'Aceita': 7301, 'aliança': 8144, 'Jovem': 4587, 'políticas': 3313, 'mentirosa': 14366, 'alcançou': 11014, 'duvido': 4586, 'Rosa': 4581, 'ny': 4571, 'Ponte': 15356, 'resolvendo': 2817, 'cochilo': 5537, 'quadrinho': 8505, 'arquiteto': 13233, 'Contagem': 10779, 'lt;33': 4570, 'comentário': 2950, 'unidos': 11743, 'acreditar': 1196, 'Falou': 4564, '.....': 4394, 'Cheguei': 9980, 'escorpião': 10789, 'gravei': 10409, 'explicando': 4808, 'pá': 4556, 'Caco': 16001, 'processo': 3945, 'variedade': 12188, 'mochila': 5553, 'apena': 13177, 'lentes': 4553, 'representando': 965, 'negociar': 12142, 'OPORTUNIDADES': 1445, 'US$': 2238, 'manha': 4550, 'neto': 13054, 'arquivar': 7160, 'xingamentos': 7914, 'VER': 8273, 'telegram': 4541, 'pistola': 15153, 'incerteza': 11821, 'pesquisas': 3925, 'Ed': 5024, 'junta': 11890, 'twt': 4537, 'magoar': 4533, 'youtube': 4134, 'coordenadores': 1674, '→': 4531, 'compromisso': 2687, 'programar': 4528, 'adicionar': 15280, 'forno': 12886, 'comer': 732, 'fazenda': 4568, 'Londres': 4524, 'POR': 4762, 'tirei': 4522, 'luto': 7391, 'polícia': 4520, 'desgaste': 504, 'lançar': 2235, 'corridas': 8714, 'bolso': 4015, 'realizar': 4517, 'tranquilamente': 14178, 'adere': 12927, 'última': 1749, 'vendedores': 14137, 'espinhas': 12403, 'Hacker': 10190, 'Ficamos': 10328, 'enfrentando': 4631, 'piadas': 4507, 'Acaba': 14572, 'sueca': 6540, 'grupinho': 10381, 'Oie': 4496, 'by': 8825, 'Vestido': 13923, 'Island': 4495, 'DISSO': 4493, '11130': 15371, 'AINDA': 4490, 'Multiplus': 6488, 'homossexual': 13995, 'solitário': 13529, 'praia': 4489, 'Aloysio': 5463, 'categorias': 4482, 'Caetano': 3460, 'aprendizagem': 4480, 'registra': 4477, 'NESSA': 9826, 'procure': 4474, 'Cada': 4473, 'socialista': 13468, 'mota': 4472, 'XD': 4467, 'stories': 4367, 'milhoes': 4464, 'aaaaa': 1872, 'Zimbábue': 15748, 'nervoso': 5741, 'lgbts': 4462, 'Cantor': 4457, 'K': 5066, 'operação': 4456, 'PESSOA': 14550, 'mts': 1902, 'alteração': 4455, 'Chora': 11616, 'FHC': 4453, 'barriga': 6962, 'UFRJ': 10135, 'motiva': 13918, 'contrata': 4445, 'poxaaa': 8093, 'expansão': 4443, 'Whindersson': 4574, 'integridade': 4604, 'Fabio': 3006, 'colorido': 5479, 'açaí': 5556, 'acabasse': 12352, 'divulgado': 4441, 'home': 11861, 'cara': 489, 'ficas': 15487, 'fio': 8643, 'Nicki': 4428, 'fórmula': 10575, 'libera': 8239, 'perigo': 13295, 'escrevi': 4424, '11h': 5104, 'gosto': 460, 'nng': 4987, 'Deixei': 15042, 'votando': 293, 'talentos': 11117, 'legais': 4420, 'Jornalismo': 4414, 'legislativa': 3511, 'maximo': 11108, 'responder': 138, 'beleza': 636, 'arrependeu': 15317, 'presente': 4781, 'Farmácia': 8868, 'Mauro': 4410, 'falhas': 10295, 'troféus': 4409, 'hahahahahaha': 12948, 'Contra': 5062, 'sorrindo': 4407, 'colocando': 4406, 'Carmen': 4400, 'ja': 611, 'corrido': 4397, 'ÚNICO': 7047, 'ação': 4391, 'sigilo': 4390, 'apostam': 13505, 'cuida': 4389, 'competitivo': 4374, 'vidas': 5060, 'lição': 11265, 'parceira': 4370, 'elétricos': 4366, 'impacto': 4365, 'OH': 9877, 'alertam': 4364, 'veem': 4358, 'Sony': 6591, 'Desempenho': 14738, 'blz': 4348, 'contar': 1032, 'espere': 1351, 'Paulista': 4974, 'mutuals': 4346, 'arrumei': 4803, 'Amoêdo': 499, 'game': 4344, 'Livre': 13581, 'instância': 5853, 'recebo': 4334, 'yuta': 9643, 'fatores': 4328, 'trabalhei': 4327, 'Nenhum': 4404, 'Fazenda': 7289, 'formado': 4325, 'hashtag': 7219, 'atenção': 4323, 'McDonalds': 4320, 'Ahahaha': 14614, 'GloboNews': 1620, 'flores': 6052, 'prevenção': 11154, 'pensado': 4317, 'afinal': 3457, 'Todos': 5105, 'musical': 4314, 'lindas': 1194, 'Size': 6424, 'Ex-presidente': 15858, 'excluído': 4312, 'bandido': 3010, '54': 4302, 'exclusão': 4201, 'msg': 4335, 'divertido': 4295, 'recadinho': 4293, 'Estudantes': 6243, 'terroristas': 5072, 'vender': 4287, '🥰': 4285, 'tentativas': 3203, 'solta': 11361, 'coca': 8554, 'embaixador': 4664, 'garoto': 4270, 'Assis': 4268, 'Machado': 4267, 'Pantera': 14445, 'inédita': 4266, '6h': 4265, 'realizam': 4291, 'choque': 4264, 'Rollemberg': 5426, 'voltará': 4262, 'Td': 3175, 'dificilmente': 9603, 'disseminar': 5045, 'assaltada': 3196, 'ataques': 3220, 'Vi': 4469, 'TANTO': 3890, 'mecânico': 4260, 'TEF': 4565, 'Aznavour': 10597, 'parem': 3028, 'reconhecimento': 4253, 'Led': 15767, 'queimou': 5093, 'D': 5067, 'acessórios': 9511, 'haver': 4252, 'fronteira': 4960, 'Vergonha': 8664, 'si': 1130, 'cenário': 4246, 'baixos': 12250, 'mãezinha': 11172, '77': 4242, 'ouvia': 10612, '3ª': 7178, 'benfica': 15556, 'Professor(a': 13239, 'Graças': 4241, 'usuários': 10848, 'federais': 4239, 'call': 12969, 'meter': 4237, 'viva': 4854, 'adorava': 4230, 'urnas': 2530, 'arranjei': 15259, 'nele': 829, 'colégio': 1685, 'Parece': 9264, 'jantares': 12892, 'tabu': 10166, 'textura': 14369, 'empregado': 4665, 'fila': 4219, 'australiano': 8200, 'Chefe': 4673, 'Páginas': 4212, 'pisar': 4924, 'Xuxa': 1809, 'tarefa': 10101, 'veneno': 10396, 'finais': 6624, 'uso': 65, 'informação': 5238, 'climática': 11572, 'escrever': 4203, 'paulo': 3892, 'P.': 1325, 'encontramos': 4196, 'mandar': 2960, 'pare': 10406, 'Exato': 5802, 'okay': 1472, 'pavor': 11207, 'emocionado': 9318, 'carreira': 3792, 'Noruega': 15908, 'segunda-feira': 4189, 'vermelhas': 14023, 'serviço': 4187, 'postar': 4185, 'conservadorismo': 4184, 'âmbito': 12723, 'doi': 5425, 'Samuca': 10057, 'otimizar': 4181, 'facilitar': 4180, 'filiado': 14493, 'anotar': 4174, 'carinhosa': 4171, 'torno': 4170, 'pararam': 15475, 'molho': 4167, 'cês': 4164, 'obras': 4157, 'indico': 5566, 'Joao': 4149, 'pera': 4148, 'pau': 102, 'Friday': 14592, 'gastar': 4147, 'fechada': 11186, 'aperto': 5006, 'DIZ': 6273, 'visita': 4143, 'Catra': 3913, 'sustentável': 9240, 'fiscal': 1940, 'Globo': 776, 'Belê': 15578, 'encanto': 4137, 'Sindicato': 14896, 'guria': 4133, 'NY': 4988, 'potencial': 4487, 'stage': 14693, 'Acha': 4909, 'Agência': 4132, 'tocou': 5809, 'entrei': 465, 'atendimento': 5172, 'cuidados': 5928, 'Be': 4127, 'vilão': 4124, 'macacos': 4123, 'Vídeo': 3782, 'indígena': 5635, 'Fiquei': 4121, 'absurdos': 4120, 'porcaria': 3561, 'Vê': 7235, 'bônus': 4119, 'trabalhando': 4615, 'pressionam': 13637, 'indústrias': 11878, 'pro': 151, 'brigou': 15896, 'carta': 4116, 'cartazes': 13240, 'chinelo': 1859, 'rindo': 2661, 'Dó': 10236, 'Eh': 4114, 'genocídio': 7394, 'mar': 6230, 'garantida': 4381, 'Hoje': 1141, 'BP': 14214, 'exclusivamente': 9735, 'fosse': 1470, 'Ou': 4108, 'beijar': 12241, 'coiso': 2989, 'ficarei': 6821, 'senador': 4103, 'ativar': 13647, 'cuidado': 3083, 'renovar': 4102, 'compartilhe': 4100, 'sp': 2695, 'jogamos': 4097, 'ventilador': 5158, 'tretas': 13102, 'solteira': 4093, 'Estar': 4092, 'informado': 1368, 'realizada': 4089, 'Papa': 8508, 'sedentária': 4086, 'mencionar': 13945, 'resolução': 933, 'tavas': 13015, 'americanos': 4084, 'Precisamos': 5022, 'polêmica': 3512, 'brota': 15212, 'AS': 4079, 'balsa': 2061, 'acusou': 9627, 'postam': 12757, 'Moço': 10590, 'opera': 4074, 'citou': 2418, 'alguém': 461, 'café': 4070, 'alargador': 9609, 'Tite': 4068, 'cadastro': 7257, 'ética': 4067, 'esporte': 4065, 'edições': 5333, 'Essa': 678, 'anti': 1948, 'tchau': 7336, 'reconhecer': 4062, 'Com': 975, 'criado': 4061, 'moça': 367, 'publicidade': 4060, 'burros': 7541, 'famosos': 4058, 'Top': 8723, 'afundar': 6802, 'objetivo': 4516, 'inscrições': 5188, 'pretendo': 11700, 'seleção': 4047, 'Saci': 15949, 'inscreva': 3580, 'altura': 4044, 'aquisição': 14814, 'minimamente': 4042, 'escolhido': 2049, 'condominio': 14564, 'oral': 9642, 'looks': 4039, '19h': 4131, 'princípio': 1576, 'eterno': 10539, 'otária': 10125, 'indicações': 14420, 'Gabriela': 4033, 'levará': 4028, 'enviar': 4027, 'pato': 4025, 'Brothers': 10195, 'levantar': 5085, 'cortado': 4024, 'ANÁLISE': 4175, 'memória': 4016, 'Compare': 2822, 'aham': 4967, 'participei': 2954, 'Descubra': 4013, '01/10/2018': 10533, 'RICK': 4009, 'constipação': 15576, 'brasileira': 4211, 'QUANDO': 4006, 'Ricci': 4001, 'TVs': 14569, 'convidados': 3243, 'bichinho': 4000, 'tomada': 1812, 'iria': 3998, 'detalhes': 847, 'Feriadão': 5397, '59': 5915, 'hits': 12216, 'Rsrsrs': 6250, 'bancas': 9235, 'liberalismo': 14325, '4,01': 3992, 'Esporte': 2750, 'paso': 13531, 'campeão': 3986, 'mandato': 3985, 'encaixa': 1453, 'Ouro': 3983, 'Hugo': 906, 'explicado': 4933, 'modalidade': 3980, 'vê': 1501, 'maldita': 3973, 'prisões': 9568, 'obrigadaa': 3971, 'serase': 818, 'Menos': 7753, 'Perfeito': 3970, '13.111': 4440, 'Diogo': 2518, 'recentes': 13823, 'ando': 3959, 'BOSTA': 15942, 'tratamento': 2392, 'Nelson': 3958, 'Benfica': 6609, 'disco': 3956, 'Mangueira': 3953, 'Guarda': 3952, 'Iguaçu': 14322, 'Moura': 3951, 'tendência': 3948, 'Motoristas': 10241, 'Oh': 667, 'Conto': 13399, 'avalia': 3942, 'audiência': 3598, 'perdi': 2789, 'cessar': 15191, 'estúdio': 8154, 'cultura': 3937, 'aceito': 1241, 'Dólar': 3990, 'ligar': 3936, 'eleitorais': 5049, 'armamento': 9171, 'Light': 4179, 'cozinhar': 12279, 'Inglês': 3935, '40': 3927, '40.00': 5477, 'LOUVADO': 3923, 'deviam': 1092, 'utted': 11270, 'PALAVRAS': 3918, 'espera': 2825, 'mrd': 6130, 'Milan': 3910, 'PAT': 4188, 'Assessoria': 4003, 'anda': 2736, 'confirma': 3909, 'oculos': 15965, 'prepare': 3906, 'golaço': 3904, 'refletir': 9571, 'pudessem': 14950, 'jogador': 3902, 'pique': 8441, 'sarro': 3901, 'defesa': 4618, 'Torcedores': 3899, 'guerreiro': 15637, 'vote': 10660, 'mim': 447, '24': 1369, 'achas': 14179, 'ODEIO': 3893, 'revelar': 8061, 'conseguido': 2706, 'principal': 3780, 'Champions': 3883, 'Ah': 1663, 'Mato': 9829, 'interações': 15396, 'hahahahah': 6617, 'estação': 4040, 'Toronto': 3873, 'tremendo': 6217, 'população': 721, 'descanso': 11289, 'Policial': 3864, 'u.u': 3861, 'Pedir': 15981, 'musica': 7046, 'nazismo': 9589, 'cuidem': 3853, 'poema': 12491, 'lista': 3848, 'FAVOR': 4763, 'trás': 2470, 'eleitos': 1775, 'aspirina': 9050, 'Carlos': 6090, 'vivi': 6131, 'mural': 13625, 'interesse': 3837, 'cadeado': 13759, 'sofia': 6669, 'terrorismo': 12412, 'Melo': 3830, 'morrendo': 3761, 'crédito': 1009, 'terremoto': 5544, 'enfrenta': 507, 'lembra': 4313, 'Busque': 8945, 'igreja': 3827, 'Áudio': 3826, 'criticam': 5106, 'projeto': 3823, 'velha': 3821, 'CANDIDATO': 14236, 'vier': 3500, 'desisti': 2832, 'Beijos': 6285, 'marque': 4099, 'bíblia': 4619, 'dupla': 3817, 'cenários': 9929, '41': 3815, 'some': 5590, 'mineira': 12463, 'Sistemas': 10552, '25': 3811, 'Assisti': 2270, 'concorrentes': 11082, 'melhore': 3804, 'Aquelas': 11149, 'semi': 6564, 'atrocidades': 12630, 'dentista': 9911, 'pfv': 3803, 'Sonhos': 7432, 'mostrar': 1306, 'prejuízo': 6871, 'endereço': 9683, 'Mensagem': 3798, 'aconteceu': 3795, 'vocalista': 3794, 'Econômico': 918, 'Horário': 10838, 'GLOBO': 3791, 'cachinhos': 15332, 'maçã': 12758, 'anunciar': 3787, 'considerando': 12512, 'exibir': 10071, 'ctz': 90, 'conceito': 7230, 'inominável': 4686, 'convencer': 4165, 'Giovanna': 14252, 'necessárias': 12360, 'Estado': 3781, 'demitidos': 11255, 'anti-Bolsonaro': 3779, 'criar': 3965, 'rosa': 3772, 'perca': 7183, 'Condenado': 7837, 'Remy': 13642, 'rejeitam': 3771, '1,6': 3770, 'DE': 572, 'resgatado': 11951, 'go': 8086, 'Trami': 12608, 'Amazonas': 9084, 'ansiosa': 3767, 'zona': 4709, 'barba': 4993, 'elo': 3766, 'life': 6666, 'letras': 9667, 'QUALQUER': 15431, 'proíbe': 3762, 'véi': 6758, 'pa': 811, 'estranho': 5015, 'alimentação': 3759, 'proteger': 3416, 'prepara': 3758, 'Grêmio': 588, 'Big': 3755, 'Música': 3754, 'década': 6465, 'cantores': 13206, 'Saúde': 9429, 'voa': 15996, 'Goldman': 14506, 'Aula': 3753, 'dançando': 3752, 'inventou': 14841, 'Pablo': 4678, 'Agora': 2223, 'dando': 283, 'NET': 16007, 'Bola': 3828, 'Goleiro': 14994, 'Cidade': 3746, 'licença': 10806, 'culpa': 420, 'Liverpool': 3765, 'renovação': 3745, 'trabalhos': 1990, 'Salgada': 10727, 'Setembro': 3742, 'unha': 3739, 'MINHA': 4876, 'Fla': 4046, 'discussão': 5043, 'truco': 5623, 'prêmios': 4059, 'Mentira': 861, 'Mto': 4284, 'fortes': 3736, 'Amazonino': 12811, 'zonas': 3734, 'pudim': 5201, 'piadinha': 3733, 'alegrias': 1781, 'Aquela': 4590, 'hacke': 12052, 'leio': 3731, 'Síria': 6007, 'roupas': 3728, 'proteínas': 1329, 'velhinha': 11500, 'repudia': 8150, 'ME': 3724, 'negativa': 3722, 'maltrata': 12393, 'Daí': 3060, 'FELIZ': 7360, 'ajude': 3720, 'Entre': 3810, 'guarda-chuva': 11636, 'evitar': 5976, 'escolta': 13672, 'lágrima': 3719, 'chanceler': 15913, '¡': 13602, 'neném': 3, 'procedimentos': 5812, 'lotada': 14116, 'dívidas': 6988, 'Japão': 3717, 'Brown': 3715, 'eliminado': 15277, 'envolve': 4682, 'wpp': 4573, 'havia': 3712, '3,75': 11385, 'vei': 3709, 'enfraquece': 10645, 'Mariana': 3707, 'entrega': 1319, 'Damásio': 8783, 'seção': 8031, 'enchi': 14183, 'pacto': 3703, 'provar': 7867, 'fecham': 3702, 'acostumei': 3700, 'honra': 8108, 'truth': 9316, 'gd': 15324, 'Representante': 3694, 'carga': 4666, 'HAHAHA': 3692, 'aki': 15321, 'Pronto': 6339, 'murro': 8410, 'acostumada': 3691, 'ELE': 3689, 'atacou': 2808, 'negam': 9341, '0-1': 13175, 'incentivo': 4739, 'MAIOR': 3688, 'Móveis': 4776, 'Saudades': 3685, 'anunciado': 8074, 'energias': 4737, 'rabo': 362, 'Sésamo': 3679, 'AAAAA': 5390, 'intensidade': 7518, 'razao': 14928, 'ladrão': 4620, '║': 1666, 'estudo': 1391, 'cheio': 3675, 'vetar': 8579, 'park': 12710, 'Civil': 3672, 'existente': 8208, 'respondido': 3668, 'armar': 11054, 'enquetes': 6376, 'livrarias': 13383, 'aro': 9420, 'teres': 3667, 'galeria': 2959, 'adivinhem': 14248, 'Seria': 2432, 'perfeição': 4416, 'celebridades': 13202, 'Chevrolet': 2854, 'amarelo': 3662, 'Depois': 4052, 'apoiou': 3660, 'pulmão': 389, 'sensível': 3658, 'liked': 11455, 'alimentar': 7068, 'Areia': 11032, 'ofereceu': 9386, 'amadurecer': 9759, 'Roitman': 10449, 'demissão': 3655, 'ultimos': 3933, 'Presidente': 3653, 'Investimentos': 15255, 'preocupo': 14199, 'próximas': 1676, 'tapete': 7835, 'Coreia': 3645, 'salada': 3644, 'plataforma': 7238, 'subiu': 3991, 'URNA': 12121, 'postagens': 3637, 'Cantora': 15932, 'diazinho': 6766, 'achando': 3635, 'MARAVILHOSA': 14254, 'especiais': 3630, 'lhes': 3629, 'turismo': 3625, 'Entenda': 1821, 'changkyun': 8475, '2022': 617, 'partilha': 4648, '¿': 13328, 'Marinho': 3619, 'BTS': 3695, 'podre': 3612, 'Temer': 54, 'ya': 3610, 'Opa': 3609, 'hétero': 12470, 'morder': 2833, 'Copom': 7793, 'yoon': 15969, 'besteira': 3602, 'ATENÇÃO': 2151, 'cobertura': 3599, 'Tristeza': 10523, 'estágio': 5559, 'oferecer': 3594, 'passarinho': 3593, 'Direita': 13791, 'administração': 12101, 'motivos': 3967, 'semi-intensiva': 13300, 'admitir': 3589, 'date': 3708, 'Logística': 6304, 'suíça': 7472, 'novidades': 3581, 'Deficiência': 13557, 'agendas': 4283, 'Todas': 4918, 'Lucas': 3573, 'Da': 3570, 'chover': 11450, 'rótulo': 8455, 'adolescentes': 3567, 'participar': 2684, '220': 11962, 'destaque': 3565, 'Abreu': 3563, 'MS': 3277, 'nadinha': 13955, 'investimento': 4646, 'presidiário': 5082, 'solto': 7839, 'Katia': 3562, 'Hora': 3274, 'adiantado': 15709, 'apelar': 6558, 'íntegra': 2068, 'aff': 3556, 'Contamos': 4611, 'esqueci': 2658, 'lindinha': 13247, 'clube': 3554, 'A': 276, 'leiloada': 10243, 'olhares': 15499, 'panela': 4901, 'diariamente': 3020, 'indireta': 6530, 'Existe': 3553, 'ignoram': 2210, 'Gazeta': 4129, 'Beto': 3551, 'cagadas': 11801, 'estragou': 3549, 'regras': 3403, 'montagem': 3548, 'Recepcionista': 3546, 'PARA': 3586, 'whats': 6838, 'Fluminense': 3866, 'surpreende': 7218, 'convívio': 4953, 'EXATAMENTE': 13350, 'concordo': 3407, 'contei': 3422, 'temperaturas': 3538, 'glr': 6759, 'Programa': 6748, 'Agente': 7294, 'lidera': 3533, 'emocionada': 7787, 'critica': 3529, 'puta': 3849, 'documentação': 4743, 'amigos': 1001, 'integrantes': 14457, 'Ronaldo': 4640, 'almoco': 1212, 'Sorria': 7762, 'divulgação': 3527, 'eletrônico': 13636, 'posta': 3526, 'love': 11705, 'guys': 5216, 'Estuda': 3525, 'Medidas': 11640, 'Externo': 3524, 'paro': 2638, 'clique': 7972, 'seguinte': 3840, 'adiar': 6151, 'Ryan': 11835, 'miga': 7226, 'ban': 9189, 'saí': 3311, 'tirem': 2302, 'Cores': 3518, 'Várias': 3517, 'MESMA': 14307, 'reclama': 3528, 'Penal': 8131, 'preparados': 7776, 'equívoco': 3515, 'consciência': 1565, 'percepção': 11556, 'ouça': 3523, 'oftalmologista': 2778, 'Votação': 3509, 'Dedé': 4331, 'oferece-lhes': 8784, 'Malta': 3503, 'avaliação': 3501, 'grega': 12670, 'URGENTE': 3318, 'bonitos': 11299, 'Presidenciáveis': 4109, 'Caraca': 4888, 'Neves': 3499, 'Heleno': 3498, 'prestam': 6455, 'Laudo': 14206, 'chamem': 3491, 'impõe': 6545, 'velório': 1061, 'lixo': 4048, 'facada': 3673, 'créditos': 4515, 'xixi': 3487, 'old': 11926, '70': 2244, 'item': 12489, 'apareça': 513, 'espancada': 3483, 'Samsung': 13784, 'Simaria': 3482, 'cantou': 7788, 'ferro': 3476, 'pipoca': 3474, 'complicada': 5600, 'Lúcia': 8378, 'dona': 8965, 'Servente': 3469, 'desesperador': 15625, 'importando': 14677, 'autodestrói': 14467, 'my': 3467, 'irritada': 3466, 'lavar': 3463, 'nordestina': 4380, 'Modelista': 15078, 'cia': 10244, 'tardes': 3455, 'chamasse': 10850, 'media': 5322, 'tranquilidade': 4529, 'abaixo': 3611, 'fuga': 3451, 'conjunto': 4278, 'agonia': 1107, 'adiantar': 3449, 'sede': 3664, 'simplesmente': 3448, 'brinquedo': 3444, 'aceitando': 12163, 'chato': 576, 'aumenta': 16, 'rádio': 4231, 'hopekook': 6995, 'batata': 3443, 'permite': 3857, 'relacionamento': 9665, 'apresentações': 3438, 'notícia': 3436, 'Dino': 6618, 'pés': 3432, 'pensei': 3431, 'bocado': 3663, 'reunirá': 5326, 'tmb': 3430, 'boatos': 12931, 'arranjar': 4395, 'dita': 3737, 'inferior': 3429, 'Tinha': 3423, 'lerda': 14717, 'sao': 3420, 'risos': 15581, 'TPI': 11490, 'Pedro': 6528, 'perfeito': 4305, 'berço': 13970, 'gatos': 1235, 'Sr': 14431, 'Sabia': 8531, 'começo': 3336, 'matando': 3418, 'Bernardo': 3414, 'Poxaaa': 3413, 'mandou': 3406, 'respeita': 3402, 'marcado': 10840, 'Acesse': 3401, 'mano': 726, 'PESSOAS': 4080, 'nct': 13571, 'Nessas': 1015, 'global': 2496, 'Joel': 4864, 'Dodge': 9567, 'Zeppelin': 15768, 'quinta-feira': 837, 'restrição': 13492, 'Incêndio': 4190, 'exatamente': 5453, 'encantado': 11345, 'Pleno': 3390, 'bio': 772, 'sabes': 3613, 'sm': 14789, 'saldo': 3387, 'besteiras': 15937, 'ccat': 4599, 'Desenvolvimento': 3385, 'Chef': 3384, 'estudos': 3383, 'mostram': 3382, 'postei': 3601, 'Poxa': 5649, 'produtividade': 3381, 'p': 93, 'carreata': 3749, 'clareza': 12081, 'Assessor': 1826, 'Vila': 3376, 'SDR': 13999, 'Ricardo': 696, 'Aah': 2913, 'lazer': 10107, 'especial': 3374, 'Ser': 4085, 'prorrogação': 14463, 'Julio': 11882, 'disney': 4135, 'criminalidade': 5117, 'indulto': 8971, 'sentido': 3421, 'Ps': 9196, 'passeio': 3364, 'Ouça': 787, 'Washington': 8812, 'hp': 15308, 'Aaaaa': 9268, 'VAI': 8272, 'Ações': 3355, 'Oportunidade': 3353, 'atingir': 1599, 'ideologia': 3797, 'cozinha': 3465, 'hihihi': 15142, 'público': 1627, 'descartam': 6921, 'imobiliário': 3352, 'sintomas': 8492, 'Projeto': 5032, 'curiosa': 12122, 'ataque': 3345, 'sido': 2601, 'estatística': 6975, 'fama': 6991, 'furar': 539, 'curtir': 8898, 'Criciúma': 4601, 'mataria': 6228, 'Unidos': 1064, 'pede': 186, 'rebaixado': 12822, 'melhores': 735, 'juntar': 10589, 'total': 3337, 'Atlético-MG': 12919, 'abertos': 11982, 'Senhor': 117, 'julga': 183, 'Premium': 10288, 'Hitler': 7978, 'padaria': 3335, 'preferir': 4645, 'Personalizados': 5473, 'toalha': 9610, 'sigo': 3333, 'surge': 9705, 'realmente': 592, 'antigo': 1758, 'cartão': 2090, 'Dado': 13116, 'carinha': 3330, 'supostamente': 3329, 'estilo': 3328, 'Gasolina': 3325, 'regular': 598, 'limites': 12539, 'escolha': 5003, 'famosa': 1076, 'canta': 3458, 'curso': 3323, 'principais': 5316, 'Aécio': 7639, 'qria': 3322, 'Troca': 13815, 'boas': 1357, 'maluco': 9762, 'Dona': 4315, 'hipocrisia': 5858, 'bonoro': 3317, 'sonhando': 10569, 'assumir': 3315, 'Morumbi': 8114, 'precisam': 3314, 'BOCA': 12120, 'thread': 3309, 'burrice': 10360, 'Burger': 3307, 'lágrimas': 3306, 'pedi': 1725, 'astral': 3305, 'vazio': 407, 'Via': 5440, 'pós': 4326, 'puder': 1894, 'filhos': 2511, 'angustiada': 8999, 'ficado': 11503, 'Achei': 3303, 'caráter': 3301, 'FGTS': 1011, 'projeção': 5873, 'ocorre': 8363, 'intolerantes': 3299, 'sensato': 13497, 'psicológico': 6614, 'enganou': 12839, 'rodoviária': 10658, 'sairia': 7253, 'escondem': 3298, 'bronca': 791, 'entram': 9283, 'adoram': 9388, 'Netflix': 3293, 'Garçom': 3291, 'comentarista': 4715, 'molhado': 3932, 'PopStar': 3286, 'Sabe': 2632, 'conhecia': 5223, 'invés': 812, 'marido': 4425, 'milagre': 3280, 'apreende': 3275, 'DELA': 2416, 'inventa': 15000, 'foda': 296, 'Planalto': 12828, 'zoar': 3268, 'imaginar': 3264, 'educação': 550, 'poderosa': 3259, 'deixaram': 3251, 'NBA': 4982, 'im': 154, 'tenham': 3266, 'ex': 3121, 'timeline': 3721, 'tsunami': 3250, 'meteu': 14705, 'gostas': 7366, 'aus': 4669, 'impressão': 3248, 'joias': 8839, 'digital': 3247, 'suporte': 3246, 'pessoal': 1709, 'O': 338, 'tela': 3244, 'lógico': 5320, 'ultimamente': 3310, 'soldados': 10093, 'conchinha': 12194, 'aplicativo': 3239, 'atribuído': 4192, 'hahahaha': 957, 'estomago': 10438, '3x': 265, 'Te': 3235, 'treinos': 3233, 'cumpriu': 8425, 'evolui': 3229, 'semifinal': 11656, 'complexo': 3648, 'senão': 383, 'prática': 3228, 'ficarem': 2207, 'Youtuber': 9238, 'documentário': 3763, 'arriscar': 10153, 'película': 3221, 'tom': 3219, 'confirmo': 2011, 'ofendida': 13967, 'fds': 3216, 'presentear': 15959, 'Quase': 4238, 'enfim': 1573, 'apreendidos': 11853, 'amanha': 3212, 'Pais': 14972, 'fudeu': 10920, 'passagem': 854, 'P': 2647, 'ameaçam': 3209, 'registrada': 13766, 'emoção': 9644, 'prender': 7272, 'descoberto': 10011, 'curioso': 3206, 'recuperando': 6807, 'Ainda': 3205, 'ocorrência': 3200, 'on': 4375, 'pneus': 8737, 'Apenas': 1352, 'bad': 3192, 'Caramba': 3191, 'Terra': 3189, 'Lava': 7325, 'homenageia': 3187, 'usada': 4935, 'verdade': 1136, 'Center': 5336, 'parque': 3186, 'qd': 1108, 'Portuga': 4036, 'JÁ': 3398, 'CHEGA': 4012, 'pior': 413, 'praxe': 1861, 'pessimismo': 1374, 'Arquivo': 5056, 'poha': 10030, 'abração': 15627, 'Flavio': 11779, 'Menino': 10498, 'lendo': 3845, 'Curtas': 7703, 'Kabum': 299, 'Albert': 3181, 'MUITA': 9237, 'Supervisor(a': 12509, 'encontra-se': 3180, 'Nasce': 5273, 'es': 3178, 'administrativa': 9648, 'Gabriel': 3176, 'filmar': 13852, 'repente': 5409, 'loucos': 3173, 's': 1816, 'nostalgia': 2901, 'irregular': 4744, 'celebrar': 5417, 'gurias': 3371, 'esqueceu': 3595, 'Enem': 5338, 'anjinho': 3166, 'recém-formados': 15234, '1964': 3153, 'GB': 10092, 'reduto': 13957, 'haters': 817, 'sabendo': 760, 'Terceirização': 9504, 'bigode': 13499, 'preparar': 3150, 'feriadão': 5422, 'ligue': 3147, 'saiba': 3146, 'otimiza': 3143, 'assisto': 392, 'Pinheiro': 11798, 'Vista': 3844, 'Handphone': 3141, 'gravado': 3799, 'ridículo': 2131, 'CAP': 13174, 'Junto': 3139, 'asfalto': 1593, 'inocente': 8794, 'identifico': 15119, 'Centrão': 8337, 'Tá': 3132, '56': 15623, 'DEM': 3131, 'offline': 14046, 'ato': 3778, 'PSC': 3128, 'necessidades': 9456, 'Carlesse': 9335, 'GOVERNO': 3125, 'Ele': 2327, 'Sou': 170, 'baixar': 9127, 'existir': 9679, 'feriado': 3124, 'Fotógrafo': 4812, 'Amanhã': 3123, 'viralizou': 11113, 'Nick': 3119, 'Katy': 15974, 'pesquisadores': 3116, 'grafite': 7634, 'traço': 3111, 'caçar': 3037, 'Racial': 4948, 'Pfvr': 9885, 'entenda': 3107, 'sonhos': 3103, 'sun': 3101, 'esquerdopatas': 7827, 'filmes': 3097, 'contas': 3852, 'pack': 5354, 'chance': 1077, 'drogas': 5204, 'Salão': 14915, 'gravidade': 3094, 'depende': 2816, 'confiáveis': 3091, 'cega': 8818, 'Cúpula': 15444, 'Rico': 3388, 'paulistana': 3495, 'polarizada': 11600, 'elege': 5634, 'talentosa': 3104, 'levei': 85, 'cariocas': 12334, 'disseminação': 11412, 'Faltou': 8234, 'pinta': 2147, 'Toda': 5170, 'redor': 2315, 'shop': 15167, 'coreano': 9007, 'OPORTUNIDADE': 9540, 'tempinho': 3086, 'Além': 2585, 'locais': 6023, 'Muitos': 7220, 'perco': 3085, 'disposição': 8528, 'Iron': 6009, 'Serasa': 12835, 'crime': 3081, 'soro': 9508, 'Marco': 9862, 'fake': 3079, 'Nova': 940, 'expandir': 9542, 'Chanel': 10868, 'Ostras': 3784, 'ent': 3075, 'goste': 3073, 'caramba': 3068, 'pra': 2070, 'optar': 10171, 'tv': 4883, 'belíssima': 5546, 'tiros': 3569, 'Juiz': 4432, 'lindona': 2737, 'Dias': 3066, 'casado': 4734, 'Alvaro': 3065, 'afilhado': 9332, 'vírgula': 15817, 'Oba': 4613, 'econômicas': 12705, 'League': 3884, 'Oliveira': 1487, 'criança': 604, 'saco': 3054, 'Vale': 3053, 'tmj': 4376, 'benefício': 9245, 'Prêmio': 3622, 'importante': 3047, 'avail': 15952, 'pensar': 3063, 'Zelândia': 4098, 'enquadrar': 15344, 'certa': 3032, 'aaaaaaaaaa': 3031, 'referencia': 14809, 'Junior': 5926, 'eheheh': 15365, 'cupom': 4304, 'iriam': 3030, 'andar': 3027, 'branca': 3023, 'netas': 12183, 'Comenta': 11380, 'injustiça': 3021, 'rejeição': 3962, 'aproveita': 4849, 'possíveis': 3018, 'autocrítica': 14379, 'taekook': 13392, 'Tema': 3284, 'espaço': 991, 'acusada': 659, 'avatar': 4371, 'coloco': 3016, 'Kate': 4813, 'fácil': 1507, 'pedradas': 5132, 'Odeio': 5747, 'netflix': 7243, 'biblioteca': 3014, 'mv': 3009, 'assediar': 15680, 'mãe': 1546, 'criei': 3007, 'percebe': 4771, 'cabo': 3002, 'garagem': 3000, 'nega': 3941, 'maravilhoso': 2997, 'Toma': 11526, 'Pussy': 10899, 'Xhand': 4178, 'perícia': 14406, 'S.': 13356, 'mensal': 6857, 'espanhol': 2995, 'Barcelona': 2993, 'Pai': 1543, 'partida': 2992, 'provocar': 10521, 'comunista': 3938, 'paralisação': 5063, 'au': 4635, 'registrado': 11652, 'menino': 4214, 'Bispo': 3159, 'Até': 2988, 'Sociedade': 11722, 'AH': 8101, 'pedir': 2985, 'dependência': 2607, 'FOI': 6364, 'túnel': 2981, 'fones': 6351, 'mau': 3300, 'verdadeiras': 9899, 'aposentadoria': 2978, 'apertadinho': 13866, 'Alibaba': 2977, 'gênero': 529, 'gigante': 2975, 'hum': 7247, 'Weinstein': 13082, 'amooo': 12355, 'feia': 3064, 'Ma': 2974, 'culto': 2972, 'imigrantes': 3188, 'desconhecido': 2971, 'Ir': 1664, 'argumento': 5737, 'Madrid': 11549, 'vantagem': 5574, 'Brasileirão': 5525, 'Quer': 2968, 'aproveite': 7590, 'pretos': 12818, 'luz': 2966, 'recebimento': 15720, 'bolada': 9880, 'tweet': 2961, 'Secretário': 10514, 'Portela': 10088, 'presença': 4612, 'acabo': 675, 'russa': 4510, 'espero': 113, 'orações': 5585, 'mostrado': 7497, 'hahaha': 2957, 'fixe': 9228, 'Tb': 2953, 'apanhando': 13398, 'puro': 4704, 'Moreira': 7332, 'RPG': 2946, 'contexto': 3033, 'despreparado': 14640, 'iMudou': 11739, 'Anos': 5297, 'amiguinhos': 2944, 'conheço': 2811, 'Tocantins': 7125, 'Cadê': 2943, 'liberação': 8685, 'imaginem': 2938, 'tabaco': 10588, 'Estudar': 2937, 'Heitor': 9364, 'politicamente': 2935, 'migratória': 6397, 'Explosão': 4691, 'Carioca': 2930, 'imitação': 2929, 'incêndio': 4630, 'bunda': 5154, 'humilhado': 2925, 'pareço': 8247, 'avó': 2951, 'separados': 15670, 'edição': 2881, 'mô': 8333, 'Wilson': 3126, 'Defesa': 2923, 'ministro': 2922, 'amistoso': 9339, 'grava': 2912, 'proteção': 6049, 'Operador': 2910, 'eeee': 12342, 'suspeito': 1305, 'bastidores': 3764, 'dirá': 10369, 'Shopping': 3261, 'Osmar': 7742, 'going': 6730, 'tranquilo': 7812, 'REVISÃO': 8786, 'afogar': 2300, 'souberem': 5028, 'RO': 13883, 'Caixa': 1007, 'Banco': 2904, 'realista': 10102, 'fic': 10269, 'assuntos': 11095, 'Paquetá': 3911, 'ensaio': 893, 'dica': 2903, 'Rebouças': 2979, 'pulo': 7598, 'imparcial': 2902, 'existem': 2900, 'obrigar': 4337, 'Após': 29, 'Foi': 2899, '5h': 4912, 'FAKE': 3790, 'comentar': 10388, 'unico': 3074, 'azul': 8077, 'SOBRE': 15264, 'Che': 2895, 'raro': 7462, 'Trabalhar': 3375, 'qualidade': 2287, 'mãozinhas': 8879, 'Funciona': 14296, 'Tais': 12451, 'Dá': 2893, 'dançar': 4802, 'rolar': 2890, 'esquema': 2888, 'uhum': 13935, 'universitários': 13829, 'Santander': 11611, 'faltou': 381, 'universidades': 5352, 'propaganda': 3730, 'líderes': 2887, 'Cid': 12847, 'derrotado': 11520, 'Palmeiras': 2885, 'evita': 5179, 'reclamação': 13058, 'Conta': 898, 'times': 7813, 'causas': 2877, 'Recebi': 4275, 'Único': 9221, 'participe': 11903, 'apresentação': 2718, 'acabada': 9585, 'Serão': 3051, 'realidade': 1060, 'contesta': 6290, 'Mortes': 2875, 'índice': 2873, 'frio': 4339, '20,3': 2872, 'Supervisor': 3684, 'Num': 2870, 'desejo': 2868, 'teriam': 6368, 'Sinceramente': 2865, 'todinho': 4216, 'MT': 2864, 'picanha': 14059, 'cuidar': 793, 'produtor': 7339, 'doeu': 2862, '5sos': 14884, 'hey': 6728, 'baixinha': 11403, 'dmais': 5166, 'Blue': 13093, 'oponente': 11177, 'Primeira': 8828, 'daora': 2857, 'Skripal': 6221, 'prata': 7495, 'mimo': 2852, 'FATO': 3788, 'físicas': 12400, \"''\": 5101, 'cosplay': 13041, 'tira': 2847, 'zap': 2844, 'tiroteios': 9411, 'André': 2843, 'Snow': 11466, 'Capital': 2842, 'Day': 2377, 'barato': 4228, 'membro': 3428, 'opções': 2840, 'janta': 7298, 'fundamental': 2839, 'situação': 1502, 'miojo': 13900, 'tradicional': 2835, 'Bernardes': 3489, 'Momento': 4877, 'tende': 12113, 'NENÊ': 2831, 'MEU': 2830, 'desculpas': 554, 'febre': 2827, 'Nem': 2826, 'geram': 6245, 'youtubers': 7628, 'Últimos': 2823, 'entorno': 5955, 'Selic': 2819, 'feliz': 159, 'Índice': 10715, 'Candidato': 5510, 'area': 12857, 'profissionais': 3162, 'puderem': 13024, 'Ditadura': 5871, 'update': 7306, 'Mineiro': 9177, 'irão': 980, 'pfvr': 2813, 'noticias': 10323, 'Fiscal': 307, 'Conte': 4616, 'NELE': 15559, 'iniciativa': 241, 'demitida': 13599, 'br': 12472, 'desfazer': 2812, 'credito': 7515, 'vereador': 4436, 'usaram': 3744, 'lembram': 10129, 'campeã': 3979, 'vlw': 2803, 'criminosos': 4747, 'lar': 5209, 'QUERIA': 10319, 'atingiu': 3674, 'Previdência': 7288, 'indicado': 2800, 'veracidade': 2796, 'Quinta': 3843, 'Kéfera': 4368, 'arquivos': 14515, 'ladainha': 14446, 'questiona': 2795, 'namoro': 5369, 'transtorno': 6613, 'tomara': 3507, 'Vitória': 2791, 'mutual': 15884, 'Sair': 5195, 'taeyong': 14942, 'podemos': 2787, 'elegendo': 7758, 'ahhh': 2786, 'namjoon': 5341, 've': 2785, 'reina': 15645, 'ruralista': 2783, 'M': 2781, 'colher': 5836, 'Aiii': 4280, '07': 6379, 'gostam': 2136, 'prazos': 15610, 'entro': 885, 'Vc': 2774, 'tenhamos': 10452, 'véspera': 6278, 'Árabes': 2771, 'apareceu': 3120, 'Nafta': 5155, 'Emirados': 2770, 'SITE': 14852, 'timidez': 4543, 'dado': 6081, 'unem': 8938, 'Aparentemente': 11400, 'Arábia': 2768, 'Consultoria': 15074, 'assustar': 10781, 'Irã': 2767, 'perdendo': 2766, 'reconhece': 4964, 'qnd': 4352, 'explodindo': 2765, 'variar': 2984, '63': 2190, 'nanico': 12984, 'nasci': 2764, 'telefones': 9730, 'Manda': 5051, 'infelizmente': 2763, 'entrar': 2762, 'bumbum': 12166, 'Maior': 6454, 'anja': 7609, 'Bolsonaro': 31, 'posto': 2761, 'queres': 2759, 'tentava': 1461, 'arroz': 2758, 'aprender': 1138, 'cota': 6413, 'unir': 6622, 'interação': 13818, 'nua': 2755, 'acusações': 9442, 'decepções': 9579, 'neta': 3522, 'Preso': 13589, 'Artista': 2753, 'i': 9489, 'Desde': 4243, 'Liga': 2747, 'hein': 2746, 'soltar': 5144, 'chegaram': 2744, 'despedida': 1720, 'disputar': 2743, 'Minas': 2741, 'usando': 432, 'Palmas': 12203, 'sobreviver': 4855, 'saberia': 11792, 'Peru': 11754, 'mari': 9045, 'Amamos': 12087, 'especificamente': 2731, 'escolaridade': 5386, 'termino': 11174, 'haddad': 2730, 'fudido': 11618, 'ganham': 2729, 'coerente': 12246, 'Aline': 9088, 'subsídio': 1697, 'dirigido': 6605, 'Camarotti': 3961, 'novembro': 2807, 'Implantação': 5903, 'apontado': 2724, 'piora': 11555, 'confundem': 5451, 'Chris': 2805, 'Milão': 14938, 'gostem': 2720, 'possui': 4518, 'Oi': 281, 'doido': 8461, 'Rocinha': 4485, 'deitada': 3411, 'interessar': 2431, 'cursinho': 8916, 'GOTHAM': 9433, '18:30': 4997, 'identifica': 11189, 'vídeos': 1892, 'cereal': 15442, 'homicídio': 4319, 'cagada': 6595, 'durmo': 3214, 'exercícios': 5723, 'bravo': 2715, 'orar': 2712, 'funny': 15879, 'mm': 2704, 'tou': 2711, 'confirmada': 4890, 'atuação': 8922, 'sad': 2705, 'bjs': 2739, 'depor': 12085, 'Lollapalooza': 2703, 'concerto': 2701, 'Mandei': 9277, 'filhotinho': 13090, 'hetero': 3024, 'candidata': 2700, 'Prova': 14468, 'treinar': 2697, 'torna': 4182, 'Ritmo': 3076, 'god': 2696, 'TRABALHO': 12474, 'QUATRO': 2693, 'expõe': 8847, 'vigília': 15106, 'tráfico': 4831, 'ANOS': 2692, '24/7': 15443, 'sinta-se': 6198, 'Ngm': 9236, 'amendoim': 4634, '░': 1668, 'Youtube': 2276, 'falas': 2690, 'fornecer': 13190, '58': 2064, 'trabalha': 2512, '--&gt': 14916, 'jimin': 2685, 'Simbora': 12010, 'NAO': 5912, 'ADORO': 8944, 'poucos': 487, 'caixinha': 15664, 'Faculdade': 12869, 'barrar': 1866, 'licenciatura': 9501, 'incriveis': 3894, 'iti': 2738, 'fascismo': 3154, 'fofos': 2680, 'Forças': 2919, 'fortuna': 5613, 'instituições': 4867, 'qe': 14328, 'Consegui': 6096, 'Foco': 11271, 'deixando': 2675, 'erros': 4140, 'pronto': 2674, 'curar': 2624, 'funcionários': 661, '5º': 4512, 'queira': 6238, 'colocava': 13795, 'Nuno': 9704, 'doam': 10736, 'cadeira': 2670, 'Escolhe': 15666, 'vô': 4569, 'conforte': 14367, 'maneira': 2209, 'TI': 11106, 'cavalo': 3636, 'secreto': 6929, 'análise': 7314, 'szsz': 15912, 'evangélica': 8527, 'km': 2666, 'Skaf': 2664, 'scrr': 15958, 'eficiência': 15293, 'parentes': 2662, 'abrindo': 4527, 'cansado': 1776, 'jogava': 7356, 'peles': 12789, 'contribuir': 6583, 'Ei': 2657, 'CU': 7090, 'pessoais': 2656, 'desenvolvimento': 2278, 'SP2': 4799, 'Imagine': 2702, 'STF': 2655, 'abrir': 3591, 'valeu': 1829, 'querias': 8727, 'PIS': 2653, 'filas': 14957, 'joinha': 10407, 'cálculo': 2652, 'divergências': 13352, 'prevê': 3338, '🤔': 433, 'subindo': 5569, 'monsta': 6014, 'estande': 13404, 'integrar': 2650, 'the': 1246, 'portão': 2999, 'sexuais': 11293, 'roubam': 8288, 'enfia': 12601, 'ahaha': 2878, 'Montserrat': 5715, 'Jimin': 7498, 'porreiro': 4396, '🇮': 10235, 'banido': 3699, 'B': 2646, 'devolução': 4514, 'apoiar': 2641, 'dormi': 1533, 'pobreza': 8343, 'pararem': 2636, 'fodasse': 10207, 'Meninos': 14535, 'tô': 2592, 'sabem': 2628, '2020': 4523, 'esquerdo': 8287, 'Temos': 3516, 'ceará': 7798, 'costas': 2625, 'sonhei': 3391, 'INDO': 7438, 'assina': 3001, 'individual': 7116, 'Renata': 10158, 'viagens': 5137, 'tantas': 3197, 'parecido': 3152, '4⃣5⃣6⃣7⃣8⃣': 3989, 'Carta': 5376, 'vic': 15589, 'Utilize': 7156, 'psol': 2617, 'inteligente': 2614, 'reúne': 232, 'discussões': 4745, 'teorias': 6608, 'Giro': 8243, 'simples': 3851, 'tlg': 2254, 'levar': 1747, '6:30': 2609, 'culpado': 4624, 'bebês': 2606, 'preciso': 704, 'santos': 11740, 'salário': 1695, 'J10': 921, 'consolar': 2604, 'vestir': 4582, 'baixei': 13816, 'ESTÃO': 2603, 'poucas': 1896, 'viaja': 4349, '16': 1832, 'Jesus': 4676, 'destruir': 6743, 'app': 2598, 'juros': 4562, 'encontrar': 2597, 'Meia': 6420, 'Alunos': 4519, 'gás': 6427, 'album': 5632, 'atuais': 7925, '2017': 3800, 'insanidade': 6361, '43': 7840, 'montando': 2593, 'flexível': 15818, 'Middleton': 14195, 'País': 2591, 'prioridades': 10123, 'IPCA': 12796, 'posicionamento': 2583, 'cuidando': 2580, 'moderado': 4544, 'processa': 7342, 'abandonou': 14081, 'profunda': 2579, 'conversava': 2577, 'Oque': 14450, 'blá': 8019, 'Lembrando': 10474, '94285-9653': 2575, 'fechou': 8216, '4,12': 4076, 'tirando': 3215, 'Mestrado': 7179, 'pedido': 2574, 'Passem': 9279, 'ferir': 15333, 'literatura': 10029, 'ansioso': 3040, 'finn': 7335, 'avanço': 13820, 'Faça': 2573, 'implementação': 15867, 'Sintonia': 10386, 'Paraíso': 2567, 'reitera': 8943, 'Minha': 701, 'Fez': 7191, 'adotar': 1613, 'caralha': 15971, 'rebate': 55, 'reparado': 14502, 'gratuito': 2552, 'domingo': 1673, 'dispensa': 5776, 'decepcionada': 2548, 'Mandem': 4442, 'Jack': 2973, 'ruins': 3757, 'municipal': 2547, 'dó': 6227, 'instantes': 15718, 'coloca': 2546, '0,3': 2544, 'mini': 14919, 'Dito': 2539, 'Passo': 9875, 'contrária': 11437, 'alho': 4672, 'jk': 2677, 'Setor': 14542, '4,05': 14419, 'cheiroso': 4289, 'pls': 7859, 'sz': 8746, 'Como': 348, 'Cachorro': 15092, 'relembre': 3606, 'funcionário': 10636, 'cristã': 1280, 'Seis': 2527, 'mobiliado': 14821, 'liberdade': 4155, '1/3': 14597, 'chove': 6868, 'Municipal': 4261, 'admirar': 2589, 'criando': 9233, 'bons': 2522, 'converso': 4151, 'Social': 11624, 'sujeito': 3670, 'servir': 5978, 'Design': 9690, 'Bauru': 11451, 'Mãe': 2510, 'Ferreira': 4081, 'completar': 7392, 'cargos': 4595, 'Vitor': 7820, 'Levei': 14507, 'paciência': 3198, 'FELICIDADE': 15570, 'Herói': 2509, 'thiago': 10662, 'sentimentos': 2063, 'Campo': 3415, 'composto': 5252, 'copa': 5642, 'septo': 14658, 'Ratinho': 11870, 'Leia': 2505, 'valendo': 2504, 'clássico': 2503, 'algm': 2501, 'qndo': 2499, 'teríamos': 3118, 'gostou': 2498, 'stor': 4026, 'Music': 2493, 'gastos': 4449, 'Executivo': 3560, 'Warner': 2492, 'Equipe': 5813, 'Assista': 2491, 'web': 74, 'is': 2490, 'alergia': 4816, 'convoca': 4677, 'ID': 2489, '2o': 5111, 'houve': 34, 'dorama': 2487, 'estudei': 2483, 'recorrem': 13266, 'vida': 120, 'Sartori': 12091, 'Terça-feira': 4034, 'SP1': 3620, 'Educação': 5598, 'rasgou': 2480, 'orelha': 2479, 'constrangimento': 3164, 'atrapalha': 3855, 'franquia': 9839, 'NFL': 1933, 'lanchonete': 4774, 'declara': 2477, 'personalidades': 8933, 'Coitado': 1278, 'Moore': 11765, 'inspiram': 5795, 'precisar': 377, '4º': 6178, 'gif': 2472, 'Belém': 5302, 'querer': 488, 'financiamento': 6112, 'esfaqueou': 12529, 'Trump': 2467, 'utiliza': 10950, 'últimas': 10410, 'álbuns': 9655, '21': 2465, 'BR-364': 11677, 'mestrado': 8485, 'UOL': 2461, 'responde': 2460, 'preocupação': 7629, 'ofensiva': 1344, 'editora': 5017, 'lulismo': 15172, 'Mari': 5942, 'agradece': 4082, 'desaparecida': 4341, 'Af': 2453, 'Centro': 4300, 'Ajuda': 8814, 'SC': 2452, 'falaria': 13789, 'Justin': 3320, 'escritor': 2448, '30': 2077, 'slogan': 2446, '1,9': 2964, 'esqueci-me': 7959, '):': 2443, 'digo': 2442, 'plateia': 8036, 'contrário': 2441, 'parcialmente': 14166, 'digam': 2440, 'Andreia': 7481, 'tara': 3008, 'controlar': 7770, 'PARTIR': 15020, 'zagueiro': 14244, 'couro': 10611, 'intimidade': 4772, 'Costureira': 10710, 'deixe': 2439, 'aproveitam': 14156, 'prantos': 2438, 'principe': 14785, 'Fora': 311, 'roteirista': 3681, 'deves': 5384, 'farinha': 4980, 'tinha': 2437, 'bagulho': 2429, 'interior': 2426, 'fizemos': 264, '®': 13680, 'indenizar': 3704, 'pensamento': 2425, 'entenderiam': 10130, 'Votos': 4717, 'investigação': 5683, 'baseado': 12193, 'dnv': 4801, 'comando': 8674, 'team': 12531, 'massagem': 10776, 'aumentar': 2419, 'RT': 3082, 'charme': 4355, 'Hm': 2283, 'Nayara': 14291, 'outdoor': 5592, 'atualmente': 3368, 'Produtores': 14235, 'alheio': 12482, 'Empreendedor': 3174, 'ambulância': 14571, 'Comcast': 13086, 'amplia': 12648, 'FAÇA': 2413, 'principalmente': 2411, 'dados': 2406, 'óbvio': 227, 'Luz': 9031, 'teria': 794, 'contratam': 11698, 'despenca': 10729, 'viajar': 3604, 'Simm': 11807, 'FICO': 7355, 'Ouvi': 9924, 'tristeza': 734, 'modelo': 694, 'concluir': 11269, 'Desculpa': 2399, 'professores': 1033, 'assassinato': 3204, 'encarar': 7140, 'portuguesa': 9725, 'quanta': 2390, 'Regener': 12867, 'JAMAIS': 3698, 'entao': 2388, 'namoradinho': 4897, 'pronta': 4172, 'ba': 2379, 'pras': 4538, 'impulsiona': 9919, 'atropelado': 4257, 'lt;3': 2376, 'reto': 2374, 'exercício': 10348, 'objetivos': 825, 'militares': 2349, 'ti': 291, 'mta': 2818, 'lance': 2373, 'capacidade': 6264, 'glad': 8884, 'cancela': 2092, 'tambem': 382, 'loteria': 10518, 'segmento': 4444, 'partido': 2370, 'pf': 2837, 'joguinho': 15048, 'repetir': 6596, 'tml': 4342, 'efeito': 2367, 'criação': 9029, 'suspender': 4885, 'suposta': 3568, 'MERECE': 8807, '12,1': 13431, 'revolução': 2365, 'are': 7830, 'Nessa': 2361, 'apertou': 2360, '61': 12158, 'cantor': 6126, 'Eletrobras': 4695, 'fone': 1271, 'Vênus': 6025, 'indica': 2357, 'continuam': 1098, 'Paraty': 11745, 'adam': 579, 'indiferente': 2564, 'informar': 2337, ';)': 2343, 'terá': 2334, 'posa': 909, 'DEIXA': 11150, 'humor': 1830, 'Success': 6700, 'cobertor': 88, 'Sara': 4968, 'corrupção': 3978, 'bênção': 15524, 'tivesse': 3410, 'live': 436, 'esperar': 1075, 'Reta-Final': 4950, '.........': 8569, 'casinha': 4169, 'almoçar': 5557, 'preocupações': 9676, 'senso': 2584, '4,18': 6830, 'moldura': 15692, 'Boulos': 777, 'rolê': 1407, 'jikook': 13721, 'capitão': 1065, 'parto': 3521, 'Suplicy': 1770, 'sessões': 6032, 'encara': 1062, 'links': 11301, 'Nacional': 1222, 'livre': 2788, 'presidencia': 14874, 'nariz': 3442, 'acordei': 1059, 'testes': 3651, 'voltou': 1765, 'girl': 5690, 'Desejo': 1044, 'rt': 3603, 'internacional': 2029, 'diretor': 1043, 'Crianças': 7904, 'darem': 11794, 'receber': 1270, 'cego': 870, 'Gabrilli': 4835, 'Vanessa': 14651, 'curtida': 13651, 'Certeza': 3972, 'racial': 627, 'Perillo': 8382, 'ganhado': 3392, 'aceitação': 15192, 'qu': 8055, 'cortada': 15642, '817': 8740, 'explorar': 11394, 'fakes': 960, 'iPhone': 6932, 'comprei': 3224, 'pagou': 14218, 'AMOR': 5100, 'Zona': 5011, 'fortnite': 2948, 'ONU': 945, 'raiva': 3582, 'ESQUECI': 5653, 'publicitária': 15173, 'estamos': 1031, 'formulário': 4798, 'racha': 5617, 'impedimento': 7815, 'previsão': 2907, 'abre': 5655, 'policial': 1362, 'Feliz': 2497, 'gentil': 3806, 'trava': 2407, 'bosta': 1017, 'lê': 5603, 'Romário': 1155, 'calça': 1516, 'fundador': 10412, 'Nordeste': 2752, 'peço': 553, 'Boris': 10644, 'tios': 3878, 'Grindelwald': 4760, 'desafia': 14512, 'psicóloga': 6033, 'sono': 1122, 'lt': 8392, 'Carreira': 4004, '1': 188, 'trabalhar': 1004, 'Querem': 15021, 'dicas': 352, 'desejei': 12439, 'vou': 92, 'Paz': 9691, 'errou': 13989, 'Notícias': 5044, 'Suicídio': 2722, 'energia': 1382, 'refazer': 14828, 'buscas': 1404, 'Ajudem': 1000, 'estressado': 5235, 'Aham': 8817, 'técnica': 9682, 'preocupa': 2717, 'trocada': 2947, 'manicure': 6687, 'Arolde': 10651, 'RedeTV': 2940, 'participem': 12856, 'parede': 2532, 'Cavill': 6001, 'Life': 9401, 'Esse': 2269, 'rotina': 1099, 'escolas': 832, 'Fox': 15115, 'nomeado': 10661, 'entrevistas': 919, 'velocidade': 2409, 'avo': 15322, 'TWEET': 12672, 'data': 994, 're': 13949, 'Olha': 2928, 'amam': 961, 'voz': 705, 'princesa': 992, 'receberá': 8412, 'yt': 396, 'pega': 590, 'Pindamonhangaba': 3949, 'esqueça': 7030, 'maldito': 14164, 'antecipada': 3510, 'Candidatos': 978, 'economizar': 4865, 'Ó': 2272, 'períodos': 976, 'delator': 14495, 'lucros': 1010, 'superficial': 12604, 'Soul': 971, 'cidadãos': 6219, 'BLACKALBINO': 970, 'salvos': 11772, 'atentado': 2435, 'plataformas': 5886, '20/09': 969, 'X': 7899, 'manda': 763, 'reconstrução': 2482, 'MARAVILHOSO': 10681, 'Vice': 7035, '23': 1377, 'comemorando': 955, 'legalização': 9719, 'aguardando': 4654, 'namorado': 1016, 'deram': 953, 'bolos': 14275, 'negar': 947, 'aborto': 6879, 'finish': 12047, 'fina': 10867, 'particular': 8927, 'Arthur': 11321, 'psicólogo': 3868, 'acaso': 1385, 'falar': 942, 'Seja': 4873, 'rapidinho': 374, 'faixa': 3813, 'agradeço': 5857, 'York': 941, 'propôs': 8529, 'Câmara': 5076, 'ocupa': 9496, 'falam': 1249, 'talentoso': 6678, 'surpresa': 939, 'Shakira': 9953, 'morreu': 930, 'parada': 1050, 'quadra': 1562, 'ofendi': 6674, 'doentinha': 10231, 'comandar': 5083, 'nervosa': 881, 'Resultado': 5951, 'Campos': 929, 'tia': 1761, 'gifs': 14119, 'Thiago': 3713, 'Pessoal': 2139, 'adianta': 418, 'código': 3997, 'qualificação': 5757, 'voltam': 1041, 'brinde': 14534, 'acontecendo': 2391, 'Marx': 6101, 'moderna': 12019, 'exclusivo': 4430, 'Silva': 1972, 'quebra': 7041, 'engenharia': 2484, 'salvou': 1188, 'policiais': 916, 'promete': 913, 'artista': 5698, 'inventei': 4136, 'Clubes': 3907, 'reservar': 13658, 'Jungkook': 10678, 'pedro': 2395, 'Todo': 2581, 'presídio': 11081, 'patente': 7980, 'vapor': 13320, 'receitas': 12349, 'OLHA': 1840, 'felicidade': 2699, 'Gaza': 1853, 'f12b2d76-8e99-4267-a88e-8efe5405ee91': 9888, 'Finalmente': 12990, 'Meus': 899, 'confrontos': 4208, 'escravidão': 8607, 'garante': 2751, 'acento': 15909, 'Tu': 1434, 'mor': 4930, 'star': 2122, 'canal': 1889, 'Professora': 6236, 'opta': 8237, 'tristes': 4917, 'quebrou': 5838, 'Deputado': 121, 'brincadeira': 4521, 'Vcs': 2177, 'petição': 3409, 'mtmtmt': 13169, 'comigo': 894, 'cantos': 3052, 'Dia': 252, 'continuará': 2469, 'miúda': 1705, 'descoberta': 6498, 'Boston': 15366, 'colocar': 419, 'AGORA': 4952, 'Um': 37, 'agenda': 4870, 'portaria': 11146, 'bi': 2965, 'Maya': 12503, 'interessante': 891, 'I': 888, 'Blumenau': 4775, 'recomendo': 886, 'apresentar': 2347, 'Simone': 3481, 'altas': 3539, 'Super': 10035, 'AR': 10180, 'ok': 873, 'pareces': 10882, 'Obrigado': 278, 'preservar': 2513, 'repercussão': 13059, '500': 581, 'acompanhando': 5681, 'vistas': 6904, 'Mds': 2212, 'Adoraria': 4281, 'DESTAS': 3917, 'completo': 3579, 'física': 1052, 'Eymael': 859, 'SERÁ': 8593, 'comício': 10690, 'Maria': 858, 'cumpre': 3977, 'dito': 1726, 'Unidas': 12161, 'paciente': 1184, 'Atividades': 15868, 'jingle': 12484, 'Furacão': 850, 'enaltecer': 15781, 'primos': 3879, '180': 454, 'rock': 1279, 'VEJA': 4213, 'MERDA': 9917, 'confiança': 2016, 'Tirando': 7368, '3,7': 8015, 'AQUI': 12256, '48': 4324, 'Soares': 8526, 'lingerie': 9946, 'super': 841, 'programas': 3607, 'bandidos': 4927, 'cansei': 12263, 'Manchetes': 6780, 'mimar': 1094, 'botou': 6267, 'Bom': 840, 'Sérgio': 4976, 'seja': 838, 'cautela': 3531, 'chuchu': 5661, 'branco': 2202, 'Informática': 14387, 'dêem': 1887, 'Antônia': 14438, 'ft': 1793, 'Eleição': 831, 'fugiu': 9832, 'continuo': 830, 'atrai': 4847, 'review': 15012, 'Apple': 6548, 'amado': 4256, 'sanduíche': 13543, 'venceu': 1934, 'concursos': 1117, 'comunidade': 69, 'bolo': 1512, 'Tô': 1912, 'consertar': 11488, 'convocado': 2256, 'terminei': 2760, 'ignorar': 5005, 'arrumar': 826, 'disponibilidade': 2010, 'qm': 2516, 'etc.': 5232, 'Amaro': 4511, 'Sepultura': 6013, 'Lamentamos': 12386, 'próprios': 10239, 'limpo': 14399, 'mulherão': 9967, 'habeas': 10257, 'vizinho': 3808, 'igualmente': 13226, 'sugar': 171, 'graça': 2239, 'cordel': 7849, 'gente': 271, 'sugestão': 6949, 'empresários': 12841, 'doentes': 2208, 'Patrimônio': 7850, 'testemunha': 14520, 'carinho': 822, 'paralisia': 15681, 'Processo': 7907, 'demência': 11894, 'Situação': 4725, 'mão': 876, 'fatos': 2299, 'hahahahha': 12760, 'defender': 3273, 'Academia': 11157, 'nenê': 2863, 'democrático': 15469, 'bué': 808, 'decisiva': 4740, 'cliente': 806, 'bonita': 4393, 'Anna': 2455, 'encaminha': 546, 'agência': 7172, 'propostas': 3641, 'derrubou': 10379, 'cobrar': 1929, 'Who': 12459, 'forem': 2531, 'aplicada': 5719, 'amigo(a': 9361, 'ne': 968, 'Bon': 14570, 'Ontem': 805, 'Instituição': 15799, 'mães': 8081, 'sonsa': 12198, 'Decidi': 3278, 'Mianmar': 7393, 'inacreditável': 10510, 'sextas': 5264, 'advogado': 4277, 'limpeza': 9425, 'desmente': 10255, 'traduzir': 6487, 'discriminação': 14836, 'atender': 813, 'pressão': 809, 'ikon': 4095, 'redes': 1022, 'SORTE': 14108, 'franquias': 11132, 'briga': 1257, 'Brexit': 804, 'procurando': 446, 'Robert': 3786, 'tamo': 2305, 'diálogo': 4663, 'Oreo': 800, 'vó': 7456, 'coloque': 9813, 'moto': 322, 'migo': 798, 'exceção': 13110, 'obter': 2196, 'denúncias': 10931, 'ranço': 5752, 'feio': 2163, 'buscam': 4240, 'acalmar': 7143, 'escola': 797, 'two': 15543, 'terminar': 466, 'Edital': 4942, 'Museu': 3842, 'km/h': 6140, 'inserção': 2405, 'coletivo': 936, '3º': 3657, 'Delação': 9290, 'aaaaaa': 2534, 'tempos': 795, 'agradável': 12185, 'contato': 2804, 'ativos': 4698, 'Obrigadaaa': 4360, 'trato': 4736, 'ligação': 2369, 'cacete': 10536, 'mainha': 9502, 'nordestinos': 1091, 'começou': 742, 'pesado': 3947, 'horrores': 5828, 'Garotinho': 2672, 'Acabaram': 6825, 'Mello': 3360, 'Redemption': 8316, 'trampar': 13805, 'História': 1468, 'legenda': 5760, 'pegou': 6437, 'Clica': 2403, 'imagens': 7061, '26': 5929, 'Jogar': 15553, 'móvel': 12274, 'muuuuito': 1555, 'PUBG': 9076, 'cabeça': 1791, 'Barbosa': 2519, 'profundo': 4073, 'Final': 4031, 'mensagem': 1047, 'autoritarismo': 5625, 'pq': 21, 'prazo': 7754, 'tirar': 767, 'full': 14286, 'She': 13572, 'sertanejo': 3078, 'caneca': 766, 'gata': 7330, 'grátis': 762, 'gold': 12877, 'Santos': 1587, 'tbm': 2402, 'esquina': 1950, 'Consultor(a': 1753, 'Ana': 753, 'Mano': 469, 'Exatamente': 5081, 'Milhares': 5991, 'chatos': 3896, 'superou': 4045, 'Twitter': 1751, 'rasga': 15714, 'complementar': 9817, 'one': 10181, 'exemplar': 4107, 'confio': 6523, 'Valor': 917, 'elogiar': 9098, 'terça': 509, 'dolorida': 2380, 'ingratidão': 14129, 'Olá': 1046, 'Rey': 14675, 'colei': 1838, 'piroca': 745, 'falaram': 1558, 'mensagens': 715, 'paguei': 4221, 'mt': 744, 'Farroupilha': 13154, 'amizade': 1983, 'aa': 743, 'Tamo': 3138, 'Boa': 1356, '1º': 740, 'CNH': 6435, 'Fórum': 4509, 'Cláudia': 10204, 'jogadores': 736, 'putz': 9751, 'brecha': 4359, 'boca': 733, 'Pedi': 11886, 'Barça': 6080, 'esquerda': 555, 'banda': 2298, 'crescendo': 5731, 'escolhas': 7299, 'galinhas': 14959, 'ae': 725, 'rir': 951, 'Afinal': 4150, 'amô': 12825, 'professora': 3211, 'ruínas': 14713, 'Designer': 846, 'Falar': 3354, 'brasil': 1432, 'Neto': 2860, 'droga': 717, 'companhia': 2709, 'lulistas': 15964, 'coronel': 11509, 'Geralmente': 3089, 'português': 714, 'Recuperação': 3897, 'Sexta': 2456, \"Don't\": 15229, 'feitas': 5549, 'PSDB': 751, 'rosto': 1119, 'Perry': 12693, 'acaba': 2385, 'casais': 11220, 'pobre': 2621, 'traços': 15707, 'Porra': 2021, 'segura': 710, 'fato': 390, 'desnuclearização': 15634, 'Angeles': 13885, 'vencedores': 4412, 'sinto': 709, 'pô': 5488, 'rapper': 5347, 'José': 857, 'hello': 7858, 'en': 3738, 'esconder': 6557, 'Gilmar': 6989, 'traz': 706, 'dead': 13722, 'homenagens': 10804, 'HAHAHAHA': 3426, 'Oportunidades': 9216, 'FB': 8953, 'clipe': 3041, 'temporada': 1457, 'molhada': 12719, 'confira': 2735, 'CERTEZA': 4492, 'ELES': 14966, '100': 168, '7': 1078, 'possibilidades': 8962, 'Walmart': 15165, 'relógios': 45, 'acidente': 1661, 'debates': 1807, '4118-7777': 3148, 'tesão': 15088, '86': 5415, 'faleceu': 11343, 'aliviar': 10332, 'caraio': 702, 'pesquisadora': 5684, 'mac': 15299, 'negociação': 247, 'Boas': 14405, 'sabar': 8168, 'cabe': 143, '62': 4900, 'Barreto': 1552, 'alimentam': 15150, 'DEZ': 4754, 'OBS': 4547, 'Amiga': 1081, 'atitude': 2164, 'covarde': 5582, 'ditadura': 779, 'merecer': 13193, 'Araçatuba': 12851, 'Mussolini': 5250, 'nao': 360, 'Polêmica': 13042, 'aliás': 3304, 'né': 1131, 'Coordenador': 6476, 'brasileiro': 2909, 'AVC': 5832, 'Acho': 1433, 'regra': 2362, 'Perguntei': 6933, 'poc': 836, 'Austrália': 4643, 'irrita': 1877, 'carros': 1294, 'moderno': 695, 'Henrique': 690, 'manooo': 7888, 'jeito': 606, 'You': 4720, 'DISK-BICHO': 6459, 'preferida': 12419, 'Baby': 759, 'Meirelles': 691, 'engane': 1701, 'canudo': 6767, 'hipócrita': 7845, 'fogo': 1225, 'serie': 13880, 'haja': 802, 'retomada': 4869, 'achamos': 15938, 'condomínio': 11724, 'deixa': 1082, 'corretamente': 353, 'reuniu': 6725, 'criada': 688, 'baratas': 990, 'podiam': 12603, 'bate': 3596, 'transição': 6065, 'Tesla': 658, 'Amaral': 7988, 'manobra': 15391, 'convidado': 584, 'selecionar': 13293, 'lastimável': 13052, '~Jellye': 1585, 'single': 1336, 'virão': 8440, 'Falei': 7856, 'solos': 1315, 'Luís': 4494, 'altera': 15939, 'versão': 3427, 'Senador': 927, 'meninos': 5023, 'SUPER': 8013, 'investigar': 6716, 'Ué': 684, 'espelho': 12619, 'Ônibus': 10799, 'Brasileira': 6175, 'desinformação': 5046, 'cheiro': 1790, 'ig': 8126, '12': 1570, 'perigoso': 7740, 'obra': 2668, 'Recuperador': 15286, 'extras': 5938, 'mandarem': 4248, 'presidenciável': 148, '3,84': 12616, 'vsco': 10858, 'Ela': 1459, 'preconceituoso': 1729, 'acorde': 15227, 'dúvida': 676, 'gostosinho': 11576, 'ganas': 8332, 'significa': 2644, 'sorrisinho': 7499, 'diziam': 1143, 'comece': 7595, 'Adnet': 2932, 'vira': 2384, 'pedindo': 560, 'companheiros': 9804, 'AL': 9748, 'produto': 769, 'amada': 8808, 'princípios': 1330, 'rural': 14173, 'outro': 24, 'concurso': 1874, 'sofrido': 9106, 'surtada': 15741, 'artes': 4488, 'fofinhos': 2710, 'mande': 4306, 'Tanta': 2613, '4,10': 6751, 'falou': 1672, 'observar': 671, 'twitch': 12497, 'eleger': 7780, 'olho': 669, 'Filme': 354, 'queimada': 8099, 'mana': 1146, 'ilumina': 15441, 'toneladas': 9976, 'S2': 7716, 'Mr': 4459, 'Volto': 9755, 'vamo': 2784, 'igual': 596, 'concessões': 5984, 'apreendido': 15761, 'Confira': 533, 'alerta': 5334, 'subir': 3218, 'expo': 1654, 'veio': 2293, 'estrangeiros': 662, 'tédio': 2450, 'laços': 163, 'preventiva': 15211, 'verdadeiros': 6450, 'ameaçar': 660, 'GE': 3332, 'peixes': 3358, 'aeroportos': 5664, 'percorrer': 9611, 'estrago': 9859, 'us': 645, 'deu': 402, 'Pq': 1262, 'Amélia': 1618, 'derruba': 2558, 'bolsonaristas': 4163, 'quarta-feira': 2323, 'anunciaram': 651, 'passando': 648, 'leilão': 4697, 'Corrente': 2476, 'atriz': 5191, 'consciente': 7328, '▶': 8499, 'loja': 774, 'terão': 1465, 'RANDON': 1937, '01': 9445, 'garantir': 2921, 'palcos': 9768, 'Faço': 1923, 'Emmy': 5893, '2.000': 6305, 'sofro': 2569, 'sla': 718, 'predador': 1436, 'problemas': 649, 'alugar': 11144, 'poderia': 1538, 'denúncia': 4421, 'foder': 4451, 'PQP': 9259, 'benção': 10541, 'entrado': 3170, 'palestinos': 1851, 'facebook': 647, 'h': 1737, 'H': 2648, 'trecho': 642, 'estadual': 6396, 'Hmmmm': 2829, 'Matogrosso': 12317, 'amei': 2288, 'viciado': 6640, 'tratada': 2694, 'assassinado': 11318, 'qlqr': 1409, 'significado': 8217, 'OAB': 3316, 'quiserem': 2563, 'Está': 1424, 'Black': 4434, 'protestos': 11915, 'tp': 1690, 'checamos': 10150, 'Lá': 2643, 'matou': 4475, 'cheia': 639, 'SUS': 9181, 'proxima': 4303, 'testa': 638, 'canais': 312, 'russo': 8848, 'painel': 13939, 'Parei': 10341, 'blog': 1167, 'usados': 9439, 'olhinhos': 637, 'Comum': 1223, 'homem': 632, 'desafio': 357, 'VO': 1978, 'gerar': 8924, 'amas': 10820, 'haha': 1002, 'beijo': 2686, 'pedaços': 1571, 'nutella': 9842, 'Art': 13269, 'sacanagem': 11932, 'completa': 626, 'UE': 4363, 'Faltam': 2231, 'pica': 14585, 'instagram': 4996, 'isola': 1631, 'Linda': 2570, 'somar': 9531, 'canto': 10769, 'tuberculose': 9769, 'veta': 2560, '🇳': 457, 'American': 4670, 'peça': 4186, 'viciada': 8766, 'preferidos': 1582, 'textos': 9436, 'sofá': 1083, 'registram': 15859, 'Diretor': 625, 'sair': 624, 'entregar': 2665, 'Ferrari': 5328, 'delações': 2849, 'POVO': 7436, 'rap': 13207, 'fazendo': 119, 'oi': 279, 'acumula': 12809, 'Maracanã': 11237, 'adivinha': 4152, 'atual': 620, 'direct': 764, 'preguiçoso': 11964, 'chegado': 302, 'recorre': 136, '2º': 216, 'risco': 618, 'tomo': 5462, 'Escute': 11730, 'recrutamento': 193, 'boato': 3485, 'Anúncio': 8838, 'Ataque': 3496, 'falando': 616, 'Triste': 1126, 'AÍ': 7882, 'cê': 370, 'aguenta': 8463, 'Leonardo': 3908, 'Firmino': 3905, 'ex-espião': 9974, 'Fav': 68, '49': 2060, 'Taurus': 4895, 'festinha': 3195, 'pessoinhas': 9467, 'abraçar': 1018, 'Sp': 15251, 'Deus': 137, 'adota': 6796, 'precisava': 935, 'fiquem': 6520, 'chocolate': 7278, 'gomes': 610, 'expulsa': 10267, 'giro': 4168, 'PSOL': 268, 'retornar': 13801, 'Ficou': 5882, 'Ortega': 15433, 'esquece': 608, 'Canal': 2141, '🇦': 8347, 'restringir': 11693, '-via': 663, 'Dilma': 602, 'Marília': 4399, 'cristãos': 14576, 'conquista': 599, 'ha': 10879, 'mental': 1053, 'adicional': 3373, 'perguntar': 5910, 'chegamos': 2083, 'Compartilhando': 7624, 'PQ': 9847, 'covers': 4702, 'LINDA': 5565, 'remuneração': 14233, 'gasta': 5781, 'determina': 7040, 'integral': 1296, 'guardar': 3886, 'Martins': 1030, 'Favela': 8513, 'Ciro': 150, 'acompanhamento': 4377, 'festas': 5123, 'corridos': 1218, 'Ata': 7792, 'photoshop': 9931, 'SP': 595, 'li': 1244, 'venham': 5410, 'SEM': 3588, 'RJ': 594, 'pegando': 1964, 'bebidas': 3434, 'Famílias': 13265, 'Nn': 5759, 'Fies': 13493, 'explodir': 6442, 'assustador': 1429, 'Barroso': 3405, 'alega': 15814, 'Pasep': 8068, 'Inter': 589, 'minorias': 8141, 'May': 3057, 'preconceitos': 12088, 'afetar': 2277, 'PORRA': 3331, 'mesmos': 1165, 'enterrar': 7572, 'e62d5e14-8529-4c66-b67a-8b24c625aaeb': 15452, 'agredido': 11542, 'esteja': 1073, 'Sky': 13085, 'Jaguaribe': 9138, 'obg': 2372, 'cidade': 1967, 'Novo': 2733, 'Dica': 9530, 'genérico': 1867, 'inicia': 1717, 'Empresário': 4751, 'ninguém': 656, 'São': 239, 'idoso': 1526, 'Expedição': 5282, 'ex-mulher': 5019, 'votei': 7534, 'AND': 4010, 'nó': 13691, 'representação': 9270, 'cúpula': 9995, 'galera': 580, 'Passei': 9792, 'abandonar': 2464, 'famílias': 1601, 'parcela': 2841, 'ouvi': 5021, 'lanche': 4223, 'apoios': 246, 'Lisete': 7649, 'machucado': 10134, 'AGUENTO': 4077, 'assistiu': 1435, 'apertado': 2219, 'histórico': 3034, 'autismo': 10499, 'mandas': 1517, 'APAIXONADA': 13188, '2018': 1217, 'teatro': 7679, 'Neymar': 739, 'contigo': 1019, 'rostos': 6446, 'conseguiram': 654, 'merdas': 1904, 'Fagundes': 11899, 'beijando': 6603, 'equilibrar': 3834, 'RIO': 571, 'Copa': 1066, 'pensam': 2572, 'horário': 208, 'jeans': 12236, 'pêsames': 2942, 'Tarcísio': 12690, 'T': 1232, '°': 563, 'Adeus': 4202, 'voltar': 1739, 'NOSSA': 9632, 'leitores': 2879, 'Adolescente': 9197, 'sumiu': 2582, 'ida': 4227, 'Cientistas': 8717, 'cardápio': 15279, 'golo': 13534, 'sentimento': 708, 'dele': 631, 'conflitos': 12639, '80': 1961, 'mudança': 561, 'criancinhas': 14068, 'ceder': 9521, 'Pros': 9217, 'vimos': 1768, 'http': 14832, '🦊': 4333, 'posts': 8335, 'recriação': 8936, 'imprensa': 2538, 'permitiu': 9291, 'cantando': 4233, 'sofrer': 2319, 'msm': 1410, 'Alemão': 4957, 'Obra': 5118, 'hair': 635, 'campo': 479, 'CRISTO': 10592, 'Pare': 3183, 'lembrem': 1777, 'pesar': 4530, 'rapariga': 10968, 'indignação': 4021, '8': 1335, 'totalmente': 1910, 'mulheres': 115, 'kpop': 13669, 'saem': 551, 'irmã': 1856, 'Califórnia': 4308, 'Omg': 9324, 'chiclete': 729, ':-(': 411, 'aplica': 14153, 'recíproco': 12879, 'JAIR': 1158, 'radicais': 9681, 'tecnicamente': 5008, 'pomada': 6258, 'férias': 1051, 'sincero': 12513, 'soprano': 5713, 'Ministério': 6019, 'inspirou': 12916, 'homenageado': 197, 'torço': 11532, 'Buarque': 11430, 'Love': 4719, 'Los': 7463, 'juro': 372, 'coco': 4768, 'voces': 703, 'agir': 1093, 'facilita': 3142, 'escrota': 6296, 'cegas': 3571, 'GALERA': 568, 'Bob': 1707, 'verificar': 6492, 'percam': 6977, 'votações': 8577, 'Médico': 1182, 'sabado': 4294, 'prova': 877, 'corre': 1687, 'amoooor': 15490, 'Portal': 254, 'tradições': 15397, 'licitações': 12635, 'BC': 6659, 'renuncia': 10206, 'Corpo': 4741, 'rica': 2620, 'bruna': 9805, '17': 1596, 'estagnado': 8071, 'calada': 4402, 'ganhei': 3471, 'Coordenador(a': 15059, 'aceitou': 7036, '00:00': 15262, 'resolvido': 13532, 'Atentado': 10688, 'presidente': 220, 'conseguiu': 1742, 'físico': 505, '4,3': 7033, 'continue': 1921, 'gaja': 10434, 'Decepção': 5436, 'tentam': 1956, 'dama': 7678, 'esperei': 8851, 'Mangkhut': 5607, 'ensino': 1176, 'Trainee': 8050, 'samba': 2500, 'completamente': 2481, 'social': 615, 'amistosos': 10583, 'gestão': 58, 'Morre': 3867, 'vao': 2506, 'anime': 1658, 'relógio': 3290, 'Tabata': 8308, 'Sete': 1850, 'Egito': 4962, 'protagonista': 4126, 'monta': 14820, 'algum': 522, 'resposta': 478, 'navegador': 15372, 'denunciar': 10277, 'Pet': 896, 'tragédia': 3706, 'tuitar': 13621, 'Fundador': 986, 'DF2': 1722, 'Partido': 7467, 'ouço': 9117, 'oposto': 6366, 'Lindbergh': 10377, 'gravou': 4322, 'fiquei': 282, 'card': 15948, 'farmácia': 540, 'acordar': 2611, 'bandeiras': 1577, 'amor': 1045, 'operador': 15772, 'útil': 4513, 'compro': 8435, 'anos': 235, 'apontam': 14877, 'trair': 6458, 'Saiba': 4447, 'Bond': 1040, 'venda': 3682, 'chá': 11961, '60': 234, 'descartável': 15783, 'lamentar': 2897, 'ñ': 2135, 'depressão': 2578, 'disse': 398, 'No': 543, 'independência': 2197, 'podes': 1706, 'fruta': 7286, 'iluda': 2463, 'mala': 226, 'votado': 622, 'Casagrande': 13296, 'péssima': 670, 'subsídios': 14361, 'Cuba': 5552, 'deslumbrante': 13359, 'ocupam': 11377, 'esportivo': 8224, 'vinha': 4232, 'mineiro': 5372, 'Crie': 4879, 'distribuidora': 14748, 'Promotor': 5774, 'Cármen': 6990, 'Era': 2517, 'Maduro': 937, 'desativado': 5013, 'China': 3544, 'assista': 3661, 'q': 2779, 'm': 169, 'Alves': 3177, 'respondo': 1266, 'Pensa': 582, 'queimando': 15327, 'reunir': 14686, 'Ipea': 3768, 'corpo': 884, 'repasso': 14070, 'pênalti': 1028, 'acompanha': 435, 'delicada': 1503, 'PODE': 3396, 'será': 218, 'empreendedor': 12607, 'Falha': 12112, 'conversar': 334, 'pornô': 5374, 'cs': 1277, 'ESTA': 7188, 'animado': 4435, 'torcer': 5899, 'down': 3102, 'SO': 15009, 'cortaram': 10963, 'transplante': 5350, 'fotografar': 7942, 'Produção': 1607, 'permanece': 3963, 'paranóia': 11123, 'olha': 629, 'Bank': 3756, '1989': 8673, 'caros': 4234, 'Joinville': 3367, 'tiver': 215, 'Week': 12682, 'namorar': 3012, 'política': 289, 'Caio': 2892, 'valores': 5292, 'merda': 2612, 'Grand': 8078, 'transparente': 10545, 'iremos': 9452, 'uniforme': 2679, 'lindeza': 578, 'Instagram': 1583, 'anjo': 1539, 'digno': 4782, 'assiste': 207, 'outfit': 15994, 'gentileza': 4091, 'notificação': 6115, 'ANA': 8997, 'vetam': 13147, 'chovendo': 9517, 'protagonismo': 9108, 'Patané': 15815, 'Bradesco': 5966, 'ligaram': 14004, 'agradecer': 4889, 'Médicos': 3163, 'Nadja': 755, 'incorporar': 7066, 'Tara': 10477, 'site': 544, 'Lixo': 15215, 'Indonésia': 3253, 'dm': 2307, 'comparar': 12756, 'TEU': 6274, 'intervalo': 3669, 'visitas': 9834, 'bonitinho': 1478, 'Dos': 4504, 'xenofobia': 1886, 'EP': 2158, 'SÓ': 9846, 'feridas': 1610, 'voar': 13457, 'recebendo': 3716, 'estuprar': 6281, 'bolacha': 5237, 'Festa': 12297, 'fodas': 4872, 'quesito': 1541, 'palácio': 4191, 'chegando': 5075, 'nascer': 6844, 'budista': 11482, 'específico': 10985, 'crescem': 1406, 'reflexo': 5303, 'responsável': 1641, 'Aliança': 923, 'anta': 13011, 'estaria': 3456, 'cadeia': 5999, 'CANECAS': 4755, 'gols': 1027, 'Piauí': 10024, 'seco': 388, 'liga': 1149, '150': 2001, 'Análise': 1959, 'guerras': 9982, 'ótima': 974, 'recorrente': 4731, '2030': 7324, 'ouvindo': 7596, 'pessoa': 5, 'rs': 336, 'Abraço': 1712, 'legal': 1123, 'crio': 15412, 'FALOU': 9867, 'dor': 700, 'aceita': 3490, 'dúvidas': 768, 'Comunidade': 8341, 'convidada': 9596, 'existiu': 11003, 'o/': 10561, 'momentos': 1106, 'lembro': 601, 'casal': 3680, 'PSG': 5139, 'Amazon': 190, 'botei': 14579, 'arrependida': 9713, 'histórias': 7720, 'filosofia': 1320, 'mundinho': 4769, 'capazes': 9213, '42': 2066, 'parti': 12125, 'Atendente': 4539, 'achado': 4621, 'melhor': 784, 'vejo': 2916, 'corretoras': 15174, 'Carvalho': 4438, 'lança': 524, 'Época': 10303, 'pila': 4222, 'Pobre': 623, 'Detalhe': 4225, '3/10': 15220, 'mira': 977, 'comentarios': 14787, 'viraram': 1957, 'poluição': 12444, 'Mó': 9718, 'Otavio': 14924, 'ahahaha': 10517, 'utilizar': 2137, 'lgbt+': 10356, 'inverno': 6747, 'baixas': 15107, 'hidratação': 786, 'pérola': 10141, 'fatias': 6348, 'Tudo': 2659, 'Is': 8447, 'traição': 13563, 'dsclp': 3678, 'morte': 853, 'sucesso': 285, 'Grande': 1333, 'descobrir': 351, 'mamilo': 2889, 'soco': 11986, 'atrapalhar': 7310, 'aérea': 2146, 'falsas': 4207, '<pad>': 1, 'possamos': 4652, 'anti-petismo': 13884, 'Sua': 4583, 'discutir': 112, 'natural': 2915, 'dólar': 225, 'saída': 1042, 'gozar': 9918, '7h': 7210, 'morrer': 1169, 'perdeu': 1511, 'acesse': 773, 'cachorrinha': 76, 'validade': 13736, 'exaustão': 1102, 'Campinas': 11922, 'ideais': 2248, 'Mateando': 6774, 'Record': 6950, 'Pimentel': 2002, 'baixou': 15631, 'vergonha': 335, 'Lobo': 10505, 'We': 6389, 'Hahahahaha': 1828, 'abraçando': 14413, '90': 1012, 'coraçao': 8219, 'VEJAM': 11367, 'dscp': 9728, 'adversários': 6318, 'avança': 222, 'pé': 3477, 'casos': 2629, 'tl': 2550, 'gt;&gt;&gt': 2176, 'misógino': 15489, 'baby': 172, 'torto': 11134, 'lançamentos': 4419, 'nuclear': 3649, 'marco': 6107, 'vila': 8038, 'explosão': 931, 'parei': 1300, 'Esperamos': 5628, 'Sala': 6037, 'neles': 7354, 'bonitinha': 3055, 'faltas': 2626, 'particulares': 833, 'APENAS': 5483, 'Nesta': 344, 'brutal': 13974, 'doer': 1025, 'católicos': 9984, 'ficamos': 3172, 'serei': 6927, 'bebê': 1193, 'Mapa': 13307, 'jogos': 1314, 'EU': 2004, 'pariu': 8883, 'petista': 3558, 'daqui': 127, 'FAZ': 6312, 'capital': 5551, 'estratégias': 535, 'envio': 848, 'afeto': 5673, 'ano': 587, 'resto': 5740, 'jungkook': 4405, 'processar': 3093, 'Doria': 57, 'terras': 9300, 'DOIS': 1026, 'pessoas': 162, 'Sábado': 4607, 'Confesso': 4749, 'compartilhando': 9849, 'orgânicos': 9299, 'Pá': 14863, 'comprada': 3940, 'serzinho': 13122, 'achava': 5492, 'triste': 158, 'estaduais': 211, 'placar': 14782, 'Teremos': 8516, 'Nós': 3369, 'separação': 11138, '44': 2856, 'entender': 2417, 'CE': 2253, 'incomoda': 593, 'Registro': 9062, 'Xs': 9168, 'Escolha': 13644, 'Cruz': 231, 'guardo': 10537, 'acompanhar': 2028, 'fofas': 7504, 'servem': 8959, 'video': 99, 'Extra': 126, 'internada': 15102, 'gravando': 8155, 'Almoço': 922, 'parecer': 2085, 'vereadora': 14167, 'dependentes': 14134, 'right': 13127, 'ingresso': 4288, 'VIVER': 1652, 'negado': 12200, 'comia': 11476, 'nordestino': 4382, 'durou': 7580, '160': 9548, 'tiramos': 1485, 'Apoio': 2118, 'eleitoral': 209, 'odeiam': 1548, 'reage': 8127, 'ces': 612, 'Jogador': 14076, 'oportunidades': 146, 'poupa': 3437, 'mio': 8497, 'afetada': 11653, '2021': 7702, 'filme': 415, '29': 3812, 'Bolívia': 11076, 'crise': 903, 'Vietnã': 13249, 'Márcio': 907, 'recurso': 184, 'envolvendo': 3513, 'extremista': 9460, 'família': 196, 'bias': 1145, 'Amazônia': 1595, 'proposta': 1962, 'episódio': 6793, 'Suíça': 8310, 'feito': 4251, 'constante': 12903, 'tb': 502, 'PT': 948, 'Prince': 15403, 'premiada': 12786, 'lembrado': 1608, 'signo': 3631, 'avenida': 15100, 'calções': 11041, 'temprano': 7588, 'salarial': 915, 'skin': 380, 'situações': 161, 'missão': 4053, 'Messi': 2990, 'Robôs': 7205, 'Pesquisas': 4561, 'desenvolve': 3727, 'bissexual': 7372, '3272-8106': 7615, 'Luzia': 8110, 'saiu': 97, 'sentir': 2792, 'medida': 4206, 'bispo': 140, 'cabelos': 4417, 'comercial': 48, 'psicologicamente': 8124, 'comente': 3574, 'bermuda': 9470, 'solo': 3793, 'Não': 101, 'Matéria': 14993, 'procurei': 2023, 'concorrer': 6482, 'wins': 1316, 'Águas': 11585, 'tisti': 7737, 'começa': 238, 'US': 15139, 'reserva': 4029, 'acabei': 2124, 'combatem': 11657, 'garanta': 7941, 'generalizar': 13310, 'cantar': 1646, 'golpe': 1442, 'abraçada': 6199, 'colega': 1615, 'PN': 14861, 'devolver': 12718, 'chopp': 9869, 'Fly': 9597, 'cadê': 28, 'gabriel': 1250, 'funcional': 13420, 'know': 9307, 'nulo': 7344, 'prisão': 1289, 'Onda': 13033, 'again': 3835, 'máxima': 7985, 'bloqueado': 10906, 'condenada': 3859, 'entenderem': 14878, 'Conteúdo': 532, 'culpar': 12563, 'ganhar': 1089, 'sabia': 1035, 'primavera': 511, 'suspeitas': 71, 'email': 2185, 'grata': 3165, 'voltando': 80, 'constatação': 1127, 'apago': 15158, 'Pra': 882, 'ei': 4966, 'saído': 6167, 'oscilações': 6277, 'tapa': 441, 'consignado': 10582, 'Oq': 2828, 'identificado': 10637, 'MIM': 2525, 'reunião': 750, 'reputação': 2514, 'aparição': 11998, 'Harry': 40, 'economista': 9591, 'paradas': 1125, 'chave': 10878, 'sozinha': 199, 'Fábio': 597, 'possa': 2394, 'mínimo': 1419, 'esperança': 153, 'eleição': 273, 'irma': 7583, 'tenha': 2099, 'Mourinho': 5037, 'florestas': 12643, 'varias': 4038, 'justiça': 4642, 'mentir': 6789, 'escutar': 905, '6,4': 12537, 'Brother': 4688, 'baratinho': 10986, 'compras': 6136, 'trata': 7734, 'crl': 9600, 'DO': 570, 'pagos': 4973, 'relaciona': 8939, 'bloqueio': 14885, 'calma': 3545, 'representa': 719, 'gêmeos': 3255, 'laranja': 7052, 'entende': 4486, 'tomando': 4055, 'BEBÊ': 13056, 'aguentando': 1796, 'uau': 393, 'arrastado': 6057, 'Garrincha': 13489, 'amore': 3895, 'bloqueou': 13306, 'Viúva': 7974, 'AMO': 3889, 'ídolo': 1156, 'atacado': 946, 'vamos': 562, 'celular': 2071, 'citam': 2851, 'Gomes': 326, 'oportunidade': 2602, 'Banda': 15602, 'Porque': 6808, 'Nossa': 2162, 'Odebrecht': 2850, 'aluna': 14106, 'talento': 141, 'Primeiro': 46, 'chegam': 9267, 'homicídios': 982, 'abriu': 9972, '1,2': 9224, 'existe': 1481, 'colchão': 12243, 'Minaj': 4429, 'concretizar': 824, 'supremo': 11441, 'análises': 9396, 'nenhum': 201, 'semelhantes': 14260, 'bj': 12006, 'Será': 430, 'gestação': 13981, 'conhece': 2026, '2000': 13926, 'Supremo': 1822, 'troca': 181, 'mima': 14133, 'Sexta-feira': 7589, 'Brasil': 559, 'Coimbra': 2726, 'Dormir': 7308, 'apanhar': 7981, 'deixo': 677, 'joy': 15749, 'cu': 875, 'Randon': 1941, 'hackers': 1345, 'FAMÍLIA': 2007, 'Queria': 36, 'trocar': 693, 'RN': 6092, 'mandaram': 6441, 'boleto': 9786, 'Ia': 5977, 'aceitam': 10287, 'vsf': 7352, 'uva': 13655, 'simulado': 12425, 'merecem': 5960, 'deixou': 2871, 'Marcio': 8875, 'Andrade': 2566, 'Seu': 895, 'Potter': 41, 'daí': 1132, 'saúde': 391, 'Guru': 14582, 'creio': 2445, 'pingo': 13138, 'fandom': 4096, 'Acabou': 1381, 'livros': 1476, 'Assistente': 482, 'conteúdos': 3084, 'chorar': 412, 'AMANHÃ': 7906, 'saia': 6755, 'Bozo': 1997, 'prédio': 1189, 'Miller': 14639, 'mestre': 4204, '   ': 256, 'possuem': 13132, 'sdd': 2780, 'dia': 60, 'mísseis': 3652, 'Lehman': 10194, 'muitao': 3802, 'Enquanto': 1523, 'MELHOR': 2222, 'dirigindo': 13185, 'adiado': 9519, 'Sexo': 38, 'levam': 4563, 'CARA': 1841, 'ficar': 157, 'golpistas': 4674, 'gcf': 1495, 'separa': 11098, 'espancar': 9178, 'PTista': 11924, 'decidido': 249, 'pequenininho': 9152, 'preparando': 12658, 'ESTE': 11039, 'nojento': 7077, 'atualizei': 4560, 'Itajaí': 11887, 'mostrando': 5576, 'cheirar': 13427, 'relações': 6453, 'Theresa': 3056, 'cão': 7564, '.-': 9282, 'rapido': 2622, 'preocupados': 2257, 'startup': 7442, 'agr': 443, 'tentado': 14027, 'confirmar': 1080, 'curtem': 883, 'Europa': 3623, 'período': 3372, 'razões': 1680, 'Bahia': 6526, 'pagamentos': 11193, 'racista': 476, 'comemora': 10869, 'sentar': 6314, 'emocionante': 12411, 'coisas': 1462, 'celulares': 8498, 'agro': 9121, 'direito': 387, '6,5': 2820, 'Deixar': 5670, 'nerd': 12885, 'vítima': 2105, 'dirigiu': 14042, 'desabar': 12644, 'Parabéns': 1303, 'reformas': 4159, 'ri': 3454, 'políticos': 792, 'carregar': 2073, 'conseguimos': 8284, 'discute': 3981, 'otaria': 450, 'membros': 4411, 'voo': 47, 'besta': 12059, 'otimismo': 6588, 'viúva': 8877, 'internado': 32, 'Moro': 790, 'cirurgia': 30, 'af': 4271, 'WhatsApp': 4030, 'concorrente': 7501, 'rim': 3550, 'ganhando': 4932, 'Estagiário': 1881, 'maldição': 15656, 'autor': 2970, 'descer': 1762, 'curtindo': 1924, 'grau': 5030, 'secretaria': 14547, 'OBRIGADO': 3919, 'Gal': 3108, '89': 9447, 'permissão': 6302, 'ar': 386, 'top': 2048, 'Lute': 12933, 'acham': 1104, 'enjoada': 9357, 'máscara': 3297, 'moradores': 7528, 'vacinas': 15203, 'nadja': 8710, 'REAL': 5041, 'comissão': 8029, 'alunos': 1784, 'esperam': 7690, 'pah': 3067, '110': 12550, 'ouvir': 1920, 'abraço': 155, 'TUA': 2523, 'Externo(a': 13020, 'funcionam': 9907, 'ligada': 3450, 'passará': 789, 'exibe': 5922, 'corta': 2906, 'elegeram': 14425, '2014': 2962, 'chan': 3683, 'feel': 889, 'Hill': 9744, 'imagino': 1086, 'Lol': 13641, 'acha': 448, 'dependendo': 9660, 'tentou': 1759, 'sequestra': 13455, 'candidato': 621, 'chama': 748, 'preguiça': 3446, 'Azevedo': 2359, 'passou': 2727, 'Gato': 6848, 'aproveitar': 668, 'chamar': 328, 'Família': 6124, 'japonesa': 8843, 'Daqui': 1231, 'picada': 9608, 'sobe': 1630, 'publico': 1656, 'telefone': 3520, 'Deixe': 1804, 'postagem': 10861, 'necessariamente': 4896, 'Maricá': 13838, 'geralmente': 12684, 'desculpe': 5207, 'free': 5884, 'piticos': 13979, 'igualdade': 528, 'Tempo': 2716, 'admiração': 2101, 'ideia': 2274, 'Apesar': 1780, 'confirmados': 9941, 'combater': 983, 'ufa': 2344, 'Santuário': 2756, 'Mesmo?': 2128, 'narrativa': 8374, 'namoral': 865, 'esmalte': 5275, 'moral': 27, 'Galera': 6720, 'OBRIGADA': 7192, 'ibope': 8615, 'ai': 11, 'ferramentas': 341, 'padre': 3829, 'frente': 1353, 'Tencent': 13502, 'simpatia': 4470, 'ilha': 2790, 'Es': 10774, 'ganha': 1005, 'Buenos': 10634, 'Carol': 8214, 'engano': 4197, 'Mais': 96, 'cria': 424, 'Nosso': 2152, 'ambientes': 9944, 'todinha': 4183, 'encontrou': 6788, 'estabilizou': 9964, 'Terremoto': 3249, '..': 51, 'funciona': 349, 'plano': 680, 'surgem': 4336, 'distribuir': 145, 'grato': 11286, 'UFSC': 6717, 'congresso': 686, 'matador': 14625, 'prof': 9840, 'ameaça': 1024, 'diabo': 10872, 'motivo': 1072, 'deflagra': 14283, 'papo': 4072, 'comecei': 1137, 'TRABALHISTA': 15135, 'juiz': 2799, 'paralelo': 15488, 'estarem': 5674, 'eternamente': 11208, 'transmissão': 2424, 'penal': 12499, 'Já': 515, 'mao': 9923, 'entenderam': 2178, 'moi': 6833, 'tinham': 1142, 'ciro': 609, 'Portanto': 4296, 'definida': 14872, 'fotos': 640, 'americana': 1389, 'mimado': 4508, 'dependem': 12372, 'conte': 5629, 'básicas': 14801, 'urgente': 1522, 'Paulo': 240, 'porca': 13279, 'vdd': 1309, 'Hélio': 928, 'fixa': 12559, 'queria': 67, 'estupida': 15050, 'Aposto': 12626, 'governo': 681, 'entrevistam': 856, 'Distrital': 15528, 'Primavera': 3535, 'acompanhe': 1428, 'comboio': 2093, 'desbloquear': 15395, 'Team': 8140, '4,19': 8092, 'colinha': 12895, 'kabum': 10049, 'fiscalização': 14698, 'TB': 3254, 'chegou': 730, 'saudade': 15, 'fascista': 949, 'Ibovespa': 4842, 'Fabricante': 799, 'sozinho': 3161, 'aproxima': 165, 'conhecemos': 13977, 'boku': 13251, 'naoo': 1056, 'Documentário': 15266, 'É': 70, 'pena': 323, 'representante': 2310, 'Grécia': 14692, 'petistas': 4392, 'bagunça': 10770, 'externa': 1973, 'jo': 9327, 'hora': 956, '900': 2264, 'FEMSA': 4881, 'carregando': 13078, 'mood': 11902, 'roubar': 203, 'terrível': 332, 'justo': 1926, 'feed': 9227, 'encontra': 195, 'batido': 6330, 'boletim': 3199, 'Estados': 1063, 'Planos': 1650, 'Velha': 3377, 'égua': 11699, 'ditaduras': 6851, 'namo': 2069, 'po': 1420, 'ignorância': 2165, 'aproveitei': 7390, 'Jogos': 1974, 'ração': 86, 'internas': 14448, 'xingando': 552, '513e3e9c-62cd-450b-be8b-62e86f7844f4': 5989, 'contratando': 7675, 'empregos': 425, 'trabalhista': 4113, 'atropelamento': 6241, 'médio': 1177, 'anima': 7401, 'gastronomia': 4578, 'estados': 1581, 'AMIGA': 2260, 'FODA': 9914, 'legendar': 314, 'Baixe': 3207, 'eleita': 7322, 'pegava': 12356, 'evangélico': 8402, 'percebem': 5744, 'alianças': 14979, 'Online': 255, 'paraplégico': 15360, 'bozonaro': 11074, 'públicos': 4450, 'minina': 12396, 'ex-presidente': 2773, 'orgulho': 66, 'amorzinho': 3931, 'chuva': 512, 'fome': 1185, 'lançará': 1215, 'pai': 236, 'reforça': 2654, 'acusam': 10213, 'gorda': 1671, 'resiste': 8362, 'Vox': 9326, 'Vendas': 1754, 'positivo': 3999, 'mostro': 6894, 'matrículas': 835, 'pesquisei': 6486, 'antecipa': 1008, 'Beyoncé': 11593, 'Ibaneis': 1721, 'sofri': 6214, 'Paes': 3130, 'Solidariedade': 10755, 'lava': 8, 'Merkel': 11311, 'inspira': 42, 'camisa': 4602, 'registrou': 6864, 'Luiz': 2599, 'válidos': 2065, 'merecia': 5669, 'TJ': 11643, 'imagem': 1996, 'cabelo': 9, 'ponte': 5962, 'lamento': 8444, 'falo': 2396, 'remover': 4297, 'Bairro': 926, 'segui': 25, 'evidente': 9898, 'preparado': 2683, 'temia': 3288, 'Selena': 13584, 'amanhã': 95, 'voto': 1090, 'vir': 366, 'divergem': 7920, 'Na': 775, 'IN': 13781, 'lesão': 9696, 'abandonada': 77, 'curto': 4166, 'AFF': 8027, 'torneios': 15504, 'ESSA': 8644, 'karma': 11936, 'Cabral': 6644, 'Hahaha': 10187, 'Vão': 11148, 'aponta': 108, 'Péssimo': 7715, 'fada': 5368, 'James': 1039, 'adulto': 7070, 'urna': 2078, 'obrigatório': 7037, 'pagamento': 1272, 'leitura': 8486, 'salvam': 3687, 'block': 2095, 'famosinho': 11818, 'cheirinho': 17, 'quiser': 514, 'debate': 699, 'empata': 5007, 'Carros': 8774, 'escapa': 14381, 'céus': 14058, 'choro': 878, 'deixar': 202, 'MUNDIAL': 13229, 'melhoras': 1738, 'doloroso': 15041, 'Palocci': 6466, 'descrever': 3750, 'vício': 3114, 'e-mail': 339, 'buraco': 442, 'Haddad': 135, 'Ativista': 3677, 'roubos': 13797, 'Desafio': 6555, ':-((': 15281, 'reajuste': 834, 'icon': 1067, 'nois': 4071, '32': 6656, 'conclusões': 4809, 'cel': 5726, 'frango': 3643, 'brinca': 4272, 'As': 673, 'mandado': 103, 'Agradeça': 7193, 'devo': 3213, 'jovem': 1901, 'comentou': 15916, 'Costa': 3109, 'encerrar': 3650, 'Arlindo': 230, 'relata': 8676, 'PSB': 8169, 'letra': 2213, 'cheirosa': 15854, 'fisica': 5862, 'Abraços': 3137, 'italiana': 4766, 'agarradinha': 11322, 'Ver': 2129, 'Risco': 10720, 'pagar': 173, 'sul-coreano': 6028, 'rj': 12572, 'dormir': 405, 'Amores': 12281, 'tranquila': 998, 'psicólogos': 14600, 'pintado': 9027, 'cursos': 2192, 'Antônio': 11738, '4,16': 4309, 'amar': 1509, 'Américas': 6690, 'acena': 15005, 'fude': 9890, 'constituição': 687, 'ju': 15821, 'brincando': 4353, 'condenam': 9937, 'fingir': 5870, 'história': 679, 'fique': 471, 'publicação': 345, 'lembrar': 3048, 'Clique': 2734, 'costumo': 6106, 'Johnson': 13333, 'ajuda': 1416, 'CARREIRAS': 8558, 'apelo': 243, 'chegada': 1259, 'cabelinho': 7132, 'Quando': 1003, 'limpando': 13460, 'refificado': 4943, 'Último': 3241, 'tarifa': 6946, 'TE': 1979, 'necessário': 3240, 'Pedras': 13942, 'Infelizmente': 82, 'falei': 3272, 'malas': 10625, 'Novidades': 7911, 'Horizonte': 1756, 'machucando': 15336, 'esgotam': 2341, 'hepatite': 1868, 'causa': 852, '20:30': 15084, 'nn': 6902, 'sangrar': 15162, 'nela': 325, 'guia': 12276, 'conseguir': 2507, 'PSL': 221, 'Nome': 5840, 'coitada': 1284, 'Bill': 6632, 'próprias': 959, 'Preço': 4984, 'Outono': 3575, 'oscila': 12446, 'fzr': 7533, 'segurança': 2434, 'Ney': 12316, 'eletrônicas': 3494, 'dai': 6744, 'Advogados': 3343, 'trazer': 84, 'Tbm': 5157, 'Nice': 9141, '....': 1286, 'dao': 15497, 'ah': 1479, 'Datafolha': 109, '2002': 2874, 'perder': 297, 'desculpa': 110, 'aprova': 3822, 'africanos': 14217, 'horas': 14, 'Imagina': 3122, 'Exposição': 3725, 'autoridades': 6452, 'Rainha': 9449, 'Muito': 116, 'definitivamente': 711, 'morta': 3484, 'UTI': 33, 'merece': 657, 'serem': 2194, 'época': 2963, 'travar': 10017, 'justificativa': 2634, 'desculpem': 1038, 'Medina': 14371, 'Gregory': 1327, 'tatuagem': 122, 'Almir': 11904, 'constar': 6926, 'envolvidos': 2353, 'parou': 2318, 'calças': 843, 'Toyota': 7141, 'Suas': 258, 'ajudar': 371, 'desistido': 14442, 'votar': 1285, 'desce': 15953, 'investem': 14895, 'premiação': 5892, 'informações': 428, 'ante': 4580, 'PA': 4940, 'complicadas': 7995, 'Marketing': 531, 'Manoel': 15063, 'Prefeitura': 5001, 'Nos': 4195, 'Brasileiros': 1255, 'entretenimento': 4066, 'mortas': 6905, 'defeitos': 10387, 'menores': 8523, 'design': 1657, 'PC': 438, 'Ao': 2728, 'AAA': 5530, 'apaixonado': 75, 'renda': 2336, 'meta': 266, 'séries': 318, 'aaa': 727, 'Suprema': 2801, 'Leitão': 6122, 'passarem': 5012, 'dizia': 3633, 'covinha': 5265, 'van': 4710, 'è': 3230, 'elegeu': 269, 'central': 9085, 'muita': 270, 'MENINO': 15268, 'competir': 8474, 'resolva': 10453, 'virtual': 2236, 'UM': 650, 'obvio': 15337, 'jato': 14774, '4ª': 12137, 'comprovante': 7312, 'apertar': 11050, 'arrasada': 7477, 'termos': 274, 'Fifa': 737, 'France': 11967, '2,5': 8020, 'piorando': 1966, 'ânimos': 4605, 'iogurte': 6154, 'encheu': 6534, 'Porto': 485, 'seguir': 967, 'impulsionar': 15924, 'atrasou': 13685, 'precisa': 319, 'comunistas': 9562, 'SIM': 3885, 'MV': 2486, 'esperando': 4224, 'Você': 284, 'moda': 4064, 'fala': 467, 'How': 8255, 'Acordar': 3462, 'jackson': 8845, 'ficaram': 2127, 'MUITO': 288, 'facto': 5257, 'procurar': 2025, 'Let': 8012, 'adorei': 7999, 'jovens': 6386, 'cae81f58-2a01-423e-9fe3-b5e448f4adc0': 13562, 'pk': 2022, 'abraça': 9893, 'nesses': 1806, 'BOLSONARO': 3789, 'Imaginem': 7535, 'Fazer': 251, 'identificar': 11550, 'Se': 214, 'geração': 3050, 'perfeita': 7017, 'Clima': 13620, 'produtos': 758, 'ministérios': 11415, 'George': 1324, 'correio': 14909, 'EUA': 855, '10': 355, 'Câmera': 12267, 'google': 5722, 'Jodie': 4125, 'academia': 2088, 'trará': 3350, 'Samuel': 6653, 'presos': 536, 'ate': 1101, 'lançado': 7232, 'confie': 11707, 'acordada': 7717, 'crianças': 1810, 'Bial': 13165, 'PB': 10507, 'Whatsapp': 716, 'rafael': 9205, 'programa': 574, 'relacionadas': 13671, 'TVI': 4649, 'humanas': 3282, 'poupança': 2821, 'pobres': 5705, 'pais': 900, 'saio': 134, 'Happy': 11968, 'Numa': 6872, 'democratas': 3389, 'Flávio': 5550, 'importantíssimo': 8532, 'creme': 14357, 'eficazes': 5501, 'nadaaa': 15639, 'impulso': 13987, 'deito': 9042, 'ler': 1839, 'Fato': 13665, 'Precisa': 11715, 'R$': 187, 'preocupes': 4833, 'retorno': 1922, 'antiga': 5916, 'Lipa': 12661, 'cigarro': 130, 'carinhos': 13802, 'minuto': 8713, 'Qual': 7627, 'furtado': 15833, 'merecido': 14636, '-&gt': 9930, 'curti': 4788, 'renúncia': 12160, 'My': 2488, 'comprar': 765, 'aprendi': 4087, 'Fake': 5545, 'whatsapp': 421, 'Assim': 1928, 'aleatórios': 12124, 'executivo': 9492, 'Naruto': 4347, 'bianca': 13956, 'morais': 3295, 'Jundiaí': 423, 'Fernando': 2616, 'reduz': 3380, 'acusação': 2797, 'PCO': 11900, 'Acir': 11541, 'Jhonatan': 5787, 'esquecem': 10095, 'Fim': 4502, 'Continue': 294, 'Suzano': 3532, 'prejudica': 11307, 'dança': 6392, 'disseste': 9455, 'entrando': 12526, 'salvar': 3256, 'decisão': 1802, 'Acéfalo': 11849, 'DUBLADA': 4008, 'demorado': 12991, 'Imprensa': 6779, 'autoritário': 12154, 'olhadinha': 8010, 'Médio': 9183, 'or': 1817, 'indonésio': 2058, 'olhava': 3236, 'diferença': 530, 'governos': 210, 'games': 298, 'exalta': 2772, 'salve': 300, 'simplicidade': 1702, 'bateria': 1383, 'estimação': 5589, 'instalação': 13076, '6,8': 11364, 'Cruzeiro': 583, 'mundo': 634, '🤗': 2033, 'banho': 7, 'ameaças': 4276, 'massa': 303, 'Analista': 306, 'universidade': 3015, 'use': 9314, 'SEU': 1637, 'correto': 2936, 'queremos': 8285, 'enquete': 4194, 'diverte': 1418, 'SEI': 3916, 'curtas': 1884, 'serviços': 3543, 'minions': 952, 'desconforto': 556, '05': 8984, 'profissionalismo': 15540, 'ligados': 9081, 'fantoche': 2934, 'começar': 133, '2005': 6381, 'afim': 904, 'Belo': 1755, 'troco': 6601, 'grabe': 15847, 'Concordo': 310, 'deles': 1536, 'vermelha': 4501, 'Shakespeare': 12894, 'trilhas': 6947, 'acesso': 1723, 'coleguinha': 11822, 'apaixonar': 1515, 'diesel': 1698, 'Padaria': 8437, 'idiomas': 315, 'DAS': 9497, 'CLARO': 10263, 'vaca': 12289, 'seguiu': 18, 'Anatel': 5192, 'Jandira': 14280, 'Imagino': 9700, 'convocação': 4641, 'violência': 984, 'mia': 7921, 'chorando': 1070, 'dps': 1058, 'grupos': 304, 'Alckmin': 100, 'Almoxarife': 14891, 'visto': 376, 'Procura': 6939, 'moro': 1561, 'canalha': 8720, 'turma': 1883, 'nazista': 329, 'bichos': 6158, 'Karnal': 10138, 'Jair': 1835, 'oficial': 1584, 'soucis': 1097, 'calor': 4761, 'Dizem': 5869, 'Rappi': 129, 'recebidos': 11160, 'Multishow': 8326, 'furacão': 1260, 'bar': 410, 'atividades': 7104, 'Aluno': 1682, 'Mulheres': 8064, 'larissa': 3289, 'defensor': 6507, 'gratidão': 1703, 'Igor': 4139, 'To': 605, 'seguro': 3168, 'Dior': 3576, 'link': 771, 'caneta': 1413, 'acabar': 685, 'aumentada': 13709, 'profissional': 343, 'fudida': 1321, 'chega': 12, 't': 3944, 'Visite': 10018, 'derrota': 3960, 'sitio': 1798, 'IS': 5256, 'arthur': 15915, 'am': 1952, 'hm': 3011, 'adolescente': 1524, 'histórica': 167, 'leia': 1166, 'há': 1490, 'amorosa': 14905, 'Coca-Cola': 3433, 'stora': 2983, 'Hahahahahaha': 359, 'passeios': 12072, 'críticas': 56, 'tao': 1713, 'Aprenda': 7473, 'NÉ': 495, 'campanha': 277, 'amigas': 756, 'revela': 1343, 'eita': 2389, 'ngm': 9537, 'hate': 2551, 'Estava': 6050, 'ouviu': 6715, 'ferramenta': 192, 'aparecer': 2079, 'dizerem': 15027, 'certas': 72, 'vice-presidente': 1426, 'olhada': 4535, 'manteve': 11338, 'Programador': 8095, 'Dallagnol': 13824, 'matar': 204, 'receita': 5505, 'imaginação': 8630, 'frustrado': 11007, 'páginas': 305, 'trilhão': 15726, 'chorei': 603, 'militar': 1443, 'quase': 557, 'porta': 379, 'Água': 783, 'zuando': 13898, 'títulos': 8193, 'curta': 996, 'entregue': 2713, 'Me': 1265, 'analisa': 4245, 'mortos': 3252, 'Tão': 320, 'desiste': 191, 'específica': 1297, 'tah': 4503, 'pets': 9333, 'posse': 5080, 'artistas': 233, 'ursa': 14486, 'RS': 309, 'troféu': 15975, 'resgate': 5000, 'Logo': 3506, 'forças': 3171, 'inflamada': 13439, 'etc': 394, 'acharam': 11562, 'recebe': 2089, 'fecha': 2103, 'FAZENDO': 14672, 'criancinha': 7350, 'excluída': 13384, 'Assiste': 724, 'povoado': 11614, 'armário': 7157, 'lembrando': 9126, 'saudita': 9932, 'cagar': 815, 'atrair': 245, 'sto': 8181, 'Sem': 385, 'preocupe': 1572, 'levaram': 5020, 'meia': 490, 'houver': 400, 'Vou': 132, 'desanimado': 11308, 'Vamos': 1639, 'ótimos': 2032, 'TRABALHISTAS': 8559, 'dinheiro': 538, 'gratificante': 14362, 'pessima': 1175, 'general': 3497, 'gt': 39, 'pistas': 3110, 'olhem': 2939, 'Disney': 545, 'aceitem': 2138, 'bilhete': 403, 'músico': 12039, 'destino': 5691, 'quebrei': 3666, 'cobro': 1927, 'indo': 404, 'get_repost': 4593, 'atira': 1683, 'adoro': 728, 'dependente': 11752, 'lançada': 2806, 'qr': 8250, 'repasse': 14840, 'relacionamentos': 179, 'Presidência': 1219, 'Comece': 4951, 'Felicidades': 4274, 'desanima': 13785, 'Duas': 7948, 'bancos': 3357, '🤷': 8669, 'to': 73, 'usei': 8371, 'tacar': 15216, 'valer': 8948, 'tarifas': 2471, 'operar': 5860, 'gourmet': 10202, 'roupa': 2588, 'Assembleia': 943, 'dela': 10, 'VOCÊ': 8271, 'Gerais': 4661, 'tan': 3743, 'João': 498, 'sabores': 5323, 'gostado': 2027, 'Gaga': 7361, 'Imobiliário': 15986, 'bike': 10260, 'Doce': 1088, 'observação': 9427, 'Serra': 4558, 'quantos': 2969, 'adora': 414, 'caguei': 481, 'Holocausto': 14300, 'liberada': 12147, 'JN': 920, '9h': 6912, 'admirando': 11881, 'normal': 1103, 'completos': 14048, 'Júlio': 2535, 'beijos': 1870, 'cem': 15176, 'caraca': 12502, 'pão': 4979, 'desabafo': 12505, 'agosto': 426, 'Carinho': 12785, 'cidadania': 4379, 'bacanas': 14504, 'assistindo': 866, 'focado': 6691, 'acampamento': 11124, 'Aaaaaaaaa': 6740, 'agricultura': 14952, 'reprovado': 12157, 'espiritual': 1054, 'deliciosa': 15082, 'luana': 3425, 'Caged': 427, 'conquistar': 1095, 'céu': 6071, 'Paint': 15077, 'Dirceu': 1214, 'questões': 2809, '35': 1139, 'vontade': 731, 'configuração': 15169, 'Perdi': 1393, 'primeiros': 3841, '28/09': 7084, 'agoniada': 2110, 'maneiro': 13184, 'agredir': 11650, 'td': 934, 'amigo': 280, 'Grupo': 1341, 'Niterói': 537, 'durmam': 15003, 'Gomez': 13585, 'Aff': 11043, 'fodam': 3578, 'economistas': 10990, 'clássicos': 4236, 'R.': 10208, 'el': 444, 'Podem': 7279, 'Almoxarifado': 12248, 'graduação': 10491, 'avisar': 1564, 'Azul': 987, 'Di': 13358, 'últimos': 452, 'compensação': 15380, 'combinar': 4735, 'minutos': 455, 'Mercury': 12369, 'campeonatos': 585, 'Isto': 5288, 'Administrativo': 1939, 'coreanos': 477, 'Eunício': 1486, 'ligam': 13869, 'camisas': 12313, 'aguentar': 3334, 'ESSAS': 8268, 'epoca': 3232, '▒': 1667, 'decide': 565, 'trouxa': 11130, 'ps4': 10685, 'personagem': 1456, 'precisando': 463, 'Fortaleza': 2252, 'Técnica': 14781, 'chances': 260, '9': 451, 'Store': 6642, 'convosco': 13367, 'bico': 3592, 'PE': 2107, 'proporções': 10863, 'sofre': 6673, 'Tarde': 2815, '14h': 2322, 'rosas': 3393, 'gay': 1916, 'falsos': 5768, 'estejam': 4247, 'ansiedade': 3856, 'Arte': 3185, 'Paula': 754, 'SE': 3397, 'afirmou': 147, 'direitos': 3404, ':-)': 480, 'cargo': 8066, 'negocio': 10512, 'humorada': 2218, 'E': 395, 'importações': 10163, 'desnecessário': 9462, 'Recursos': 483, 'colaboração': 8307, 'importa': 453, 'começado': 5609, 'MAIS': 4078, 'ido': 491, 'FDS': 2154, 'Operação': 4433, 'praticamente': 5391, 'capeta': 12427, 'seremos': 12294, 'infeliz': 3447, 'Brazil': 3378, 'Legal': 8172, 'helicóptero': 9292, 'RL': 12466, 'Veja': 496, 'VÃO': 13007, 'Kit': 11464, 'deixava': 4794, 'Menina': 1644, 'orientações': 10981, 'hj': 78, 'circula': 11806, 'Contabilidade': 308, 'reais': 275, 'favs': 15943, 'CBN': 501, '20h30': 15256, 'greve': 508, 'PCC': 9561, 'G1': 500, 'baixa': 2335, 'trabalhistas': 6943, 'procurado': 4779, 'flash': 2018, 'candidatura': 123, 'andas': 1518, 'aproximadamente': 11519, 'Pas': 1096, 'donos': 12850, 'complicado': 2363, 'gostei': 516, 'Bélgica': 4476, 'cérebro': 10650, 'Feira': 1450, 'hahahha': 4361, 'Vejam': 520, 'oferecem': 13825, 'tava': 807, 'DEUS': 3921, 'encontram': 521, 'respondem': 7892, 'vivo': 2381, 'retrata': 5033, 'garganta': 879, 'paia': 11279, 'investir': 526, 'policia': 11341, 'inventar': 2423, 'linda': 321, 'Mara': 1774, 'acompanho': 9037, 'contamos': 1164, 'perguntinha': 6235, 'trampo': 81, 'memes': 3974, 'Tony': 13227, 'banqueiro': 104, 'tenso': 2216, 'Verdade': 2012, 'cultural': 12590, 'ana': 5763, 'fundo': 525, 'matéria': 534, 'coação': 10932, 'Daniel': 5466, 'representam': 8893, 'jisung': 2087, 'roxinho': 6600, 'Branco': 3984, 'acabamos': 5866, 'DAVID': 1114, 'Férias': 12182, 'velho': 6232, 'vagabundos': 15096, 'ficam': 613, 'BEMOL': 1115, 'sorriso': 2618, 'Empregos': 1116, 'clica': 770, 'Parlamento': 14259, 'supermercado': 13982, 'daria': 4650, 'pqp': 1110, 'BAHIA': 1118, 'maravilhas': 15271, 'Entendi': 10626, 'senado': 8576, 'mesmas': 2526, 'vídeo': 53, 'conheça': 4991, 'fetal': 5970, 'nisso': 1197, 'Hospital': 2605, 'maria': 1121, 'LEI': 10363, 'referências': 9153, 'mostra': 1960, 'money': 11260, 'aberta': 3605, 'encosta': 12729, 'utilidade': 11706, 'passava': 2980, 'praga': 11993, 'Meu': 2258, 'notou': 1124, 'bala': 4827, 'bandidagem': 5107, 'hit': 9516, 'eventos': 652, 'sentindo': 198, 'abertura': 1128, 'Venham': 2708, 'Pará': 1580, 'Quem': 973, 'Jeff': 13740, 'voando': 12026, 'festa': 1129, 'sabatinado': 15090, 'copiei': 1837, 'privatizar': 7575, 'Espetacular': 11586, 'preciosa': 3470, 'eleitores': 107, 'agrícola': 10226, 'contando': 1133, 'dodói': 6867, 'entreter': 8665, 'brilha': 10595, 'príncipe': 3875, 'demorar': 1134, 'Oktoberfest': 11566, 'Nóis': 3140, 'inscrevi': 3656, 'Valdo': 8289, 'desabafar': 1387, 'Participando': 12339, 'fonte': 3087, 'Caiado': 7743, 'isolada': 15716, 'enviei': 14718, 'desenvolvem': 4978, 'make': 10836, 'almocei': 3642, 'madrasta': 3492, 'atropelada': 10529, 'Passar': 3379, 'patamar': 2082, 'semestre': 1298, 'ahah': 1617, 'influencia': 14899, 'passo': 2845, 'Sdds': 2042, 'judeus': 8340, 'ensinar': 1144, 'Nobel': 1322, 'soloq': 10712, 'rainha': 7054, 'fecharam': 15272, 'feriu': 1147, 'vomitar': 7265, 'lider': 8428, 'largar': 8302, 'curtiu': 6731, 'coitado': 3891, 'estagnação': 15787, 'cena': 1908, 'Cobra': 3271, '03': 8296, 'violão': 8631, 'ein': 1148, 'punido': 8612, 'gesto': 475, 'foo': 337, 'bonito': 2183, 'participação': 1150, 'Profissional': 7180, 'transformou': 10401, 'vento': 4200, 'monstro': 1153, 'trevas': 7574, 'Data': 9595, 'VEZ': 14482, 'noia': 5182, 'exato': 1135, 'Estes': 2880, 'amg': 2681, 'Time': 6604, 'Messias': 1159, 'Vítimas': 958, 'Henry': 6000, 'questao': 15765, 'bombom': 14746, 'sequestro': 7687, 'sofrendo': 3801, 'macho': 3618, 'mara': 1160, 'avós': 3877, 'busca': 1504, 'votou': 1911, 'Estão': 6559, 'Tédio': 10912, 'Bancada': 2782, 'gasolina': 1171, 'detalhe': 4415, 'ficou': 1496, 'Estou': 1782, 'londres': 2745, 'Almeida': 697, 'Freitas': 15225, 'dura': 5002, 'Pacheco': 6980, 'afetadas': 8546, 'relacionado': 12542, 'registros': 9856, 'metros': 1366, 'baita': 4916, 'Adriana': 7316, 'Química': 1323, 'Tirei': 7108, 'negou': 9459, 'Nunca': 200, 'deitado': 15917, '2010': 1173, 'Louis': 3858, 'Davi': 6925, 'estresse': 2303, 'Continua': 2119, 'exibição': 5421, 'Delator': 12118, 'jogo': 2180, 'Estadão': 4911, 'FILMES': 5455, 'acordo': 803, 'transforma': 1183, 'traga': 4752, 'durante': 2485, 'hospital': 1186, 'cela': 6804, 'nacionalidade': 1190, 'francesa': 1191, 'fortalece': 1995, 'bebendo': 5495, 'ande': 2408, 'dividido': 1379, 'hoje': 340, 'Ai': 1192, 'cinemas': 8661, 'divulgar': 4995, 'Evento': 5224, 'esforçando': 12532, 'basta': 1195, 'analistas': 9142, 'fera': 1210, 'problem': 607, 'PAP': 13368, 'PELO': 7439, 'achei': 1199, 'anônima': 6853, 'Rock': 1201, 'Quais': 1295, 'abalar': 13666, 'suspende': 3542, 'divulga': 1204, 'desempregados': 2459, 'temem': 10929, 'morre': 2383, 'Ribeirão': 3308, 'fantástica': 4893, 'Universidade': 1388, 'Camilo': 13108, 'arrependo': 10654, 'Guardia': 9746, 'querendo': 1988, 'Negra': 6026, 'consumo': 10252, 'datas': 1205, 'God': 12293, 'declarações': 7553, 'privada': 8276, 'aparece': 938, 'atingido': 9405, '2019': 1206, 'misterioso': 14142, 'mina': 1209, 'faziam': 4118, 'Vais': 1211, 'pedra': 10045, 'sério': 1179, 'cama': 3412, 'hehehehe': 11431, 'estudante': 175, 'Acredito': 12097, 'Curitiba': 1216, 'planos': 3263, 'estudar': 1100, 'tristíssima': 15014, 'Modelo': 7996, 'rever': 1220, 'Fonte': 9009, 'Base': 1221, 'aeroporto': 1735, 'jornada': 11357, 'termine': 9637, 'Pelé': 3134, 'face': 1224, 'visualizar': 14882, 'girls': 12771, 'filiados': 8240, 'sonho': 819, 'coração': 1230, 'proibir': 14499, 'votarem': 1946, 'fatura': 9788, 'isa': 4882, 'Maioria': 206, 'ajudo': 378, 'maratonar': 9070, 'Bruno': 1236, 'acho': 1068, 'Vini': 15591, 'Independente': 2867, 'Sinto': 1237, 'tts': 3600, 'idiotas': 12810, 'SEGUNDA': 10623, 'dormido': 8090, 'rua': 422, 'DM': 1238, 'adicionamos': 12476, 'pó': 3831, 'Posso': 1239, 'Come': 12309, 'Autor': 8537, 'mae': 5312, 'mecanismo': 6797, 'ombro': 3341, 'cv': 849, 'pedras': 1242, 'solicitar': 5339, 'nascidos': 4959, 'desculpar': 1240, 'interpretação': 8509, 'mudaram': 6483, 'DA': 1111, 'ofensas': 1243, 'desejar': 9894, 'Joaquin': 7747, 'sonhar': 4286, 'Participe': 1623, 'Circo': 14009, 'Talíria': 4498, 'lembrei': 1245, 'visão': 2144, 'Comecei': 15093, 'vcs': 1247, 'via': 464, 'pegam': 1248, 'Tucanos': 1251, 'olhando': 6411, 'telecomunicação': 3144, 'facul': 9402, 'brinks': 13450, 'adesão': 1253, 'Quiz': 12992, 'provável': 6098, 'Eduardo': 3129, 'horrivel': 4463, 'pas': 6468, 'Pera': 13684, 'privatização': 6598, '🆗': 14194, 'Ex-mulher': 9626, 'nervosismo': 1258, 'perseguição': 1361, 'sábado': 3537, 'Garota': 4032, 'táxi': 1767, 'cor': 2199, 'Florence': 1261, 'Sim': 474, 'Dados': 8518, 'xinga': 1878, 'sweat': 11191, 'economia': 2838, 'preço': 2159, 'bilete': 12391, 'legado': 9798, 'poxa': 2268, 'Gente': 1267, 'dei': 2094, 'Esperando': 13294, 'Ibama': 11297, 'shit': 2982, 'NÃO': 2412, 'embate': 10168, 'rola': 747, 'Pensei': 1268, 'Eu': 20, 'refugiados': 1467, 'mesma': 1269, 'generalização': 13555, 'agradeceu': 1560, 'exposição': 2275, 'caras': 4117, '120': 8878, 'Guerra': 4965, 'raça': 5387, 'Maisa': 1588, 'acertou': 13245, 'ahahah': 3833, 'desista': 1778, 'horários': 5506, 'toma': 6, 'kihyun': 8478, 'Superman': 2508, 'promoção': 2155, 'Qualquer': 8421, 'furtar': 7841, 'original': 1274, 'noção': 4330, 'sotaque': 3269, 'DIA': 1049, 'Festival': 3872, 'bairros': 5362, 'atribui': 9814, 'saudades': 1275, 'Tribunal': 4961, 'apoiando': 1281, 'Sejam': 5710, 'PRESIDENTE': 3585, 'tortura': 1282, 'cadela': 11473, 'vaiado': 4856, 'Adicionei': 2166, 'produção': 2541, 'Limpa': 125, 'Sobre': 364, 'Chico': 4255, 'cumprir': 8424, 'certificado': 6561, 'diaaa': 11623, 'melhora': 3530, '4,02': 12533, 'Uberlândia': 8657, 'Penso': 3226, 'prorrogado': 13500, 'filha': 1288, 'evidências': 14616, 'Criminosos': 1291, 'estacionamento': 1292, 'gostasse': 14223, 'Guarulhos': 3386, 'Bonita': 4859, 'hyuck': 333, 'cai': 2543, 'autorização': 11047, 'passado': 1299, 'aiai': 3874, 'imagina': 1301, 'Homem': 1304, 'Também': 3862, 'livres': 3234, 'infinitamente': 3105, 'Carro': 2853, 'sdds': 1208, 'elite': 10479, 'friend': 9684, 'eleitorado': 1310, 'trabalhe': 8946, 'mídia': 5027, 'protege': 3439, 'rolou': 2576, 'dinner': 10445, 'melhorando': 7755, 'amiguinha': 14974, 'Simmmm': 2111, 'perante': 15522, 'votos': 267, 'amém': 2725, 'abertamente': 14232, 'mede': 5927, 'amizades': 2051, 'online': 2420, 'dera': 6173, 'horrível': 2109, 'cálculos': 5289, 'gostos': 8700, 'Confere': 7994, 'consentimento': 6594, 'editais': 15747, 'consagrado': 14451, 'jogou': 11418, 'encomenda': 8865, 'verde': 723, 'conforto': 3361, 'bloco': 5042, 'cuba': 8007, 'Michael': 851, 'NOVO': 1638, 'votariam': 3928, 'fucking': 5095, 'psdb': 14626, 'nuvens': 3846, 'Processos': 11442, 'piorar': 3026, 'participam': 7597, 'EI': 8386, 'separado': 12318, '+1': 11459, 'impossível': 1604, 'janelas': 14722, 'propósito': 1384, '2h': 3225, 'empolgada': 15784, 'Romeu': 12231, 'Viagem': 4559, 'claro': 2316, 'assistam': 15870, 'acredita': 4362, 'Léo': 3747, 'vi': 111, 'morena': 2834, 'Fátima': 3488, 'satanás': 15871, 'desenvolver': 1328, 'Lisboa': 1665, 'Adversários': 3776, 'tese': 4954, 'Americana': 4340, 'esquecida': 15417, 'importam': 6610, 'favorece': 4931, 'MTO': 3640, 'motivação': 3445, 'adm': 12923, 'acabe': 4791, 'Ariana': 1332, '170': 12934, 'passear': 11170, 'leo': 10983, 'OS': 2168, 'crtz': 13745, 'ocupar': 1334, 'investigado': 2035, 'essencial': 11092, 'sobrinho': 1603, 'Jô': 14203, 'CVC': 9999, 'Rose': 9441, 'playlist': 2167, 'noturno': 14893, 'dificil': 1339, 'vacuo': 1340, 'expressar': 3751, 'Miga': 3022, 'Estamos': 2824, 'Alô': 1820, 'falida': 4728, 'enviada': 1750, 'parceiro': 5815, 'layout': 15605, 'aplicativos': 8372, 'Manu': 9701, 'vindas': 2451, 'discursos': 5122, 'anônimo': 1342, 'Avenida': 3262, 'babacas': 15314, 'Idlib': 6006, 'varios': 1965, 'cadeirante': 7078, 'Força': 2387, 'chineses': 1346, 'concluída': 5120, 'inconformismo': 14541, 'tornei': 8327, 'ovo': 4069, 'Corre': 1347, 'diogo': 11981, 'su': 8473, 'adquirir': 1348, 'gringa': 10924, 'governador': 4919, 'end': 13732, '19': 738, 'ofertas': 3400, 'Mulher': 3258, 'fatal': 2321, 'turnê': 237, 'revelou': 7228, 'Filho': 229, 'estaremos': 431, '↳': 13187, 'vencer': 4385, 'observo': 1349, 'estranhos': 15066, 'alertar': 12520, 'prima': 1740, 'crescimento': 3769, 'vendidas': 15145, 'provoca': 11528, 'icons': 6816, 'chateado': 1913, 'europa': 13009, 'Harvard': 6917, 'Excelente': 3348, 'acredite': 1350, 'TÁ': 7359, 'TRF4': 10000, 'FILHA': 15349, 'lançou': 4659, 'ficha': 1354, 'respeito': 2246, 'IMPOSSÍVEL': 15450, 'suspeitos': 1364, 'caindo': 1365, 'suspeita': 3347, 'afundou': 5086, 'Israel': 6449, 'Espírito': 3615, 'atrapalhando': 10256, 'gota': 14411, 'funcionária': 12955, 'VC': 4874, 'crítica': 1534, 'vazia': 11326, 'cerca': 6440, 'flr': 13550, 'apostadores': 6461, 'mentem': 15957, 'japa': 4343, 'escolher': 1371, 'fontes': 1372, 'evoluir': 13830, 'Ibope': 1632, 'mudar': 1375, 'aulas': 1531, 'gerações': 15148, 'conversei': 5219, 'medir': 7517, 'Bora': 1376, 'PF': 3156, 'isenção': 14373, 'slides': 1378, 'homenagem': 3729, 'semana': 566, 'adultos': 14097, 'Sabem': 8072, 'sabiam': 999, 'Senior': 9955, 'quiseres': 1386, 'pp': 11701, 'descendo': 10657, 'recorde': 3597, 'Du': 14414, 'mes': 3741, 'queima': 13520, 'fofura': 2645, 'Filhos': 2348, 'cansaço': 11376, 'brasileiros': 1392, 'Tale': 8767, 'gostava': 1395, 'Zero': 14945, 'estarei': 4282, 'andando': 3059, 'destaca': 2994, 'campus': 5762, 'Painel': 1398, 'disputa': 1400, 'angústia': 1402, 'Seus': 5947, 'indecisos': 1403, 'Obg': 4783, 'Laguna': 8739, 'Voltando': 10200, 'perdidos': 8889, 'termo': 1405, 'Rivais': 4356, 'McCartney': 5349, 'ca': 7964, 'desenhar': 1408, 'socialismo': 12109, 'coragem': 6974, 'companheira': 13410, 'Fux': 2557, 'envenenar': 9973, 'vermelho': 131, 'barco': 5743, 'mai': 1411, 'Rocha': 6242, 'texto': 2986, 'postura': 9032, 'compra': 1412, 'CLT': 11525, 'oficiais': 1415, 'ex-governador': 6645, 'deriva': 2062, 'aprendiz': 4588, 'aaah': 4506, 'incomodado': 13253, 'acostumar': 1421, 'PR': 6058, 'Podes': 6337, 'legislativo': 4596, 'dep': 4805, 'candidatos': 1425, 'promovido': 1427, 'clientes': 3145, 'Agosto': 6782, 'correria': 9234, 'mimos': 1431, 'líder': 6679, 'greves': 10696, 'milhões': 1013, 'anemia': 9770, '360': 11558, 'new': 4128, 'mudam': 2433, 'destacar': 1711, 'desafios': 4852, 'Companhia': 2145, 'câncer': 3257, 'Minhas': 8840, 'deputado': 4851, 'assisti': 1437, 'intestino': 9116, '32399ccb-edb9-4ec6-9d71-98244cce7528': 3617, 'bela': 1801, 'Aaaa': 2, 'envie': 1455, 'inveja': 3626, 'cotas': 9815, 'cartaz': 1439, 'golpista': 8120, 'jogar': 4373, 'hábitos': 5036, 'verdades': 2639, 'bolsa': 3260, 'lei': 1958, 'natureza': 3820, 'Chocolate': 12681, 'Estarei': 11947, 'janela': 6266, 'demorando': 8352, 'Kanye': 14848, 'certo': 91, 'citar': 1589, 'k': 8206, 'Este': 712, 'matérias': 2226, 'aja': 4254, 'Vai': 494, 'anunciadas': 1448, 'COMEÇOU': 11756, 'palavras': 3106, 'sobrinha': 6532, 'parceria': 3043, '22': 1451, 'indiretamente': 14598, 'gera': 4090, 'currículo': 1452, 'gajos': 14364, 'feridos': 1684, 'cãozinho': 4810, 'Campanhas': 8907, 'Tanto': 2156, 'lembrada': 9714, 'gajo': 8251, 'PDT': 4551, 'Manchester': 9607, 'Pereira': 3955, 'delas': 1454, 'revoltada': 11283, 'Bobo': 1458, 'ofendendo': 15494, 'Argentina': 506, 'respeitar': 5061, 'Peguei': 4115, 'Real': 3903, 'arma': 4263, 'procura': 2777, 'salvo': 577, 'Bono': 14743, 'humano': 1463, 'internação': 15935, 'Nunes': 4575, 'admite': 8565, 'from': 4050, 'Aqui': 1483, 'junto': 1819, 'implica': 15977, 'Ensino': 9182, 'designers': 16003, 'nom': 3099, 'presidencial': 8067, 'Aberto': 8201, 'chamando': 7549, 'Construtora': 11272, 'teto': 1466, 'Ganho': 14071, 'eleito': 1471, 'anuncia': 2474, 'sensação': 1473, 'espalhando': 4644, 'Vejo': 6543, 'arbitragem': 10215, 'possibilidade': 1482, 'aprovado': 1808, 'Ceará': 1484, 'about': 8986, 'cervejas': 15375, 'Avião': 2203, 'escritora': 643, 'cap': 4372, 'bolsas': 224, 'Portador': 13148, 'auxiliar': 10653, 'dágua': 7699, '11': 1951, 'nacional': 4269, 'Eleitoral': 2740, 'pesadelo': 2108, 'Rick': 9532, 'nordeste': 6067, 'mozi': 7198, 'marcantes': 3608, 'Pois': 1489, 'preparei': 1492, '800': 7677, 'mudanças': 4111, 'pedacinho': 1493, 'reclamam': 7890, 'favorável': 8982, 'esquisita': 9200, 'passaporte': 4958, 'GO': 7055, 'som': 1152, 'colocou': 4598, 'Blog': 1497, 'cantora': 1621, 'Entao': 2682, 'Assassins': 9145, 'Trabalhe': 11495, 'consultar': 2401, '4': 1380, 'reciprocidade': 11240, 'Olímpio': 1773, 'prox': 14759, 'Sadi': 1499, 'core': 3976, 'placa': 6982, 'chegasse': 9472, 'facção': 13355, 'meios': 1505, 'bebe': 1506, 'perfil': 2030, 'engraçado': 2931, 'trab': 7425, 'sinceramente': 1968, 'Inclusive': 4199, 'país': 1510, 'intensivo': 15941, 'casar': 12038, 'demanda': 4156, 'enfrentar': 2794, 'postou': 646, 'precisou': 1514, 'tomado': 14115, 'Alguém': 3547, 'trocados': 9711, 'ocupado': 1519, 'olhar': 1520, 'Clube': 925, 'pauta': 3943, 'periodo': 5595, 'Mercosul': 6983, 'conselhos': 3324, 'DESSE': 1842, 'gelado': 9870, 'tornou': 2297, 'turno': 152, 'Relação': 1170, 'cinema': 6002, 'teen': 15346, 'Richa': 3552, 'taetae': 4215, 'Santa': 2187, 'Humanos': 484, 'surpreso': 8128, 'Ta': 1529, 'autoria': 8357, 'TODA': 11180, 'currículos': 9010, 'razão': 1530, 'armas': 1283, 'reproduz': 15016, 'estágios': 2043, 'manifestantes': 5296, 'manter': 1696, 'podcasts': 7983, 'começaram': 1532, 'rodada': 1932, 'Feito': 6805, 'virou': 2933, 'limpar': 3464, 'podcast': 2031, 'melhorar': 1540, 'intenção': 1542, 'paraíso': 2495, 'queridinho': 3077, 'sumido': 10007, 'Preciso': 1521, 'matemática': 473, 'PODEMOS': 1635, 'Reinaldo': 2358, 'espalhar': 962, 'Paschoal': 7825, 'acredito': 149, 'CMG': 9261, 'Tratamento': 15693, 'Votei': 290, 'coisinha': 1545, 'desaba': 6597, 'sócio': 5950, 'separou': 6531, 'Roda': 9419, 'cmg': 1550, 'mocinha': 2918, 'Folha': 1823, 'amiga': 434, 'chocada': 8694, 'Sasha': 12831, 'resultados': 3319, 'Marcelo': 1551, 'sushi': 4787, 'Aquele': 5464, 'listas': 10559, 'ep': 2836, 'casamento': 2457, 'trabalhadores': 1014, 'abandonado': 1553, 'seguida': 1554, 'Alzheimer': 5010, 'décimo': 12560, 'Governo': 979, 'seções': 5048, 'Alagoas': 1579, 'tímida': 1556, 'General': 8416, 'dont': 14795, 'alternativas': 11557, 'avisou': 4403, 'vencimento': 11375, 'hr': 8902, 'presentes': 182, 'séria': 1557, 'Americanas': 6781, 'museu': 3321, 'doente': 1559, 'Anderson': 5567, 'EXCLUSIVO': 13908, 'notícias': 1370, 'serão': 2247, 'encher': 1430, 'condena': 2000, 'capaz': 1944, 'Barbieri': 2179, 'doa': 6125, 'In': 4921, 'Eleitores': 7674, 'multas': 9394, 'resta': 1566, 'viral': 9243, 'Klabin': 15486, 'continuar': 292, 'prefere': 1441, 'indenização': 15206, 'artigos': 14082, 'esclarecer': 1567, 'Manter': 15676, 'cadeiras': 8627, 'futuramente': 12480, 'passa': 2080, 'Ajudante': 6699, 'confronto': 217, 'aborda': 6986, 'bonossauro': 9311, 'Moda': 5222, 'lidar': 2134, 'carteirinha': 9613, 'Smith': 1326, 'jamais': 9331, 'videos': 4807, 'Silvio': 1586, 'Domingo': 7449, 'Debate': 10280, 'Gil': 1591, 'fantasia': 2594, 'hitler': 3036, 'Mar': 8075, 'Cerca': 15899, 'capítulo': 9384, 'barra': 1592, 'esconde': 1397, 'SÃO': 5785, 'Aires': 10635, 'conceitos': 7447, 'curte': 1710, 'tentando': 1338, 'Maradona': 12015, 'presenta': 8821, 'idéia': 8121, 'presentinho': 3045, 'estrada': 1594, 'consiga': 3193, 'expulso': 13831, 'FUI': 2261, 'ouvidos': 6352, 'romântico': 1475, 'mtos': 7968, 'dava': 1438, 'realizamos': 7256, 'Por': 1597, 'senadores': 4083, 'estragado': 13595, 'Vieira': 12145, 'usarem': 8874, 'determinação': 14568, 'Propostas': 12023, 'França': 908, 'Yasmin': 2619, 'difícil': 1598, 'espírito': 1491, 'qdo': 2623, 'aparecia': 13258, 'Fui': 9021, 'assalto': 10834, 'desenho': 1317, 'Ouvir': 14784, 'Magno': 3502, 'Auxiliar': 1606, 'isolado': 2204, '400': 9581, 'Adoro': 3929, 'Façam': 11104, 'mereço': 10246, 'advinha': 9765, 'calcinha': 1914, 'rodízio': 8754, 'habilidade': 6439, 'paga': 6504, 'atoa': 3035, 'sentia': 4934, 'estratégica': 3044, 'dias': 64, 'preocupada': 1609, 'Recife': 1611, 'surfista': 10082, 'Brigada': 9879, 'farmacêutica': 1865, 'connosco': 6222, '55': 8069, 'diminuiu': 3155, 'respostas': 2528, 'previdência': 9816, 'evitam': 15026, 'barata': 4981, 'Andréia': 1498, 'futura': 1614, 'rostinho': 630, ':/': 4505, 'alcançado': 2081, 'ralo': 15004, '20s': 1624, 'debater': 6876, 'entreguei': 12061, 'posiciona': 8100, 'eletrônica': 3881, 'jornalista': 2586, 'sexo': 1575, 'homofobia': 9107, 'Normalmente': 14508, 'tag': 1625, 'aspectos': 6972, 'Devem': 4311, 'descreve': 7110, 'post': 1626, 'objetos': 12522, 'comendo': 867, 'mentiroso': 7977, 'Gaspari': 15458, 'fé': 6572, 'bonzinho': 11504, 'rodovia': 2325, 'rei': 10056, 'mantém': 1628, 'disputarão': 6091, 'atividade': 1228, 'liderança': 1629, 'avaliam': 4386, 'oh': 3686, 'humilhando': 3783, 'proibido': 5382, 'brigadeiros': 15901, 'madrugada': 2378, 'Nota': 12787, 'Acompanhe': 1633, 'Musk': 8861, 'passagens': 989, 'PROCURAR': 1640, '15h': 2610, 'dezembro': 9621, 'day': 459, 'min': 7965, 'gosta': 1367, 'Vim': 15224, 'noite': 79, 'calculo': 9678, 'prefeito': 3854, 'populares': 5124, 'rápida': 14103, 'abandonei': 13395, 'Égua': 7478, 'afetou': 2233, 'Central': 3654, 'Eae': 7130, 'caio': 10734, 'hino': 1647, 'avesso': 8549, 'Nao': 1741, 'sozinhos': 1805, 'Tire': 7201, 'capa': 2721, 'pró-Bolsonaro': 1254, 'Precisava': 6515, 'mantenho': 15435, 'localizada': 7268, 'Joguei': 13679, 'ameaçada': 1648, 'anulação': 2054, 'pernas': 6800, 'importantes': 1651, 'deixei': 3838, 'aq': 2444, 'compara': 327, 'Bio': 7891, 'sanidade': 4019, 'fan': 3888, 'caia': 9294, 'twitter': 1987, 'viés': 15593, 'incluir': 8548, 'faca': 1669, 'tá': 118, 'inelegível': 2742, 'ctg': 5608, 'errado': 2149, 'AMG': 8223, 'Armadas': 2920, 'falarem': 1670, 'exportação': 4680, 'terminando': 9844, 'al': 11026, 'santinhos': 3276, 'sociais': 1023, 'deem': 4732, 'RJ1': 9368, 'tirou': 286, 'Isso': 1992, 'prioridade': 11212, 'Letras': 9158, 'mel': 9490, 'desapegar': 10807, 'aaaa': 2810, 'LÁ': 4937, 'achar': 1849, 'especialista': 788, 'Há': 1679, 'aguarda': 14360, 'democrática': 13605, 'imóvel': 3349, 'aliados': 3217, 'Blusa': 1681, 'Promotoria': 3701, 'condenado': 5038, 'moço': 4177, 'siiim': 9985, 'futuro': 3113, 'bixo': 13189, 'Estoquista': 5197, 'tento': 1907, 'esgotada': 8408, 'anunciou': 11931, 'Pt': 4684, 'MENOS': 8910, 'anunciam': 3042, 'rato': 4468, '3': 375, 'Flamengo': 5526, 'TIVE': 11674, 'racismo': 1612, ':o': 8856, 'Paraná': 1686, 'inteligentes': 6886, 'fogos': 3424, 'Alguma': 1688, 'leva': 1401, 'morto': 3865, 'Animal': 9220, 'glória': 8442, 'inspirada': 3819, 'maquiagem': 1734, 'Goulart': 1692, 'Restaurante': 3237, 'amando': 1226, 'atrito': 6742, 'propõe': 1693, 'Tentando': 13626, 'Católica': 8342, 'dobrar': 1694, 'atropelou': 11135, 'sobrevive': 2059, 'casa': 4, 'stream': 7622, 'sinal': 1873, 'rede': 614, 'Corinthians': 2332, 'executiva': 13128, 'Blz': 1708, 'qq': 2688, 'Dance': 16016, 'julgada': 2754, 'acabaram': 2422, 'treco': 7404, 'desempenho': 4145, 'NUH': 8482, 'FORÇA': 14111, 'espancado': 4299, 'emoções': 3096, 'tomou': 5707, 'euforia': 10459, 'louis': 3327, 'cafuné': 8894, 'Salvador': 4977, 'MMA': 12711, 'começará': 10989, 'vip': 1724, 'QUAL': 13902, 'LGBT': 11096, 'montadoras': 5065, 'acusa': 1879, 'perfume': 1794, 'seriamente': 3227, 'Sério': 2225, 'beijinhos': 10265, 'ma': 2306, 'usam': 4767, 'John': 1716, 'MORTY': 4011, 'Para': 1732, 'MESMO': 8619, 'música': 3711, 'foto': 1733, 'Maia': 5078, 'ajudou': 4577, 'presidência': 3847, 'mto': 575, 'conversas': 3267, 'Baixada': 3208, 'parecia': 1736, 'bilhões': 6183, 'comparecer': 10711, 'péssimo': 9350, 'opinião': 549, 'dores': 3930, 'desistir': 1977, 'siim': 1653, 'show': 2291, 'Posta': 6961, 'compromissos': 11305, 'la': 1743, 'aumento': 914, 'Guria': 3223, 'novelas': 9570, 'Sai': 4218, 'dividida': 1744, 'Regina': 15166, 'Indústria': 7197, 'respondeu': 3627, 'eleitora': 3281, 'nojenta': 1863, 'aniversariante': 8105, 'Passa': 7676, 'atacando': 14671, 'médico': 1748, 'escolhi': 23, 'moradia': 1752, 'tamos': 2858, 'palco': 1757, 'extrema': 5449, 'avião': 2150, 'extremamente': 1494, '21h': 3039, 'projeta': 1769, 'somam': 4141, 'emprego': 827, 'Pede': 9868, 'fotógrafa': 2608, 'lamentam': 8667, 'empresta': 14912, 'defeito': 1764, 'bastava': 6571, 'ruim': 61, 'prefeitura': 6736, 'porcentagem': 1786, 'Saída': 7149, 'numero': 1788, 'Falta': 4310, 'agradecendo': 2113, 'Itamaraty': 6840, 'tensão': 4144, 'Everton': 10248, 'impressa': 2882, 'Necessidades': 13149, 'Capela': 4378, 'abuso': 1885, 'aceitar': 178, 'PELA': 5097, 'Adélio': 3158, 'fumaça': 1792, 'sessão': 3013, 'dizendo': 1763, 'ingressos': 1006, '2': 156, 'mds': 1700, 'supera': 5497, 'proibição': 7144, 'funkeiro': 4458, 'Botafogo': 4829, 'vc': 1797, '5': 1891, 'cooperação': 7957, 'ATE': 12817, 'vencedor': 3621, 'beber': 1800, 'conta': 966, 'baseada': 346, 'senta': 1180, '2004': 4244, 'apaixonadinha': 6629, 'especifico': 13708, 'qqr': 9760, 'Aplicativo': 2333, 'Olimpio': 4836, '10/10': 2898, 'estratégia': 1803, 'faça': 1704, 'frita': 10203, 'Cabo': 2052, 'Aprendi': 15340, 'dedo': 1811, 'quis': 1975, '36': 10034, 'boy': 4043, 'criou': 2249, 'you': 1814, 'engraçada': 7545, 'Band': 1825, 'tivessem': 10079, 'montar': 6298, 'atrasada': 7044, 'ES': 1827, 'dobrou': 2356, 'Empresas': 13954, 'boba': 7795, 'marketing': 5026, 'Aos': 2352, 'VENDAS': 4446, 'atuou': 9074, 'Músicas': 3480, 'levamos': 14293, 'Geraldo': 1544, 'Dez': 1836, 'login': 10846, 'Inktober': 5308, 'sumir': 6077, 'estimativa': 13598, 'atualiza': 7290, 'preso': 205, 'Comercial': 2240, 'alguem': 1846, 'vale': 1895, 'pop': 7118, 'ignora': 4454, 'Partiu': 8790, 'Borel': 13826, 'ajudem': 1899, 'sorte': 839, 'bota': 1847, 'terça-feira': 1071, 'Limpeza': 3441, 'Windows': 9560, 'carro': 1363, 'disparos': 1852, 'trocou': 15205, 'joão': 11350, 'emo': 1917, 'americano': 7659, 'thing': 3468, 'blusa': 1857, 'virando': 11025, 'votação': 2055, 'prevista': 6171, 'pagará': 9469, 'une': 3238, 'Faz': 2184, 'Temporada': 9149, 'memórias': 5052, 'lida': 9379, 'Simmm': 14384, 'tnc': 8876, 'bilionária': 1864, 'c': 2008, 'ahh': 9306, 'postando': 10718, 'bolsonaro': 2615, 'referente': 7662, 'brava': 1871, 'frustrada': 1178, 'casaco': 1394, 'Lara': 4316, 'Quina': 1875, 'Cíntia': 6686, 'CEO': 8277, 'mamas': 361, 'Cosme': 14578, 'doses': 14017, 'denuncia': 5130, 'Jucá': 1880, 'SOU': 9159, 'editar': 98, 'vans': 14459, 'aparência': 9356, 'moderação': 4176, 'quente': 8053, 'Dêem': 4534, 'templo': 7258, 'Corte': 2802, 'levanta': 9524, 'projetos': 1954, 'FSB': 15831, 'disparar': 6145, 'concentração': 7271, 'imaginei': 6074, 'FALA': 4301, 'haverá': 1890, 'sutiã': 11747, 'burra': 2250, 'Aceito': 4722, 'orgulhosa': 406, 'aleatórias': 15091, 'ocorrer': 11458, 'alegria': 2926, 'Aparecida': 2884, 'AO': 1422, 'ELEIÇÕES': 13850, 'desenhos': 2017, 'árbitro': 6563, 'correntes': 13016, 'cresce': 106, 'gracias': 7944, 'Deve': 3590, 'Campina': 15491, 'Baixa': 14662, 'chefe': 8162, 'promoções': 2338, 'pesquisa': 1898, 'beat': 11197, 'Algo': 10897, 'Foram': 9555, 'mass': 2067, 'bebo': 1935, 'lol': 1276, 'PGR': 7158, 'Gostei': 1469, 'Brasileiro': 164, 'alto': 1906, 'lula': 6211, 'maldade': 6215, 'escolheu': 9219, 'aleatória': 13267, 'miopia': 9962, 'muitas': 1909, 'BH': 2115, 'bilhetes': 5750, 'açúcar': 10735, 'livrou': 9680, 'melhorem': 15825, 'cinza': 13483, 'esposa': 1915, 'temas': 1414, 'Days': 11942, 'fundos': 6463, 'artigo': 2428, 'triplex': 11910, 'man': 1919, 'migrar': 7259, 'cardeal': 15669, 'estarão': 10910, 'delicia': 2571, 'SERIO': 12315, 'ciúme': 1925, 'lobo': 13528, 'inovação': 2366, 'caminhando': 14554, 'fale': 2039, '€': 4723, 'Venezuela': 5301, 'cheira': 8719, 'Roberta': 8094, 'irem': 5053, 'bater': 3100, 'Uma': 746, 'recuperar': 8109, 'restaurante': 1833, 'homofobico': 11984, 'cm': 2397, 'Infantil': 2952, 'investigações': 15512, 'NOITE': 11181, 'patrocínio': 8949, 'réu': 5854, 'Nicolas': 11872, 'Turquia': 9164, 'AAAAAAA': 5911, 'apesar': 1508, 'Caxias': 1942, 'Sul': 1943, 'combustível': 1945, 'banco': 5611, 'manifesta': 7986, 'japonês': 13707, 'tenis': 12820, 'LINDO': 1843, 'sucessor': 14334, 'reúnem': 4307, 'sala': 470, 'explicar': 1949, 'LeBron': 5921, '13º': 4104, 'sol': 1953, 'AAAAAAAAA': 11868, 'comportamento': 8633, 'deputados': 1955, 'Economista': 2228, 'mínimos': 9206, 'jornalismo': 5428, 'Fachin': 2846, 'Aumente': 257, 'práticas': 8058, 'marcas': 10261, 'Marcão': 3133, 'Eleições': 1969, 'Will': 12395, 'pedimos': 3988, 'ENCONTRAR': 1636, 'pregam': 5149, 'Marina': 1971, 'user': 5355, 'oc': 9096, 'gerou': 1980, 'Seguimos': 8346, 'ressaca': 1981, 'rodar': 13018, 'diferente': 1982, 'Regrann': 4049, '28': 3860, 'falsa': 1984, 'impostos': 9165, 'fechamento': 13892, 'Awards': 4056, 'dinâmica': 14701, 'Saudita': 2769, 'porra': 1985, 'vitória': 5138, 'alem': 6897, 'cheguei': 3924, 'Governança': 7181, 'bolsominion': 1986, 'movimentam': 13366, 'Paim': 11410, '6': 492, 'Lulu': 3459, 'provas': 1989, 'horríveis': 2314, 'dê': 1991, 'professor': 3472, 'USAR': 9822, 'galerinha': 1882, 'preocupante': 1993, 'Justiça': 1999, 'partilho': 7833, 'FICAR': 2005, 'verdadeira': 11422, 'hábito': 4497, 'xuxu': 8329, 'página': 2143, 'características': 4584, 'TV': 212, 'norte': 3735, 'TODO': 2006, 'divide': 8256, 'perderam': 11536, 'porão': 2013, '🥁': 14688, 'fígado': 12583, 'inteira': 6391, 'MG': 1662, 'ganhe': 3508, '31': 2014, 'CPI': 11175, 'vim': 4220, 'arrasa': 13393, 'perguntou': 7593, 'frágil': 10865, 'Witzel': 3127, 'quadrilha': 2037, 'proveito': 14066, 'Dai': 11006, 'Mundial': 2905, 'gala': 10066, 'kg': 2015, '3,3': 14372, '35.00': 5476, 'agiu': 3160, 'disponíveis': 2019, 'destaques': 2020, 'Quero': 1860, 'bão': 1187, 'assinado': 3898, 'buscando': 14308, 'Pelo': 2034, 'nascido': 7760, 'formação': 2036, 'ferida': 13388, 'querido': 2038, 'lápis': 6418, 'apoiadores': 6147, 'Dê': 7903, 'Li': 2427, 'pegada': 2040, 'chora': 1181, 'desigualdade': 4481, 'realiza': 820, 'liceu': 2673, 'comi': 6757, 'ANTES': 15907, 'estima': 6862, 'Praça': 9024, 'vendido': 5666, 'quebrada': 3222, 'tirado': 8599, 'bancário': 8311, 'esperto': 11646, 'NA': 2415, 'aspecto': 2041, '.......': 4985, 'roubados': 5280, 'tar': 2044, 'acertar': 6643, 'saude': 5803, 'b': 2045, 'crises': 4633, 'Lewandowski': 2559, 'pressa': 2046, 'financeira': 2198, 'nacionais': 586, 'lixos': 3555, 'petróleo': 2540, 'Sei': 5470, 'videogame': 14191, 'defendem': 4110, 'círculo': 2050, 'Daciolo': 2053, 'latina': 6416, 'fraude': 1480, 'fantástico': 2430, 'Tava': 2793, 'substituídas': 5214, 'Rio': 1203, 'transexuais': 12195, 'paulistanos': 10282, 'própria': 2057, 'pensem': 2556, 'bruxa': 3210, 'tocando': 5758, 'tática': 13297, 'Durante': 1360, 'homens': 144, 'entendo': 548, 'atrasar': 7203, 'apetite': 14808, 'Rodrigo': 5077, 'mole': 2075, 'surgir': 11463, 'digitar': 2076, 'inferno': 1845, 'Nada': 666, 'morrem': 1660, 'tentamos': 3201, 'assunto': 4418, 'ações': 5798, 'Ipanema': 14297, 'Veloso': 3461, 'destruída': 10730, 'sai': 3504, 'riqueza': 13057, 'silêncio': 5949, 'prontinho': 11510, 'bue': 1903, 'Telemarketing': 2911, 'Delegado': 11315, 'desgosto': 9203, 'elogio': 2096, 'aturar': 2520, 'técnico': 1318, 'Abertura': 6910, 'irmão': 2097, 'precisas': 4532, '82': 11874, 'Índia': 6593, 'evitado': 12983, 'corpus': 10258, 'ef': 4478, 'Siga': 995, 'Cacau': 6688, 'dms': 2217, 'chocolates': 3394, 'musicais': 14025, 'perfeitamente': 4471, 'gostoso': 6896, 'Outubro': 4871, 'Aliás': 5734, 'CAPA': 3775, 'CS': 7563, 'ame': 14407, 'históricos': 13717, 'absurdo': 2245, 'deus': 2098, 'mandei': 1337, 'mete': 13124, 'força': 2100, 'estivesse': 821, 'levo': 2120, 'Kindle': 8044, 'AI': 8540, 'eterna': 2102, 'És': 7364, 'direi': 15832, 'Teve': 11428, 'cortou': 8190, 'soft': 2676, 'Ya': 13914, 'so': 2749, 'all': 2121, 'agressividade': 9629, 'brancas': 2123, 'competente': 9590, 'devido': 2126, 'plenário': 9605, 'flagrante': 4748, 'justificar': 4796, 'nude': 4579, 'oq': 2084, 'doguinho': 4555, '🦌': 2130, '22h': 5616, 'válido': 4910, 'TA': 6882, 'iludida': 6132, 'peito': 2133, 'news': 3080, 'cobram': 541, 'Domingos': 242, 'NADJA': 14697, 'sendo': 295, 'anjinha': 3190, 'palestra': 7602, 'tema': 2142, 'Woollim': 10467, 'nome': 2148, 'louça': 1834, 'CD': 2157, 'promo': 2160, 'Ando': 5226, 'mentais': 15893, 'faltar': 2630, 'nervos': 4668, 'elogiou': 9458, 'FOTOS': 4939, 'FGV': 6696, 'IRMÃOS': 2169, 'Croácia': 14890, 'Geddel': 13126, 'f': 2170, 'basquete': 14282, 'palestras': 10223, 'retoma': 13243, 'servidores': 6182, 'gira': 363, 'intervalos': 6936, 'with': 1815, 'Frases': 2173, 'Dizer': 2174, 'Trabalho': 2175, 'emoji': 4138, 'pele': 3112, 'gratuitamente': 8785, 'tiro': 4466, 'caldas': 3665, 'fodi': 12492, 'esperado': 5438, 'ficaria': 1207, 'estiver': 2410, 'elenco': 2182, 'recebeu': 2189, 'comentários': 8747, '79ª': 15636, 'vá': 2536, 'profissionalizantes': 2193, 'mercado': 2195, 'animais': 3365, 'Bela': 7625, 'chegar': 2205, 'tiraram': 4461, 'atentados': 3202, 'insegurança': 2211, 'Amor': 2215, 'Fala': 6405, 'namorando': 7744, 'guardado': 2220, 'ama': 2221, 'superior': 6316, 'lucas': 6698, 'Academy': 7418, 'ferido': 4623, 'senhora': 399, 'aquarela': 7633, 'informe': 5995, 'treta': 11396, 'linhas': 7950, 'Ahhhh': 8689, 'fica': 1109, 'compensar': 12640, 'receio': 1905, 'conseguia': 8030, 'Guanabara': 14753, 'Guedes': 2229, 'header': 1069, 'jogando': 6406, 'sensatos': 3876, \"'S\": 14400, 'Floripa': 2243, 'negra': 7435, 'Teste': 3870, 'fico': 472, 'Tiro': 8122, 'vê-lo': 4153, 'afins': 8179, 'suposto': 3342, 'Link': 429, 'radar': 3740, 'Damião': 7296, 'flagrado': 8319, 'radical': 2230, 'preparação': 6005, 'entristece': 7020, 'longas': 2234, 'lições': 13515, 'forçado': 8862, 'Sesc': 3939, 'Morro': 2232, 'atento': 8571, 'tapioca': 11672, 'água': 87, 'IPO': 10254, 'cidades': 2242, 'soninho': 12228, 'unidades': 4160, 'BB': 523, 'Metade': 7321, 'Prática': 7416, 'cometer': 8290, 'Nenhuma': 4941, 'Importação': 9553, 'anterior': 3968, 'Wi-Fi': 8047, 'pênaltis': 2181, 'GALPÃO': 4753, 'indígenas': 8065, 'JANEIRO': 573, 'considerado': 4057, 'Voice': 6951, '600': 8118, 'falado': 3714, 'sairam': 954, 'Encarregado': 9906, 'irei': 1535, 'Ato': 2255, 'latinos': 14216, 'inimigos': 2635, 'Fogaça': 11409, 'manhã': 493, 'carol': 2259, 'Zema': 9771, 'Verifica': 3796, 'fixes': 7079, 'acessível': 10285, 'Polícia': 2262, 'faltei': 10785, 'elétrico': 4862, 'investiga': 2263, 'ditado': 3634, '300': 3718, 'finaliza': 14337, 'soubessem': 10131, 'condição': 8765, 'leal': 2855, 'campeonato': 2271, 'balança': 7746, 'aluno': 8070, 'jaehyun': 15060, 'siga': 698, 'afirma': 2279, 'auxílio': 4023, 'Dudu': 2281, 'tas': 7018, 'previsto': 4696, 'parar': 2286, 'age': 14888, 'NENÉM': 6472, 'declarado': 12034, 'tae': 8758, 'única': 397, 'criativo': 6193, 'desconto': 2631, 'qui': 5767, 'problema': 2290, 'australiana': 1645, 'térmicas': 13286, 'deitar': 89, 'mensalão': 5299, 'senha': 5881, 'colocaram': 10978, 'Camila': 2292, 'Caiu': 4345, 'tomar': 1373, 'varanda': 12671, 'tamanho': 2294, 'short': 1858, 'arte': 3726, 'perde': 2295, 'Nação': 2296, 'Bibi': 9773, 'Bispos': 15343, 'meme': 1994, 'vas': 2301, 'federal': 4806, 'semanas': 1677, 'ranked': 12618, 'VÍDEO': 6161, 'Douglas': 2308, 'Tentativa': 14862, 'gigantesca': 8395, 'exatas': 3283, 'De': 1488, 'despedir': 7384, 'descaso': 12575, 'grandioso': 9208, 'Belchior': 2309, '🇹': 8348, 'chinês': 9342, 'boulos': 3723, '7,5': 5572, 'Aaaah': 4832, 'volante': 9749, 'senti': 2313, 'Alguns': 7558, 'Xbox': 9113, 'Nicarágua': 15434, 'humanitária': 5180, 'experiência': 177, 'Ain': 10132, 'iam': 2317, 'queiram': 15467, 'ô': 963, 'Photoshop': 2132, 'difamação': 5647, 'Acidente': 2320, 'crescer': 2364, 'S.A.': 1938, 'setembro': 1172, 'MA': 2326, 'qué': 2698, 'fossem': 4795, 'massacre': 9790, 'braços': 2331, 'PERFEITO': 7489, 'sobem': 2339, '13h': 4226, 'reparei': 1691, 'bea': 6326, 'consequências': 2633, 'rapidamente': 2340, 'encontrado': 2342, 'Notícies': 4566, 'alcançar': 5378, 'Coréia': 2117, 'mãos': 2848, 'reflexão': 890, 'interessantes': 7587, 'Estrelas': 8369, 'enorme': 408, 'certinho': 5087, 'putrailham215': 5088, 'divisão': 10402, '-Rani': 5089, 'impedidos': 5090, 'Aaa': 5091, 'NE': 12754, 'Hoseok': 5092, 'exatos': 10010, 'ksksks': 8963, '2.0': 5096, 'Gasparetto': 15771, 'louco': 7082, 'fofo': 1714, 'chegue': 8581, 'LA': 5098, 'VEM': 5099, 'pastel': 12232, 'gato': 5102, 'destruição': 5644, 'nojo': 10078, 'soa': 5108, 'procurou': 7008, 'bombeiros': 4193, 'justamente': 5109, 'contam': 5110, 'ta': 445, 'Chegou': 250, 'cair': 5113, 'entendeu': 5114, 'pudesse': 5116, 'Palácio': 5119, 'Rouanet': 9378, 'oração': 9671, 'canções': 5125, 'mucho': 12593, 'justa': 5126, 'ganho': 5127, 'lembraram': 11386, 'olá': 5128, 'pequenas': 262, 'interessada': 5129, 'Montenegro': 13574, 'agressão': 5131, 'compactuam': 7353, 'bispos': 14490, 'Tijuca': 5133, 'máquinas': 13657, '🤟': 9824, 'gelo': 5134, 'desesperado': 5136, 'felizes': 5140, 'marquei': 11395, 'escolar': 7408, 'tiverem': 5141, 'Federal': 5142, 'cobre': 14691, 'fakenews': 8387, 'corrupto': 7521, 'ganhos': 3534, 'Segunda-feira': 5146, 'errada': 5147, 'Ju': 5771, 'apartamento': 8439, 'comerciais': 3098, 'conhecimento': 5148, 'AHAHAHA': 7930, '45': 5782, 'vêem': 7524, 'colocam': 10641, 'farpas': 5151, 'alertou': 5152, 'usava': 9675, 'lados': 5156, 'houvesse': 14673, 'reta': 5159, 'consigam': 13763, 'peças': 5160, 'continuem': 8059, 'À': 6275, 'intervenção': 2475, 'confortáveis': 5161, 'historia': 5162, 'COMPARTILHEM': 15736, 'Paris': 4525, 'apresentado': 5255, 'rodovias': 5985, 'Número': 4250, 'Velho': 5163, 'conversou': 5164, 'evitem': 5165, 'deixam': 3926, 'contratados': 6384, 'Fiquem': 9080, 'escondida': 5167, 'apagado': 10268, 'banheiro': 5168, 'Trechos': 3479, 'medicina': 5504, 'ônibus': 1308, 'Comprei': 1057, 'escritório': 5169, 'curiosidades': 13934, 'alegre': 12011, 'bomba': 7642, 'Ex-governador': 5174, 'dou': 3061, 'conflito': 5177, 'Pequim': 5178, 'Padilha': 3671, 'DEPOIS': 2691, 'empresário': 6809, 'governadores': 5183, 'HOMEM': 11040, 'finalistas': 6956, 'abraçou': 5184, 'ambiente': 3339, 'Comida': 5185, 'Claro': 5284, 'resgatar': 358, 'Estas': 5186, '27': 5187, 'cova': 11809, 'abertas': 5189, 'rolando': 5190, 'Tem': 2140, 'administrar': 7067, 'assédio': 2798, 'controle': 5194, 'migs': 7752, 'psiquiatra': 13552, 'Então': 62, 'saiam': 5196, 'mó': 5198, 'Diz': 4905, 'rouca': 7908, 'CBF': 9057, 'puxar': 5199, 'beta': 11688, 'pego': 5200, 'Lima': 7163, 'estragos': 14019, 'usas': 13271, 'juventude': 13031, 'Huck': 11128, 'perdoar': 4914, 'virado': 6332, 'fantásticos': 4758, 'ladrões': 5203, ':*': 11302, 'Cardoso': 7317, 'Populi': 15563, 'condução': 1616, 'Q': 5205, 'App': 3242, 'mozão': 5206, 'retrocesso': 1528, 'l': 7378, 'Boys': 15108, 'Chácara': 13891, 'fdp': 5208, 'Orçamento': 4158, 'limitada': 8183, 'lobby': 5210, 'permitir': 8280, 'Water': 11817, 'ciúmes': 9242, 'matarem': 5211, 'curiosidade': 5212, 'Bulgária': 5748, 'enviam': 9437, 'mo': 4785, '310': 5213, 'ingredientes': 12347, 'inocentes': 4750, 'trem': 5917, 'informa': 5215, 'espontânea': 14842, 'veste': 9408, 'chão': 4369, 'lido': 8622, 'aciona': 5016, 'Live': 5218, 'apela': 5220, 'Uai': 14765, 'falso': 1293, 'invade': 7406, 'bobeira': 9543, 'Show': 5221, 'Elton': 1715, 'entrada': 6404, 'várias': 317, 'Puta': 8882, 'Desculpe': 5225, 'chinesa': 2976, 'armados': 6908, 'Kombi': 13656, 'anna': 8591, 'tombo': 5228, 'bus': 5229, 'Deixo': 13548, 'violino': 10500, 'PRA': 2524, 'coraçãozinho': 5230, 'masculinidade': 10987, 'Missão': 8810, 'pratica': 5777, '2x': 5234, 'aranha': 5236, 'Lançamento': 12887, 'estressei': 10551, ':3': 5217, 'absolutamente': 5239, 'tadinha': 6256, 'divertida': 1229, 'diminuir': 5242, 'países': 5035, 'relembra': 6333, 'encerramento': 8364, 'Nesse': 5244, 'estragar': 12972, 'cruel': 5245, 'Sente': 2454, 'Patrícia': 5248, 'Pillar': 5249, 'Março': 5251, 'combate': 5253, 'negros': 3038, 'tire': 5429, 'avisei': 7790, 'Daniela': 9803, '50': 2104, 'di': 5254, 'vemos': 5258, 'causar': 1227, 'esfaqueador': 5259, 'Notícia': 5260, 'dever': 5890, 'disputará': 2991, 'salvador': 6790, 'Jean': 5261, 'privilégio': 6903, 'Azambuja': 12483, 'vaga': 1936, 'discutem': 8147, 'aconselha': 12016, 'Wyllys': 5262, 'reeleito': 5263, 'privatizações': 5266, 'Podcast': 5267, 'Semana': 5268, 'quebrar': 5269, 'levados': 2266, 'but': 5270, 'cruzeiro': 12077, '1885e00e-5218-48c4-a5bf-a2801c0cfa91': 1918, 'registro': 5271, '063a22b1-df93-4949-ba24-87300605f2fd': 5272, 'futebol': 1157, 'rolo': 8161, 'transparência': 5274, 'vo': 5277, 'Deputada': 14151, 'atua': 9493, 'revista': 5278, 'exclusiva': 13556, '2013': 5279, 'pedem': 6085, 'RH': 5281, 'stores': 6539, 'alheia': 5283, 'facções': 4209, 'rejeita': 5285, 'fruto': 10053, 'Gustavo': 4437, 'impeachment': 5286, 'Timão': 14143, 'adia': 7076, 'stray': 11511, 'Crivella': 5287, 'boazinha': 5290, 'desespero': 331, 'reclamar': 5293, '9/10': 5294, 'popularidade': 5298, 'Enviar': 15921, 'desempregado': 5300, 'ed': 5848, 'apura': 7060, 'tomaram': 10068, 'praça': 5304, 'noutro': 7042, 'elegemos': 5305, 'centro': 3169, 'senadora': 5306, 'Aguardem': 5309, 'convém': 3887, 'ciente': 5310, 'sujo': 5311, 'atores': 3993, 'clara': 5313, 'magra': 5314, 'DÁ': 12093, 'felix': 5315, 'Cultura': 5317, 'Pára': 14318, 'LULA': 6270, 'chique': 12371, 'Osasco': 9135, 'gaúcha': 14851, 'participando': 4714, 'Pop': 5318, 'miséria': 12110, 'enviado': 5319, 'custar': 8911, 'poderão': 9989, 'Encontro': 5324, 'dog': 9819, 'Cultural': 5325, 'setor': 5327, 'torneio': 5329, 'FGC': 5330, 'Apoie': 5331, 'estagiários': 11325, 'TRT': 5332, '2,2': 15721, 'soulmate': 14060, 'instrumentos': 5335, 'barreira': 8826, 'cortar': 5337, 'abençoe': 5587, 'vovó': 14139, 'câmara': 4499, 'exame': 5340, 'apóia': 15283, 'Ligue': 5343, 'diagnóstico': 6918, 'acabou': 409, 'fins': 5344, 'remédio': 5345, 'Mercado': 7769, 'animada': 9928, 'conversa': 2400, 'Paul': 5348, 'fase': 2214, 'ranking': 5353, 'concorda': 5356, 'discorda': 5357, 'Twitch': 7305, 'Vôlei': 3824, 'RR': 8525, 'piada': 5358, 'ESTÁ': 7437, 'culpada': 4627, 'saudável': 5359, 'obgg': 15303, 'gays': 2447, 'Coisas': 6681, 'formam': 5360, 'audio': 11659, 'regional': 5361, 'toque': 5363, 'arrecadar': 9252, 'etapa': 5364, 'saneamento': 7561, 'longa': 5365, 'Estilo': 6141, 'follow': 3863, '8h': 9104, 'pequenina': 15928, 'flopou': 5366, 'Digital': 4130, 'batem': 324, 'United': 6607, 'ideal': 5367, 'estressar': 872, 'direção': 7142, 'interrompe': 5581, 'Sempre': 5371, 'combina': 7706, '16h': 5676, 'ator': 5373, 'manipular': 12479, 'costumes': 5375, 'mulher': 985, 'pessimista': 8023, 'existência': 5377, '1,5': 5379, '4,20': 12271, 'Alvorada': 8292, 'diários': 15872, 'va': 5380, 'nessas': 5411, 'genial': 8281, 'permitido': 5383, 'contagem': 6829, 'Aventuras': 15247, 'estares': 5385, 'ITI': 5389, 'usamos': 9979, 'cansou': 5392, 'xadrez': 6234, 'masculino': 1795, 'esquerdistas': 5393, 'sobra': 5395, 'Daquele': 5398, 'Posto': 8645, 'temperos': 7475, 'Petróleo': 5401, 'Haha': 12918, 'AP': 7358, 'Tavares': 7647, 'incomodar': 7155, 'preta': 2201, 'VOTEM': 5404, 'ISSO': 5405, 'QUERO': 7376, 'buscar': 5321, 'estavam': 5407, 'hotéis': 14284, 'faltando': 5408, 'Peças': 5413, 'pao': 12517, 'transformam': 5877, 'segurando': 2649, 'guloseimas': 5414, 'Mercedes': 8222, 'atrações': 5416, 'versos': 10942, 'seguidores': 6582, '🤘': 12108, 'bancária': 5419, 'prefeitos': 1252, 'reclamou': 9515, 'Araxá': 14583, 'lançamento': 5420, 'Davis': 11179, 'Sendo': 3363, 'cotovelo': 5424, 'Fico': 5427, 'exagero': 14426, 'relaxa': 5430, 'provou': 14346, 'safra': 5432, 'COMIGO': 5433, 'queimei': 14546, 'fudi': 8885, 'TOU': 5434, 'burras': 14976, 'BR': 2324, 'copiar': 9297, 'Fica': 722, 'conhecem': 9482, 'COM': 5435, 'debocha': 15181, 'Eita': 5437, 'atividades-fim': 12808, 'aguardo': 5439, 'Stories': 5441, 'Descobri': 5442, 'passe': 9056, 'obeso': 5444, 'criticou': 15550, 'colo': 7113, 'impressora': 5445, 'elogia': 11020, 'resolvi': 7714, 'amores': 5448, 'Renato': 5450, 'camp': 12409, 'manifesto': 6320, 'escravo': 5452, 'Conheça': 5454, 'crente': 9170, 'SÉRIES': 5456, 'CHEGAM': 5457, 'Tiffany': 9313, 'blackpink': 14061, 'NETFLIX': 5458, 'legaliza': 15138, 'Lula': 185, 'EM': 5459, 'SETEMBRO': 5460, 'Galpão': 4035, 'arrumou': 5135, 'familia': 9287, 'aprendeu': 417, 'PAULO': 10121, 'BOA': 14107, 'descobre': 5465, 'promover': 3049, 'gostar': 1574, 'Ventura': 8941, 'Lady': 5468, 'lata': 9736, 'gaga': 5469, 'bem-vindo': 5471, 'largada': 15226, 'Caps': 5472, 'Edu': 14645, '🧢': 5474, 'derrubar': 10201, 'Branca': 5475, 'JESUS': 5480, 'TERÁ': 5482, 'AMIGO': 5484, 'chamam': 5485, 'puts': 2449, 'acordou': 5486, 'Disse': 5487, 'toques': 15918, 'tocam': 13834, 'Às': 8409, 'conexão': 9943, 'Ribeiro': 4321, 'pensando': 901, 'vibe': 5489, 'Vera': 5491, 'it': 5496, 'pressiona': 12949, 'confia': 5498, 'desistem': 10169, 'cientistas': 5502, 'nnc': 9371, 'toca': 6393, 'Estudante': 5503, 'aplicação': 5507, 'curtam': 6444, 'Região': 4693, 'lateral': 5508, 'Nintendo': 12032, 'achou': 5509, 'selca': 8049, 'chapa': 5511, 'Rede': 5512, 'conservadora': 9271, 'aumentam': 5513, 'resolver': 8197, 'arrepender': 5143, 'propagandas': 5514, 'Ficha': 124, 'forçar': 5515, 'PESSOAL': 8538, 'encontre': 2869, 'pergunta': 139, 'Dória': 5516, 'reclamando': 5517, 'filhotes': 5518, 'recém': 5519, 'Vendedor(a': 3302, 'e/ou': 5521, 'non': 5523, 'volta': 26, 'temp': 5524, 'Bretas': 8334, 'Senado': 1771, 'Chapecoense': 5527, 'duro': 8677, 'bb': 50, 'tabela': 5528, 'Gosta': 11152, 'Zé': 2859, 'championsfactorybrasil': 4853, 'função': 5531, 'Ora': 5532, 'serve': 5533, 'hotel': 7282, 'critério': 5534, 'atestado': 10359, 'chuvas': 3540, 'editorial': 5535, 'jogados': 14498, '0-xx-11': 6648, 'Bicho': 5536, 'acordaram': 5538, 'insônia': 5539, 'descobriu': 6784, 'esperava': 5540, 'Segurança': 5541, 'Pública': 5542, 'Do': 5717, 'freira': 9837, 'sorteios': 15178, 'magro': 11475, 'Sobe': 5543, 'Siqueira': 5547, 'chamo': 11254, 'luzes': 5548, 'Recebeu': 10149, 'meninas': 1198, 'Francisco': 5554, 'dívida': 5558, 'regiões': 3541, 'Questão': 5560, 'PP': 5562, 'apoiam': 5563, 'iniciam': 7010, 'grana': 4655, 'er': 9204, 'ESTOU': 5564, 'Mal': 7429, 'goals': 14906, 'fumando': 5568, 'combinação': 10140, 'Concursos': 5571, 'indícios': 5573, 'estômago': 5070, 'salnorabo': 6261, 'discutido': 5575, 'homofóbica': 5808, 'passadinha': 1888, 'útero': 5577, 'Dom': 4105, 'dedos': 10175, 'caldo': 8596, '18': 5578, 'Farei': 9188, 'CNJ': 5580, 'TOMAR': 13872, 'politico': 8636, 'OK': 7261, 'porem': 796, 'ios': 9927, 'salvação': 5583, 'Teu': 5584, 'sairá': 5586, 'preconceituosos': 13603, 'nenem': 5588, 'omg': 14853, 'cumprido': 14517, 'ERRADO': 6884, 'corto': 1730, 'emocionalmente': 5594, 'FIM': 9631, 'Rússia': 1359, 'depressao': 5596, 'enxerga': 5597, 'humanos': 7207, 'Venho': 5601, 'Xingu': 13039, 'Mídia': 10964, 'desaparecidos': 5604, 'consome': 342, 'Filipinas': 5605, 'PIOR': 8396, 'tufão': 5606, 'decidiu': 5610, 'Eletricista': 12836, 'anular': 5612, 'EXTENSIVO': 8557, 'mensalidade': 5614, 'pecado': 10420, 'cartilha': 5618, 'cachorra': 5619, 'mega': 1824, '🇭': 456, 'técnicas': 5620, 'fofa': 5622, 'criticar': 3659, 'aguento': 5626, 'dorzinha': 7148, 'julgamento': 4018, 'Costureiro(a': 5627, 'bozominion': 5631, 'leve': 5633, 'atração': 4986, 'vacinação': 10152, 'deputada': 5636, 'sejamos': 14311, 'integração': 10164, 'gatinho': 5638, 'roubei': 15759, 'apaixonei': 5447, 'QUE': 5640, 'eram': 261, 'roubando': 4622, 'metadinha': 7934, 'esqueceram': 12302, 'preencha': 9193, 'Robin': 14621, 'postado': 11805, 'passam': 13, 'conheci': 1600, 'COISA': 5641, 'Banksy': 5646, 'cães': 5648, 'medo': 365, 'simboliza': 8079, 'entendia': 15672, 'Facebook': 1831, 'CARALHO': 5652, 'sabor': 5555, 'Prazer': 8042, 'Receita': 5654, 'consulta': 5656, 'Renda': 5660, 'LATAM': 5662, 'apagou': 8515, 'irmao': 8107, 'demite': 5663, 'hrs': 12314, 'LOGO': 7880, 'DEMAIS': 5639, 'Galeão': 5665, 'fraco': 5671, 'Promoção': 4946, 'grossa': 5672, \":')\": 5675, 'pesquisar': 5721, 'alcança': 5677, '93': 13232, 'costa': 5678, 'códigos': 9619, 'casas': 9801, 'diploma': 3025, 'odeio': 2368, 'hehe': 5680, 'SEMPRE': 7214, 'Investimento': 5682, 'grosso': 8778, 'maravilhosa': 5685, 'ligo': 5686, 'Cesar': 10376, 'Sei?': 5687, 'corro': 14449, '99486-0293': 6649, 'Uso': 13422, 'Z': 5688, 'Valeu': 2375, 'Bóra': 6773, 'Stan': 10316, 'Nas': 4452, 'fases': 8322, 'pinto': 10192, 'relacionada': 11354, 'papai': 5692, 'descobrem': 7660, 'competência': 11261, 'Ok': 547, 'aparentemente': 5696, 'muda': 5697, 'guarda': 3167, 'volume': 5699, 'bairro': 6706, 'Que': 59, 'coroa': 5700, 'Man': 5701, 'sarampo': 6689, 'coluna': 9387, 'and': 5702, 'pedidos': 4526, 'pretendia': 8151, 'reação': 5704, 'viajante': 14521, 'pouquinho': 4546, 'autoriza': 5708, 'jogadora': 12665, 'One': 8149, 'empate': 5711, '85': 5712, 'they': 1813, 'Pro': 5940, 'USP': 782, 'Imposto': 5659, 'espanhola': 5714, 'atraem': 14655, 'Caballé': 5716, 'fernanda': 15498, 'israelense': 4017, 'cordão': 6525, 'HD': 12561, 'loira': 5718, 'Espaço': 7417, 'procuro': 5724, 'concentram': 12700, 'maiores': 7251, 'dental': 14934, 'preferem': 11004, 'quebrado': 5727, 'Cervejaria': 15675, 'esforços': 5728, 'Confiram': 10464, 'Proposta': 9860, 'pequeno': 5729, 'acima': 3814, 'cantinho': 5730, 'morar': 458, 'presidenciáveis': 1634, 'Rh': 4002, 'imensa': 5732, 'Assédio': 14262, 'padrasto': 5733, 'chame': 4651, 'bolsominions': 5735, 'checagem': 15029, 'Melhoras': 5145, 'fofinha': 7946, 'transferência': 5193, 'conseguem': 5736, 'Esqueci': 5738, 'carnaval': 7276, 'tocar': 5742, 'finge': 5745, 'marcados': 11948, 'maconha': 2265, 'day6': 5749, 'portal': 6714, 'nestes': 7122, 'gênio': 9479, 'honestamente': 5751, 'torcida': 5772, 'caso': 801, 'Tentei': 8563, 'lenta': 15455, 'muuuito': 9513, 'Helena': 6394, 'faculdades': 5755, 'avô': 3519, 'CONTRA': 6269, 'repensar': 5756, 'radicalismo': 12083, 'Difícil': 244, 'negócio': 5761, 'ps': 5764, 'FESTA': 13181, 'documento': 5765, 'guitarra': 4908, 'idiota': 5770, 'funcionou': 14197, 'condicionado': 6569, 'Turma': 10823, 'Major': 1772, 'aprecio': 7209, 'Atibaia': 5775, 'Enfim': 5778, 'veículos': 3090, 'tipos': 5779, 'brilho': 10576, 'alemães': 7273, 'rafa': 5783, 'Saber': 5784, 'dirigentes': 15154, 'equipamentos': 5786, 'femininas': 15998, 'premiado': 9298, 'Felizmente': 5788, 'pote': 863, 'envia': 8413, 'partem': 5789, '51': 5790, 'Adormeci': 4552, 'detidas': 5791, 'onda': 287, 'disser': 5920, 'mude': 10783, 'rapaz': 5792, 'giras': 5793, 'suspensa': 9983, 'áudio': 5794, 'materiais': 13503, 'sexualidade': 12930, 'descontos': 5797, 'insignificante': 12518, 'estrear': 10970, 'noites': 5799, 'verdes': 7139, 'libras': 9672, 'seguidas': 5800, 'autocarro': 2047, 'destrói': 5801, 'melhorei': 6889, 'Estadual': 12423, 'Levi': 12171, 'cearense': 5804, 'curiosos': 14073, 'bola': 2941, 'obs': 5805, 'hmm': 14184, 'Unicamp': 5806, 'Empresários': 15517, 'ofensa': 5807, '01/10': 5814, 'permanente': 15235, 'leitor': 6815, 'PRO': 7514, 'juntas': 5816, 'machucaram': 5817, 'Equipes': 13198, 'Pensando': 5818, 'estudado': 5819, 'HBO': 5889, 'PMDB': 9478, 'Venda': 5820, 'tanque': 4773, 'Embraer': 5821, 'opõe': 5823, 'irmãs': 11515, 'pude': 83, 'not': 5824, 'maio': 8974, '30/9': 14126, 'aii': 5825, 'Vítima': 5247, 'frequência': 7686, 'Paraíba': 3452, 'stress': 7929, 'embaixada': 5826, 'Manhã': 9741, 'sombra': 5827, 'avisado': 5829, 'topo': 6885, 'terno': 13049, 'morango': 5830, 'ápice': 12733, 'combinando': 11508, 'alivia': 330, '00:28': 9125, 'Jornalista': 5831, 'bazar': 9087, 'G': 5833, 'finalmente': 7229, 'negócios': 5834, 'trégua': 4387, 'internautas': 5924, 'chama-se': 13984, 'apresenta': 5835, 'fechar': 3647, 'Angola': 9563, 'facilidade': 5837, 'criminosa': 8915, 'modelos': 15312, 'Outro': 5839, 'gráfico': 13751, 'Pintura': 5841, 'vindos': 5842, 'Mediterrâneo': 5843, 'Tou': 5844, 'daquelas': 5845, 'Campeão': 13525, 'estrutura': 5846, 'esgotaram': 5849, 'Cristiano': 2861, 'Necesito': 9766, 'guess': 5850, 'rep': 10563, 'Só': 35, 'what': 5851, 'condenação': 5852, 'caça': 15688, 'requisitos': 7083, 'zumbis': 13325, 'cola': 682, 'construção': 5855, 'funcionando': 6741, 'ciclovias': 5856, 'custo': 5859, 'Valério': 15034, 'Próxima': 272, 'pacientes': 8621, 'lamentável': 14380, 'bimestre': 5863, 'Automóvel': 6088, 'Grammy': 14575, 'tornam': 5864, 'Respondi': 5930, 'tempestade': 10757, 'caí': 8570, 'too': 4721, 'comuns': 5865, 'be': 1818, 'TUDO': 6883, 'cólica': 5868, 'filhas': 5872, 'ausência': 5874, 'sobrancelha': 4350, 'clubes': 5875, 'sanções': 5876, 'Constituição': 5878, 'ex-ministro': 5879, 'relembrar': 5880, 'arena': 14612, 'Álvaro': 5883, 'Santo': 3616, 'Tim': 5885, 'streaming': 5887, 'recuso': 5888, 'marcar': 5891, 'inchado': 5894, 'fococonsultancy': 5895, 'irônico': 15999, 'Falamos': 9756, 'título': 5898, 'Interessante': 10889, 'hoseok': 10446, 'consequentemente': 8805, 'real': 683, 'Meninas': 5901, 'coisinhas': 8467, 'passaram': 5059, 'Vindo': 5461, 'simmm': 5902, 'escuto': 7170, 'Extrajudicial': 15285, 'fugindo': 10043, 'atos': 5905, 'TBM': 7225, 'ansiosos': 5906, 'doce': 5907, 'queijo': 5908, 'neutro': 11628, 'daqueles': 5909, 'Sergipe': 5115, 'CONSIGO': 5913, 'Casal': 5914, 'litoral': 5919, 'verbas': 8582, 'despertador': 1689, 'filho': 5923, 'Advogado': 5925, 'Lira': 5931, 'Best': 11259, 'moeda': 5932, 'afffff': 5933, 'craque': 3914, 'BRASILEIRO': 5934, 'batom': 8545, 'Criança': 5418, 'VI': 5935, 'Beijinhos': 10747, 'chorou': 2112, 'afastei': 8167, 'bonde': 9935, 'ironiza': 5936, 'Unhas': 6685, 'denunciou': 5937, 'Luana': 3366, 'DJ': 5939, 'Eventos': 5941, 'espécies': 12580, 'Emprego': 5943, 'turista': 7106, 'cansar': 12498, 'adaptar': 8262, 'pura': 5945, 'cura': 6573, 'elegância': 5946, 'evolução': 1331, 'feiras': 5952, 'ruas': 5954, 'Largo': 5956, 'Prata': 14591, 'resolveu': 6518, 'Backend': 9594, 'raio': 5957, 'hyejoo': 7213, 'performance': 3572, 'trovão': 5958, 'Salário': 6135, 'win': 6408, 'gege': 3809, 'this': 9795, 'lembrança': 13445, 'banana': 9162, 'bebes': 5959, 'papa': 5961, 'ceu': 5963, 'ho': 12223, 'Esquerda': 12151, 'terra': 5964, 'passem': 5965, 'preços': 8457, 'Unilever': 5967, 'Pense': 2545, 'conversando': 9284, 'trainee': 5969, 'avisando': 4384, 'abril': 5971, 'Carreiros': 5972, 'jantei': 3760, 'aaaaaaa': 7072, 'limusine': 16013, 'acordado': 2562, 'pano': 5980, 'Deputados': 5981, 'revisão': 5982, 'simm': 1727, 'contratos': 5983, 'tremer': 5986, 'lenha': 9752, 'fãs': 7600, 'evangélicos': 5987, 'Goiânia': 2161, 'Peres': 7297, 'sombrios': 5988, 'reagir': 5990, 'ANJO': 8806, 'namoradinha': 8925, 'MULHER': 10321, 'russos': 5992, 'respeitando': 15184, 'amgs': 11143, 'Caieiras': 6556, 'protestam': 5993, 'turístico': 13673, 'rápido': 3194, 'cede': 7493, 'Secretaria': 11762, 'Chame': 5994, 'Procurando': 13212, 'pdf': 5725, 'esperamos': 5997, 'repórter': 5998, 'Rejeição': 6003, 'metal': 6008, 'Maiden': 6010, 'viste': 10048, 'Weber': 5047, 'Scorpions': 6011, 'rendeu': 12184, 'Megadeth': 6012, 'Projetos': 7768, 'aprendo': 6015, 'cúmplice': 7695, 'cunhada': 9258, 'exército': 6016, 'Quarta': 8512, 'NuConta': 9787, 'Sao': 6017, 'senhorita': 9487, 'tablet': 13911, 'opiniões': 6018, 'Corrêa': 15630, 'deseja': 12500, 'Foto': 7663, 'Jornal': 781, 'Público': 6020, 'próximos': 1998, 'assassino': 6021, 'atualizou': 15168, 'Marielle': 6022, 'utilizado': 6024, 'cilada': 14794, 'discurso': 778, 'injusta': 6360, 'Kim': 6029, 'criptomoedas': 7248, 'Depende': 6030, 'vista': 6031, 'Aaah': 7389, 'leste': 5679, 'alone': 6034, 'tornar': 2642, 'localização': 9344, 'chateada': 3946, 'inicial': 6035, 'parecida': 9588, 'viajando': 6036, 'VIP': 6038, 'Senna': 14144, 'rpg': 9806, 'Esquadrão': 10818, 'brincar': 4054, 'serio': 3805, 'Club': 6039, 'mito': 1525, 'Aeroporto': 6040, 'assinatura': 5694, 'claramente': 6041, 'Elizabeth': 9450, 'olhos': 114, 'd+': 6042, 'desligado': 6043, 'desses': 2955, '99': 2732, 'inseguro': 6044, 'Inglaterra': 6046, 'mínima': 4843, 'virada': 6047, 'pia': 664, 'Nações': 6048, 'pse': 5241, 'espetacular': 6051, 'enfrentará': 3825, 'Desemprego': 6733, 'expressão': 6054, 'formas': 3017, 'frequentes': 7239, 'perguntei': 1746, 'quererem': 6055, 'seriada': 12615, 'dedicação': 11844, 'perda': 6056, 'crítico': 11734, 'Imagem': 8823, 'pediu': 6170, 'Patriota': 10366, 'deveria': 63, 'Prof': 8562, 'discord': 4542, 'ruiva': 6059, 'desgraçada': 6060, 'Moto': 10339, 'Maranhão': 6619, 'Oasis': 8045, 'contratação': 6061, 'temporária': 6062, 'joguei': 2086, 'médicos': 6063, 'Uns': 14690, 'anem': 6064, 'anti-PT': 10959, 'vésperas': 10542, 'Jogo': 7529, 'Fusca': 8988, 'entrevistar': 5709, 'narra': 6066, 'atacar': 5276, 'delicado': 6068, 'unfollow': 6069, 'Nasa': 10005, 'Viagens': 13888, 'vivendo': 6072, 'Br': 6073, 'brexit': 15445, 'importar': 6075, 'Madonna': 6076, 'valorizada': 15052, 'Noite': 7507, 'limpa': 1355, 'nomes': 6078, 'econômica': 6079, '17h30': 15813, 'arrependi': 8379, 'decidindo': 5769, 'Macaco': 9809, 'registrar': 13616, 'Anjo': 6086, 'afetando': 11909, 'Hj': 2987, 'sentimos': 6087, 'Bezerra': 6089, 'teme': 6097, 'atinge': 6099, 'viraliza': 10443, 'Mesmo': 3135, 'Macron': 7323, 'Administrativo(a': 6102, 'obrigação': 3071, 'retrato': 7738, 'gordura': 10811, 'Economist': 6103, 'independente': 1020, 'conter': 6104, 'bichinhos': 10416, 'cancelado': 6287, 'Curte': 7508, 'digitais': 8062, 'camiseta': 6108, 'atualizado': 6109, 'Em': 52, 'Passe': 9148, 'TCU': 6110, 'ap': 13013, 'fechados': 12197, 'Onde': 1302, 'indicam': 9048, 'DF': 2590, 'lavagem': 6111, 'Val': 6113, 'centenas': 9134, 'minimiza': 6114, 'Cristóvão': 2568, 'curtia': 7357, 'treinador': 11598, 'percebeu': 9636, '2ª': 6116, 'Espacial': 9255, 'capas': 6117, 'temporários': 11970, 'bora': 4724, 'jornais': 6118, 'Escola': 1029, 'Boletim': 8215, '🇧': 6119, '🇷': 6120, 'C': 1869, 'produtiva': 10039, 'Miriam': 6121, 'Touro': 6460, 'estudando': 6127, 'interno': 11053, 'defendia': 6129, 'parado': 4484, 'reforçam': 5904, 'esquecendo': 6134, '^^': 6732, 'solidariedade': 6138, 'trocam': 5150, 'ventos': 6139, 'transformação': 14484, 'penúltimo': 6359, 'YouTube': 1113, 'Bem': 6142, 'Up': 14773, 'parabéns': 2224, 'metro': 6143, 'agarrado': 6144, 'escova': 7987, 'apagar': 7506, 'e-mails': 6146, 'abracinho': 6149, 'político': 2371, 'Itália': 7632, 'maternidade': 6152, 'venho': 9959, 'rsrs': 6153, 'copo': 6155, 'Continuo': 6156, 'cabine': 11411, 'básica': 5720, 'salva': 6157, 'Disputa': 6159, '13': 2458, 'Kiss': 6160, 'agredida': 6162, 'humildes': 12397, 'roubo': 6164, 'colhe': 14332, 'inéditas': 11027, 'favorito': 6166, 'pornografia': 6168, 'Boku': 11155, 'novinha': 6169, 'nulos': 3493, 'Miranda': 4401, '0': 6172, 'julia': 6174, 'Loja': 4540, 'Angela': 3773, 'credibilidade': 5948, 'OEA': 6176, 'baiano': 5591, 'Gasto': 6180, 'argentino': 8520, 'agressiva': 2554, 'extra': 6181, 'cegueira': 8159, 'surta': 15609, 'he': 6184, 'Samantha': 6185, 'curious': 11973, 'disputam': 9767, 'pênis': 3149, 'fodida': 6186, 'Joana': 6187, 'carteira': 9004, 'papel': 2350, 'Tentar': 9329, 'prêmio': 6188, 'santa': 6190, 'distrito': 7399, 'Aguardamos': 6192, 'gt;Leandro': 10137, 'fer': 6194, 'torcendo': 6195, 'FOFO': 6196, 'Bueno': 9083, 'Btw': 6197, 'Democracia': 12065, 'cvs': 3475, 'beijada': 6200, 'União': 6201, 'inquérito': 7479, 'Europeia': 6202, 'euro': 6204, 'Roraima': 1876, 'fresquinho': 6205, 'imunidade': 6206, 'conduta': 6208, 'Deixa': 5467, 'cobra': 6209, 'entrevista': 497, 'sera': 369, 'gravações': 8261, 'ignorada': 10631, 'consideração': 7802, 'Alemanha': 6210, 'infantil': 6239, 'violento': 11435, 'With': 10683, 'Duarte': 7582, 'língua': 6213, 'Alerj': 12899, 'industrial': 2542, 'NADA': 7783, 'câmera': 6218, 'Requisitos': 15294, 'brother': 6220, 'queimado': 3473, 'TEMPORADA': 4007, 'fofinho': 6223, 'Ja': 6224, 'quantas': 6225, 'votaram': 1699, 'gritei': 6226, 'Anastasia': 7915, 'VOU': 6229, 'Vlw': 6231, 'Bezos': 8228, 'icone': 6233, 'faculdade': 174, 'perguntas': 1897, 'devolve': 9486, 'cancelam': 6137, 'BA': 6237, 'Hmm': 12679, 'tuítes': 12510, 'civil': 6260, 'Arns': 11780, 'advogada': 6240, 'perdidas': 3370, 'goleiro': 6244, 'bancar': 15564, 'acessar': 10975, 'beneficiar': 6247, 'resistir': 757, 'bbs': 7409, 'Swift': 7641, 'devemos': 6249, 'Tchau': 6251, 'fechando': 8091, 'JORNAL': 6252, 'SUVs': 6254, 'Certo': 7446, 'bolha': 1021, 'fáceis': 6255, 'mantem': 15061, 'Amanda': 1273, 'Atendimento': 8376, 'localizar': 11789, 'EMPREGO': 1446, 'mexer': 6257, 'nenens': 8450, 'Dps': 6259, 'região': 5388, 'bff': 6262, 'comparação': 6263, 'governabilidade': 6265, 'ultimo': 6268, 'VOLTANDO': 6271, 'deusa': 2595, 'ouvem': 7539, 'níveis': 9498, 'duplo': 8989, 'CVM': 8760, 'facismo': 11234, 'leves': 6276, 'Tente': 14155, 'Marido': 6279, 'confessa': 6282, 'bastarz': 6286, 'financeiro': 6288, 'Favor': 6294, 'Bar': 3632, 'destruiu': 6291, 'natação': 9071, 'torre': 6292, 'Raquel': 9566, 'City': 7991, 'filtro': 6293, 'tweets': 6295, 'Kiitos': 11516, 'Ilha': 5176, 'Pau': 6299, 'Devo': 10124, 'favorita': 2200, 'questionamentos': 6301, 'radicalização': 15461, 'conferir': 2009, 'fere': 6303, 'Benefícios': 6306, 'Local': 6307, 'Toffoli': 1440, 'quisesse': 7685, 'Atrasada': 13113, 'Barueri': 6308, 'relevante': 6310, 'QUEM': 6311, 'Coreias': 12071, 'eleva': 10620, 'esperanças': 6313, 'mesa': 6315, 'Artes': 7420, 'imigrante': 14898, 'bandeira': 4500, 'job': 5399, 'fingindo': 6317, 'Ninguém': 6321, 'Bonner': 4733, 'MP': 6322, 'PELOS': 8157, 'Samarco': 6323, 'desastre': 6325, 'Gostaríamos': 6327, 'brócolis': 9273, 'bilheteria': 9838, 'discos': 8317, 'malta': 4557, 'propor': 4448, 'vinho': 6329, 'oficializa': 6331, 'submetido': 8103, 'debut': 7128, 'desenhando': 10212, 'metas': 6336, 'gordo': 6338, 'pergunte': 6340, 'propina': 7327, 'Food': 6341, 'ensina': 6343, 'CUTE': 11444, 'funções': 7713, 'Corrupção': 6345, 'organizada': 6346, '9373-7274': 6763, 'capitalismo': 6347, 'desaparecido': 12568, 'estivessem': 6349, 'integram': 15292, 'fazerem': 4279, 'Estive': 6350, 'Mark': 11066, 'gastrite': 5394, 'Física': 6354, 'UMA': 9557, 'laser': 6355, 'plástico': 6672, 'Dois': 6356, 'ausente': 6357, 'Code': 9001, 'EDITORIAL': 9677, 'autoridade': 5599, 'centros': 6367, 'Operacional': 6369, 'simpático': 7448, 'Sabrina': 9864, '2.500': 6370, 'descubra': 11065, 'Creed': 9146, 'fusão': 6371, 'Nestlé': 6372, 'felizinho': 10628, 'Cade': 6373, 'up': 6374, 'piloto': 11551, 'padrões': 10565, 'psicologia': 6968, 'will': 14314, 'Votem': 6375, 'Halloween': 6377, 'mágoas': 9351, 'Campanha': 1500, 'pesquise': 8178, 'bloquear': 9086, 'República': 6380, 'Lei': 6382, 'vigor': 6383, '3,4': 6385, 'punição': 3614, 'maneiras': 6387, 'aparecem': 6388, 'Play': 6547, 'divulgou': 14383, 'salta': 6395, 'razoável': 8595, 'abusivo': 6399, 'Médica': 6401, 'mudando': 6207, 'preparada': 6403, 'atingidos': 6324, 'Arena': 6407, 'Bovino': 14001, 'recompensa': 6409, 'N': 6410, 'situ': 12737, 'PRECISO': 6412, 'Entra': 4989, 'ago': 6415, 'FM': 12656, 'preencher': 6419, 'responda': 6537, 'Verde': 6421, 'loucura': 7168, 'tchurma': 15298, 'valorizar': 14687, 'vice': 2351, 'Plus': 6423, 'temporadas': 10511, 'neutralidade': 8238, 'apareci': 1931, 'sofrimento': 2345, 'mozao': 8891, 'riverdale': 15600, 'apertando': 1079, 'anyway': 6426, 'postos': 3326, 'Crédito': 6428, 'Catanduva': 6429, 'empatados': 8511, 'pensou': 1976, 'abandono': 9659, 'Parque': 12212, 'Padre': 11737, 'celebra': 6430, 'Solar': 7146, 'restaurantes': 7863, 'Anda': 14098, 'balanço': 6431, 'estável': 7771, 'taehyung': 9275, 'Cresce': 6432, 'planeta': 4122, 'motoristas': 6433, 'renovam': 6434, 'sensacional': 6436, 'Filmes': 15895, 'Haiti': 12942, 'denunciado': 11070, 'direto': 219, 'liminar': 7123, 'Elio': 15457, 'Acompanhando': 12882, 'vendem': 7822, 'temer': 3982, 'Incrível': 6438, 'capitais': 6443, 'oferta': 6445, 'recovery': 6447, 'Vídeos': 6448, 'jean': 9370, 'sapato': 5979, 'Al': 6451, 'prestar': 6456, 'Militares': 7552, 'PCD': 14424, 'namorada': 6457, 'lembre-se': 12238, 'daciolo': 6462, 'Humberto': 7482, 'jornalistas': 2529, 'chat': 9039, 'seminário': 6469, 'religiosos': 13322, 'Vdd': 6470, 'domésticos': 14350, 'viu': 641, 'peixe': 7809, 'Melissa': 13464, 'conspiração': 5112, 'limão': 6471, 'suítes': 10109, 'liguem': 1563, 'mistério': 6473, 'compositor': 14430, 'C9': 6475, 'foragido': 1290, 'pareça': 9097, 'TIRAR': 4938, 'provocam': 9211, 'Go': 6478, 'ACHO': 8188, 'Consumo': 6480, 'defende': 6481, 'deixarem': 15608, 'trilha': 6477, 'ó': 6484, 'ingles': 6485, 'necessidade': 3294, 'Bolsa': 6489, 'Marcos': 7672, 'viver': 1161, 'jogam': 2494, 'disparam': 6490, 'empresas': 527, 'Régis': 6491, 'anúncios': 7857, 'doar': 1234, 'sugestões': 5796, 'correr': 6493, 'Matemática': 10375, 'Caralho': 6495, 'discutiu': 6496, 'importância': 6497, 'comitê': 6499, 'cenas': 3095, 'escutou': 6500, 'cita': 6501, 'taylor': 8771, 'Ñ': 9848, 'ocorreu': 6328, 'historiador': 6502, 'Levar': 15246, 'conto': 6505, 'Terça': 13798, 'disponível': 6506, 'dedinho': 9726, 'tendo': 3807, 'Nike': 6509, 'negocia': 6510, 'crânio': 6565, 'Policiais': 14904, 'ALBERTO': 6511, 'Hungria': 6546, 'caminha': 9336, 'OLIVEIRA': 6512, 'EX': 15606, 'imita': 13879, 'artística': 2515, 'IMÓVEIS': 6513, 'COPACABANA': 6514, 'Militar': 7486, 'insta': 4591, 'Boeing': 5822, 'pizza': 1568, 'entendi': 6516, 'barulho': 6519, 'Phoenix': 7748, 'parecendo': 6521, 'caos': 6522, 'Bebê': 6524, 'abrigo': 13623, 'aniversario': 6300, 'brisa': 6527, 'edit': 13242, 'devastada': 8587, 'Internet': 3950, 'belga': 6529, 'invalidado': 10170, 'unf': 6535, 'atendeu': 12069, 'emocional': 8493, 'politica': 6536, 'afastamento': 9695, 'flopar': 4636, 'prato': 6538, 'trsite': 3062, 'Manaus': 6542, 'falhou': 6544, 'paz': 707, 'att': 8182, 'pros': 816, 'Neste': 6550, 'bloqueada': 3969, 'robô': 6551, 'odiei': 13264, 'House': 10953, 'Tenho': 1789, 'feministas': 6552, 'calçada': 15007, 'pré': 4679, 'superiores': 6553, 'iguais': 6554, 'Curso': 6560, 'conclusão': 6562, 'laudo': 6568, 'difíceis': 2227, 'caseira': 7365, 'fizeste': 11101, 'Consultor': 2251, 'Segunda': 9523, 'hugo': 6570, 'ninguem': 6575, 'Spacey': 7605, 'puxa': 6576, 'Bigstock': 8824, 'cd': 6577, 'arrecada': 15304, 'visual': 4906, 'Beijo': 6578, 'happy': 14663, 'Aproveitando': 6579, 'Glória': 5847, 'familiar': 6580, 'inscrição': 6581, 'eres': 6585, 'realização': 655, 'cancelar': 9241, 'naum': 11979, 'relevância': 6590, 'cadastrados': 12282, 'voltaria': 8274, 'Marinha': 5918, 'batida': 6592, 'quietinho': 10809, 'Qnd': 10601, 'plena': 7926, 'elimina': 6606, 'estádio': 6611, 'causam': 12703, 'psicológicos': 6612, 'GANHAR': 6615, 'Qria': 6616, 'Né': 6620, 'conheces': 8724, 'Network': 12778, 'Alma': 972, 'padrão': 10009, 'perdoa': 6621, 'senhor': 105, 'Capas': 7450, 'Audiência': 11830, 'status': 6992, '^_^': 8735, 'preocupando': 15577, 'gostaram': 15008, 'gastei': 6625, 'buake': 8681, 'comprando': 6626, 'institucional': 2671, 'sugeriu': 9536, 'vendendo': 6627, 'assaltante': 6628, '+55': 11680, 'Like': 6390, 'lembrou': 7005, '2⃣5⃣7⃣7⃣7⃣': 1678, 'pero': 6630, 'botar': 5175, 'Inscrições': 6631, 'pôr': 9214, 'Clinton': 6633, 'lojas': 8977, 'mandem': 6634, 'Fomos': 15970, 'imenso': 10229, 'dolorido': 15320, 'agressor': 3344, 'pijama': 5706, 'opa': 6635, 'friends': 6636, 'Castelo': 7150, 'dieta': 6638, 'disposto': 13454, 'pastosa': 6639, 'filhote': 2775, 'instalar': 6641, 'pegaria': 665, 'vish': 9360, 'aviação': 14802, 'Ação': 6646, 'Atenção': 6647, 'escrevem': 10824, 'compre': 8039, 'opinar': 6650, 'Cartão': 12783, 'privados': 6651, 'ASSISTA': 860, 'Capitão': 6652, 'rodando': 15013, 'segundos': 6655, 'produzido': 6083, 'cambial': 6657, 'Greve': 6660, 'éramos': 11372, 'XP': 6661, 'denovo': 15043, 'cancelada': 2814, 'ativa': 6662, 'trocado': 14707, 'liderar': 12496, '200': 6663, 'sequência': 10817, '3,74': 7708, 'Aliado': 7870, 'simpatizantes': 13373, 'menina': 462, 'Ultimamente': 6664, 'reconheço': 6665, 'declarados': 4929, 'penso': 674, 'Gilberto': 6335, 'jesus': 6667, 'deprimida': 6668, 'OUTRA': 6670, 'protetor': 8098, 'pff': 6671, 'Cozinha': 6474, 'bia': 6675, 'sigam': 6680, '1980': 8301, 'Nadia': 9693, 'Aliados': 6682, '12h': 6799, 'Sabino': 4106, 'investigados': 6683, 'perderem': 12471, 'arrumo': 9059, 'tosse': 12905, 'Confiança': 6692, '125': 14914, 'muitooo': 7736, 'consumidor': 6693, 'recua': 6694, 'seguido': 6695, 'abraços': 7719, 'caco': 10046, 'Argento': 9443, 'Perdeu': 6697, 'Tempos': 15756, 'Suécia': 8136, 'spoiler': 6702, 'Sistema': 4483, 'mudarem': 1728, 'ligou': 6704, 'bv': 7979, 'Fernandes': 14159, 'tristinho': 6705, 'leiam': 14415, 'Dei': 8584, 'move': 12277, '<unk>': 0, 'Kátia': 6707, 'criativa': 4063, 'estoque': 6709, 'suplicy': 6710, 'citando': 15850, 'naqueles': 14657, 'Mês': 12084, 'colegas': 3583, 'gravar': 6712, 'Romero': 6713, 'CADA': 5766, 'ola': 6718, '......': 6719, '1000': 6721, 'permanecer': 12285, 'banca': 6722, 'MAS': 3638, 'dólares': 6724, 'união': 6726, 'say': 6727, 'seriado': 15713, 'marcha': 11671, 'separar': 902, 'índices': 6734, 'melhoria': 6735, 'pública': 6737, 'impedem': 10780, 'trailer': 4756, 'públicas': 6738, 'CINEMA': 14629, 'strogonoff': 6739, 'consolida': 14215, 'criaram': 6745, 'atropela': 14889, 'foda-se': 6746, 'Direitos': 6749, 'acabado': 6584, 'Informações': 8338, 'terem': 6752, 'adorar': 6753, 'balada': 9175, 'Pode': 6754, 'acalma': 6756, '19h30': 14245, 'possam': 9481, 'PROMOÇÃO': 6760, 'Orçamentos': 6761, 'militância': 2927, 'crush': 672, '81': 6762, 'desnecessários': 6765, 'Ferramenta': 12986, 'colabora': 6768, '24h': 6769, 'calendário': 6770, 'notebook': 2533, 'gabi': 6771, 'verão': 6772, 'trabalhamos': 6775, 'Natalia': 3003, 'soluções': 6776, 'mode': 6777, 'Homens': 6778, 'falha': 6785, 'discordar': 9064, 'perfis': 6787, 'News': 9089, 'Monteiro': 11673, 'confesso': 6791, 'qro': 13810, 'segundas': 6792, 'horario': 11229, 'saudadinha': 10765, 'revolta': 6246, 'comércio': 6794, 'seca': 6795, 'segurar': 6798, 'omissão': 6801, 'Pandora': 13978, '06': 10469, 'metade': 558, 'nóis': 10136, 'moreno': 6803, 'Clóvis': 11194, 'produzir': 6810, 'consumir': 6811, 'travesseiro': 13235, 'Cara': 2241, 'Coleção': 6812, 'fav': 6817, 'pacas': 7866, 'Ranger': 6818, 'player': 6819, '8,5': 15373, 'tóxico': 6820, 'impressionada': 6822, 'Bando': 14745, 'lidando': 6823, 'assustado': 6827, 'refúgio': 11930, 'acontece': 3019, 'VIVA': 6832, 'adorável': 11280, 'personagens': 7875, 'fugir': 6835, 'Melhor': 6836, 'respondi': 6837, 'trainees': 9002, 'Antigamente': 8831, 'Irei': 6839, 'aplausos': 6841, 'ooo': 13712, 'traiu': 6842, 'viveu': 1527, 'colapso': 6843, 'manteiga': 6846, 'desenha': 7092, '1968': 194, 'árvore': 6849, 'Roriz': 7293, 'posicionar': 6850, 'día': 5667, 'venezuelana': 6852, 'nação': 2468, 'considera': 6854, 'auge': 8852, 'maltratar': 15419, 'sejam': 6855, 'recebemos': 6856, 'Ótima': 4142, 'deixaria': 6858, 'Vá': 6859, 'Voo': 12028, 'Bateu': 6860, 'canibalismo': 15505, 'auto': 6861, 'criticas': 8517, 'inundações': 6863, 'músicas': 6866, 'desperdício': 11575, 'lara': 4592, 'percebi': 6869, 'Violência': 6870, 'estudam': 8695, 'alma': 9646, 'TOC': 13506, 'áreas': 4830, 'Amapá': 6924, 'estagiário': 14992, 'chamei': 1745, 'Quanto': 1513, 'seletivo': 6874, 'estudantes': 6875, 'Cirão': 11687, 'risada': 6877, 'Vendedor': 5068, 'antigos': 9055, 'Atriz': 6878, 'PMs': 6684, 'regime': 6880, 'avançar': 10385, 'Anatomy': 6887, 'inspirar': 4983, 'William': 7195, 'rio': 468, 'teaser': 6888, 'advogados': 6890, 'Puxa': 9858, 'dialogar': 6892, 'votarei': 3070, 'juntinhos': 6997, 'Pena': 6893, 'sabotagem': 9256, 'esforçar': 3265, 'BNDES': 6309, 'Ex': 6895, 'Pré': 12437, 'fansign': 2114, 'look': 9054, 'conseguindo': 2689, 'braço': 6898, 'saímos': 1854, 'Franco': 6899, 'saíram': 7537, 'inteiro': 5031, 'notificações': 6900, 'campanhas': 11478, 'cuido': 6901, 'complica': 6906, '4,15': 6907, 'disponivel': 6909, 'acontecerá': 6911, 'youtuber': 6913, 'estúpido': 13283, 'animações': 5570, 'ofendeu': 6914, 'VAMOS': 13349, 'Anotamos': 12475, 'Mande': 6479, 'Mbappé': 6915, 'fizer': 5861, 'ahahahha': 6960, 'óvulos': 6150, 'Professores': 6916, 'preconceito': 1947, 'retribuir': 6919, 'Evil': 15188, 'parente': 1731, 'Marquezine': 8129, 'doces': 6920, 'Hum': 14083, 'reforçar': 6398, 'Conversa': 7817, 'Charlie': 6922, 'gratuitas': 6923, 'streamcraft': 8833, '98': 6930, 'Uber': 6931, 'SABER': 6934, 'off': 9857, '3h': 6937, 'risadas': 14294, 'extremos': 8196, 'surpresas': 6938, 'centavo': 15076, 'afastou': 1264, 'percentual': 6940, 'mato': 7619, 'organizar': 6941, 'internet': 3292, 'dorme': 4259, 'diferenças': 6942, 'nota': 7818, '92': 6944, 'PAULA': 6806, 'astronautas': 8849, 'Acordei': 4549, 'sonoras': 6948, 'resolve': 2072, 'Clara': 9510, 'escolhe': 6952, 'uai': 4850, 'estatísticas': 2386, 'homofóbico': 5500, 'Erica': 6953, 'corporativo': 10002, 'oceano': 14951, 'solução': 3279, 'Isa': 6955, 'Moça': 6958, 'sobretudo': 6959, 'fuzil': 910, 'queridas': 8651, 'estupro': 4639, 'Ola': 6963, 'Mujica': 12891, 'VIVO': 1423, 'Dói': 6964, 'robôs': 11697, 'constituinte': 7884, 'Falabella': 12527, 'render': 6965, 'brigada': 6966, 'beijinho': 6967, 'empréstimo': 7064, '10h': 4589, 'comprado': 6969, 'ESSE': 6970, 'Golpe': 6971, 'parabens': 6973, 'regresso': 6976, 'seguidos': 4894, 'popular': 7775, 'hobby': 12337, 'malia': 7887, 'mapa': 2714, 'novela': 6978, 'excluir': 6979, 'falamos': 6984, 'carai': 7260, 'multa': 6987, 'eai': 7594, 'driblar': 7443, 'like': 6993, 'apelido': 9006, 'volto': 6994, 'jantar': 6996, 'ultrapassa': 10162, 'diaa': 6998, 'hahahah': 6999, 'Através': 14410, 'Lembrei': 7000, 'at': 5975, 'drama': 7001, 'exige': 7997, 'd': 1087, 'terror': 7002, 'construir': 7003, 'álbum': 519, 'oque': 564, 'Guarujá': 7004, 'Libertadores': 7814, 'errar': 11914, 'Petrobrás': 7006, 'David': 10242, 'plantão': 7011, 'junhoe': 7426, 'reafirma': 9385, 'anon': 7012, 'machuca': 7013, 'mérito': 7015, 'STJ': 7016, 'Gosto': 7019, 'estimulante': 11684, 'ministros': 11245, 'recrutam': 5968, 'Forma': 7021, 'vegetal': 10822, 'facil': 7022, 'simpática': 5240, 'terminado': 7023, 'tattoo': 1655, 'dormindo': 7024, 'deveriam': 7025, 'aaaaaaah': 9578, 'voltei': 4162, 'rude': 7026, 'desconfortável': 7750, 'probabilidade': 7028, 'honestidade': 9257, 'Medida': 14301, 'sola': 7029, 'reprovação': 13916, 'lindo': 633, 'Marconi': 7031, 'Cansada': 14810, 'afastada': 6402, 'Juíza': 7039, 'compartilhem': 1893, 'empolguei': 7045, 'ultrapassar': 7048, 'fotinhas': 13836, 'restante': 7049, 'Cravinhos': 7050, 'cemitério': 9124, 'halloween': 12319, 'jornal': 2561, 'ficava': 7051, 'desceu': 7053, 'repatriar': 7057, 'ameaçados': 7058, 'impedir': 7062, 'circulação': 7063, 'ramo': 7145, 'mamãe': 7069, 'presas': 7071, 'passageiros': 2206, 'valoriza': 7073, 'Parou': 15105, 'contrato': 7074, 'seguidor': 8125, 'Rodoanel': 7075, 'boi': 7080, 'torcidas': 8992, 'Econômica': 15940, 'Bíblia': 7081, '71': 11681, 'Sob': 9909, 'devidamente': 7085, 'humilhar': 13106, 'Singapura': 12458, 'vagas.com': 7086, 'Palace': 7281, 'amarela': 10067, 'Estágio': 7087, 'FOTO': 7088, 'imagine': 15416, 'correndo': 12449, 'Divulgação': 11029, 'Peter': 4548, 'NO': 7089, 'qnt': 7094, 'descobri': 7095, 'propria': 14711, 'comenta': 7819, 'BOM': 1048, 'apresentou': 7096, 'Busca': 2600, 'hacker': 7097, 'nudes': 7832, 'normalmente': 7098, 'muro': 7099, 'Decisão': 8968, 'odiar': 5446, 'corte': 7285, 'guerra': 416, 'confiar': 7100, 'estudou': 7101, 'frases': 3915, 'Tecnologia': 5754, 'brinquedos': 9796, 'liberar': 7103, 'passageiro': 7105, 'financiar': 14272, 'participado': 5412, 'estrangeiro': 7107, 'Direto': 11829, 'pirata': 10414, 'outubro': 3987, 'monte': 7109, 'inspiração': 1417, 'tecnologia': 7111, 'ouvido': 7112, 'osso': 11547, 'relatos': 7115, 'homossexuais': 5202, 'Walter': 7117, 'opção': 785, 'forró': 7119, 'participo': 7120, 'milionária': 4683, 'andado': 7121, 'envenenamento': 9414, 'assusta': 4465, 'possivel': 7124, 'enviou': 7126, 'Conmebol': 9058, 'Bull': 14830, 'sobrevivência': 5561, 'Chuva': 7127, 'comemoração': 7129, 'perguntinhas': 7131, 'questionamento': 10183, 'Expedito': 12721, 'venezuelanos': 7133, 'parabeniza': 15662, 'sumi': 7606, 'palavra': 7135, 'supermercados': 8640, 'amiguinho': 3270, 'assinada': 9305, 'nana': 7136, 'azuis': 7138, 'deleta': 9576, 'FIES': 7147, 'tals': 9266, 'Curta': 7153, 'Conciliador': 15284, 'Sigo': 12487, 'preferido': 7154, 'Vladimir': 12917, 'Mendes': 7159, 'Cássio': 7161, 'brasilia': 10393, 'MAL': 10080, 'Cunha': 7162, 'cachorros': 5520, '17h': 7164, 'apoie': 7165, 'ativista': 10619, 'busque': 7166, 'funk': 7816, 'representar': 8951, 'Latam': 7065, 'curtidas': 7167, 'Esta': 1312, 'hehehe': 7169, 'incendeiam': 7171, 'carente': 5153, 'preto': 7173, 'óleo': 7174, 'empresto': 14911, 'hidratar': 7175, 'enchendo': 7936, 'chamada': 7176, 'edital': 7177, 'Street': 628, 'privacidade': 8863, 'cortando': 13152, 'ofertadas': 7182, 'B17': 14416, 'Cristina': 7184, 'trampa': 5867, 'Kirchner': 7185, 'NOVOS': 7186, 'capinha': 6289, 'CHEGANDO': 7187, 'Olhe': 7189, 'olhe': 7190, 'Amei': 7194, 'taeil': 10392, 'quentes': 9853, 'Desfile': 7199, 'erra': 11393, 'Viva': 5490, 'acompanhado': 7200, 'ss': 7202, 'Gay': 14006, '250': 7204, 'Mônica': 7704, 'le': 7777, 'gnt': 1263, 'tarefas': 7206, 'Carla': 15903, 'proteína': 4815, '2025': 7208, 'participações': 12798, 'brinco': 542, 'PlayStation': 7211, 'ganda': 8759, 'desenharia': 7212, '6h30': 15812, 'Madeira': 7413, 'Dinheiro': 7215, 'crlh': 3832, 'felizinha': 7216, 'estádios': 13570, 'bacana': 7027, 'prazer': 7502, 'ain': 7217, 'Flor': 7221, 'Leiam': 7222, 'Williams': 7799, 'insistem': 8696, 'Renan': 8975, '8535240e-2660-48da-83c5-c376672b64e9': 13650, 'seguimores': 10829, 'peso': 1105, 'Tens': 7224, 'Foda': 10547, 'exausta': 7227, 'varejo': 14351, 'Paola': 5811, 'TENHO': 4491, 'provavelmente': 7231, 'manchete': 15535, 'Bah': 7233, 'entregando': 7234, 'entrevistados': 15710, 'contada': 15615, 'parecem': 11102, 'revendo': 7241, 'Perlla': 14348, 'vencem': 14338, 'tvd': 7242, 'abracei': 9040, 'apoiará': 7245, 'humilde': 7246, 'Saí': 5630, 'Simples': 8585, 'ehehe': 7152, 'convictos': 7252, 'sapatos': 7254, 'esportes': 5974, 'paragem': 7255, 'grávida': 7262, 'má': 1464, 'Engenheiro': 8096, 'estao': 7263, 'brigam': 7745, 'vencendo': 2382, '87': 8606, 'levou': 7266, 'marcada': 8750, 'Maceió': 7267, 'cirinho': 9199, 'Julia': 7249, 'Melhores': 7269, 'Ano': 7270, 'opiniao': 13692, 'perceber': 5746, 'ESTAMOS': 567, 'empreendedores': 9013, 'indecisa': 7275, 'balinha': 7277, 'proibida': 7280, 'TÔ': 8958, 'suja': 1862, 'thalita': 7283, 'Daniele': 7284, 'vota': 3058, 'SUAS': 8837, 'morra': 6602, 'aprovar': 7287, 'Joaquim': 7292, 'FIFA': 7733, 'ex-prefeito': 15779, 'quadro': 1590, 'pôs': 7295, 'superei': 7947, 'ciclos': 7300, 'agrada': 7302, 'FH': 7303, 'infância': 10613, 'venom': 7304, 'relato': 11788, 'Bravo': 7307, 'nono': 11388, 'pet': 7309, 'Administração': 7311, 'balão': 11989, 'condições': 8083, 'digas': 5233, 'matrícula': 7313, 'prévia': 7315, 'thrones': 15640, 'please': 10629, 'ajudando': 1233, 'mãozinha': 7318, 'pares': 2125, 'biologia': 5621, 'recado': 8561, 'Fiat': 9688, 'antipetismo': 869, 'shawn': 7320, 'Ator': 9403, 'Conheço': 7603, '1o': 7329, 'início': 3536, 'Autônomo': 8656, 'Negócios': 10934, 'MULHERES': 9866, 'Roger': 7331, 'tenta': 871, 'suspensão': 1649, 'mortal': 7333, 'funcionar': 1766, 'Mt': 7334, 'Geral': 944, 'Viana': 6981, 'satisfeito': 7338, 'cruz': 13339, 'Wars': 7341, 'trauma': 7343, 'urgentemente': 7345, 'gritando': 7346, 'things': 15345, 'respirar': 7347, 'convite': 7348, 'Preto': 7349, 'investimentos': 7989, 'Voltei': 7362, 'apresento': 13262, 'durar': 7363, 'casulo': 7367, 'titulares': 9338, 'Metrô': 2667, 'votam': 2663, 'Las': 7370, 'vácuo': 7621, 'ativo': 7371, 'ótimo': 316, 'feminista': 7373, 'eliminar': 12832, 'considero': 7374, 'católica': 7375, 'forte': 2311, 'CHORAR': 7377, 'escutando': 6865, 'Star': 7340, 'Eles': 7379, 'gostando': 9093, 'EH': 7381, 'atrasado': 9541, 'VOCES': 7382, 'Associação': 7383, 'amp': 2304, 'esforço': 7385, 'duvida': 7386, 'rohingyas': 7395, 'cachorrinhos': 7396, 'sentada': 3312, 'NOJO': 8697, 'Sozinha': 9599, 'abrigos': 7397, '［］': 15934, 'aprende': 7559, 'Musical': 7398, 'repertório': 7400, 'livrar': 7402, 'destina': 6203, 'executivos': 7403, 'Uau': 7405, 'sérios': 11055, 'merenda': 7407, 'europeus': 13504, 'Ahahah': 2280, 'Carolina': 7851, 'ow': 7411, 'chamado': 7412, 'insonia': 7414, 'mudei': 9851, 'organização': 7415, 'Felicidade': 14189, 'absurda': 10903, 'Hamilton': 4041, 'Belas': 7419, 'pacificação': 12876, 'vendo': 2549, 'Vem': 1162, 'Guilherme': 7422, 'Friends': 14737, 'enviando': 10717, 'votaria': 7423, 'Capaz': 13004, 'hipótese': 7424, 'arruma': 4839, 'torcedor': 2328, 'inktober': 8586, 'chileno': 2329, 'óculos': 44, 'hater': 7427, 'xingar': 9729, 'universo': 7428, 'ahahahah': 13304, 'sinais': 7935, 'Diário': 7430, 'Cinema': 8137, 'vendidos': 8458, 'Princesa': 7431, 'ariana': 7433, 'comeback': 4658, 'magia': 7434, 'ficando': 6093, 'TODOS': 7440, 'anjos': 7794, 'indicar': 7444, 'serviu': 9843, 'substituto': 7445, 'terminou': 7451, 'Mario': 12426, 'Pernambuco': 7452, 'Armando': 7454, 'Lego': 7455, 'idade': 1140, 'desesperados': 7380, 'Usain': 7457, 'Bolt': 7458, 'veia': 11044, 'BRASIL': 3587, 'desviar': 9905, 'Gestão': 7591, 'LIVE': 6363, 'Seleção': 9991, 'redação': 11387, 'bah': 7459, 'torturar': 7460, 'sexual': 4292, 'porto': 7461, 'Material': 7464, 'Spotify': 7465, 'correção': 11232, 'indústria': 7466, 'Iraque': 7468, 'Rosário': 13467, 'capoeira': 7469, 'visitantes': 7470, 'assumem': 7471, 'soldado': 7476, 'Boi': 13711, 'Olhem': 7480, 'Transferência': 10534, 'Jarbas': 7483, 'VIDA': 9151, 'Mendonça': 7484, 'produtores': 9546, 'adoraria': 7485, 'trans': 7244, 'virei': 7511, 'Governador': 7487, 'voltaram': 12362, 'camila': 11342, 'Teatro': 7488, 'adesivos': 11845, 'Einstein': 3182, 'MEUS': 7490, 'Florianópolis': 7491, 'Andar': 15242, 'AMF': 7492, 'pôster': 2894, 'Série': 7494, 'clínica': 9353, 'superar': 7237, 'trazido': 7496, 'obrigadaaaa': 7503, 'encontrei': 7505, 'mortes': 1642, 'Planeta': 7509, 'decreto': 14390, 'treino': 9186, 'Sertão': 9129, 'alegrar': 7512, 'DIAS': 7513, 'novidade': 7516, 'solar': 7519, 'criminoso': 7520, 'verá': 7523, 'DOS': 11378, 'alimenta': 5689, 'Caminhada': 7525, 'passar': 160, 'Jardim': 7526, 'gajas': 8248, 'América': 7527, 'procedimento': 10008, 'vestido': 2678, 'mat': 1605, 'vera': 7530, 'jura': 13662, 'Braz': 7531, 'Ahahahaha': 11949, 'traidor': 749, '..........': 8568, 'escolhendo': 14127, 'Português': 10051, 'caem': 11264, '⏸': 7532, 'familiares': 7538, 'Recurso': 7014, 'tiveres': 7542, 'caderno': 7543, 'organizado': 7544, 'patrão': 4383, 'OCDE': 7635, 'tt': 3966, 'Carrefour': 9873, 'Laurent': 6417, 'bebi': 7546, 'diversão': 8303, 'Piracicaba': 1449, 'efeitos': 10174, 'take': 7547, 'mando': 7548, 'Mike': 12461, 'Museus': 8445, 'Tomara': 4398, 'SABE': 10098, 'medos': 7550, 'pré-estreia': 12889, 'Protesto': 5953, 'Viscose': 9053, 'listar': 7551, 'caiu': 22, 'McGregor': 7554, 'energético': 11610, 'doação': 7555, 'Acusado': 1287, '46': 7556, 'Luisa': 4576, 'fascinante': 6813, 'pow': 7038, 'Cuidado': 7557, 'Senti': 12805, 'Ih': 7560, 'Markle': 14016, 'Fernanda': 7565, 'Mobile': 9077, 'juntos': 7566, 'mobilização': 7568, 'Oficial': 8001, 'repercute': 780, 'progressista': 7569, 'reabre': 15791, 'stalkear': 10647, 'pedirá': 7056, 'conservadores': 7570, 'FINAL': 9157, 'trajetória': 7571, 'rancor': 7573, 'sermos': 9715, 'dolar': 7932, 'Reação': 10301, 'Seca': 9818, 'oposição': 3419, 'Kroton': 9901, 'agradecemos': 7577, 'STJD': 8613, 'criticando': 7578, 'diversos': 8648, 'der': 1930, 'golpes': 8487, 'trago': 7581, 'arranca': 14726, 'ten': 14661, 'apresentam': 7421, 'cala': 7584, 'apaixonada': 2640, 'estilhaços': 9406, 'constrói': 7585, 'transformar': 7586, 'Rua': 8738, 'museus': 7592, 'Porsche': 7599, 'promovida': 13652, 'bilionários': 12421, 'Odyssey': 9147, 'animal': 5593, 'aluguel': 7601, 'arrependimento': 7607, 'votem': 5406, 'unica': 7608, 'azar': 7610, 'refletindo': 9265, 'locação': 12515, 'diárias': 7611, 'circuito': 7612, '9.': 7616, '9181-9570': 7617, 'Aveiro': 7613, 'Vamo': 7618, 'libertadores': 12079, 'solidão': 7093, 'Júlia': 7620, 'censura': 7623, 'Just': 6847, 'views': 7626, 'Prefeito': 7630, 'domiciliar': 7631, 'mh': 7636, 'lutando': 7637, 'Ótimo': 7638, 'visse': 12947, 'Taylor': 7640, 'negociado': 7643, 'perdão': 9670, 'gritar': 7644, 'tribunal': 11994, 'Roberto': 7645, 'escrita': 7646, 'tantos': 4235, 'adequado': 9538, 'PRTB': 7648, 'encontro': 1474, 'discutiram': 7650, 'Jéssica': 13105, 'Amigo': 7728, 'ouro': 6082, 'herdeiros': 7651, 'caixa': 7652, 'Faria': 11723, 'Segundo': 7032, 'seriam': 7653, 'sorry': 7655, 'vizinha': 6533, 'candidatas': 7656, 'irmãos': 7657, 'males': 15521, 'francês': 7658, 'fuder': 7664, 'hahahahaha': 7665, 'parando': 7666, 'privilégios': 7751, 'esquecer': 6378, 'resistência': 6928, 'pertinho': 9925, 'cobrou': 7667, 'infantis': 8112, 'recursos': 7668, 'in': 1202, 'guru': 6045, 'delação': 7670, 'PAREM': 12814, 'Dormi': 11398, 'SEMANA': 1112, 'Magalhães': 7673, 'lo': 11316, 'aviso': 8590, 'aniver': 993, 'estavas': 7842, 'Beatriz': 7680, 'Steam': 8472, 'Segall': 7681, 'Marvel': 8431, 'marcou': 7682, 'consegue': 874, 'facadas': 7007, 'nucleares': 7684, 'extremo': 7739, 'bens': 7688, 'Pela': 7689, 'Cristiane': 15657, 'Fique': 5637, 'aaaaaaaaa': 6826, \":'(\": 7691, 'faltam': 7692, 'Also': 14319, 'votará': 7693, 'obriga': 7694, 'Moradores': 7696, 'Futebol': 924, 'diária': 7697, 'Green': 8792, 'Tenham': 12669, 'cortes': 7698, 'tias': 5695, 'podendo': 8578, 'sobrar': 7700, 'classe': 8705, 'XXI': 3995, 'dividir': 7705, 'ru': 7707, 'Única': 7709, 'escolinha': 7711, 'same': 11523, 'bangtan': 9191, 'colete': 9409, 'bicicleta': 7712, 'feita': 248, 'formada': 7718, 'Jovens': 7721, 'tratando': 7722, 'coordenação': 12584, 'ache': 7034, 'feedback': 7724, 'repassar': 7725, 'Fotos': 10815, 'internamente': 7726, 'Hey': 7727, 'vence': 2886, 'compartilhar': 4020, '14': 2956, 'Pô': 7729, 'porno': 6165, 'Amarelo': 8655, 'umbigo': 7730, 'Fraga': 7731, 'fiz': 1151, 'extensão': 9512, 'argumentar': 12981, 'pc': 7562, 'GRAÇA': 7732, 'TL': 7735, 'saindo': 4351, 'fechado': 7741, 'errados': 13336, 'Google': 350, 'shows': 1718, 'Coringa': 7749, 'terraço': 9833, 'Hehe': 6711, 'causou': 7756, 'manas': 7757, 'Voce': 7759, 'mi': 7763, 'matheus': 6703, 'ala': 7764, 'processos': 9945, 'linha': 7765, 'Somos': 7766, 'EXISTE': 14964, 'campeões': 7767, 'telemarketing': 6587, 'mobilizar': 7774, 'parlamentar': 12625, 'veto': 7778, 'substituição': 7779, 'babe': 7781, 'entendimento': 11303, 'renunciar': 7683, 'coelhinho': 7916, 'churrasco': 7782, 'despedidas': 14035, 'Ate': 12840, 'nubank': 7614, 'poço': 7784, 'únicas': 10895, 'covardes': 7785, 'precious': 9246, 'aceitaria': 7786, 'cachorro': 4388, 'vozinha': 7789, '(:': 7791, 'Bolso': 12292, 'empreendedorismo': 7796, 'NAS': 569, 'paulista': 8692, 'venceram': 13429, 'fadas': 9653, 'Times': 11499, 'Esperar': 7797, 'definido': 14497, 'corrida': 7800, 'F1': 7801, 'passada': 12494, 'animes': 7803, 'noticia': 7804, 'depósito': 7805, 'Aguiar': 8929, 'livro': 347, 'insuficiente': 7806, 'começam': 7807, 'lente': 10930, 'segredo': 7808, 'aquário': 7810, 'perdido': 7811, 'Mestre': 7821, 'aceitável': 9073, 'Ambiente': 7441, 'dobro': 7823, 'ciclo': 8483, 'Ministro': 6503, 'Janaína': 7824, 'Produtos': 4765, 'vagas': 3440, 'Senhora': 2883, 'direta': 7826, 'juízes': 5579, 'if': 7829, 'console': 10126, 'tóxica': 12551, 'borracha': 10249, 'continua': 964, 'estressada': 7834, 'brigando': 4479, 'lua': 7836, 'furto': 7838, 'goleia': 14659, 'F.': 7059, 'influência': 7843, 'conquistam': 7844, 'lugares': 8231, 'Estranho': 8191, 'juntinho': 10938, 'referência': 6123, 'aceno': 7846, 'VIDEO': 7847, 'Literatura': 7848, 'definir': 13385, 'Hahahaha': 8210, 'carrega': 6676, ':-D': 4101, 'Miami': 7852, 'Fogo': 8574, 'desenvolvendo': 7853, '27/9': 15604, 'fotinho': 10232, 'faltava': 10965, 'almoço': 1213, 'pista': 7854, 'pouso': 7855, 'esfregar': 9922, 'trazem': 7860, 'fodendo': 7869, 'mecânica': 8985, 'falavam': 9669, 'danos': 7861, 'submarino': 12128, 'literalmente': 8551, 'got7': 15482, 'indeciso': 14049, 'bares': 7862, 'iphone': 9582, 'pediram': 7864, 'interessa': 10054, 'maus': 11553, 'queriam': 7868, 'distribuição': 10353, 'durma': 7872, 'garota': 7009, 'participou': 7873, 'bro': 4273, 'britânica': 176, 'retardado': 7351, 'questionário': 7874, 'vendida': 12402, 'fenômeno': 7879, 'experiências': 4880, 'socar': 7886, 'Amanha': 9889, 'perdem': 7889, 'compartilha': 1900, 'Sdd': 2891, 'publicado': 7893, 'acabam': 9003, 'invadir': 12155, 'relevantes': 7895, 'concessão': 7896, 'batizada': 15624, 'intermitente': 7897, 'Torcendo': 14813, 'sorvete': 864, 'incomodada': 8195, 'L': 7898, 'Capitã': 8430, 'rota': 11940, 'Direito': 7894, 'POUCO': 7900, 'brabo': 14132, 'FAZER': 7901, 'Prefiro': 2284, 'preocupar': 1074, 'naruto': 5753, 'ALGUÉM': 7902, 'Marque': 4051, 'inédito': 7905, 'detesto': 10177, 'realizando': 11022, 'tds': 7909, 'Aí': 2116, 'TAMBÉM': 7910, 'trabalho': 1675, 'telemóvel': 3785, 'europeu': 6414, 'lingua': 7912, 'Pen': 11267, 'liberado': 5499, 'sul': 7913, 'caminhada': 7917, 'deixamos': 7918, 'Especialistas': 7919, 'explica': 7922, 'clichê': 10480, 'atualizando': 7923, 'Pensou': 11769, 'máquina': 9583, 'citado': 7924, 'abusiva': 14354, 'ganhou': 1084, 'Vida': 7927, 'roça': 7928, 'bebezinho': 9902, 'perguntam': 7931, 'OMS': 1643, 'orgulhoso': 1783, 'Tadinho': 7933, 'olhei': 7937, 'inglês': 2024, 'dentes': 7938, 'trazendo': 7939, 'Tancredo': 15163, 'Tutorial': 13510, 'VAGA': 7940, 'episodio': 9161, 'cheque': 9994, 'unida': 13419, 'estações': 7949, 'erram': 14055, 'coletiva': 10112, 'Mas': 263, 'oferece': 1390, 'salvei': 7951, 'vês': 12450, 'cópia': 7952, 'Ow': 7953, 'nene': 9195, 'ce': 7954, 'graças': 4258, 'gramática': 9440, 'Mel': 10033, 'descarta': 6177, 'mandava': 9304, 'fomentar': 7955, 'ensinou': 9289, 'aplicar': 7956, 'Partidos': 15038, 'grave': 720, 'comunicação': 7958, 'Juro': 7960, 'maos': 8887, 'humanidade': 7962, 'sa': 7963, 'produtivo': 7966, 'oficina': 6342, 'briguei': 7967, 'queda': 4075, 'coloquei': 3340, 'episódios': 7969, 'Kevin': 6954, 'Leão': 7971, '47': 13755, 'mnh': 9066, '🦁': 7973, 'Líder': 3285, 'estranha': 6212, 'oportunista': 7976, 'roteiro': 13703, 'Dicas': 7982, 'Leilão': 10431, 'diga': 4920, 'play': 7984, 'Boo': 15189, 'Começou': 12982, 'seguem': 7990, 'cumprimentar': 3005, 'participa': 7992, 'consumidores': 14470, 'animação': 7993, 'parcial': 5645, '38': 10189, 'requer': 7998, 'Manutenção': 8002, 'verdadeiro': 4354, 'Sebastião': 8003, 'Magazine': 14527, 'inútil': 8004, 'bostas': 8005, 'laura': 14219, 'vieram': 8006, 'falhar': 3584, 'vulgo': 8008, 'voltamos': 8009, 'diplomata': 8312, 'empresa': 988, 'React': 8011, 'Crise': 8014, 'Vontade': 10673, 'gatinha': 10020, 'estrela': 8076, 'abusada': 4936, 'eleitas': 8016, 'machismo': 8017, 'leis': 14086, 'minoria': 8018, 'pense': 3184, 'Havan': 5243, 'OU': 9483, 'otimista': 8022, 'insegura': 13091, '4,17': 12628, 'Eleitor': 5381, 'circo': 8592, 'feitos': 9426, 'fizessem': 9656, 'disposta': 8025, 'Joga': 8026, 'demonstra': 2587, 'assume': 8028, 'experimentar': 8032, 'mandam': 8033, 'Imóveis': 3351, 'rapazes': 3564, 'á': 8034, '700': 8035, 'erro': 713, 'inbox': 5171, 'Colégio': 8037, '39': 6599, 'Sudeste': 8040, 'Centro-Oeste': 8041, 'quão': 9400, 'Game': 8043, 'estraga': 14370, 'Brasília': 752, 'eleiçoes': 8220, 'iluminação': 8046, 'Forte': 12506, 'army': 8048, 'científica': 9863, 'terminam': 8051, 'leu': 3639, '8/10': 8052, 'dormia': 8054, 'bahia': 12742, 'Mário': 4837, 'empregados': 8056, 'SPC': 11854, 'mandando': 8830, 'extremistas': 10148, 'empregadores': 8057, 'surfe': 12435, 'HOJE': 2003, 'vazar': 9794, 'pv': 14317, 'arquitetura': 11876, 'equipe': 689, 'adoecendo': 8060, 'cafe': 13971, 'piso': 8063, 'dizes': 15785, 'silenciar': 11046, 'comido': 8073, 'acelera': 9463, 'entanto': 6248, 'depender': 8080, 'Lari': 8082, 'dark': 8084, 'rodas': 4711, 'restituição': 5658, 'we': 8085, 'entregador': 8087, 'startups': 9092, 'paula': 15427, 'Podia': 8089, 'estuda': 9520, 'adormecer': 12186, 'seguras': 8097, 'VOTO': 8102, 'Tufão': 8418, 'Bang': 8104, 'milagres': 8106, 'termina': 9727, 'movimentos': 4667, 'Jorge': 653, 'atitudes': 8111, 'Mim': 12987, 'corrigir': 6549, 'Felipão': 8113, 'Duque': 11423, 'mata': 3566, 'Externas': 8641, 'detido': 6280, 'encerra': 8761, 'especialmente': 8115, 'pertence': 8890, 'Salve': 1154, 'Juliana': 8116, 'municipais': 8117, 'salvando': 3557, 'of': 644, 'mídias': 8119, 'pagam': 11866, 'viado': 8123, 'carona': 3777, 'punir': 8130, 'enfrentamento': 15214, 'Envie': 5897, 'Internacional': 8132, 'começamos': 11133, 'gi': 8133, 'mentira': 2346, 'premium': 8134, 'processado': 8135, 'Beline': 6425, 'tornando': 8138, 'apurar': 9303, 'Ultimate': 8139, 'unhas': 7134, 'governa': 8142, 'Sergio': 8403, 'set': 8145, 'pensa': 1970, 'Fãs': 8146, 'gozes': 13535, 'apresentador': 8564, 'Wanna': 8148, 'FINALMENTE': 14881, 'cocaína': 3115, 'Cotia': 7369, 'recolher': 8152, 'ironia': 6824, 'Netanyahu': 8153, 'composição': 8156, 'aguardar': 14154, 'canção': 8158, 'assembleia': 14330, 'infusão': 3435, 'Marta': 8160, 'Cristo': 7877, 'fumo': 8163, 'ganza': 8164, 'obrigatória': 9226, 'refeições': 8165, 'bacano': 8166, 'ódio': 3346, 'caminhos': 9049, 'aprendem': 8170, 'agradecimento': 8171, '🇵': 8173, 'Carapicuíba': 8174, 'estaríamos': 8175, 'music': 8176, 'emissora': 8177, 'interpretar': 8184, 'assessoria': 13396, 'Provavelmente': 8649, '1,7': 8800, 'mantêm': 10293, 'soube': 8185, 'unido': 10116, 'indicada': 8186, 'diretora': 8187, 'mention': 8189, 'cancelamento': 8192, '190': 13035, 'passei': 3478, 'biometria': 8194, 'Celso': 3359, 'escolho': 8198, 'recuperação': 10026, 'jogaram': 8199, 'j': 8202, 'autorizar': 6567, 'atacados': 6881, 'r': 8203, 'POSSO': 8204, 'conviver': 8205, 'rejeitado': 6004, 'sapatão': 8207, 'transexual': 8209, 'conhecer': 517, '16/9': 8212, '18h': 8213, 'Gostaria': 8218, 'média': 8221, 'flamengo': 8225, 'smp': 1549, 'Legislativo': 8227, 'escroto': 2555, 'textinho': 8229, 'aaaaaaaaaaaa': 13484, 'garrafa': 11651, 'lutar': 8232, 'Brett': 8233, 'publicar': 8235, 'PSD': 8236, 'ELA': 5481, 'Trio': 6353, 'nah': 8241, 'Video': 8242, 'esportiva': 13153, 'necessários': 7654, 'potinho': 8244, 'manutenção': 8245, 'Muita': 1055, 'universitário': 7885, 'troquei': 7540, 'Gol': 8246, 'trouxe': 10104, 'rumo': 6945, 'tadinhas': 8249, 'incluindo': 8354, 'wish': 8253, 'gravação': 8456, 'mal-estar': 8254, 'Tenta': 8257, 'prega': 8258, 'diário': 8259, 'apresentei': 8260, 'IR': 6179, 'nu': 8263, 'ampla': 8264, 'brilhar': 13441, 'mercados': 8266, 'Resumo': 14573, 'manga': 5181, 'idéias': 8267, 'ASSIM': 8269, 'fuck': 8270, 'abandonados': 5522, 'lançam': 8820, 'automático': 11552, 'ilusão': 8275, 'MDB': 692, 'pensamentos': 8278, 'Principalmente': 8279, 'Alex': 8282, 'formal': 1537, 'sobrenome': 8404, 'sensivel': 8283, 'urso': 8286, 'Microsoft': 13654, 'domésticas': 4886, 'download': 5494, 'Nordestino': 8291, 'Eram': 10977, 'gracinha': 4703, 'anao': 9969, 'Lagoa': 8293, 'doença': 4848, 'Futsal': 8294, '04': 8295, 'season': 1313, 'Próximo': 8297, 'Vermelha': 8298, 'decidir': 8299, 'ordem': 3880, 'Andy': 8300, 'instável': 15289, 'reforma': 4112, 'Tio': 8835, 'chip': 15406, 'Fire': 13592, 'vivia': 8304, 'Volta': 8305, 'poético': 10792, 'sugere': 1622, 'janeiro': 5651, 'Países': 10247, 'Criei': 8306, 'dói': 6467, 'Juventus': 8309, 'acusado': 8313, 'Pedrosa': 14234, 'SENHOR': 3920, 'tratar': 6985, 'Red': 8314, 'série': 313, 'Dead': 8315, 'velhos': 180, '2012': 6654, 'desisto': 8318, 'competitividade': 12017, 'Ficar': 8320, 'pintura': 6319, 'petismo': 8321, 'terei': 10100, 'poupar': 13701, 'cansada': 3850, 'dessas': 1848, 'Cielo': 9468, 'envolvido': 8323, 'Misericórdia': 12769, 'escândalo': 8324, 'MC': 8325, 'babaca': 8328, 'obrigados': 11758, 'rave': 8330, 'Gisele': 13618, 'interferir': 12359, 'viagem': 3505, 'ligações': 6586, 'longo': 8331, 'lógica': 5295, 'apaga': 8336, 'FMI': 8344, 'Chapa': 8349, 'aaaah': 7236, 'meias': 8351, 'Malhação': 14791, 'fórum': 14043, 'prolongado': 8353, 'toa': 7043, 'métodos': 8345, 'DESCONTO': 8560, 'Sessão': 8355, 'desmerecer': 9389, 'votados': 8356, 'more': 8359, 'deficiência': 8360, 'jeitinho': 4088, 'benefícios': 8361, 'eras': 13140, 'comete': 8365, 'Pé': 13975, 'existo': 12266, '🤧': 8366, 'meti': 6708, 'alérgica': 8367, 'pré-sal': 7669, 'insetos': 8368, 'Mossoró': 15565, '1/10': 14443, 'Embaixada': 11112, 'reeleger': 8370, 'Lívia': 2565, 'Longa': 8373, 'engolir': 13260, 'motorista': 8375, 'Cliente': 8377, 'Nogueira': 8380, 'prende': 8381, 'cientista': 10182, 'Exército': 3559, 'Peixoto': 8384, '15': 591, 'atirar': 8626, 'Macri': 8180, 'motivada': 8385, 'resolveram': 8388, 'inimigo': 8389, 'Venha': 3399, 'derrotar': 8390, 'Aneel': 2967, 'transa': 10144, 'aguarde': 8391, 'denunciam': 8393, 'Indo': 7945, 'consulado': 8397, 'mentalidade': 16008, 'Istambul': 8398, 'pico': 14539, 'filósofo': 12235, 'desaparecimento': 8399, 'mistura': 8400, 'partiu': 3092, 'Casas': 9047, 'acontecer': 49, 'machucou': 9140, 'hard': 8401, 'nítida': 8406, 'cheios': 8407, 'Balconista': 8411, 'Muitas': 2553, 'estrelas': 8414, 'distante': 10272, 'mantenha': 8415, 'Roma': 8417, 'alô': 3693, 'Queremos': 8419, 'aproveitando': 8420, 'conosco': 8422, 'aparelho': 7137, 'Ahh': 8423, 'Maravilhosa': 8426, 'sabatina': 4846, '⠀': 8506, 'Complexo': 8427, 'Brie': 8432, 'Comer': 9067, 'abandona': 7510, 'sinta': 8451, 'colocado': 741, 'Larson': 8433, 'façam': 1034, 'doendo': 6191, 'Jackson': 8434, 'Orgulho': 8436, '53': 8438, 'comemoram': 4357, 'loiro': 8443, 'Algumas': 8446, 'Acre': 12383, 'PIB': 2908, 'titi': 5342, 'New': 8448, 'pedacinhos': 10347, 'decepção': 5443, 'gasto': 8452, 'Chega': 11139, 'Sorocaba': 8454, 'atletas': 14067, 'RJ2': 8459, 'firmes': 11720, 'Deezer': 10072, 'alvo': 6358, 'emojis': 8464, 'religião': 4426, 'CR7': 8465, 'Alegria': 6750, 'Contas': 8466, 'explicação': 11036, 'especialistas': 7240, 'ko': 8469, 'FORTNITE': 10742, 'assumiu': 8470, 'Plano': 11929, 'Lembre-se': 4037, 'solteiro': 8021, 'sofreu': 8471, 'odeia': 8476, 'atras': 8477, 'bgl': 14054, 'obgd': 8479, 'vingou': 8480, 'Alegre': 486, 'batendo': 8484, 'carbono': 8488, 'contos': 14594, 'Pedimos': 8489, 'incômodo': 8490, 'Hipócrita': 11851, 'MENTIRA': 11370, 'DDD': 8491, 'enganado': 13363, 'NEM': 9687, 'champ': 15571, 'descansar': 6764, 'Coisa': 8494, 'dadas': 8888, 'MPF': 14120, 'Fundo': 9997, 'Cacá': 14377, 'sacola': 8496, 'matem': 13586, 'televisão': 8500, '75': 4161, 'Somente': 8501, 'incomodo': 368, '74': 9779, '1ª': 8502, 'chef': 10956, 'orçamento': 8503, 'lesões': 10638, '130': 8504, 'mora': 1396, 'atirador': 9476, 'III': 14611, 'paranóica': 8507, 'sagrado': 8510, 'conteúdo': 4298, 'Camargo': 8519, 'ocultar': 8521, 'soubesse': 7828, 'Pompeo': 9343, 'abusos': 8522, 'Igreja': 8524, 'educar': 8530, 'identidade': 8533, 'Orkut': 8534, 'vozes': 3774, 'MSN': 8535, 'amenizar': 8536, 'sombras': 2285, 'ERA': 8539, 'teclado': 11453, 'TU': 8541, 'soltou': 8542, 'smartphones': 8543, 'deck': 10106, 'vandalismo': 9091, 'Obrigada': 510, 'CPF': 5996, 'rombo': 8552, 'virar': 3996, 'imaginando': 8553, \"'s\": 6729, 'Woodward': 8555, 'operações': 8762, 'Aproveite': 8556, 'Faro': 8566, 'lindos': 8567, 'portos': 8804, 'Martin': 8573, 'expectativas': 8575, 'OQ': 9260, 'rios': 9163, 'elevar': 9633, 'mundial': 5900, 'Guevara': 2896, 'absurdas': 8580, 'C.': 8583, '🤦': 8728, 'fraca': 6284, 'decepcionar': 8588, 'atenta': 12929, 'decepcionou': 8589, 'cobrir': 13976, 'MUNDO': 8594, 'time': 440, 'esqueço': 8597, 'Catarina': 2188, 'questionam': 8600, 'migos': 4730, 'Lugar': 8601, 'santo': 8602, 'BONITO': 8481, 'shipp': 9309, 'ex-secretário': 9464, 'Colo-Colo': 10076, 'portas': 8603, '0800': 9731, 'Peça': 8605, 'resultado': 503, 'aninhos': 7151, 'séculos': 8608, 'executado': 12875, 'apreciar': 10210, 'peguei': 2537, 'Operadora': 8609, 'seleciona': 13475, 'argentina': 8610, 'eleições': 619, 'BTG': 8614, 'credo': 7961, 'boleia': 5103, 'Galo': 8616, 'cinto': 9807, 'viesse': 8617, 'moram': 13580, 'delegado': 2282, 'niver': 8618, 'depoimentos': 15537, 'raios': 14729, 'nasceu': 6216, 'VR': 8857, 'democracia': 3676, 'mortalidade': 8620, 'atacante': 10075, 'virá': 8623, 'verdadeiramente': 13321, 'Andrea': 4229, 'mexe': 8624, 'preocupado': 1037, 'bby': 8781, 'Professor': 2924, 'Acabei': 2421, 'rara': 10142, 'Rochelle': 14649, 'julgado': 8628, 'limite': 8629, 'cordas': 8632, 'gerente': 9022, 'Demi': 13994, 'nick': 11524, 'euros': 8634, 'acharem': 8635, 'infecção': 11397, 'itens': 8901, 'vejam': 8637, ':-*': 10724, 'alguma': 449, 'beija': 8638, 'Bombeiros': 4742, 'tio': 1602, 'Leite': 8639, 'Oeste': 8642, 'Trabalhador': 8646, 'ESTAR': 15739, 'Alice': 14131, 'Vicente': 8647, 'IDH': 8650, 'Quadro': 8687, 'Santana': 8652, 'Latino': 15960, 'Quest': 2237, 'Summit': 9820, 'Sandra': 8653, 'J.': 8654, 'Obras': 8658, 'enfrentam': 8659, 'Ô': 7337, 'BGS': 5650, 'estreiam': 8660, 'Irmã': 8662, 'filmado': 11814, 'Artist': 11390, 'expulsão': 8663, 'elefantes': 8666, 'ataca': 4154, 'imediata': 10022, 'Oiii': 14960, 'vazado': 8668, 'Jamais': 8670, 'desesperada': 6070, 'alívio': 3975, 'pastor': 8671, 'Jr.': 8675, 'encomendas': 8252, 'torcedores': 8678, 'Isabel': 8679, 'interessado': 8680, 'Mostra': 10632, 'Thrones': 8682, 'Knight': 9110, 'temporário': 8683, 'acompanhei': 12792, 'pensão': 6464, 'pequena': 6723, 'Dorival': 9499, 'transporte': 8684, 'marina': 5668, 'ricos': 8686, 'querida': 5403, 'notas': 9737, 'destruído': 8688, 'luta': 2876, 'confuso': 9352, 'exclui': 8691, 'mostraram': 8693, 'Ziraldo': 8701, 'Desenvolvedor': 8702, 'tolerância': 12351, 'analisar': 4653, 'Java': 8703, 'sociedade': 4210, 'ultima': 8704, 'Pezão': 8707, 'AAAAAA': 3697, 'acusados': 8709, 'y': 8716, 'cerebral': 8718, 'Colômbia': 4712, '«': 8721, 'ridícula': 8725, 'bozo': 19, 'missa': 8726, 'Biel': 11649, 'IA': 11433, 'câmeras': 10234, 'confirmam': 8729, '🤖': 4014, 'ritmo': 8730, 'Covas': 4838, 'lote': 5657, '4,2': 8731, 'zoando': 1174, 'educado': 8732, 'gostosa': 8733, 'pedaço': 8734, 'bagagem': 10221, 'Consulte': 8736, '2737': 8741, 'Aniversário': 7388, '3562': 8742, 'MANO': 1844, 'Taehyung': 8088, 'Whatsap': 8743, '8086': 8745, 'taxa': 3816, 'Menezes': 8748, 'indicação': 8749, 'basicamente': 1311, 'violenta': 8751, 'Asia': 8752, 'fitness': 8753, 'primo': 8755, 'acostumado': 2914, 'seguindo': 8756, 'belo': 9936, 'TSE': 2056, 'textinhos': 8757, 'Começa': 2473, 'Atlético-PR': 8763, 'detona': 8764, 'elegido': 15392, 'idosos': 13771, 'Calendário': 8768, 'Putin': 8769, 'decepciona': 11329, 'mudou': 3417, 'secretário': 8772, 'vidro': 13137, 'porte': 6589, 'Bento': 8773, 'desvalorizam': 8775, 'raspar': 8776, 'Histórico': 10851, 'índios': 2723, 'recomenda': 5055, 'Equatorial': 8906, 'facista': 3732, 'agressivo': 8777, 'Bonoro': 12407, 'básico': 8779, 'considerações': 6623, 'escolheram': 8782, 'poderei': 15040, 'blocos': 8787, 'intuito': 8788, 'joguinhos': 13447, 'REFORMA': 8789, 'Condomínio': 8791, 'Inscreva-se': 8793, 'natal': 8780, 'pasa': 8795, 'Técnico': 8796, 'Uruguai': 8797, 'concordar': 7604, 'Book': 8798, 'Ganhei': 9150, 'pagando': 8550, 'órgãos': 8799, 'suor': 15844, 'corretor': 8801, 'resgatados': 14536, 'ANIVERSÁRIO': 8802, 'Startup': 3117, 'Sofia': 9288, 'conclui': 3157, 'PARABÉNS': 8803, 'enxergar': 8809, 'palestina': 8811, 'desajustados': 8813, 'Polo': 10172, 'F-1': 14829, 'arquivamento': 11091, 'abster': 10976, 'partidas': 8919, 'incêndios': 8816, 'Johnny': 8819, 'exista': 8822, 'explosões': 8827, 'automaticamente': 6400, 'irritar': 8829, 'baleado': 10973, 'mals': 7274, 'Elas': 8832, 'sábados': 12230, 'Cola': 8834, 'Teresópolis': 12621, 'Loko': 8836, 'acabando': 8841, 'viram': 9198, 'fabricante': 6845, 'ajudam': 8842, 'irritante': 8844, 'legislação': 8265, 'Soyuz': 8846, 'Pessoas': 844, 'Chego': 8850, 'wifi': 10318, 'classifica': 8358, 'doc': 6873, 'suporto': 8853, 'cores': 1578, 'Ronaldinho': 8854, 'Romano': 10074, 'Gaúcho': 8855, 'acusadora': 8858, 'vizinhos': 8859, 'Muro': 10294, 'TEM': 7883, 'devia': 810, 'Elon': 8860, 'limita': 8864, 'Resultados': 11360, 'focar': 11086, 'concertos': 7710, 'doida': 8866, 'espinha': 10723, 'chego': 8867, 'Souza': 8869, '2015': 8870, 'fraqueza': 8871, 'Tenha': 12709, 'diamante': 8872, 'exemple': 15121, 'CBS': 8873, 'entendem': 7881, 'line': 8880, 'Gravação': 7387, 'carater': 8881, 'explícito': 8886, 'baile': 8895, 'demorei': 8896, 'moletom': 1855, 'morador': 6517, 'capítulos': 8897, 'partidos': 2466, 'pré-venda': 8899, 'ganhará': 8900, 'magrinho': 11911, 'ordens': 8770, 'usado': 8903, 'apreensão': 8904, 'Guiné': 8905, 'personalidade': 845, 'CPMF': 3514, 'arrumando': 8908, 'F': 3136, 'cartas': 8909, 'Interpol': 5246, 'valem': 8912, 'emergência': 8699, 'incrível': 1200, 'indicia': 8913, 'associação': 8914, 'servidor': 9491, 'Cirinho': 12573, '140': 8918, 'caralho': 2171, 'Rui': 8920, 'Deu': 8598, 'sozinhas': 8923, 'Cruzes': 14644, 'Fiz': 3836, 'Estudo': 8926, 'renegociação': 14327, 'rico': 8928, 'tri': 8930, 'folclore': 10709, 'ESPN': 8917, 'judô': 8931, 'Software': 9956, 'intenções': 8468, 'Tweet': 8932, 'engana': 8934, 'derrotou': 13172, 'argumentos': 9960, 'autoestima': 814, 'correm': 8935, 'imposto': 8937, 'batalha': 8940, 'dahora': 14295, 'COMO': 6272, 'Comitê': 8942, 'propõem': 13144, 'escutei': 11218, 'diretos': 11103, 'frutos': 8947, 'começando': 2998, 'master': 8950, 'RG': 8956, 'SBT': 2462, 'Gostava': 8957, 'agentes': 6828, 'usuário': 8960, 'justifica': 13156, 'irritado': 8961, 'suportar': 8964, 'intelectual': 10139, 'vidinha': 8966, 'março': 8969, 'impede': 8970, 'fode': 9892, 'botox': 8972, 'Coitada': 14481, 'farei': 11159, 'século': 3994, 'Epah': 8544, '»': 8722, 'capilar': 8973, 'carioca': 3934, 'fracasso': 4585, 'Putz': 3046, 'reelege': 8976, 'comportamentais': 15209, 'ocupada': 8978, 'dilema': 8547, 'sociólogo': 6362, 'decidi': 8979, 'instituição': 10788, 'perguntando': 8980, 'antecipar': 8981, 'Ruim': 8983, 'Volkswagen': 8987, 'Comunicação': 9444, 'ANP': 8990, 'ksks': 8991, 'Helio': 9137, 'b0ee7128-9351-44a6-861e-ca45a3ce2f46': 9488, 'Segue': 8993, 'sogra': 8994, 'julgamentos': 15306, 'Casa': 2186, 'kit': 5231, 'odiava': 6297, 'corajosa': 8995, 'tradicionais': 9122, 'resumo': 7223, 'julgar': 8996, 'Ódio': 4427, 'Studio': 9000, 'Christian': 14770, '52': 9005, 'Coelho': 9008, 'tido': 4860, 'Natura': 9011, 'engordei': 9823, 'recruta': 9012, 'BEM': 2414, 'confiante': 9014, 'canadense': 9015, 'Ministérios': 13965, 'herdar': 9016, 'Sports': 5973, 'maça': 9017, 'Petrobras': 5402, 'sangrando': 9592, 'Emirates': 15658, 'material': 10864, 'agências': 9018, 'Waters': 10070, 'inteirinha': 13028, 'teoria': 9821, 'ocorrido': 9019, 'orientar': 9020, 'aliado': 7975, 'bebida': 9023, 'Matthew': 14735, 'estabilidade': 9025, 'nd': 9026, 'salas': 12893, 'demora': 4572, 'afetam': 9028, 'esquecimento': 9030, 'beneficente': 15548, 'machista': 9363, 'pescoço': 7319, 'tenhas': 9033, 'conforme': 14857, 'btw': 4431, 'alimentado': 9034, 'categoria': 3231, 'camisetas': 9035, 'Van': 9036, 'morando': 9041, 'Qualidade': 13725, 'provado': 9043, 'pró': 9274, 'cabecinha': 11058, 'help': 9044, 'velhas': 9051, 'Olivia': 7701, 'SORTEIO': 9052, 'contribuição': 12057, 'Entrega': 3245, 'Inflação': 9174, 'fdd': 9742, 'faturamento': 12855, 'Dinamarca': 8604, 'atrasadas': 9060, 'alcoólica': 11590, 'igrejas': 4963, 'cresceu': 9061, 'morri': 2436, 'queridinha': 9063, 'ganhamos': 4332, 'Outra': 9065, 'Mana': 600, 'escura': 9068, 'julguem': 9069, 'único': 2289, 'inter': 9075, 'usou': 9079, 'cute': 5780, 'positiva': 9915, 'Galvão': 9082, 'dedicado': 12303, 'falecido': 6783, 'Esperança': 4205, 'desastrosa': 9090, 'resgata': 9438, 'precise': 10329, 'pensava': 4657, 'acontecido': 9094, 'Mr.': 3912, 'remedio': 9099, 'Óleo': 9101, 'acordos': 6508, '19/10': 9102, '20/10': 9103, 'Redentor': 7878, 'suave': 9105, 'Tutor': 13796, 'Walking': 9109, 'leticia': 15691, 'desconhecidos': 14997, 'chegará': 9111, 'sentiu': 12731, 'PS4': 9112, 'acessando': 9114, 'prejudicar': 9115, 'out': 7831, 'personal': 9118, 'amaria': 9369, 'estreia': 356, 'preconceituosa': 9119, 'memo': 9666, 'referir': 9120, 'Otan': 1358, 'socorro': 9123, 'adoção': 9740, 'bombou': 9128, 'cabos': 5624, 'tristinha': 6831, '67': 9130, 'Site': 9131, 'oie': 9038, 'anúncio': 9132, 'Lista': 9133, 'Aprendiz': 9136, 'fudendo': 9139, '20': 1787, 'Monica': 9143, 'marca': 166, 'OMG': 9144, 'Exportação': 9554, 'tiradas': 9154, 'Rei': 9155, 'La': 9156, 'literal': 13317, 'Batista': 9160, 'contou': 9167, 'autista': 7091, 'vôlei': 9169, 'Gafisa': 9172, 'suficiente': 9372, 'gêmeas': 9173, 'shopping': 9176, 'assinam': 9179, 'parça': 14267, 'AJUDAR': 9180, 'Rapaz': 9185, 'praticar': 9187, 'raiz': 9190, 'autocarros': 15409, 'quao': 9194, 'publica': 4814, 'taco': 9201, 'amigar': 9207, 'alta': 932, 'fogem': 9471, 'desânimo': 9706, 'travestis': 12638, 'polêmicas': 12508, 'programação': 9209, 'iludir': 9949, 'Jogadores': 9210, 'classificação': 9212, 'remédios': 2393, 'entra': 439, 'Rihanna': 9166, 'Novas': 9215, 'realizado': 4408, 'brasileiras': 3356, 'compartilhou': 8514, 'Face': 9218, 'estude': 9222, 'democraticamente': 142, 'Veneza': 9225, 'Manos': 9229, 'diaaaa': 5400, 'Rafael': 9230, 'Alessandra': 12777, 'sugiro': 12649, 'novamente': 7196, 'garantia': 9231, 'propinas': 10839, 'infraestrutura': 9232, 'Meghan': 11933, 'instabilidade': 9239, '12:10': 12534, 'frase': 4700, 'desgraçado': 9244, 'desenvolveu': 9247, 'EN': 8715, 'tecnologias': 9248, 'Campeões': 9249, 'Taís': 9250, 'Araujo': 9251, 'vazamento': 9253, 'Estação': 9254, 'humorista': 12265, 'aula': 94, 'boto': 8625, 'concede': 10004, 'esquerdista': 9263, 'Conselho': 7102, 'Rossi': 10209, 'surtar': 9269, 'financeiros': 15103, 'melhorou': 9272, 'morro': 384, 'mttt': 9276, 'AMARELAS': 15465, 'Afff': 9278, 'back': 15238, 'fizeram': 4249, 'comemorar': 2660, 'light': 9381, 'Copacabana': 10974, 'p/': 9280, 'ouve': 9281, 'Técnico(a': 9285, 'favoritos': 3395, 'inflação': 6658, 'Enfermagem': 9286, 'Pepe': 12890, 'anula': 8708, 'exames': 9293, 'incompetente': 12075, 'conversinha': 9295, 'afastado': 9296, 'Acordada': 9712, 'tranças': 9301, 'Engraçado': 9302, 'that': 9308, 'lives': 9310, 'obviamente': 9312, 'Natal': 9315, 'untold': 9317, 'SEGUNDO': 15384, 'pilha': 9533, 'aguentou': 9319, 'machucar': 3029, 'Seletivo': 9320, 'rivalidade': 11839, 'assistir': 887, 'MÚSICA': 9827, 'fuma': 9362, 'AMEI': 9321, 'apertada': 9322, 'Battlefield': 12715, 'dificuldades': 9323, 'CHEGOU': 13433, 'empatia': 9328, 'SAUDADE': 5529, 'high': 9330, 'disseram': 9641, 'reportagens': 3624, 'criatividade': 7410, 'corrupta': 8143, 'apuradas': 9337, 'Diadema': 9340, 'desemprego': 9345, 'fôlego': 9346, 'feminino': 2355, 'verba': 9347, 'clima': 3151, 'terceirização': 8230, 'camisola': 9348, 'amoedo': 3069, 'anestesia': 9349, 'frustra': 15383, 'Jornais': 8383, 'ni': 9509, 'cerveja': 4777, 'Nascimento': 3287, 'baixinho': 9354, 'bullying': 9355, 'ronda': 9358, 'Hard': 10391, 'namora': 9359, 'Santiago': 9365, 'CARRO': 6253, 'Coração': 9398, 'piticas': 9366, 'EA': 15473, 'Espero': 2719, 'preciosas': 9367, 'Dua': 12660, 'demonstrar': 9373, 'declarar': 9374, 'certos': 9375, 'fundir': 15846, 'Amigos': 9376, 'Italiano': 15339, 'impecável': 8000, 'peculato': 10197, 'militantes': 9377, 'Crush': 9380, 'Luciano': 9382, 'desligar': 5739, 'vivem': 9383, 'suspenso': 10832, '8:30': 9390, 'horta': 7474, 'encontraram': 9391, 'Sucesso': 259, 'Entendo': 9392, 'Oii': 9395, 'comunicar': 4923, 'fumar': 6935, 'retiro': 9397, 'conectado': 15614, 'pleno': 9399, 'trânsito': 4217, 'Ícaro': 9404, 'leite': 2757, 'TO': 9334, 'explicam': 9407, 'balas': 9410, 'reabrir': 4956, 'bilhão': 6541, 'JA': 9412, 'acusar': 9415, 'ESPERO': 11111, 'arrepiei': 10259, 'TAVA': 9413, 'xD': 9416, 'limitadas': 9417, 'Chegar': 9418, 'Ford': 9421, 'Norte': 3646, 'sarah': 4784, 'despedindo': 9423, 'retirar': 5643, 'sente': 6189, 'pole': 9685, 'Ivo': 14397, 'Wellington': 10025, 'Duailibi': 7250, 'concorrência': 7576, 'Amo': 9424, 'estabelecimento': 9428, 'polêmico': 4687, 'elogios': 9430, 'excepcional': 9431, 'contente': 9710, 'DESCUBRA': 9432, 'tênis': 3690, 'Novidade': 9434, 'bobo': 1477, 'Macapá': 9435, 'prefiro': 1569, '02': 9446, 'dificuldade': 3179, 'bati': 9920, 'apuração': 9448, 'ferrado': 10188, 'legendas': 9451, 'namoradas': 9453, 'Ridículo': 9454, 'Pior': 5173, 'versões': 9457, 'montes': 9461, 'boneco': 9465, 'aaaaaaaa': 5396, 'sorteio': 9466, 'fisicamente': 9474, 'Briga': 7865, 'mentalmente': 9475, 'yeah': 9651, 'coligação': 9477, 'origem': 3486, 'APP': 7970, 'esto': 9480, 'desgraça': 7536, 'hyunjin': 9484, 'telas': 8453, 'Líderes': 9940, 'cosméticos': 9485, 'Pqp': 8350, 'dirigente': 9494, 'side': 15705, 'estratégico': 9495, 'Aconteceu': 13070, 'bêbada': 8024, 'Unido': 10225, 'modo': 3839, 'Cê': 2596, 'Júnior': 9500, 'Ruy': 9505, 'característica': 11694, 'ganharam': 10094, 'Braga': 9506, 'Vinicius': 6334, 'Realidade': 9507, 'comida': 6344, 'bateu': 9518, 'acervo': 9522, 'Vaga': 2398, 'unicórnio': 9525, 'escolhidos': 9526, 'ferrada': 13821, 'furacões': 9527, 'cotidiano': 11895, 'Vereadores': 9528, 'colocação': 9529, 'atingem': 12089, 'estarmos': 10058, 'vacina': 10069, 'corpos': 9534, 'Jobim': 14897, 'puto': 9535, 'árvores': 9539, 'printar': 9544, 'viro': 9545, 'Apartamentos': 9547, 'OI': 9549, 'Ponta': 9550, 'designer': 9551, 'mono': 12357, 'emociona': 9552, 'VOTAR': 9558, 'raízes': 15542, 'multar': 1760, 'mapas': 6814, 'TURNO': 9559, 'gostaria': 4780, 'África': 9565, 'Morales': 9784, 'Priscila': 12066, 'Os': 1547, 'atençao': 7264, 'paixão': 9569, 'decisões': 9572, 'coleção': 43, '08/10/2018': 9573, 'zerar': 9574, 'decepcionado': 11554, 'Im': 8967, '4h': 9575, 'castigo': 10199, 'porrada': 213, 'aptos': 9577, 'farmácias': 15967, 'municípios': 1085, 'Sérvia': 9580, 'let': 14516, 'DESSA': 11368, 'doenças': 9584, 'Quarta-feira': 9586, 'dará': 13498, 'facial': 5351, 'Climatempo': 9587, 'boxe': 6095, 'enfermaria': 9593, 'Oz': 14632, 'simulação': 2091, '🛫': 9598, 'CP': 14618, 'conhecidos': 9601, 'abandone': 15690, 'poderemos': 9602, 'calúnia': 15359, 'mudo': 12989, 'derrubada': 9604, 'musicas': 9612, 'Raízen': 15780, 'fanfic': 9614, 'emergentes': 223, 'Ambev': 9615, 'Nubank': 9616, '20123': 13157, 'Comigo': 9617, 'sobrou': 9618, 'apps': 9620, 'Sênior': 9622, 'Yellow': 1719, 'Valadares': 9623, 'critico': 14013, 'Sporting': 9624, 'agradeça': 9625, 'cofre': 9628, 'creches': 9630, 'Sol': 8690, 'Mega-Sena': 9634, 'continuação': 9635, 'ponta': 5423, 'gripe': 9638, 'lgbt': 4460, 'fanbase': 8405, 'VAMO': 9639, 'SOS': 9640, 'sentem': 9645, 'confusa': 5291, 'improbidade': 9647, 'fibra': 15702, 'rouba': 9649, 'mouse': 9650, 'PSTU': 9652, 'seokjin': 2996, 'combo': 9654, 'sociologia': 14288, 'loucas': 9657, 'aposto': 9658, 'Arujá': 6701, 'árbitros': 9661, 'pequenos': 3296, 'Bozonaro': 9662, 'diva': 5703, 'substituir': 6637, 'Kaleth': 9783, 'Fundamental': 10761, 'milionário': 9663, 'Novos': 7567, 'valia': 9664, 'docinho': 9668, 'fraudes': 9673, 'Agradecemos': 7723, 'nestas': 9674, 'sofreram': 8449, 'Gloria': 9686, 'Bienal': 9689, 'superação': 9692, 'ahhhh': 12247, 'caridade': 9694, 'biquinho': 13538, 'reforço': 13014, 'empatam': 9697, 'temporal': 9192, '66': 9698, 'find': 9699, 'ignorantes': 9702, 'exterior': 4844, 'Caso': 4422, 'pesos': 9703, 'olhou': 9707, 'quietinha': 9708, 'fiques': 9709, '73': 3818, 'Conseguiste': 823, 'entendam': 9716, 'falto': 15323, 'Shadow': 13628, 'prioriza': 9717, 'tratados': 9720, 'Vocês': 2627, 'decisivas': 9721, 'Po': 2776, 'usem': 9722, 'visitar': 1799, 'recebem': 9723, 'confirmação': 9724, 'Nossos': 9732, 'gameplay': 9733, 'Pague': 10205, 'Sora': 9734, 'ministério': 9184, 'amargo': 9738, 'esgotar': 9739, 'comunismo': 9743, 'Planet': 9745, 'traficantes': 9747, 'Quis': 9750, 'TOP': 6365, 'Frente': 9753, 'Castro': 11648, 'festeja': 3954, 'Existem': 10220, 'Povo': 9754, 'negociações': 9757, 'Realmente': 6574, 'percebo': 9758, 'SAO': 10120, 'ânimo': 9761, 'Goiás': 2502, 'Atualização': 9763, 'Fortnite': 9764, 'periferia': 10741, 'dispara': 9772, 'firme': 9774, '2016': 4022, 'yoongi': 9775, 'Sexy': 9776, 'julho': 5944, 'minimo': 9777, 'marcam': 9778, 'panico': 9780, 'Sá': 13200, 'Temas': 9781, 'TCC': 10586, 'Recordar': 9782, 'refere': 9785, 'legendado': 1963, 'ia': 228, 'investidor': 10097, 'birra': 401, 'Mauricio': 9789, 'impressões': 9825, 'criador': 3869, 'IDOL': 9791, 'julgue': 12102, 'ignorando': 9793, 'Felipe': 8611, 'áudios': 9797, 'apologia': 15363, 'pureza': 11759, 'econômico': 9799, 'FEZ': 12574, 'furo': 2478, 'profecia': 8711, 'tonelada': 10031, 'maluca': 11121, 'afeta': 6786, 'alemão': 10077, 'declaração': 9800, 'choca': 14118, 'margem': 9802, 'matei': 9810, 'reeleição': 950, 'Investigação': 9811, 'pretende': 4685, 'cometido': 9812, 'Eletropaulo': 14389, 'convocar': 9828, 'contratar': 10289, 'Grosso': 9830, 'madruga': 12443, 'decepcionante': 9831, 'diversas': 5346, 'conhecendo': 9835, 'volte': 9836, 'dada': 9841, 'Começando': 9845, 'dispostos': 6891, 'alimentos': 9852, 'Tive': 3964, 'Barra': 2106, 'morasse': 9854, 'perna': 2330, 'Medo': 9855, 'lembrem-se': 10143, 'pasta': 6677, 'eh': 373, 'cortam': 9861, 'CIRO': 9865, 'garantido': 9871, 'literário': 11987, 'comum': 4146, 'pesquisando': 9872, 'surtando': 9262, 'Dar': 9874, 'vendeu': 11999, 'Plataforma': 9876, 'SUA': 9878, 'Propaganda': 9881, 'she': 9882, 'fã': 9884, 'podridão': 9886, 'comprou': 5693, 'Bruna': 9223, 'atrasa': 9887, 'come': 9891, '🧡': 2521, 'precisamos': 9895, 'gt;William': 9896, 'distância': 5370, 'Waack': 9897, 'Linha': 2669, 'sobrando': 10245, 'lideranças': 9900, 'Portugal': 2707, 'investe': 7500, 'snap': 7773, 'soh': 9903, 'ue': 10042, 'substitui': 9904, 'cagando': 9908, 'atacada': 8394, 'Rafa': 8460, 'conjuntura': 9910, 'exibido': 13762, 'incompleto': 2748, 'squad': 9422, 'detidos': 9912, 'feminina': 9078, 'Formula': 9100, 'Iai': 9913, 'prints': 9916, 'consegui': 828, 'fracos': 9921, 'baixando': 9926, 'Mourão': 2949, 'Camaragibe': 9934, 'sincera': 9938, 'Mamãe': 9939, '........': 8572, 'So': 9942, 'rebelde': 9947, 'Arida': 9948, '99973': 8744, 'braba': 9950, 'Quantas': 9951, 'Nárnia': 15221, 'atendido': 9952, 'terço': 12495, 'Termina': 9954, 'espião': 6027, 'Engineer': 9957, 'delegacia': 2267, 'assado': 9958, 'HAHAHAHAHAHA': 9961, 'aumentou': 9963, 'salão': 9965, 'vingança': 9966, 'VERDADE': 9968, 'demi': 9970, 'salmonela': 9977, 'capitalista': 12354, 'cidadão': 9971, 'explicou': 15643, 'JBS': 9975, '65': 7661, 'quartas': 9978, 'milhão': 189, 'OMC': 9981, 'boquinha': 9986, 'demitir': 9987, 'pitico': 11496, 'Ahhh': 9988, 'Relaxa': 9990, 'Richarlison': 9992, 'britânico': 9993, 'b4308b01-796e-4f43-b4c5-2c8827a683d3': 5121, 'Visita': 9996, 'venha': 4786, 'Voto': 2354, 'receberam': 9998, 'Lembra': 9808, 'absolve': 10001, 'Nadal': 10756, 'Mc': 10003, 'torce': 10006, 'Alan': 8921, 'bug': 10012, 'HQ': 13208, 'computador': 10013, 'Cris': 11018, 'lembre': 4567, 'vencido': 10014, 'pesquisador': 15864, 'Talvez': 4198, 'pago': 10015, 'sabemos': 10145, 'responsabilidade': 10016, 'Correios': 10019, 'x': 4338, 'Vendo': 10021, 'Mundo': 10451, 'Rapper': 10027, 'Emicida': 10028, 'joga': 437, 'fofoca': 10032, 'falhei': 10036, 'profissão': 997, 'tiram': 3900, 'Manifestação': 10037, 'culturais': 10038, 'folha': 10040, 'sequer': 10041, 'polarização': 10044, 'senao': 10047, 'tpc': 10050, 'troço': 14679, 'los': 10052, 'manterá': 15582, 'surpreender': 10055, 'quantidade': 6834, 'agua': 10059, 'Yoongi': 10060, 'roubada': 10061, 'relatam': 1256, 'pintar': 10062, 'hmmm': 10063, 'MBL': 14965, 'demônio': 10064, 'Polarização': 10065, 'Tatiana': 10073, 'notar': 13223, 'agressões': 10081, 'interagir': 10083, 'aleatório': 10084, 'Rosso': 10773, 'convênio': 6566, 'usadas': 10178, 'Batida': 14831, 'protestar': 10085, 'desligou': 14556, 'demasiado': 8211, 'Mateus': 10086, 'contínua': 10211, 'Fale': 10087, 'Pega': 14834, 'massss': 10089, 'ajudado': 10090, 'verniz': 10574, 'folhas': 10091, 'escada': 11319, 'mtttt': 10096, 'Celular': 12436, 'duvidas': 10099, 'absurdamente': 10103, 'piscina': 10105, 'anuais': 10023, 'dorms': 10108, '64': 868, 'refrescar': 9072, 'm²': 10110, 'Calma': 10111, 'venezuela': 10113, 'alemanha': 10114, 'fe': 10117, 'best': 10118, 'incendiado': 15982, '96': 10119, 'Viu': 10122, 'Erdogan': 13330, 'PM': 912, '1,8': 8815, '4,00': 10127, 'chamou': 4800, 'derrotas': 8339, 'Ui': 10128, 'setores': 10133, 'tentativa': 10703, 'acontecem': 10146, 'Vagas': 1447, 'bomm': 518, 'candidaturas': 10147, 'Pensar': 14752, 'sítio': 4554, 'pólio': 10151, 'desafiar': 10154, 'Hashtag': 14123, 'Tivemos': 10155, 'metrô': 6084, 'atraso': 10156, 'inchada': 842, 'pacote': 10157, 'SER': 4875, 'Bosco': 10159, 'tubarão': 10160, 'DESCULPA': 10161, 'relevar': 15862, 'Sorte': 253, 'relaxar': 10165, 'gravidez': 10167, 'Siim': 10173, 'bolinha': 10176, 'Toy': 15946, 'ué': 10179, 'liberal': 10184, 'param': 13910, 'R': 4969, 'novinho': 10185, 'pânico': 5057, 'Tempestade': 10186, 'suíte': 9933, 'iPhones': 10191, 'Última': 10979, 'proprio': 10193, 'prorroga': 10196, 'planejando': 10198, 'jj': 14117, 'Roupas': 6422, 'Hipócritas': 10214, 'rivais': 10216, 'cercado': 10217, 'KST': 15223, 'sortuda': 10218, 'base': 2651, 'cover': 10219, 'investidores': 11833, 'aconteça': 10222, 'Reino': 10224, ':O': 10516, 'kids': 9883, 'anteriores': 10227, 'Embora': 10228, 'vendi': 15842, 'zuar': 10230, 'aninho': 10233, 'ajuste': 10237, 'Profissionais': 11116, 'Vote': 10238, 'Gama': 14642, 'TODAS': 6053, 'negro': 2312, 'interesses': 10240, 'LOL': 2917, 'net': 5094, 'Hahahah': 10250, 'didático': 10251, 'busão': 10253, 'sonha': 10262, '\\xa0': 1619, 'existia': 1036, 'esqueçam': 9564, 'estiverem': 10264, 'Aproveita': 14363, 'fcs': 10266, 'aflição': 15621, 'reverter': 10270, 'desanimada': 10271}\n"
          ]
        }
      ],
      "source": [
        "vocab = vocab(count_tokens, min_freq = 5, specials=[\"<unk>\", \"<pad>\"])\n",
        "vocab.set_default_index(vocab['<unk>'])\n",
        "\n",
        "token2id = vocab.get_stoi()\n",
        "\n",
        "print(token2id)"
      ]
    },
    {
      "cell_type": "code",
      "execution_count": 18,
      "metadata": {
        "colab": {
          "base_uri": "https://localhost:8080/"
        },
        "id": "-M-mS21_MC_j",
        "outputId": "c4b5df32-999d-42be-9519-feb22d70fb8e"
      },
      "outputs": [
        {
          "data": {
            "text/plain": [
              "16017"
            ]
          },
          "execution_count": 18,
          "metadata": {},
          "output_type": "execute_result"
        }
      ],
      "source": [
        "len(vocab)"
      ]
    },
    {
      "cell_type": "code",
      "execution_count": 19,
      "metadata": {
        "colab": {
          "base_uri": "https://localhost:8080/"
        },
        "id": "Vz77mrdqPRps",
        "outputId": "9c8d6b58-c247-4edd-8cbd-97e30cef8a42"
      },
      "outputs": [
        {
          "data": {
            "text/plain": [
              "(0, 4388, 1)"
            ]
          },
          "execution_count": 19,
          "metadata": {},
          "output_type": "execute_result"
        }
      ],
      "source": [
        "vocab['catapimbas'], vocab['cachorro'], vocab['<pad>']"
      ]
    },
    {
      "cell_type": "code",
      "execution_count": 20,
      "metadata": {
        "id": "EkAkQynRQ1-S"
      },
      "outputs": [],
      "source": [
        "def tok2vec(tokens):\n",
        "  return [vocab[s] for s in tokens]"
      ]
    },
    {
      "cell_type": "code",
      "execution_count": 21,
      "metadata": {
        "id": "-4czU8nISXOZ"
      },
      "outputs": [],
      "source": [
        "data_train['tok2vec'] = data_train['token'].apply(tok2vec)\n",
        "data_test['tok2vec'] = data_test['token'].apply(tok2vec)\n",
        "data_val['tok2vec'] = data_val['token'].apply(tok2vec)"
      ]
    },
    {
      "cell_type": "code",
      "execution_count": 22,
      "metadata": {
        "colab": {
          "base_uri": "https://localhost:8080/",
          "height": 423
        },
        "id": "C9MbA76hSodB",
        "outputId": "9784346a-994e-4fba-ca36-06cc27b7e7de"
      },
      "outputs": [
        {
          "data": {
            "text/html": [
              "<div>\n",
              "<style scoped>\n",
              "    .dataframe tbody tr th:only-of-type {\n",
              "        vertical-align: middle;\n",
              "    }\n",
              "\n",
              "    .dataframe tbody tr th {\n",
              "        vertical-align: top;\n",
              "    }\n",
              "\n",
              "    .dataframe thead th {\n",
              "        text-align: right;\n",
              "    }\n",
              "</style>\n",
              "<table border=\"1\" class=\"dataframe\">\n",
              "  <thead>\n",
              "    <tr style=\"text-align: right;\">\n",
              "      <th></th>\n",
              "      <th>tweet_text</th>\n",
              "      <th>token</th>\n",
              "      <th>tok2vec</th>\n",
              "    </tr>\n",
              "  </thead>\n",
              "  <tbody>\n",
              "    <tr>\n",
              "      <th>49783</th>\n",
              "      <td>Aaaa não neném ((</td>\n",
              "      <td>[Aaaa, neném]</td>\n",
              "      <td>[2, 3]</td>\n",
              "    </tr>\n",
              "    <tr>\n",
              "      <th>65737</th>\n",
              "      <td>tu vai na casa da pessoa, toma um banho lá e l...</td>\n",
              "      <td>[casa, pessoa, toma, banho, lava, cabelo, sham...</td>\n",
              "      <td>[4, 5, 6, 7, 8, 9, 0, 10, 11, 12, 4, 13, 14, 1...</td>\n",
              "    </tr>\n",
              "    <tr>\n",
              "      <th>44073</th>\n",
              "      <td>só seguiu o bozo</td>\n",
              "      <td>[seguiu, bozo]</td>\n",
              "      <td>[18, 19]</td>\n",
              "    </tr>\n",
              "    <tr>\n",
              "      <th>16882</th>\n",
              "      <td>Eu não fui pq caiu no meu bday e eu escolhi ir...</td>\n",
              "      <td>[Eu, pq, caiu, bday, escolhi, outro]</td>\n",
              "      <td>[20, 21, 22, 0, 23, 24]</td>\n",
              "    </tr>\n",
              "    <tr>\n",
              "      <th>7472</th>\n",
              "      <td>segui de volta</td>\n",
              "      <td>[segui, volta]</td>\n",
              "      <td>[25, 26]</td>\n",
              "    </tr>\n",
              "    <tr>\n",
              "      <th>...</th>\n",
              "      <td>...</td>\n",
              "      <td>...</td>\n",
              "      <td>...</td>\n",
              "    </tr>\n",
              "    <tr>\n",
              "      <th>1682</th>\n",
              "      <td>minha mãe me fala quando ela não gosta das pes...</td>\n",
              "      <td>[mãe, fala, gosta, pessoas, disse, gostava, ti...</td>\n",
              "      <td>[1546, 467, 1367, 162, 398, 1395, 291, 10130, ...</td>\n",
              "    </tr>\n",
              "    <tr>\n",
              "      <th>70665</th>\n",
              "      <td>Com modo online inédito, 'Super Mario Party' t...</td>\n",
              "      <td>[Com, modo, online, inédito, Super, Mario, Par...</td>\n",
              "      <td>[975, 3839, 2420, 7905, 10035, 12426, 0, 871, ...</td>\n",
              "    </tr>\n",
              "    <tr>\n",
              "      <th>97308</th>\n",
              "      <td>Boi Imperador 80 anos de tradição da nossa cul...</td>\n",
              "      <td>[Boi, Imperador, 80, anos, tradição, cultura, ...</td>\n",
              "      <td>[13711, 0, 1961, 235, 14778, 3937, 0, 276, 460...</td>\n",
              "    </tr>\n",
              "    <tr>\n",
              "      <th>95050</th>\n",
              "      <td>Algumas oportunidades não voltam só porque voc...</td>\n",
              "      <td>[Algumas, oportunidades, voltam, arrependeu]</td>\n",
              "      <td>[8446, 146, 1041, 15317]</td>\n",
              "    </tr>\n",
              "    <tr>\n",
              "      <th>36034</th>\n",
              "      <td>só queria chegar em casa e encontrar um cel no...</td>\n",
              "      <td>[queria, chegar, casa, encontrar, cel, novinho...</td>\n",
              "      <td>[67, 2205, 4, 2597, 5726, 10185, 3412]</td>\n",
              "    </tr>\n",
              "  </tbody>\n",
              "</table>\n",
              "<p>94321 rows × 3 columns</p>\n",
              "</div>"
            ],
            "text/plain": [
              "                                              tweet_text  \\\n",
              "49783                                  Aaaa não neném ((   \n",
              "65737  tu vai na casa da pessoa, toma um banho lá e l...   \n",
              "44073                                   só seguiu o bozo   \n",
              "16882  Eu não fui pq caiu no meu bday e eu escolhi ir...   \n",
              "7472                                      segui de volta   \n",
              "...                                                  ...   \n",
              "1682   minha mãe me fala quando ela não gosta das pes...   \n",
              "70665  Com modo online inédito, 'Super Mario Party' t...   \n",
              "97308  Boi Imperador 80 anos de tradição da nossa cul...   \n",
              "95050  Algumas oportunidades não voltam só porque voc...   \n",
              "36034  só queria chegar em casa e encontrar um cel no...   \n",
              "\n",
              "                                                   token  \\\n",
              "49783                                      [Aaaa, neném]   \n",
              "65737  [casa, pessoa, toma, banho, lava, cabelo, sham...   \n",
              "44073                                     [seguiu, bozo]   \n",
              "16882               [Eu, pq, caiu, bday, escolhi, outro]   \n",
              "7472                                      [segui, volta]   \n",
              "...                                                  ...   \n",
              "1682   [mãe, fala, gosta, pessoas, disse, gostava, ti...   \n",
              "70665  [Com, modo, online, inédito, Super, Mario, Par...   \n",
              "97308  [Boi, Imperador, 80, anos, tradição, cultura, ...   \n",
              "95050       [Algumas, oportunidades, voltam, arrependeu]   \n",
              "36034  [queria, chegar, casa, encontrar, cel, novinho...   \n",
              "\n",
              "                                                 tok2vec  \n",
              "49783                                             [2, 3]  \n",
              "65737  [4, 5, 6, 7, 8, 9, 0, 10, 11, 12, 4, 13, 14, 1...  \n",
              "44073                                           [18, 19]  \n",
              "16882                            [20, 21, 22, 0, 23, 24]  \n",
              "7472                                            [25, 26]  \n",
              "...                                                  ...  \n",
              "1682   [1546, 467, 1367, 162, 398, 1395, 291, 10130, ...  \n",
              "70665  [975, 3839, 2420, 7905, 10035, 12426, 0, 871, ...  \n",
              "97308  [13711, 0, 1961, 235, 14778, 3937, 0, 276, 460...  \n",
              "95050                           [8446, 146, 1041, 15317]  \n",
              "36034             [67, 2205, 4, 2597, 5726, 10185, 3412]  \n",
              "\n",
              "[94321 rows x 3 columns]"
            ]
          },
          "execution_count": 22,
          "metadata": {},
          "output_type": "execute_result"
        }
      ],
      "source": [
        "# Removing tweets empty\n",
        "\n",
        "data_train = data_train[~data_train['tok2vec'].apply(lambda x: len(x) == 0)]\n",
        "data_test = data_test[~data_test['tok2vec'].apply(lambda x: len(x) == 0)] \n",
        "data_val = data_val[~data_val['tok2vec'].apply(lambda x: len(x) == 0)] \n",
        "\n",
        "\n",
        "data_train[['tweet_text','token','tok2vec']]"
      ]
    },
    {
      "cell_type": "code",
      "execution_count": 23,
      "metadata": {
        "id": "YH64Yme3UIoV"
      },
      "outputs": [],
      "source": [
        "NUM_CLASSES = len(data_train['sentiment'].unique())\n",
        "VOCAB_SIZE = len(vocab)\n",
        "EMBEDDING_SIZE = 320"
      ]
    },
    {
      "cell_type": "code",
      "execution_count": 24,
      "metadata": {
        "id": "AI_h-bp7T_oU"
      },
      "outputs": [],
      "source": [
        "class TweetDataset(Dataset):\n",
        "  def __init__(self, dataset):\n",
        "      self.dataset = dataset\n",
        "      self.data = dataset['tok2vec']\n",
        "\n",
        "  def __len__(self):\n",
        "      return len(self.data)\n",
        "\n",
        "  def __getitem__(self, index):\n",
        "      return self.data[index], self.dataset['sentiment'][index]"
      ]
    },
    {
      "cell_type": "code",
      "execution_count": 25,
      "metadata": {
        "id": "mOefFRnTUdtD"
      },
      "outputs": [],
      "source": [
        "dataset_train = TweetDataset(data_train.reset_index())\n",
        "dataset_test = TweetDataset(data_test.reset_index())"
      ]
    },
    {
      "cell_type": "code",
      "execution_count": 26,
      "metadata": {
        "id": "77j7ouCUVisv"
      },
      "outputs": [],
      "source": [
        "def collate_batch(batch):\n",
        "  \n",
        "    label_list, vocab_list, offsets = [], [], [0]\n",
        "\n",
        "    for (_vocab, _label) in batch:\n",
        "         label_list.append(_label)\n",
        "         processed_text = torch.tensor(_vocab, dtype=torch.int64)\n",
        "         vocab_list.append(processed_text)\n",
        "         offsets.append(processed_text.size(0))\n",
        "\n",
        "    label_list = torch.tensor(label_list, dtype=torch.int64)\n",
        "    offsets = torch.tensor(offsets[:-1]).cumsum(dim=0)\n",
        "    vocab_list = torch.cat(vocab_list)\n",
        "    \n",
        "    return vocab_list.to(device),label_list.to(device), offsets.to(device)"
      ]
    },
    {
      "attachments": {},
      "cell_type": "markdown",
      "metadata": {
        "id": "bsm-rRGzgJ23"
      },
      "source": [
        "### DATASET DATALOADER"
      ]
    },
    {
      "cell_type": "code",
      "execution_count": 27,
      "metadata": {
        "id": "No1HEjZVVlr7"
      },
      "outputs": [],
      "source": [
        "# BatchSize\n",
        "bs = 4\n",
        "train_dataloader = DataLoader(dataset_train, batch_size=bs, shuffle=True, collate_fn=collate_batch)\n",
        "test_dataloader = DataLoader(dataset_test, batch_size=bs, shuffle=True, collate_fn=collate_batch)"
      ]
    },
    {
      "attachments": {},
      "cell_type": "markdown",
      "metadata": {
        "id": "PlRmzPp0W8mp"
      },
      "source": [
        "## MODELO EmbeddingBag"
      ]
    },
    {
      "cell_type": "code",
      "execution_count": 28,
      "metadata": {
        "id": "-VqAb8vYVpCu"
      },
      "outputs": [],
      "source": [
        "# Architeture\n",
        "\n",
        "class TweetSentimentClassfier(nn.Module):\n",
        "    def __init__(self, vocab_size, embedding_size, num_class):\n",
        "        super(TweetSentimentClassfier, self).__init__() \n",
        "\n",
        "        self.embed = nn.EmbeddingBag(vocab_size, embedding_size, sparse=False)\n",
        "        self.expand = nn.Linear(embedding_size, num_class, bias=False)\n",
        "\n",
        "    def forward(self, input, offsets):\n",
        "        embedded = self.embed(input, offsets)\n",
        "        return self.expand(embedded)"
      ]
    },
    {
      "cell_type": "code",
      "execution_count": 29,
      "metadata": {
        "id": "7DoSBg1_WIjG"
      },
      "outputs": [],
      "source": [
        "model_EmbBG = model = TweetSentimentClassfier(VOCAB_SIZE, EMBEDDING_SIZE, NUM_CLASSES).to(device)"
      ]
    },
    {
      "cell_type": "code",
      "execution_count": 30,
      "metadata": {
        "id": "QrOO5Pi-Wkal"
      },
      "outputs": [],
      "source": [
        "LR = 1e-4\n",
        "EPOCHS = 10\n",
        "\n",
        "loss_fn = nn.CrossEntropyLoss()\n",
        "optimizer = torch.optim.AdamW(model_EmbBG.parameters(), lr=LR)"
      ]
    },
    {
      "cell_type": "code",
      "execution_count": 31,
      "metadata": {
        "id": "HTanqy43WnYf"
      },
      "outputs": [],
      "source": [
        "def train(dataloader, loss_fn, optimizer):\n",
        "  model.train()\n",
        "  \n",
        "  epoch_loss, epoch_acc = 0.0,0.0\n",
        "\n",
        "  for idx, (context, label, offsets) in enumerate(dataloader):    \n",
        "    optimizer.zero_grad()\n",
        "    out = model_EmbBG(context, offsets)\n",
        "    _, predicted = torch.max(out, 1)\n",
        "    loss = loss_fn(out, label)\n",
        "    epoch_loss += loss.item()\n",
        "\n",
        "    loss.backward()\n",
        "    optimizer.step()\n",
        "\n",
        "    epoch_acc += (out.argmax(1) == label).sum().item()\n",
        "\n",
        "    if idx % 5000 == 0:\n",
        "      print(f\"| epoch {epoch:3d} | batch {idx}/{len(dataloader)} | train loss: {loss.item():.3} | train accuracy: {(epoch_acc / ((idx + 1) * len(label))):.2f}%\")\n",
        "  \n",
        "  epoch_loss /= len(dataloader)\n",
        "  epoch_acc = (epoch_acc / len(dataloader.dataset))\n",
        "\n",
        "  return epoch_loss, epoch_acc"
      ]
    },
    {
      "cell_type": "code",
      "execution_count": 32,
      "metadata": {
        "id": "4fy3onmiXqS_"
      },
      "outputs": [],
      "source": [
        "def evaluate(dataloader, loss_fn):\n",
        "  model.eval()\n",
        "  total_acc, total_count = 0,0\n",
        "  \n",
        "  with torch.no_grad():\n",
        "    for idx, (context, label, offsets) in enumerate(dataloader):    \n",
        "      out = model_EmbBG(context, offsets)\n",
        "      total_acc += (out.argmax(1) == label).sum().item()\n",
        "      total_count += label.size(0)\n",
        "  accu_val = total_acc/total_count\n",
        "  print('-' * 79)\n",
        "  print(f'| end of epoch {epoch:3d} | time: {time.time() - epoch_start_time:5.2f}s | '\n",
        "        f'valid accuracy {accu_val:8.3f} ')\n",
        "  print('-' * 79)\n",
        "\n",
        "  return accu_val"
      ]
    },
    {
      "cell_type": "code",
      "execution_count": 33,
      "metadata": {
        "colab": {
          "base_uri": "https://localhost:8080/"
        },
        "id": "1OS57B8qWt-j",
        "outputId": "00432e85-6a91-4537-f7fa-6fa0cb9f0483"
      },
      "outputs": [
        {
          "name": "stdout",
          "output_type": "stream",
          "text": [
            "| epoch   1 | batch 0/23581 | train loss: 1.09 | train accuracy: 0.25%\n",
            "| epoch   1 | batch 5000/23581 | train loss: 0.897 | train accuracy: 0.50%\n",
            "| epoch   1 | batch 10000/23581 | train loss: 0.623 | train accuracy: 0.56%\n",
            "| epoch   1 | batch 15000/23581 | train loss: 0.985 | train accuracy: 0.59%\n",
            "| epoch   1 | batch 20000/23581 | train loss: 1.01 | train accuracy: 0.61%\n",
            "-------------------------------------------------------------------------------\n",
            "| end of epoch   1 | time: 107.66s | valid accuracy    0.695 \n",
            "-------------------------------------------------------------------------------\n",
            "| epoch   2 | batch 0/23581 | train loss: 0.678 | train accuracy: 0.75%\n",
            "| epoch   2 | batch 5000/23581 | train loss: 0.952 | train accuracy: 0.72%\n",
            "| epoch   2 | batch 10000/23581 | train loss: 1.04 | train accuracy: 0.72%\n",
            "| epoch   2 | batch 15000/23581 | train loss: 0.277 | train accuracy: 0.72%\n",
            "| epoch   2 | batch 20000/23581 | train loss: 0.186 | train accuracy: 0.73%\n",
            "-------------------------------------------------------------------------------\n",
            "| end of epoch   2 | time: 107.61s | valid accuracy    0.736 \n",
            "-------------------------------------------------------------------------------\n",
            "| epoch   3 | batch 0/23581 | train loss: 0.372 | train accuracy: 1.00%\n",
            "| epoch   3 | batch 5000/23581 | train loss: 0.756 | train accuracy: 0.75%\n",
            "| epoch   3 | batch 10000/23581 | train loss: 0.764 | train accuracy: 0.75%\n",
            "| epoch   3 | batch 15000/23581 | train loss: 0.377 | train accuracy: 0.76%\n",
            "| epoch   3 | batch 20000/23581 | train loss: 0.767 | train accuracy: 0.76%\n",
            "-------------------------------------------------------------------------------\n",
            "| end of epoch   3 | time: 107.70s | valid accuracy    0.754 \n",
            "-------------------------------------------------------------------------------\n",
            "| epoch   4 | batch 0/23581 | train loss: 0.869 | train accuracy: 0.50%\n",
            "| epoch   4 | batch 5000/23581 | train loss: 0.337 | train accuracy: 0.77%\n",
            "| epoch   4 | batch 10000/23581 | train loss: 0.436 | train accuracy: 0.77%\n",
            "| epoch   4 | batch 15000/23581 | train loss: 0.194 | train accuracy: 0.77%\n",
            "| epoch   4 | batch 20000/23581 | train loss: 0.263 | train accuracy: 0.77%\n",
            "-------------------------------------------------------------------------------\n",
            "| end of epoch   4 | time: 107.61s | valid accuracy    0.763 \n",
            "-------------------------------------------------------------------------------\n",
            "| epoch   5 | batch 0/23581 | train loss: 0.183 | train accuracy: 1.00%\n",
            "| epoch   5 | batch 5000/23581 | train loss: 0.32 | train accuracy: 0.79%\n",
            "| epoch   5 | batch 10000/23581 | train loss: 0.694 | train accuracy: 0.79%\n",
            "| epoch   5 | batch 15000/23581 | train loss: 0.0729 | train accuracy: 0.78%\n",
            "| epoch   5 | batch 20000/23581 | train loss: 0.333 | train accuracy: 0.79%\n",
            "-------------------------------------------------------------------------------\n",
            "| end of epoch   5 | time: 106.88s | valid accuracy    0.767 \n",
            "-------------------------------------------------------------------------------\n",
            "| epoch   6 | batch 0/23581 | train loss: 0.115 | train accuracy: 1.00%\n",
            "| epoch   6 | batch 5000/23581 | train loss: 0.15 | train accuracy: 0.79%\n",
            "| epoch   6 | batch 10000/23581 | train loss: 0.0891 | train accuracy: 0.79%\n",
            "| epoch   6 | batch 15000/23581 | train loss: 0.189 | train accuracy: 0.79%\n",
            "| epoch   6 | batch 20000/23581 | train loss: 0.0469 | train accuracy: 0.79%\n",
            "-------------------------------------------------------------------------------\n",
            "| end of epoch   6 | time: 106.09s | valid accuracy    0.769 \n",
            "-------------------------------------------------------------------------------\n",
            "| epoch   7 | batch 0/23581 | train loss: 0.72 | train accuracy: 0.75%\n",
            "| epoch   7 | batch 5000/23581 | train loss: 0.28 | train accuracy: 0.80%\n",
            "| epoch   7 | batch 10000/23581 | train loss: 0.0823 | train accuracy: 0.80%\n",
            "| epoch   7 | batch 15000/23581 | train loss: 1.53 | train accuracy: 0.80%\n",
            "| epoch   7 | batch 20000/23581 | train loss: 0.228 | train accuracy: 0.80%\n",
            "-------------------------------------------------------------------------------\n",
            "| end of epoch   7 | time: 107.52s | valid accuracy    0.769 \n",
            "-------------------------------------------------------------------------------\n",
            "| epoch   8 | batch 0/23581 | train loss: 1.14 | train accuracy: 0.75%\n",
            "| epoch   8 | batch 5000/23581 | train loss: 0.658 | train accuracy: 0.81%\n",
            "| epoch   8 | batch 10000/23581 | train loss: 0.948 | train accuracy: 0.81%\n",
            "| epoch   8 | batch 15000/23581 | train loss: 0.499 | train accuracy: 0.81%\n",
            "| epoch   8 | batch 20000/23581 | train loss: 0.624 | train accuracy: 0.80%\n",
            "-------------------------------------------------------------------------------\n",
            "| end of epoch   8 | time: 107.30s | valid accuracy    0.773 \n",
            "-------------------------------------------------------------------------------\n",
            "| epoch   9 | batch 0/23581 | train loss: 0.129 | train accuracy: 1.00%\n",
            "| epoch   9 | batch 5000/23581 | train loss: 0.555 | train accuracy: 0.81%\n",
            "| epoch   9 | batch 10000/23581 | train loss: 0.563 | train accuracy: 0.81%\n",
            "| epoch   9 | batch 15000/23581 | train loss: 0.211 | train accuracy: 0.81%\n",
            "| epoch   9 | batch 20000/23581 | train loss: 0.457 | train accuracy: 0.81%\n",
            "-------------------------------------------------------------------------------\n",
            "| end of epoch   9 | time: 106.01s | valid accuracy    0.775 \n",
            "-------------------------------------------------------------------------------\n",
            "| epoch  10 | batch 0/23581 | train loss: 0.181 | train accuracy: 1.00%\n",
            "| epoch  10 | batch 5000/23581 | train loss: 0.0483 | train accuracy: 0.81%\n",
            "| epoch  10 | batch 10000/23581 | train loss: 0.305 | train accuracy: 0.81%\n",
            "| epoch  10 | batch 15000/23581 | train loss: 0.125 | train accuracy: 0.81%\n",
            "| epoch  10 | batch 20000/23581 | train loss: 0.45 | train accuracy: 0.81%\n",
            "-------------------------------------------------------------------------------\n",
            "| end of epoch  10 | time: 106.25s | valid accuracy    0.775 \n",
            "-------------------------------------------------------------------------------\n"
          ]
        }
      ],
      "source": [
        "running_loss = np.zeros(EPOCHS)\n",
        "accu_val = np.zeros(EPOCHS)\n",
        "acc_train = np.zeros(EPOCHS)\n",
        "\n",
        "for epoch in range(1, EPOCHS + 1):\n",
        "    epoch_start_time = time.time()\n",
        "    running_loss[epoch - 1], acc_train[epoch - 1] = train(train_dataloader, loss_fn, optimizer)\n",
        "    accu_val[epoch - 1] = evaluate(test_dataloader, loss_fn)\n"
      ]
    },
    {
      "cell_type": "code",
      "execution_count": 34,
      "metadata": {
        "id": "4EQwDtvdh_NB"
      },
      "outputs": [
        {
          "data": {
            "image/png": "[encoded data removed]",
            "text/plain": [
              "<Figure size 640x480 with 1 Axes>"
            ]
          },
          "metadata": {},
          "output_type": "display_data"
        }
      ],
      "source": [
        "fig, ax = plt.subplots()\n",
        "\n",
        "ax.spines['top'].set_visible(False)\n",
        "ax.spines['right'].set_visible(False)\n",
        "\n",
        "\n",
        "plt.plot(running_loss, label='loss_train')\n",
        "plt.plot(acc_train, label='acc_train', c='r')\n",
        "plt.plot(accu_val, label='accu_val')\n",
        "plt.legend(loc=\"best\")\n",
        "plt.grid(axis = 'y', linestyle = '--')\n",
        "plt.show()"
      ]
    },
    {
      "cell_type": "code",
      "execution_count": null,
      "metadata": {},
      "outputs": [],
      "source": []
    },
    {
      "cell_type": "code",
      "execution_count": 35,
      "metadata": {
        "id": "LSrfHx_7oC3X"
      },
      "outputs": [
        {
          "name": "stdout",
          "output_type": "stream",
          "text": [
            "Checking the results of validation data.\n",
            "-------------------------------------------------------------------------------\n",
            "| end of epoch  10 | time: 177.06s | valid accuracy    0.774 \n",
            "-------------------------------------------------------------------------------\n",
            "test accuracy: 0.774\n"
          ]
        }
      ],
      "source": [
        "dataset_val = TweetDataset(data_val.reset_index())\n",
        "val_dataloader = DataLoader(dataset_val, batch_size=bs, shuffle=True, collate_fn=collate_batch)\n",
        "\n",
        "print('Checking the results of validation data.')\n",
        "accu_test = evaluate(val_dataloader, loss_fn)\n",
        "print(f'test accuracy: {accu_test:.3f}')"
      ]
    },
    {
      "attachments": {},
      "cell_type": "markdown",
      "metadata": {
        "id": "jTed6ml5k24q"
      },
      "source": [
        "Evaluating the errors in the validation set:"
      ]
    },
    {
      "cell_type": "code",
      "execution_count": 36,
      "metadata": {
        "id": "ml-el9vBiSTV"
      },
      "outputs": [],
      "source": [
        "def predict_EmbBAG(tok2vec):\n",
        "    tok2vec_tensor = torch.tensor(tok2vec, dtype=torch.long).to(device)\n",
        "    offsets = torch.tensor([0], dtype=torch.long).to(device)\n",
        "    with torch.no_grad():\n",
        "        output = model_EmbBG(tok2vec_tensor, offsets)\n",
        "    return output"
      ]
    },
    {
      "cell_type": "code",
      "execution_count": 37,
      "metadata": {
        "id": "DNThiZEzjL-B"
      },
      "outputs": [],
      "source": [
        "testing = data_val[['tweet_text', 'sentiment', 'tok2vec']][100:115]\n",
        "testing = testing.reset_index()"
      ]
    },
    {
      "cell_type": "code",
      "execution_count": 38,
      "metadata": {
        "id": "f-CQBCyVjb9s"
      },
      "outputs": [
        {
          "name": "stdout",
          "output_type": "stream",
          "text": [
            "Tweet: Aquecendo\n",
            "         Sentiment: 2\n",
            "         Predict: tensor([[-0.3364,  0.2831, -1.4310]], device='cuda:0')\n",
            "\n",
            "Tweet: Lula: Pode ter igual, mas nesse país não tem ninguém melhor do que nós\n",
            "         Sentiment: 2\n",
            "         Predict: tensor([[-0.4752,  0.3338,  0.5380]], device='cuda:0')\n",
            "\n",
            "Tweet: Netflix tá fazendo uma série de Nárnia, eu só estou esperando eles fazerem uma do Percy\n",
            "         Sentiment: 1\n",
            "         Predict: tensor([[ 0.2547,  0.4340, -1.2188]], device='cuda:0')\n",
            "\n",
            "Tweet: Momento forró do show  🥁  em Juazeiro BA\n",
            "         Sentiment: 2\n",
            "         Predict: tensor([[-1.2682, -1.1316,  3.0452]], device='cuda:0')\n",
            "\n",
            "Tweet: ai ai rei\n",
            "         Sentiment: 0\n",
            "         Predict: tensor([[ 1.6400,  0.5702, -2.1720]], device='cuda:0')\n",
            "\n",
            "Tweet: Meu Deputado Estadual não foi eleito\n",
            "         Sentiment: 0\n",
            "         Predict: tensor([[ 0.4965, -0.5110,  0.5987]], device='cuda:0')\n",
            "\n",
            "Tweet: gente (\n",
            "         Sentiment: 0\n",
            "         Predict: tensor([[ 2.1332,  0.0894, -3.2528]], device='cuda:0')\n",
            "\n",
            "Tweet: Um cara beudo bateu o carro no viaduto que vai pro granja só que quando bateu atropelou a moça e ela foi arremessada lá em baixo na Dutra véi\n",
            "         Sentiment: 0\n",
            "         Predict: tensor([[ 1.3711, -0.0743, -2.6768]], device='cuda:0')\n",
            "\n",
            "Tweet: Daciolo foi o mais comentado durante , segundo Twitter\n",
            "         Sentiment: 2\n",
            "         Predict: tensor([[-2.4519, -0.3996,  3.4278]], device='cuda:0')\n",
            "\n",
            "Tweet: tbm te amoooo, saudades meu amor\n",
            "         Sentiment: 0\n",
            "         Predict: tensor([[ 3.4426,  0.3668, -5.1722]], device='cuda:0')\n",
            "\n",
            "Tweet: Gente, você pode furar fila no trânsito, só não na minha frente\n",
            "         Sentiment: 1\n",
            "         Predict: tensor([[-0.8664,  0.9989,  0.2168]], device='cuda:0')\n",
            "\n",
            "Tweet: NOVAPAIXÃO NACIONAL!\n",
            "         Sentiment: 2\n",
            "         Predict: tensor([[-0.3364,  0.2831, -1.4310]], device='cuda:0')\n",
            "\n",
            "Tweet: Petrobras quer manter preço da gasolina estável por até 15 dias\n",
            "         Sentiment: 2\n",
            "         Predict: tensor([[-2.5674, -1.5611,  5.3673]], device='cuda:0')\n",
            "\n",
            "Tweet: Parabéns, ganhou o prêmio de escrota do dia, à frente até do Frota preso por não pagar a pensão\n",
            "         Sentiment: 1\n",
            "         Predict: tensor([[-1.7402,  1.1644,  0.6690]], device='cuda:0')\n",
            "\n",
            "Tweet: A tristeza me pegou jj\n",
            "         Sentiment: 0\n",
            "         Predict: tensor([[ 2.2920, -1.1054, -1.5252]], device='cuda:0')\n",
            "\n"
          ]
        }
      ],
      "source": [
        "for t in range(len(testing)):\n",
        "  print(f'Tweet: {testing[\"tweet_text\"][t]}\\n \\\n",
        "        Sentiment: {testing[\"sentiment\"][t]}\\n \\\n",
        "        Predict: {predict_EmbBAG(testing[\"tok2vec\"][t])}\\n')"
      ]
    },
    {
      "cell_type": "code",
      "execution_count": 39,
      "metadata": {
        "id": "MiQTesV9kgOg"
      },
      "outputs": [],
      "source": [
        "torch.save(model_EmbBG.state_dict(), \"modelo_EmbBAG.pt\")"
      ]
    },
    {
      "cell_type": "code",
      "execution_count": 40,
      "metadata": {
        "id": "3YeDSMqaIWgu"
      },
      "outputs": [],
      "source": [
        "def collate_batch(batch):\n",
        "    contexts = [example[0] for example in batch]\n",
        "    labels = [example[1] for example in batch]\n",
        "    padded_contexts = pad_sequence(contexts, batch_first=True, padding_value=1)\n",
        "    return padded_contexts, torch.tensor(labels).to(device)"
      ]
    },
    {
      "attachments": {},
      "cell_type": "markdown",
      "metadata": {
        "id": "YPZOiWOiH7cu"
      },
      "source": [
        "## MODELO LSTM"
      ]
    },
    {
      "attachments": {},
      "cell_type": "markdown",
      "metadata": {
        "id": "y6nc9XBdIAAW"
      },
      "source": [
        "### DATASET DATALOADER"
      ]
    },
    {
      "cell_type": "code",
      "execution_count": 41,
      "metadata": {
        "id": "tRKH63MiICie"
      },
      "outputs": [],
      "source": [
        "class TweetDatasetLSTM(Dataset):\n",
        "    def __init__(self, dataset):\n",
        "        self.dataset = dataset\n",
        "        self.data = dataset['tok2vec']\n",
        "\n",
        "    def __len__(self):\n",
        "        return len(self.data)\n",
        "\n",
        "    def __getitem__(self, index):\n",
        "        return torch.tensor(self.data[index]).to(device), self.dataset['sentiment'][index]"
      ]
    },
    {
      "cell_type": "code",
      "execution_count": 42,
      "metadata": {
        "id": "ADXvDMADIKWq"
      },
      "outputs": [],
      "source": [
        "dataset_train = TweetDatasetLSTM(data_train.reset_index())\n",
        "dataset_test = TweetDatasetLSTM(data_test.reset_index())"
      ]
    },
    {
      "cell_type": "code",
      "execution_count": 43,
      "metadata": {
        "id": "tIsny-tmIfLi"
      },
      "outputs": [
        {
          "data": {
            "text/plain": [
              "(tensor([34], device='cuda:0'), 0)"
            ]
          },
          "execution_count": 43,
          "metadata": {},
          "output_type": "execute_result"
        }
      ],
      "source": [
        "dataset_train[8]"
      ]
    },
    {
      "cell_type": "code",
      "execution_count": 45,
      "metadata": {
        "id": "I28Cm0fIIpdH"
      },
      "outputs": [],
      "source": [
        "bs = 2"
      ]
    },
    {
      "cell_type": "code",
      "execution_count": 46,
      "metadata": {
        "id": "6cfdHNgQIpvw"
      },
      "outputs": [],
      "source": [
        "train_dataloader = DataLoader(dataset_train, batch_size=bs, shuffle=True, collate_fn=collate_batch)\n",
        "test_dataloader = DataLoader(dataset_test, batch_size=bs, shuffle=True, collate_fn=collate_batch)"
      ]
    },
    {
      "cell_type": "code",
      "execution_count": 47,
      "metadata": {
        "id": "ZAKlvbY4IyvL"
      },
      "outputs": [],
      "source": [
        "EMBED_LEN = 224 #120\n",
        "HIDDEN_DIM = 64\n",
        "N_LAYERS = 1\n",
        "\n",
        "class TweetSentimentClassfier_LSTM(nn.Module):\n",
        "  def __init__(self,  num_class):\n",
        "    super(TweetSentimentClassfier_LSTM, self).__init__()\n",
        "\n",
        "    self.embedding_layer = nn.Embedding(VOCAB_SIZE, EMBED_LEN)\n",
        "    self.lstm = nn.LSTM(input_size=EMBED_LEN, hidden_size=HIDDEN_DIM, num_layers=N_LAYERS, batch_first=True)\n",
        "    self.dropout = nn.Dropout(0.1)\n",
        "    self.linear = nn.Linear(HIDDEN_DIM, num_class, bias=True)\n",
        "    self.softmax = nn.Softmax(dim=1)\n",
        "\n",
        "  \n",
        "  def forward(self, input):\n",
        "    input = input.long()\n",
        "    embedded = self.embedding_layer(input)\n",
        "    lstm_out, _ = self.lstm(embedded)\n",
        "    lstm_out = self.dropout(lstm_out)\n",
        "    lstm_out = lstm_out[:, -1, :]\n",
        "    final_out = self.linear(lstm_out)\n",
        "    final_out = self.softmax(final_out)\n",
        "    return final_out"
      ]
    },
    {
      "cell_type": "code",
      "execution_count": 48,
      "metadata": {
        "id": "IJjXWP3VJEp1"
      },
      "outputs": [],
      "source": [
        "model_LSTM = TweetSentimentClassfier_LSTM(NUM_CLASSES).to(device)"
      ]
    },
    {
      "cell_type": "code",
      "execution_count": 49,
      "metadata": {
        "id": "tuZIWAtXJShH"
      },
      "outputs": [],
      "source": [
        "LR = 1e-4\n",
        "EPOCHS = 10\n",
        "\n",
        "loss_fn = nn.CrossEntropyLoss()\n",
        "optimizer = torch.optim.AdamW(model_LSTM.parameters(), lr=LR)"
      ]
    },
    {
      "cell_type": "code",
      "execution_count": 50,
      "metadata": {
        "id": "KIjpA94yJY7c"
      },
      "outputs": [],
      "source": [
        "def train_lstm(dataloader, loss_fn, optimizer):\n",
        "  train_loss, train_acc = 0.0,0.0\n",
        "  total_correct, total_examples = 0,0\n",
        "\n",
        "  for batch, (context, label) in enumerate(dataloader):\n",
        "  \n",
        "    out = model_LSTM(context)\n",
        "    loss = loss_fn(out, label)\n",
        "    train_loss += loss.item()\n",
        "\n",
        "    predictions = out.argmax(dim=1)\n",
        "    total_correct += (predictions == label).sum().item()\n",
        "    total_examples += len(label)\n",
        "    \n",
        "    optimizer.zero_grad()\n",
        "    loss.backward()\n",
        "    optimizer.step()\n",
        "\n",
        "    if batch % 20000 == 0:\n",
        "      print(f\"| epoch {epoch:3d} | batch {batch}/{len(dataloader)} | train loss: {loss.item():.3} | train accuracy: {(total_correct / total_examples):.2f}%\")\n",
        "  \n",
        "  train_loss /= len(dataloader.dataset)  # média do loss\n",
        "  train_acc = total_correct / total_examples  # acurácia total\n",
        "  return train_loss, train_acc"
      ]
    },
    {
      "cell_type": "code",
      "execution_count": 51,
      "metadata": {
        "id": "flnBImPiJbSe"
      },
      "outputs": [],
      "source": [
        "def test_lstm(dataloader, epoch_start_time):\n",
        "  total_acc, total_count = 0,0\n",
        "\n",
        "  with torch.no_grad():\n",
        "    for batch, (context, label) in enumerate(dataloader):\n",
        "      out = model_LSTM(context)\n",
        "\n",
        "      total_acc += (out.argmax(1) == label).sum().item()\n",
        "      total_count += label.size(0)\n",
        "  accu_val = total_acc/total_count\n",
        "  print('-' * 79)\n",
        "  print(f'| end of epoch {epoch:3d} | time: {time.time() - epoch_start_time:5.2f}s | '\n",
        "        f'valid accuracy {accu_val:8.3f} ')\n",
        "  print('-' * 79)\n",
        "\n",
        "  return accu_val"
      ]
    },
    {
      "cell_type": "code",
      "execution_count": 52,
      "metadata": {
        "id": "akRgR88eJbke"
      },
      "outputs": [
        {
          "name": "stdout",
          "output_type": "stream",
          "text": [
            "| epoch   1 | batch 0/47161 | train loss: 1.1 | train accuracy: 0.00%\n",
            "| epoch   1 | batch 20000/47161 | train loss: 1.05 | train accuracy: 0.56%\n",
            "| epoch   1 | batch 40000/47161 | train loss: 0.764 | train accuracy: 0.61%\n",
            "-------------------------------------------------------------------------------\n",
            "| end of epoch   1 | time: 176.92s | valid accuracy    0.690 \n",
            "-------------------------------------------------------------------------------\n",
            "| epoch   2 | batch 0/47161 | train loss: 0.904 | train accuracy: 0.50%\n",
            "| epoch   2 | batch 20000/47161 | train loss: 0.772 | train accuracy: 0.73%\n",
            "| epoch   2 | batch 40000/47161 | train loss: 0.636 | train accuracy: 0.73%\n",
            "-------------------------------------------------------------------------------\n",
            "| end of epoch   2 | time: 176.36s | valid accuracy    0.731 \n",
            "-------------------------------------------------------------------------------\n",
            "| epoch   3 | batch 0/47161 | train loss: 1.11 | train accuracy: 0.50%\n",
            "| epoch   3 | batch 20000/47161 | train loss: 0.551 | train accuracy: 0.77%\n",
            "| epoch   3 | batch 40000/47161 | train loss: 1.05 | train accuracy: 0.77%\n",
            "-------------------------------------------------------------------------------\n",
            "| end of epoch   3 | time: 174.27s | valid accuracy    0.749 \n",
            "-------------------------------------------------------------------------------\n",
            "| epoch   4 | batch 0/47161 | train loss: 0.726 | train accuracy: 1.00%\n",
            "| epoch   4 | batch 20000/47161 | train loss: 1.05 | train accuracy: 0.79%\n",
            "| epoch   4 | batch 40000/47161 | train loss: 0.551 | train accuracy: 0.79%\n",
            "-------------------------------------------------------------------------------\n",
            "| end of epoch   4 | time: 177.53s | valid accuracy    0.757 \n",
            "-------------------------------------------------------------------------------\n",
            "| epoch   5 | batch 0/47161 | train loss: 0.815 | train accuracy: 0.50%\n",
            "| epoch   5 | batch 20000/47161 | train loss: 0.551 | train accuracy: 0.80%\n",
            "| epoch   5 | batch 40000/47161 | train loss: 0.556 | train accuracy: 0.80%\n",
            "-------------------------------------------------------------------------------\n",
            "| end of epoch   5 | time: 177.40s | valid accuracy    0.764 \n",
            "-------------------------------------------------------------------------------\n",
            "| epoch   6 | batch 0/47161 | train loss: 0.918 | train accuracy: 0.50%\n",
            "| epoch   6 | batch 20000/47161 | train loss: 0.552 | train accuracy: 0.82%\n",
            "| epoch   6 | batch 40000/47161 | train loss: 0.551 | train accuracy: 0.82%\n",
            "-------------------------------------------------------------------------------\n",
            "| end of epoch   6 | time: 177.77s | valid accuracy    0.765 \n",
            "-------------------------------------------------------------------------------\n",
            "| epoch   7 | batch 0/47161 | train loss: 0.838 | train accuracy: 0.50%\n",
            "| epoch   7 | batch 20000/47161 | train loss: 0.552 | train accuracy: 0.83%\n",
            "| epoch   7 | batch 40000/47161 | train loss: 0.585 | train accuracy: 0.83%\n",
            "-------------------------------------------------------------------------------\n",
            "| end of epoch   7 | time: 179.37s | valid accuracy    0.766 \n",
            "-------------------------------------------------------------------------------\n",
            "| epoch   8 | batch 0/47161 | train loss: 0.602 | train accuracy: 1.00%\n",
            "| epoch   8 | batch 20000/47161 | train loss: 0.932 | train accuracy: 0.84%\n",
            "| epoch   8 | batch 40000/47161 | train loss: 0.603 | train accuracy: 0.83%\n",
            "-------------------------------------------------------------------------------\n",
            "| end of epoch   8 | time: 175.55s | valid accuracy    0.765 \n",
            "-------------------------------------------------------------------------------\n",
            "| epoch   9 | batch 0/47161 | train loss: 1.05 | train accuracy: 0.50%\n",
            "| epoch   9 | batch 20000/47161 | train loss: 0.553 | train accuracy: 0.84%\n",
            "| epoch   9 | batch 40000/47161 | train loss: 0.709 | train accuracy: 0.84%\n",
            "-------------------------------------------------------------------------------\n",
            "| end of epoch   9 | time: 177.89s | valid accuracy    0.770 \n",
            "-------------------------------------------------------------------------------\n",
            "| epoch  10 | batch 0/47161 | train loss: 1.04 | train accuracy: 0.50%\n",
            "| epoch  10 | batch 20000/47161 | train loss: 1.02 | train accuracy: 0.85%\n",
            "| epoch  10 | batch 40000/47161 | train loss: 0.552 | train accuracy: 0.85%\n",
            "-------------------------------------------------------------------------------\n",
            "| end of epoch  10 | time: 177.22s | valid accuracy    0.772 \n",
            "-------------------------------------------------------------------------------\n"
          ]
        }
      ],
      "source": [
        "best_acc = 0\n",
        "\n",
        "running_loss = np.zeros(EPOCHS)\n",
        "accu_val = np.zeros(EPOCHS)\n",
        "acc_train = np.zeros(EPOCHS)\n",
        "\n",
        "for epoch in range(1, EPOCHS + 1):\n",
        "    epoch_start_time = time.time()\n",
        "    running_loss[epoch - 1], acc_train[epoch - 1] = train_lstm(train_dataloader, loss_fn, optimizer)\n",
        "    accu_val[epoch - 1] = test_lstm(test_dataloader, epoch_start_time)"
      ]
    },
    {
      "cell_type": "code",
      "execution_count": 53,
      "metadata": {},
      "outputs": [],
      "source": [
        "import pickle\n",
        "with open('vocab.pkl', 'wb') as file:\n",
        "        pickle.dump(vocab, file)"
      ]
    },
    {
      "cell_type": "code",
      "execution_count": 54,
      "metadata": {
        "colab": {
          "base_uri": "https://localhost:8080/",
          "height": 430
        },
        "id": "NGs26Pv8S-ts",
        "outputId": "61781b9c-84f6-41d8-946c-9880a3b73be8"
      },
      "outputs": [
        {
          "data": {
            "image/png": "[encoded data removed]",
            "text/plain": [
              "<Figure size 640x480 with 1 Axes>"
            ]
          },
          "metadata": {},
          "output_type": "display_data"
        }
      ],
      "source": [
        "fig, ax = plt.subplots()\n",
        "\n",
        "ax.spines['top'].set_visible(False)\n",
        "ax.spines['right'].set_visible(False)\n",
        "\n",
        "\n",
        "plt.plot(running_loss, label='loss_train')\n",
        "plt.plot(acc_train, label='acc_train', c='r')\n",
        "plt.plot(accu_val, label='accu_val')\n",
        "plt.legend(loc=\"best\")\n",
        "plt.grid(axis = 'y', linestyle = '--')\n",
        "plt.show()"
      ]
    },
    {
      "cell_type": "code",
      "execution_count": 55,
      "metadata": {
        "colab": {
          "base_uri": "https://localhost:8080/"
        },
        "id": "fjEw8-sHTI79",
        "outputId": "a4043e5e-490b-46d9-c625-04aba4e7c84d"
      },
      "outputs": [
        {
          "name": "stdout",
          "output_type": "stream",
          "text": [
            "Checking the results of validation data.\n",
            "-------------------------------------------------------------------------------\n",
            "| end of epoch  10 | time: 199.69s | valid accuracy    0.768 \n",
            "-------------------------------------------------------------------------------\n",
            "test accuracy: 0.768\n"
          ]
        }
      ],
      "source": [
        "dataset_val = TweetDatasetLSTM(data_val.reset_index())\n",
        "val_dataloader = DataLoader(dataset_val, batch_size=bs, shuffle=True, collate_fn=collate_batch)\n",
        "\n",
        "print('Checking the results of validation data.')\n",
        "accu_test = test_lstm(val_dataloader, epoch_start_time)\n",
        "print(f'test accuracy: {accu_test:.3f}')"
      ]
    },
    {
      "attachments": {},
      "cell_type": "markdown",
      "metadata": {
        "id": "BfXwP6pqU0A6"
      },
      "source": [
        "### Pipeline para streamlit dos modelos:"
      ]
    },
    {
      "cell_type": "code",
      "execution_count": 56,
      "metadata": {
        "id": "R1CLRWedU5h9"
      },
      "outputs": [],
      "source": [
        "def tweet_pipeline(tweet):\n",
        "  return tok2vec(tokenize(tweet))"
      ]
    },
    {
      "cell_type": "code",
      "execution_count": 57,
      "metadata": {
        "colab": {
          "base_uri": "https://localhost:8080/"
        },
        "id": "s15HwJIYWZ4J",
        "outputId": "266e0e5c-19db-4834-c029-d169fee0cc03"
      },
      "outputs": [
        {
          "data": {
            "text/plain": [
              "[1141, 92, 624, 9710]"
            ]
          },
          "execution_count": 57,
          "metadata": {},
          "output_type": "execute_result"
        }
      ],
      "source": [
        "tweet_pipeline(\"Hoje eu vou sair, estou contente.\")"
      ]
    },
    {
      "cell_type": "code",
      "execution_count": 58,
      "metadata": {
        "id": "NzNZGcrKc0GJ"
      },
      "outputs": [],
      "source": [
        "def predict_LSTM(tok2vec):\n",
        "    tok2vec_tensor = torch.LongTensor(tok2vec).to(device)\n",
        "    tok2vec_tensor = tok2vec_tensor.unsqueeze(0)\n",
        "    with torch.no_grad():\n",
        "        output = model_LSTM(tok2vec_tensor)\n",
        "    return output"
      ]
    },
    {
      "cell_type": "code",
      "execution_count": 59,
      "metadata": {
        "colab": {
          "base_uri": "https://localhost:8080/"
        },
        "id": "OLvvGNR1cwsH",
        "outputId": "3e7ffb4a-1d0e-4232-959f-153a2c24063e"
      },
      "outputs": [
        {
          "data": {
            "text/plain": [
              "tensor([[1.5767e-03, 9.9840e-01, 2.3354e-05]], device='cuda:0')"
            ]
          },
          "execution_count": 59,
          "metadata": {},
          "output_type": "execute_result"
        }
      ],
      "source": [
        "predict_LSTM(tweet_pipeline(\"Hoje eu vou sair, estou contente\"))"
      ]
    },
    {
      "cell_type": "code",
      "execution_count": 60,
      "metadata": {
        "id": "z8pIEJLakP7N"
      },
      "outputs": [],
      "source": [
        "torch.save(model_LSTM.state_dict(), \"modelo_lstm.pt\")"
      ]
    }
  ],
  "metadata": {
    "accelerator": "GPU",
    "colab": {
      "gpuType": "T4",
      "provenance": []
    },
    "kernelspec": {
      "display_name": "Python 3",
      "name": "python3"
    },
    "language_info": {
      "codemirror_mode": {
        "name": "ipython",
        "version": 3
      },
      "file_extension": ".py",
      "mimetype": "text/x-python",
      "name": "python",
      "nbconvert_exporter": "python",
      "pygments_lexer": "ipython3",
      "version": "3.10.10"
    },
    "widgets": {
      "application/vnd.jupyter.widget-state+json": {
        "06a5e1b0b7f44ee4803f889eb44cfd1e": {
          "model_module": "@jupyter-widgets/controls",
          "model_module_version": "1.5.0",
          "model_name": "HTMLModel",
          "state": {
            "_dom_classes": [],
            "_model_module": "@jupyter-widgets/controls",
            "_model_module_version": "1.5.0",
            "_model_name": "HTMLModel",
            "_view_count": null,
            "_view_module": "@jupyter-widgets/controls",
            "_view_module_version": "1.5.0",
            "_view_name": "HTMLView",
            "description": "",
            "description_tooltip": null,
            "layout": "IPY_MODEL_342d6190c2f9449e812dd330f704330c",
            "placeholder": "​",
            "style": "IPY_MODEL_39048cae1f264fa9a00a4703f72d597e",
            "value": "Downloading (…)in/added_tokens.json: 100%"
          }
        },
        "0a35b4fdb8654d819be9997a4882c5b0": {
          "model_module": "@jupyter-widgets/controls",
          "model_module_version": "1.5.0",
          "model_name": "HTMLModel",
          "state": {
            "_dom_classes": [],
            "_model_module": "@jupyter-widgets/controls",
            "_model_module_version": "1.5.0",
            "_model_name": "HTMLModel",
            "_view_count": null,
            "_view_module": "@jupyter-widgets/controls",
            "_view_module_version": "1.5.0",
            "_view_name": "HTMLView",
            "description": "",
            "description_tooltip": null,
            "layout": "IPY_MODEL_2c6eecb65a1b4c91a56dc60b47ca07e7",
            "placeholder": "​",
            "style": "IPY_MODEL_9fbd116596e94f668f73dda27115db28",
            "value": " 2.00/2.00 [00:00&lt;00:00, 95.6B/s]"
          }
        },
        "0f5f0d8233eb473795c6fbaf09a9388a": {
          "model_module": "@jupyter-widgets/base",
          "model_module_version": "1.2.0",
          "model_name": "LayoutModel",
          "state": {
            "_model_module": "@jupyter-widgets/base",
            "_model_module_version": "1.2.0",
            "_model_name": "LayoutModel",
            "_view_count": null,
            "_view_module": "@jupyter-widgets/base",
            "_view_module_version": "1.2.0",
            "_view_name": "LayoutView",
            "align_content": null,
            "align_items": null,
            "align_self": null,
            "border": null,
            "bottom": null,
            "display": null,
            "flex": null,
            "flex_flow": null,
            "grid_area": null,
            "grid_auto_columns": null,
            "grid_auto_flow": null,
            "grid_auto_rows": null,
            "grid_column": null,
            "grid_gap": null,
            "grid_row": null,
            "grid_template_areas": null,
            "grid_template_columns": null,
            "grid_template_rows": null,
            "height": null,
            "justify_content": null,
            "justify_items": null,
            "left": null,
            "margin": null,
            "max_height": null,
            "max_width": null,
            "min_height": null,
            "min_width": null,
            "object_fit": null,
            "object_position": null,
            "order": null,
            "overflow": null,
            "overflow_x": null,
            "overflow_y": null,
            "padding": null,
            "right": null,
            "top": null,
            "visibility": null,
            "width": null
          }
        },
        "1076fa95547b4a74b7f589f6908ddb2e": {
          "model_module": "@jupyter-widgets/controls",
          "model_module_version": "1.5.0",
          "model_name": "HTMLModel",
          "state": {
            "_dom_classes": [],
            "_model_module": "@jupyter-widgets/controls",
            "_model_module_version": "1.5.0",
            "_model_name": "HTMLModel",
            "_view_count": null,
            "_view_module": "@jupyter-widgets/controls",
            "_view_module_version": "1.5.0",
            "_view_name": "HTMLView",
            "description": "",
            "description_tooltip": null,
            "layout": "IPY_MODEL_1c044988d4e84147adf0481204c76045",
            "placeholder": "​",
            "style": "IPY_MODEL_69f1e3785bda4355a869bc25a55537e6",
            "value": " 112/112 [00:00&lt;00:00, 2.62kB/s]"
          }
        },
        "171ae1fd26494a2c87cbe8c5b3a3075a": {
          "model_module": "@jupyter-widgets/controls",
          "model_module_version": "1.5.0",
          "model_name": "FloatProgressModel",
          "state": {
            "_dom_classes": [],
            "_model_module": "@jupyter-widgets/controls",
            "_model_module_version": "1.5.0",
            "_model_name": "FloatProgressModel",
            "_view_count": null,
            "_view_module": "@jupyter-widgets/controls",
            "_view_module_version": "1.5.0",
            "_view_name": "ProgressView",
            "bar_style": "success",
            "description": "",
            "description_tooltip": null,
            "layout": "IPY_MODEL_b355810ff72d45bd94330f631dbd70fb",
            "max": 648,
            "min": 0,
            "orientation": "horizontal",
            "style": "IPY_MODEL_8196195cf48c4b56b939920e7598a830",
            "value": 648
          }
        },
        "1b3f19581e094e07999174ca2c9c6219": {
          "model_module": "@jupyter-widgets/controls",
          "model_module_version": "1.5.0",
          "model_name": "ProgressStyleModel",
          "state": {
            "_model_module": "@jupyter-widgets/controls",
            "_model_module_version": "1.5.0",
            "_model_name": "ProgressStyleModel",
            "_view_count": null,
            "_view_module": "@jupyter-widgets/base",
            "_view_module_version": "1.2.0",
            "_view_name": "StyleView",
            "bar_color": null,
            "description_width": ""
          }
        },
        "1c044988d4e84147adf0481204c76045": {
          "model_module": "@jupyter-widgets/base",
          "model_module_version": "1.2.0",
          "model_name": "LayoutModel",
          "state": {
            "_model_module": "@jupyter-widgets/base",
            "_model_module_version": "1.2.0",
            "_model_name": "LayoutModel",
            "_view_count": null,
            "_view_module": "@jupyter-widgets/base",
            "_view_module_version": "1.2.0",
            "_view_name": "LayoutView",
            "align_content": null,
            "align_items": null,
            "align_self": null,
            "border": null,
            "bottom": null,
            "display": null,
            "flex": null,
            "flex_flow": null,
            "grid_area": null,
            "grid_auto_columns": null,
            "grid_auto_flow": null,
            "grid_auto_rows": null,
            "grid_column": null,
            "grid_gap": null,
            "grid_row": null,
            "grid_template_areas": null,
            "grid_template_columns": null,
            "grid_template_rows": null,
            "height": null,
            "justify_content": null,
            "justify_items": null,
            "left": null,
            "margin": null,
            "max_height": null,
            "max_width": null,
            "min_height": null,
            "min_width": null,
            "object_fit": null,
            "object_position": null,
            "order": null,
            "overflow": null,
            "overflow_x": null,
            "overflow_y": null,
            "padding": null,
            "right": null,
            "top": null,
            "visibility": null,
            "width": null
          }
        },
        "21775d9dc7b74c34b31fe0bf6780289a": {
          "model_module": "@jupyter-widgets/controls",
          "model_module_version": "1.5.0",
          "model_name": "HTMLModel",
          "state": {
            "_dom_classes": [],
            "_model_module": "@jupyter-widgets/controls",
            "_model_module_version": "1.5.0",
            "_model_name": "HTMLModel",
            "_view_count": null,
            "_view_module": "@jupyter-widgets/controls",
            "_view_module_version": "1.5.0",
            "_view_name": "HTMLView",
            "description": "",
            "description_tooltip": null,
            "layout": "IPY_MODEL_be80d35ece1f48ee98bf3c322321810e",
            "placeholder": "​",
            "style": "IPY_MODEL_c9f99414f078425bbc43f7a97659a05d",
            "value": "Downloading (…)lve/main/config.json: 100%"
          }
        },
        "221eba9fea174d4f823dfd8672d558da": {
          "model_module": "@jupyter-widgets/controls",
          "model_module_version": "1.5.0",
          "model_name": "ProgressStyleModel",
          "state": {
            "_model_module": "@jupyter-widgets/controls",
            "_model_module_version": "1.5.0",
            "_model_name": "ProgressStyleModel",
            "_view_count": null,
            "_view_module": "@jupyter-widgets/base",
            "_view_module_version": "1.2.0",
            "_view_name": "StyleView",
            "bar_color": null,
            "description_width": ""
          }
        },
        "2a7d44a21bff4bd0bc9c94ffa92f6c63": {
          "model_module": "@jupyter-widgets/base",
          "model_module_version": "1.2.0",
          "model_name": "LayoutModel",
          "state": {
            "_model_module": "@jupyter-widgets/base",
            "_model_module_version": "1.2.0",
            "_model_name": "LayoutModel",
            "_view_count": null,
            "_view_module": "@jupyter-widgets/base",
            "_view_module_version": "1.2.0",
            "_view_name": "LayoutView",
            "align_content": null,
            "align_items": null,
            "align_self": null,
            "border": null,
            "bottom": null,
            "display": null,
            "flex": null,
            "flex_flow": null,
            "grid_area": null,
            "grid_auto_columns": null,
            "grid_auto_flow": null,
            "grid_auto_rows": null,
            "grid_column": null,
            "grid_gap": null,
            "grid_row": null,
            "grid_template_areas": null,
            "grid_template_columns": null,
            "grid_template_rows": null,
            "height": null,
            "justify_content": null,
            "justify_items": null,
            "left": null,
            "margin": null,
            "max_height": null,
            "max_width": null,
            "min_height": null,
            "min_width": null,
            "object_fit": null,
            "object_position": null,
            "order": null,
            "overflow": null,
            "overflow_x": null,
            "overflow_y": null,
            "padding": null,
            "right": null,
            "top": null,
            "visibility": null,
            "width": null
          }
        },
        "2c6eecb65a1b4c91a56dc60b47ca07e7": {
          "model_module": "@jupyter-widgets/base",
          "model_module_version": "1.2.0",
          "model_name": "LayoutModel",
          "state": {
            "_model_module": "@jupyter-widgets/base",
            "_model_module_version": "1.2.0",
            "_model_name": "LayoutModel",
            "_view_count": null,
            "_view_module": "@jupyter-widgets/base",
            "_view_module_version": "1.2.0",
            "_view_name": "LayoutView",
            "align_content": null,
            "align_items": null,
            "align_self": null,
            "border": null,
            "bottom": null,
            "display": null,
            "flex": null,
            "flex_flow": null,
            "grid_area": null,
            "grid_auto_columns": null,
            "grid_auto_flow": null,
            "grid_auto_rows": null,
            "grid_column": null,
            "grid_gap": null,
            "grid_row": null,
            "grid_template_areas": null,
            "grid_template_columns": null,
            "grid_template_rows": null,
            "height": null,
            "justify_content": null,
            "justify_items": null,
            "left": null,
            "margin": null,
            "max_height": null,
            "max_width": null,
            "min_height": null,
            "min_width": null,
            "object_fit": null,
            "object_position": null,
            "order": null,
            "overflow": null,
            "overflow_x": null,
            "overflow_y": null,
            "padding": null,
            "right": null,
            "top": null,
            "visibility": null,
            "width": null
          }
        },
        "2d004c7da6614f4dbd9aa8bce74f8ed9": {
          "model_module": "@jupyter-widgets/controls",
          "model_module_version": "1.5.0",
          "model_name": "DescriptionStyleModel",
          "state": {
            "_model_module": "@jupyter-widgets/controls",
            "_model_module_version": "1.5.0",
            "_model_name": "DescriptionStyleModel",
            "_view_count": null,
            "_view_module": "@jupyter-widgets/base",
            "_view_module_version": "1.2.0",
            "_view_name": "StyleView",
            "description_width": ""
          }
        },
        "329a35b23a414eaca99d9e23d07d97c4": {
          "model_module": "@jupyter-widgets/controls",
          "model_module_version": "1.5.0",
          "model_name": "HBoxModel",
          "state": {
            "_dom_classes": [],
            "_model_module": "@jupyter-widgets/controls",
            "_model_module_version": "1.5.0",
            "_model_name": "HBoxModel",
            "_view_count": null,
            "_view_module": "@jupyter-widgets/controls",
            "_view_module_version": "1.5.0",
            "_view_name": "HBoxView",
            "box_style": "",
            "children": [
              "IPY_MODEL_63de6bdc69334768a6afe5b8def3e1bb",
              "IPY_MODEL_4664615182b54a959a8e26b6a4671518",
              "IPY_MODEL_681365fbe5a847339f168d218ed55ead"
            ],
            "layout": "IPY_MODEL_ed345bf5ceef4f4492e08dc23c9c0584"
          }
        },
        "342d6190c2f9449e812dd330f704330c": {
          "model_module": "@jupyter-widgets/base",
          "model_module_version": "1.2.0",
          "model_name": "LayoutModel",
          "state": {
            "_model_module": "@jupyter-widgets/base",
            "_model_module_version": "1.2.0",
            "_model_name": "LayoutModel",
            "_view_count": null,
            "_view_module": "@jupyter-widgets/base",
            "_view_module_version": "1.2.0",
            "_view_name": "LayoutView",
            "align_content": null,
            "align_items": null,
            "align_self": null,
            "border": null,
            "bottom": null,
            "display": null,
            "flex": null,
            "flex_flow": null,
            "grid_area": null,
            "grid_auto_columns": null,
            "grid_auto_flow": null,
            "grid_auto_rows": null,
            "grid_column": null,
            "grid_gap": null,
            "grid_row": null,
            "grid_template_areas": null,
            "grid_template_columns": null,
            "grid_template_rows": null,
            "height": null,
            "justify_content": null,
            "justify_items": null,
            "left": null,
            "margin": null,
            "max_height": null,
            "max_width": null,
            "min_height": null,
            "min_width": null,
            "object_fit": null,
            "object_position": null,
            "order": null,
            "overflow": null,
            "overflow_x": null,
            "overflow_y": null,
            "padding": null,
            "right": null,
            "top": null,
            "visibility": null,
            "width": null
          }
        },
        "39048cae1f264fa9a00a4703f72d597e": {
          "model_module": "@jupyter-widgets/controls",
          "model_module_version": "1.5.0",
          "model_name": "DescriptionStyleModel",
          "state": {
            "_model_module": "@jupyter-widgets/controls",
            "_model_module_version": "1.5.0",
            "_model_name": "DescriptionStyleModel",
            "_view_count": null,
            "_view_module": "@jupyter-widgets/base",
            "_view_module_version": "1.2.0",
            "_view_name": "StyleView",
            "description_width": ""
          }
        },
        "3d28426717bb487c8bcf8f70af7b91c5": {
          "model_module": "@jupyter-widgets/base",
          "model_module_version": "1.2.0",
          "model_name": "LayoutModel",
          "state": {
            "_model_module": "@jupyter-widgets/base",
            "_model_module_version": "1.2.0",
            "_model_name": "LayoutModel",
            "_view_count": null,
            "_view_module": "@jupyter-widgets/base",
            "_view_module_version": "1.2.0",
            "_view_name": "LayoutView",
            "align_content": null,
            "align_items": null,
            "align_self": null,
            "border": null,
            "bottom": null,
            "display": null,
            "flex": null,
            "flex_flow": null,
            "grid_area": null,
            "grid_auto_columns": null,
            "grid_auto_flow": null,
            "grid_auto_rows": null,
            "grid_column": null,
            "grid_gap": null,
            "grid_row": null,
            "grid_template_areas": null,
            "grid_template_columns": null,
            "grid_template_rows": null,
            "height": null,
            "justify_content": null,
            "justify_items": null,
            "left": null,
            "margin": null,
            "max_height": null,
            "max_width": null,
            "min_height": null,
            "min_width": null,
            "object_fit": null,
            "object_position": null,
            "order": null,
            "overflow": null,
            "overflow_x": null,
            "overflow_y": null,
            "padding": null,
            "right": null,
            "top": null,
            "visibility": null,
            "width": null
          }
        },
        "443f62307d5a49a99c712f9d74ee3282": {
          "model_module": "@jupyter-widgets/base",
          "model_module_version": "1.2.0",
          "model_name": "LayoutModel",
          "state": {
            "_model_module": "@jupyter-widgets/base",
            "_model_module_version": "1.2.0",
            "_model_name": "LayoutModel",
            "_view_count": null,
            "_view_module": "@jupyter-widgets/base",
            "_view_module_version": "1.2.0",
            "_view_name": "LayoutView",
            "align_content": null,
            "align_items": null,
            "align_self": null,
            "border": null,
            "bottom": null,
            "display": null,
            "flex": null,
            "flex_flow": null,
            "grid_area": null,
            "grid_auto_columns": null,
            "grid_auto_flow": null,
            "grid_auto_rows": null,
            "grid_column": null,
            "grid_gap": null,
            "grid_row": null,
            "grid_template_areas": null,
            "grid_template_columns": null,
            "grid_template_rows": null,
            "height": null,
            "justify_content": null,
            "justify_items": null,
            "left": null,
            "margin": null,
            "max_height": null,
            "max_width": null,
            "min_height": null,
            "min_width": null,
            "object_fit": null,
            "object_position": null,
            "order": null,
            "overflow": null,
            "overflow_x": null,
            "overflow_y": null,
            "padding": null,
            "right": null,
            "top": null,
            "visibility": null,
            "width": null
          }
        },
        "4664615182b54a959a8e26b6a4671518": {
          "model_module": "@jupyter-widgets/controls",
          "model_module_version": "1.5.0",
          "model_name": "FloatProgressModel",
          "state": {
            "_dom_classes": [],
            "_model_module": "@jupyter-widgets/controls",
            "_model_module_version": "1.5.0",
            "_model_name": "FloatProgressModel",
            "_view_count": null,
            "_view_module": "@jupyter-widgets/controls",
            "_view_module_version": "1.5.0",
            "_view_name": "ProgressView",
            "bar_style": "success",
            "description": "",
            "description_tooltip": null,
            "layout": "IPY_MODEL_eb4a0f32d8ef4afabdd5cb79c27d44ac",
            "max": 209528,
            "min": 0,
            "orientation": "horizontal",
            "style": "IPY_MODEL_221eba9fea174d4f823dfd8672d558da",
            "value": 209528
          }
        },
        "4c6143f5e08f4bab9f39bae9e8f7ebf3": {
          "model_module": "@jupyter-widgets/controls",
          "model_module_version": "1.5.0",
          "model_name": "HBoxModel",
          "state": {
            "_dom_classes": [],
            "_model_module": "@jupyter-widgets/controls",
            "_model_module_version": "1.5.0",
            "_model_name": "HBoxModel",
            "_view_count": null,
            "_view_module": "@jupyter-widgets/controls",
            "_view_module_version": "1.5.0",
            "_view_name": "HBoxView",
            "box_style": "",
            "children": [
              "IPY_MODEL_06a5e1b0b7f44ee4803f889eb44cfd1e",
              "IPY_MODEL_6f4707b017cd427aabfa4ec6f89569e0",
              "IPY_MODEL_0a35b4fdb8654d819be9997a4882c5b0"
            ],
            "layout": "IPY_MODEL_df9828576eb24e56a6822965c39c2258"
          }
        },
        "63de6bdc69334768a6afe5b8def3e1bb": {
          "model_module": "@jupyter-widgets/controls",
          "model_module_version": "1.5.0",
          "model_name": "HTMLModel",
          "state": {
            "_dom_classes": [],
            "_model_module": "@jupyter-widgets/controls",
            "_model_module_version": "1.5.0",
            "_model_name": "HTMLModel",
            "_view_count": null,
            "_view_module": "@jupyter-widgets/controls",
            "_view_module_version": "1.5.0",
            "_view_name": "HTMLView",
            "description": "",
            "description_tooltip": null,
            "layout": "IPY_MODEL_a47b9ca1d60d488bbb4621d9d99b7871",
            "placeholder": "​",
            "style": "IPY_MODEL_993fc0dc843b4facb77938908519e6fa",
            "value": "Downloading (…)solve/main/vocab.txt: 100%"
          }
        },
        "681365fbe5a847339f168d218ed55ead": {
          "model_module": "@jupyter-widgets/controls",
          "model_module_version": "1.5.0",
          "model_name": "HTMLModel",
          "state": {
            "_dom_classes": [],
            "_model_module": "@jupyter-widgets/controls",
            "_model_module_version": "1.5.0",
            "_model_name": "HTMLModel",
            "_view_count": null,
            "_view_module": "@jupyter-widgets/controls",
            "_view_module_version": "1.5.0",
            "_view_name": "HTMLView",
            "description": "",
            "description_tooltip": null,
            "layout": "IPY_MODEL_e2e40a5cf5c94069bb30d4d54bc69486",
            "placeholder": "​",
            "style": "IPY_MODEL_68518de25c0f4e2f860bb49ae4018feb",
            "value": " 210k/210k [00:00&lt;00:00, 7.93MB/s]"
          }
        },
        "68518de25c0f4e2f860bb49ae4018feb": {
          "model_module": "@jupyter-widgets/controls",
          "model_module_version": "1.5.0",
          "model_name": "DescriptionStyleModel",
          "state": {
            "_model_module": "@jupyter-widgets/controls",
            "_model_module_version": "1.5.0",
            "_model_name": "DescriptionStyleModel",
            "_view_count": null,
            "_view_module": "@jupyter-widgets/base",
            "_view_module_version": "1.2.0",
            "_view_name": "StyleView",
            "description_width": ""
          }
        },
        "69f1e3785bda4355a869bc25a55537e6": {
          "model_module": "@jupyter-widgets/controls",
          "model_module_version": "1.5.0",
          "model_name": "DescriptionStyleModel",
          "state": {
            "_model_module": "@jupyter-widgets/controls",
            "_model_module_version": "1.5.0",
            "_model_name": "DescriptionStyleModel",
            "_view_count": null,
            "_view_module": "@jupyter-widgets/base",
            "_view_module_version": "1.2.0",
            "_view_name": "StyleView",
            "description_width": ""
          }
        },
        "6c0bd36ee8884472a934809ca7e2642b": {
          "model_module": "@jupyter-widgets/controls",
          "model_module_version": "1.5.0",
          "model_name": "HTMLModel",
          "state": {
            "_dom_classes": [],
            "_model_module": "@jupyter-widgets/controls",
            "_model_module_version": "1.5.0",
            "_model_name": "HTMLModel",
            "_view_count": null,
            "_view_module": "@jupyter-widgets/controls",
            "_view_module_version": "1.5.0",
            "_view_name": "HTMLView",
            "description": "",
            "description_tooltip": null,
            "layout": "IPY_MODEL_e69a0bbe8d2045cf981a411a98f8bff9",
            "placeholder": "​",
            "style": "IPY_MODEL_2d004c7da6614f4dbd9aa8bce74f8ed9",
            "value": "Downloading (…)okenizer_config.json: 100%"
          }
        },
        "6f4707b017cd427aabfa4ec6f89569e0": {
          "model_module": "@jupyter-widgets/controls",
          "model_module_version": "1.5.0",
          "model_name": "FloatProgressModel",
          "state": {
            "_dom_classes": [],
            "_model_module": "@jupyter-widgets/controls",
            "_model_module_version": "1.5.0",
            "_model_name": "FloatProgressModel",
            "_view_count": null,
            "_view_module": "@jupyter-widgets/controls",
            "_view_module_version": "1.5.0",
            "_view_name": "ProgressView",
            "bar_style": "success",
            "description": "",
            "description_tooltip": null,
            "layout": "IPY_MODEL_f87fa5e6bc624ea58e50276505cd5a2f",
            "max": 2,
            "min": 0,
            "orientation": "horizontal",
            "style": "IPY_MODEL_b433332f8d864f31a3ae694438f0ef34",
            "value": 2
          }
        },
        "796cd710127249fab52f38d39d381be1": {
          "model_module": "@jupyter-widgets/controls",
          "model_module_version": "1.5.0",
          "model_name": "HBoxModel",
          "state": {
            "_dom_classes": [],
            "_model_module": "@jupyter-widgets/controls",
            "_model_module_version": "1.5.0",
            "_model_name": "HBoxModel",
            "_view_count": null,
            "_view_module": "@jupyter-widgets/controls",
            "_view_module_version": "1.5.0",
            "_view_name": "HBoxView",
            "box_style": "",
            "children": [
              "IPY_MODEL_21775d9dc7b74c34b31fe0bf6780289a",
              "IPY_MODEL_171ae1fd26494a2c87cbe8c5b3a3075a",
              "IPY_MODEL_95243ee56a7c46e8b28a592d191c3311"
            ],
            "layout": "IPY_MODEL_8a27d8b064a341f0bc2131f3cddd7ec1"
          }
        },
        "8196195cf48c4b56b939920e7598a830": {
          "model_module": "@jupyter-widgets/controls",
          "model_module_version": "1.5.0",
          "model_name": "ProgressStyleModel",
          "state": {
            "_model_module": "@jupyter-widgets/controls",
            "_model_module_version": "1.5.0",
            "_model_name": "ProgressStyleModel",
            "_view_count": null,
            "_view_module": "@jupyter-widgets/base",
            "_view_module_version": "1.2.0",
            "_view_name": "StyleView",
            "bar_color": null,
            "description_width": ""
          }
        },
        "868059009dc24e66b9dccf529db84333": {
          "model_module": "@jupyter-widgets/controls",
          "model_module_version": "1.5.0",
          "model_name": "HTMLModel",
          "state": {
            "_dom_classes": [],
            "_model_module": "@jupyter-widgets/controls",
            "_model_module_version": "1.5.0",
            "_model_name": "HTMLModel",
            "_view_count": null,
            "_view_module": "@jupyter-widgets/controls",
            "_view_module_version": "1.5.0",
            "_view_name": "HTMLView",
            "description": "",
            "description_tooltip": null,
            "layout": "IPY_MODEL_e6da95cbdbad4e909db0be81071b6d09",
            "placeholder": "​",
            "style": "IPY_MODEL_aa273f0ae9b54d75b902100adf7f4652",
            "value": "Downloading (…)cial_tokens_map.json: 100%"
          }
        },
        "8a27d8b064a341f0bc2131f3cddd7ec1": {
          "model_module": "@jupyter-widgets/base",
          "model_module_version": "1.2.0",
          "model_name": "LayoutModel",
          "state": {
            "_model_module": "@jupyter-widgets/base",
            "_model_module_version": "1.2.0",
            "_model_name": "LayoutModel",
            "_view_count": null,
            "_view_module": "@jupyter-widgets/base",
            "_view_module_version": "1.2.0",
            "_view_name": "LayoutView",
            "align_content": null,
            "align_items": null,
            "align_self": null,
            "border": null,
            "bottom": null,
            "display": null,
            "flex": null,
            "flex_flow": null,
            "grid_area": null,
            "grid_auto_columns": null,
            "grid_auto_flow": null,
            "grid_auto_rows": null,
            "grid_column": null,
            "grid_gap": null,
            "grid_row": null,
            "grid_template_areas": null,
            "grid_template_columns": null,
            "grid_template_rows": null,
            "height": null,
            "justify_content": null,
            "justify_items": null,
            "left": null,
            "margin": null,
            "max_height": null,
            "max_width": null,
            "min_height": null,
            "min_width": null,
            "object_fit": null,
            "object_position": null,
            "order": null,
            "overflow": null,
            "overflow_x": null,
            "overflow_y": null,
            "padding": null,
            "right": null,
            "top": null,
            "visibility": null,
            "width": null
          }
        },
        "8b3fbb6c4fa64d70982957abd79a9a63": {
          "model_module": "@jupyter-widgets/controls",
          "model_module_version": "1.5.0",
          "model_name": "HBoxModel",
          "state": {
            "_dom_classes": [],
            "_model_module": "@jupyter-widgets/controls",
            "_model_module_version": "1.5.0",
            "_model_name": "HBoxModel",
            "_view_count": null,
            "_view_module": "@jupyter-widgets/controls",
            "_view_module_version": "1.5.0",
            "_view_name": "HBoxView",
            "box_style": "",
            "children": [
              "IPY_MODEL_868059009dc24e66b9dccf529db84333",
              "IPY_MODEL_e93cecda366f41968b75d70631778c46",
              "IPY_MODEL_1076fa95547b4a74b7f589f6908ddb2e"
            ],
            "layout": "IPY_MODEL_0f5f0d8233eb473795c6fbaf09a9388a"
          }
        },
        "95243ee56a7c46e8b28a592d191c3311": {
          "model_module": "@jupyter-widgets/controls",
          "model_module_version": "1.5.0",
          "model_name": "HTMLModel",
          "state": {
            "_dom_classes": [],
            "_model_module": "@jupyter-widgets/controls",
            "_model_module_version": "1.5.0",
            "_model_name": "HTMLModel",
            "_view_count": null,
            "_view_module": "@jupyter-widgets/controls",
            "_view_module_version": "1.5.0",
            "_view_name": "HTMLView",
            "description": "",
            "description_tooltip": null,
            "layout": "IPY_MODEL_2a7d44a21bff4bd0bc9c94ffa92f6c63",
            "placeholder": "​",
            "style": "IPY_MODEL_d31c407138f145deb40fa6bec82087c6",
            "value": " 648/648 [00:00&lt;00:00, 51.6kB/s]"
          }
        },
        "993fc0dc843b4facb77938908519e6fa": {
          "model_module": "@jupyter-widgets/controls",
          "model_module_version": "1.5.0",
          "model_name": "DescriptionStyleModel",
          "state": {
            "_model_module": "@jupyter-widgets/controls",
            "_model_module_version": "1.5.0",
            "_model_name": "DescriptionStyleModel",
            "_view_count": null,
            "_view_module": "@jupyter-widgets/base",
            "_view_module_version": "1.2.0",
            "_view_name": "StyleView",
            "description_width": ""
          }
        },
        "9fbd116596e94f668f73dda27115db28": {
          "model_module": "@jupyter-widgets/controls",
          "model_module_version": "1.5.0",
          "model_name": "DescriptionStyleModel",
          "state": {
            "_model_module": "@jupyter-widgets/controls",
            "_model_module_version": "1.5.0",
            "_model_name": "DescriptionStyleModel",
            "_view_count": null,
            "_view_module": "@jupyter-widgets/base",
            "_view_module_version": "1.2.0",
            "_view_name": "StyleView",
            "description_width": ""
          }
        },
        "a47b9ca1d60d488bbb4621d9d99b7871": {
          "model_module": "@jupyter-widgets/base",
          "model_module_version": "1.2.0",
          "model_name": "LayoutModel",
          "state": {
            "_model_module": "@jupyter-widgets/base",
            "_model_module_version": "1.2.0",
            "_model_name": "LayoutModel",
            "_view_count": null,
            "_view_module": "@jupyter-widgets/base",
            "_view_module_version": "1.2.0",
            "_view_name": "LayoutView",
            "align_content": null,
            "align_items": null,
            "align_self": null,
            "border": null,
            "bottom": null,
            "display": null,
            "flex": null,
            "flex_flow": null,
            "grid_area": null,
            "grid_auto_columns": null,
            "grid_auto_flow": null,
            "grid_auto_rows": null,
            "grid_column": null,
            "grid_gap": null,
            "grid_row": null,
            "grid_template_areas": null,
            "grid_template_columns": null,
            "grid_template_rows": null,
            "height": null,
            "justify_content": null,
            "justify_items": null,
            "left": null,
            "margin": null,
            "max_height": null,
            "max_width": null,
            "min_height": null,
            "min_width": null,
            "object_fit": null,
            "object_position": null,
            "order": null,
            "overflow": null,
            "overflow_x": null,
            "overflow_y": null,
            "padding": null,
            "right": null,
            "top": null,
            "visibility": null,
            "width": null
          }
        },
        "aa273f0ae9b54d75b902100adf7f4652": {
          "model_module": "@jupyter-widgets/controls",
          "model_module_version": "1.5.0",
          "model_name": "DescriptionStyleModel",
          "state": {
            "_model_module": "@jupyter-widgets/controls",
            "_model_module_version": "1.5.0",
            "_model_name": "DescriptionStyleModel",
            "_view_count": null,
            "_view_module": "@jupyter-widgets/base",
            "_view_module_version": "1.2.0",
            "_view_name": "StyleView",
            "description_width": ""
          }
        },
        "b355810ff72d45bd94330f631dbd70fb": {
          "model_module": "@jupyter-widgets/base",
          "model_module_version": "1.2.0",
          "model_name": "LayoutModel",
          "state": {
            "_model_module": "@jupyter-widgets/base",
            "_model_module_version": "1.2.0",
            "_model_name": "LayoutModel",
            "_view_count": null,
            "_view_module": "@jupyter-widgets/base",
            "_view_module_version": "1.2.0",
            "_view_name": "LayoutView",
            "align_content": null,
            "align_items": null,
            "align_self": null,
            "border": null,
            "bottom": null,
            "display": null,
            "flex": null,
            "flex_flow": null,
            "grid_area": null,
            "grid_auto_columns": null,
            "grid_auto_flow": null,
            "grid_auto_rows": null,
            "grid_column": null,
            "grid_gap": null,
            "grid_row": null,
            "grid_template_areas": null,
            "grid_template_columns": null,
            "grid_template_rows": null,
            "height": null,
            "justify_content": null,
            "justify_items": null,
            "left": null,
            "margin": null,
            "max_height": null,
            "max_width": null,
            "min_height": null,
            "min_width": null,
            "object_fit": null,
            "object_position": null,
            "order": null,
            "overflow": null,
            "overflow_x": null,
            "overflow_y": null,
            "padding": null,
            "right": null,
            "top": null,
            "visibility": null,
            "width": null
          }
        },
        "b433332f8d864f31a3ae694438f0ef34": {
          "model_module": "@jupyter-widgets/controls",
          "model_module_version": "1.5.0",
          "model_name": "ProgressStyleModel",
          "state": {
            "_model_module": "@jupyter-widgets/controls",
            "_model_module_version": "1.5.0",
            "_model_name": "ProgressStyleModel",
            "_view_count": null,
            "_view_module": "@jupyter-widgets/base",
            "_view_module_version": "1.2.0",
            "_view_name": "StyleView",
            "bar_color": null,
            "description_width": ""
          }
        },
        "b5eaf20d4d794cb5ad39b42bd9a08c41": {
          "model_module": "@jupyter-widgets/controls",
          "model_module_version": "1.5.0",
          "model_name": "ProgressStyleModel",
          "state": {
            "_model_module": "@jupyter-widgets/controls",
            "_model_module_version": "1.5.0",
            "_model_name": "ProgressStyleModel",
            "_view_count": null,
            "_view_module": "@jupyter-widgets/base",
            "_view_module_version": "1.2.0",
            "_view_name": "StyleView",
            "bar_color": null,
            "description_width": ""
          }
        },
        "be80d35ece1f48ee98bf3c322321810e": {
          "model_module": "@jupyter-widgets/base",
          "model_module_version": "1.2.0",
          "model_name": "LayoutModel",
          "state": {
            "_model_module": "@jupyter-widgets/base",
            "_model_module_version": "1.2.0",
            "_model_name": "LayoutModel",
            "_view_count": null,
            "_view_module": "@jupyter-widgets/base",
            "_view_module_version": "1.2.0",
            "_view_name": "LayoutView",
            "align_content": null,
            "align_items": null,
            "align_self": null,
            "border": null,
            "bottom": null,
            "display": null,
            "flex": null,
            "flex_flow": null,
            "grid_area": null,
            "grid_auto_columns": null,
            "grid_auto_flow": null,
            "grid_auto_rows": null,
            "grid_column": null,
            "grid_gap": null,
            "grid_row": null,
            "grid_template_areas": null,
            "grid_template_columns": null,
            "grid_template_rows": null,
            "height": null,
            "justify_content": null,
            "justify_items": null,
            "left": null,
            "margin": null,
            "max_height": null,
            "max_width": null,
            "min_height": null,
            "min_width": null,
            "object_fit": null,
            "object_position": null,
            "order": null,
            "overflow": null,
            "overflow_x": null,
            "overflow_y": null,
            "padding": null,
            "right": null,
            "top": null,
            "visibility": null,
            "width": null
          }
        },
        "c523b940b13d44cd9282155041283aaf": {
          "model_module": "@jupyter-widgets/controls",
          "model_module_version": "1.5.0",
          "model_name": "HBoxModel",
          "state": {
            "_dom_classes": [],
            "_model_module": "@jupyter-widgets/controls",
            "_model_module_version": "1.5.0",
            "_model_name": "HBoxModel",
            "_view_count": null,
            "_view_module": "@jupyter-widgets/controls",
            "_view_module_version": "1.5.0",
            "_view_name": "HBoxView",
            "box_style": "",
            "children": [
              "IPY_MODEL_6c0bd36ee8884472a934809ca7e2642b",
              "IPY_MODEL_f504580f7c3449479efcbca34c554609",
              "IPY_MODEL_de19e9f164494c0eb58fa913e412ba37"
            ],
            "layout": "IPY_MODEL_c66ab661b80b4d00a11d4528d3f349c3"
          }
        },
        "c66ab661b80b4d00a11d4528d3f349c3": {
          "model_module": "@jupyter-widgets/base",
          "model_module_version": "1.2.0",
          "model_name": "LayoutModel",
          "state": {
            "_model_module": "@jupyter-widgets/base",
            "_model_module_version": "1.2.0",
            "_model_name": "LayoutModel",
            "_view_count": null,
            "_view_module": "@jupyter-widgets/base",
            "_view_module_version": "1.2.0",
            "_view_name": "LayoutView",
            "align_content": null,
            "align_items": null,
            "align_self": null,
            "border": null,
            "bottom": null,
            "display": null,
            "flex": null,
            "flex_flow": null,
            "grid_area": null,
            "grid_auto_columns": null,
            "grid_auto_flow": null,
            "grid_auto_rows": null,
            "grid_column": null,
            "grid_gap": null,
            "grid_row": null,
            "grid_template_areas": null,
            "grid_template_columns": null,
            "grid_template_rows": null,
            "height": null,
            "justify_content": null,
            "justify_items": null,
            "left": null,
            "margin": null,
            "max_height": null,
            "max_width": null,
            "min_height": null,
            "min_width": null,
            "object_fit": null,
            "object_position": null,
            "order": null,
            "overflow": null,
            "overflow_x": null,
            "overflow_y": null,
            "padding": null,
            "right": null,
            "top": null,
            "visibility": null,
            "width": null
          }
        },
        "c9f99414f078425bbc43f7a97659a05d": {
          "model_module": "@jupyter-widgets/controls",
          "model_module_version": "1.5.0",
          "model_name": "DescriptionStyleModel",
          "state": {
            "_model_module": "@jupyter-widgets/controls",
            "_model_module_version": "1.5.0",
            "_model_name": "DescriptionStyleModel",
            "_view_count": null,
            "_view_module": "@jupyter-widgets/base",
            "_view_module_version": "1.2.0",
            "_view_name": "StyleView",
            "description_width": ""
          }
        },
        "d31c407138f145deb40fa6bec82087c6": {
          "model_module": "@jupyter-widgets/controls",
          "model_module_version": "1.5.0",
          "model_name": "DescriptionStyleModel",
          "state": {
            "_model_module": "@jupyter-widgets/controls",
            "_model_module_version": "1.5.0",
            "_model_name": "DescriptionStyleModel",
            "_view_count": null,
            "_view_module": "@jupyter-widgets/base",
            "_view_module_version": "1.2.0",
            "_view_name": "StyleView",
            "description_width": ""
          }
        },
        "de19e9f164494c0eb58fa913e412ba37": {
          "model_module": "@jupyter-widgets/controls",
          "model_module_version": "1.5.0",
          "model_name": "HTMLModel",
          "state": {
            "_dom_classes": [],
            "_model_module": "@jupyter-widgets/controls",
            "_model_module_version": "1.5.0",
            "_model_name": "HTMLModel",
            "_view_count": null,
            "_view_module": "@jupyter-widgets/controls",
            "_view_module_version": "1.5.0",
            "_view_name": "HTMLView",
            "description": "",
            "description_tooltip": null,
            "layout": "IPY_MODEL_443f62307d5a49a99c712f9d74ee3282",
            "placeholder": "​",
            "style": "IPY_MODEL_eaf54922a8a84a159cd5ef354fc61ddf",
            "value": " 155/155 [00:00&lt;00:00, 8.68kB/s]"
          }
        },
        "df9828576eb24e56a6822965c39c2258": {
          "model_module": "@jupyter-widgets/base",
          "model_module_version": "1.2.0",
          "model_name": "LayoutModel",
          "state": {
            "_model_module": "@jupyter-widgets/base",
            "_model_module_version": "1.2.0",
            "_model_name": "LayoutModel",
            "_view_count": null,
            "_view_module": "@jupyter-widgets/base",
            "_view_module_version": "1.2.0",
            "_view_name": "LayoutView",
            "align_content": null,
            "align_items": null,
            "align_self": null,
            "border": null,
            "bottom": null,
            "display": null,
            "flex": null,
            "flex_flow": null,
            "grid_area": null,
            "grid_auto_columns": null,
            "grid_auto_flow": null,
            "grid_auto_rows": null,
            "grid_column": null,
            "grid_gap": null,
            "grid_row": null,
            "grid_template_areas": null,
            "grid_template_columns": null,
            "grid_template_rows": null,
            "height": null,
            "justify_content": null,
            "justify_items": null,
            "left": null,
            "margin": null,
            "max_height": null,
            "max_width": null,
            "min_height": null,
            "min_width": null,
            "object_fit": null,
            "object_position": null,
            "order": null,
            "overflow": null,
            "overflow_x": null,
            "overflow_y": null,
            "padding": null,
            "right": null,
            "top": null,
            "visibility": null,
            "width": null
          }
        },
        "e2e40a5cf5c94069bb30d4d54bc69486": {
          "model_module": "@jupyter-widgets/base",
          "model_module_version": "1.2.0",
          "model_name": "LayoutModel",
          "state": {
            "_model_module": "@jupyter-widgets/base",
            "_model_module_version": "1.2.0",
            "_model_name": "LayoutModel",
            "_view_count": null,
            "_view_module": "@jupyter-widgets/base",
            "_view_module_version": "1.2.0",
            "_view_name": "LayoutView",
            "align_content": null,
            "align_items": null,
            "align_self": null,
            "border": null,
            "bottom": null,
            "display": null,
            "flex": null,
            "flex_flow": null,
            "grid_area": null,
            "grid_auto_columns": null,
            "grid_auto_flow": null,
            "grid_auto_rows": null,
            "grid_column": null,
            "grid_gap": null,
            "grid_row": null,
            "grid_template_areas": null,
            "grid_template_columns": null,
            "grid_template_rows": null,
            "height": null,
            "justify_content": null,
            "justify_items": null,
            "left": null,
            "margin": null,
            "max_height": null,
            "max_width": null,
            "min_height": null,
            "min_width": null,
            "object_fit": null,
            "object_position": null,
            "order": null,
            "overflow": null,
            "overflow_x": null,
            "overflow_y": null,
            "padding": null,
            "right": null,
            "top": null,
            "visibility": null,
            "width": null
          }
        },
        "e69a0bbe8d2045cf981a411a98f8bff9": {
          "model_module": "@jupyter-widgets/base",
          "model_module_version": "1.2.0",
          "model_name": "LayoutModel",
          "state": {
            "_model_module": "@jupyter-widgets/base",
            "_model_module_version": "1.2.0",
            "_model_name": "LayoutModel",
            "_view_count": null,
            "_view_module": "@jupyter-widgets/base",
            "_view_module_version": "1.2.0",
            "_view_name": "LayoutView",
            "align_content": null,
            "align_items": null,
            "align_self": null,
            "border": null,
            "bottom": null,
            "display": null,
            "flex": null,
            "flex_flow": null,
            "grid_area": null,
            "grid_auto_columns": null,
            "grid_auto_flow": null,
            "grid_auto_rows": null,
            "grid_column": null,
            "grid_gap": null,
            "grid_row": null,
            "grid_template_areas": null,
            "grid_template_columns": null,
            "grid_template_rows": null,
            "height": null,
            "justify_content": null,
            "justify_items": null,
            "left": null,
            "margin": null,
            "max_height": null,
            "max_width": null,
            "min_height": null,
            "min_width": null,
            "object_fit": null,
            "object_position": null,
            "order": null,
            "overflow": null,
            "overflow_x": null,
            "overflow_y": null,
            "padding": null,
            "right": null,
            "top": null,
            "visibility": null,
            "width": null
          }
        },
        "e6da95cbdbad4e909db0be81071b6d09": {
          "model_module": "@jupyter-widgets/base",
          "model_module_version": "1.2.0",
          "model_name": "LayoutModel",
          "state": {
            "_model_module": "@jupyter-widgets/base",
            "_model_module_version": "1.2.0",
            "_model_name": "LayoutModel",
            "_view_count": null,
            "_view_module": "@jupyter-widgets/base",
            "_view_module_version": "1.2.0",
            "_view_name": "LayoutView",
            "align_content": null,
            "align_items": null,
            "align_self": null,
            "border": null,
            "bottom": null,
            "display": null,
            "flex": null,
            "flex_flow": null,
            "grid_area": null,
            "grid_auto_columns": null,
            "grid_auto_flow": null,
            "grid_auto_rows": null,
            "grid_column": null,
            "grid_gap": null,
            "grid_row": null,
            "grid_template_areas": null,
            "grid_template_columns": null,
            "grid_template_rows": null,
            "height": null,
            "justify_content": null,
            "justify_items": null,
            "left": null,
            "margin": null,
            "max_height": null,
            "max_width": null,
            "min_height": null,
            "min_width": null,
            "object_fit": null,
            "object_position": null,
            "order": null,
            "overflow": null,
            "overflow_x": null,
            "overflow_y": null,
            "padding": null,
            "right": null,
            "top": null,
            "visibility": null,
            "width": null
          }
        },
        "e93cecda366f41968b75d70631778c46": {
          "model_module": "@jupyter-widgets/controls",
          "model_module_version": "1.5.0",
          "model_name": "FloatProgressModel",
          "state": {
            "_dom_classes": [],
            "_model_module": "@jupyter-widgets/controls",
            "_model_module_version": "1.5.0",
            "_model_name": "FloatProgressModel",
            "_view_count": null,
            "_view_module": "@jupyter-widgets/controls",
            "_view_module_version": "1.5.0",
            "_view_name": "ProgressView",
            "bar_style": "success",
            "description": "",
            "description_tooltip": null,
            "layout": "IPY_MODEL_ff261daeb1174924a514334d7a3e763a",
            "max": 112,
            "min": 0,
            "orientation": "horizontal",
            "style": "IPY_MODEL_b5eaf20d4d794cb5ad39b42bd9a08c41",
            "value": 112
          }
        },
        "eaf54922a8a84a159cd5ef354fc61ddf": {
          "model_module": "@jupyter-widgets/controls",
          "model_module_version": "1.5.0",
          "model_name": "DescriptionStyleModel",
          "state": {
            "_model_module": "@jupyter-widgets/controls",
            "_model_module_version": "1.5.0",
            "_model_name": "DescriptionStyleModel",
            "_view_count": null,
            "_view_module": "@jupyter-widgets/base",
            "_view_module_version": "1.2.0",
            "_view_name": "StyleView",
            "description_width": ""
          }
        },
        "eb4a0f32d8ef4afabdd5cb79c27d44ac": {
          "model_module": "@jupyter-widgets/base",
          "model_module_version": "1.2.0",
          "model_name": "LayoutModel",
          "state": {
            "_model_module": "@jupyter-widgets/base",
            "_model_module_version": "1.2.0",
            "_model_name": "LayoutModel",
            "_view_count": null,
            "_view_module": "@jupyter-widgets/base",
            "_view_module_version": "1.2.0",
            "_view_name": "LayoutView",
            "align_content": null,
            "align_items": null,
            "align_self": null,
            "border": null,
            "bottom": null,
            "display": null,
            "flex": null,
            "flex_flow": null,
            "grid_area": null,
            "grid_auto_columns": null,
            "grid_auto_flow": null,
            "grid_auto_rows": null,
            "grid_column": null,
            "grid_gap": null,
            "grid_row": null,
            "grid_template_areas": null,
            "grid_template_columns": null,
            "grid_template_rows": null,
            "height": null,
            "justify_content": null,
            "justify_items": null,
            "left": null,
            "margin": null,
            "max_height": null,
            "max_width": null,
            "min_height": null,
            "min_width": null,
            "object_fit": null,
            "object_position": null,
            "order": null,
            "overflow": null,
            "overflow_x": null,
            "overflow_y": null,
            "padding": null,
            "right": null,
            "top": null,
            "visibility": null,
            "width": null
          }
        },
        "ed345bf5ceef4f4492e08dc23c9c0584": {
          "model_module": "@jupyter-widgets/base",
          "model_module_version": "1.2.0",
          "model_name": "LayoutModel",
          "state": {
            "_model_module": "@jupyter-widgets/base",
            "_model_module_version": "1.2.0",
            "_model_name": "LayoutModel",
            "_view_count": null,
            "_view_module": "@jupyter-widgets/base",
            "_view_module_version": "1.2.0",
            "_view_name": "LayoutView",
            "align_content": null,
            "align_items": null,
            "align_self": null,
            "border": null,
            "bottom": null,
            "display": null,
            "flex": null,
            "flex_flow": null,
            "grid_area": null,
            "grid_auto_columns": null,
            "grid_auto_flow": null,
            "grid_auto_rows": null,
            "grid_column": null,
            "grid_gap": null,
            "grid_row": null,
            "grid_template_areas": null,
            "grid_template_columns": null,
            "grid_template_rows": null,
            "height": null,
            "justify_content": null,
            "justify_items": null,
            "left": null,
            "margin": null,
            "max_height": null,
            "max_width": null,
            "min_height": null,
            "min_width": null,
            "object_fit": null,
            "object_position": null,
            "order": null,
            "overflow": null,
            "overflow_x": null,
            "overflow_y": null,
            "padding": null,
            "right": null,
            "top": null,
            "visibility": null,
            "width": null
          }
        },
        "f504580f7c3449479efcbca34c554609": {
          "model_module": "@jupyter-widgets/controls",
          "model_module_version": "1.5.0",
          "model_name": "FloatProgressModel",
          "state": {
            "_dom_classes": [],
            "_model_module": "@jupyter-widgets/controls",
            "_model_module_version": "1.5.0",
            "_model_name": "FloatProgressModel",
            "_view_count": null,
            "_view_module": "@jupyter-widgets/controls",
            "_view_module_version": "1.5.0",
            "_view_name": "ProgressView",
            "bar_style": "success",
            "description": "",
            "description_tooltip": null,
            "layout": "IPY_MODEL_3d28426717bb487c8bcf8f70af7b91c5",
            "max": 155,
            "min": 0,
            "orientation": "horizontal",
            "style": "IPY_MODEL_1b3f19581e094e07999174ca2c9c6219",
            "value": 155
          }
        },
        "f87fa5e6bc624ea58e50276505cd5a2f": {
          "model_module": "@jupyter-widgets/base",
          "model_module_version": "1.2.0",
          "model_name": "LayoutModel",
          "state": {
            "_model_module": "@jupyter-widgets/base",
            "_model_module_version": "1.2.0",
            "_model_name": "LayoutModel",
            "_view_count": null,
            "_view_module": "@jupyter-widgets/base",
            "_view_module_version": "1.2.0",
            "_view_name": "LayoutView",
            "align_content": null,
            "align_items": null,
            "align_self": null,
            "border": null,
            "bottom": null,
            "display": null,
            "flex": null,
            "flex_flow": null,
            "grid_area": null,
            "grid_auto_columns": null,
            "grid_auto_flow": null,
            "grid_auto_rows": null,
            "grid_column": null,
            "grid_gap": null,
            "grid_row": null,
            "grid_template_areas": null,
            "grid_template_columns": null,
            "grid_template_rows": null,
            "height": null,
            "justify_content": null,
            "justify_items": null,
            "left": null,
            "margin": null,
            "max_height": null,
            "max_width": null,
            "min_height": null,
            "min_width": null,
            "object_fit": null,
            "object_position": null,
            "order": null,
            "overflow": null,
            "overflow_x": null,
            "overflow_y": null,
            "padding": null,
            "right": null,
            "top": null,
            "visibility": null,
            "width": null
          }
        },
        "ff261daeb1174924a514334d7a3e763a": {
          "model_module": "@jupyter-widgets/base",
          "model_module_version": "1.2.0",
          "model_name": "LayoutModel",
          "state": {
            "_model_module": "@jupyter-widgets/base",
            "_model_module_version": "1.2.0",
            "_model_name": "LayoutModel",
            "_view_count": null,
            "_view_module": "@jupyter-widgets/base",
            "_view_module_version": "1.2.0",
            "_view_name": "LayoutView",
            "align_content": null,
            "align_items": null,
            "align_self": null,
            "border": null,
            "bottom": null,
            "display": null,
            "flex": null,
            "flex_flow": null,
            "grid_area": null,
            "grid_auto_columns": null,
            "grid_auto_flow": null,
            "grid_auto_rows": null,
            "grid_column": null,
            "grid_gap": null,
            "grid_row": null,
            "grid_template_areas": null,
            "grid_template_columns": null,
            "grid_template_rows": null,
            "height": null,
            "justify_content": null,
            "justify_items": null,
            "left": null,
            "margin": null,
            "max_height": null,
            "max_width": null,
            "min_height": null,
            "min_width": null,
            "object_fit": null,
            "object_position": null,
            "order": null,
            "overflow": null,
            "overflow_x": null,
            "overflow_y": null,
            "padding": null,
            "right": null,
            "top": null,
            "visibility": null,
            "width": null
          }
        }
      }
    }
  },
  "nbformat": 4,
  "nbformat_minor": 0
}
